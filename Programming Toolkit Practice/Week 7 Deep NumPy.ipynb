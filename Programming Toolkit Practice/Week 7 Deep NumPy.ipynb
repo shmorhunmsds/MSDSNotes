{
 "cells": [
  {
   "cell_type": "markdown",
   "id": "963803f1",
   "metadata": {},
   "source": [
    "# Week 7 Overview\n",
    "\n",
    "Last week, you started learning to use NumPy to represent and work with lots of numbers efficiently. This week, you will learn about NumPy's more advanced features. First, you will learn about views, a powerful space sharing technique allowing certain reorganizations and transformations of arrays to be done instantly. These transformations will be common in linear algebra and, thus an integral part of building large models later in this program. Then, we will wrap up our coverage of NumPy with a few odds and ends to round out your knowledge; pointers to linear algebra routines for Module 1, useful but less common features of NumPy, and some warnings about potential performance traps. Next week, we will move on to pandas, a library for structured data that will combine the strengths of NumPy with more flexible analysis and manipulation.\n",
    "\n",
    "### Learning Objectives\n",
    "At the end of this week, you should be able to:\n",
    "- Describe the behavior of NumPyviews and when they can be used\n",
    "- Use standard views to reshape and transform arrays\n",
    "- Check if a given NumPy array is a view or not\n",
    "- Find and use NumPy functions for linear algebra and other operations as needed\n",
    "- Explain the usage of less common NumPy array structures\n",
    "- Identify slow array creation patterns and explain how to avoid them"
   ]
  },
  {
   "cell_type": "markdown",
   "id": "ebdf9e1d",
   "metadata": {},
   "source": [
    "## NumPy Views\n",
    "\n",
    "We will now learn about NumPy views. NumPy views are a fast and powerful feature when they can be used. They allow a new array to be created that shares the data of an existing array, so they can be created in time dependent on the number of dimensions, not the number of elements in the array. For a 2-3 dimensional array with millions of elements, using a view can change many operations from slow copies to instant results.\n",
    "\n",
    "To see how this works, when views can be used, and why they can be dangerous, we will start with a look into how NumPy arrays are organized internally. From there, we will investigate how a new view is created, and what limits the creation of new views. We will then cover the most common operations using views, starting with the special array indexing that you saw last week.\n",
    "\n",
    "### Learning Objectives\n",
    "- Describe the behavior of numpy views and when they can be used\n",
    "- Use standard views to reshape and transform arrays\n",
    "- Check if a given numpy array is a view or not\n",
    "\n",
    "#### Think About It\n",
    "Have you ever solved a problem that became trivial when you looked at it from a certain point of view?"
   ]
  },
  {
   "cell_type": "markdown",
   "id": "ed24af29",
   "metadata": {},
   "source": [
    "### NumPy Array Layouts\n",
    "\n",
    "To understand how NumPy views work, you will first need to understand how NumPy arrays work internally. Previously, we said that a NumPy array has many values packed closely together, but any particular value of interest can be found and accessed quickly. We will now look into the specifics of how this works.\n",
    "\n",
    "#### Contiguous (NumPy)\n",
    "\n",
    "An array is contiguous if:\n",
    "1.  it occupies an unbroken block of memory, and\n",
    "2.  array elements with higher indexes occupy higher addresses (that is, no stride is negative).\n",
    "\n",
    "The first requirement specifies that there is a section of memory holding the array elements and nothing else. Basically, the array elements are as close to each other in memory as possible.\n",
    "\n",
    "The second requirement restricts memory access patterns when reading through the array (strides will be defined shortly). Suppose that your code just read element x[i,j,k] and the next element to read will be one of x[i+1,j,k], x[i,j+1,j], or x[i,j,k+1]? Are all those choices reading higher (later) memory addresses? Which one is closest? One of them must be closest, or they'll be sharing memory and not actually different elements.\n",
    "\n",
    "Consider the following code example with two nested for loops reading the same three dimensional array. These two for loops correspond to the two orders reading from the book. Which is more efficient?"
   ]
  },
  {
   "cell_type": "code",
   "execution_count": 1,
   "id": "706fcc27",
   "metadata": {},
   "outputs": [],
   "source": [
    "import numpy as np\n",
    " \n",
    "x = np.zeros((40, 50, 60))\n",
    " \n",
    "# row order traversal\n",
    "for i in range(x.shape[0]):\n",
    "    for j in range(x.shape[1]):\n",
    "        for k in range(x.shape[2]):\n",
    "            x[i,j,k] # do something\n",
    " \n",
    "# column order traversal\n",
    "for k in range(x.shape[2]):\n",
    "    for j in range(x.shape[1]):\n",
    "        for i in range(x.shape[0]):\n",
    "            x[i,j,k] # do something"
   ]
  },
  {
   "cell_type": "markdown",
   "id": "2a08184c",
   "metadata": {},
   "source": [
    "As written, the first traversal, the one labeled \"row order\" will be more efficient because it matches the default array layout of NumPy. Row major order will be described in depth in the next section.\n",
    "\n",
    "The two blocks of nested loops traverse a 3D array x (with dimensions 40x50x60), but they differ in the order in which they access elements in memory.\n",
    "\n",
    "#### First block (row-order traversal):"
   ]
  },
  {
   "cell_type": "code",
   "execution_count": 2,
   "id": "27990633",
   "metadata": {},
   "outputs": [],
   "source": [
    "# row order traversal\n",
    "for i in range(x.shape[0]):\n",
    "    for j in range(x.shape[1]):\n",
    "        for k in range(x.shape[2]):\n",
    "            x[i,j,k] # do something"
   ]
  },
  {
   "cell_type": "markdown",
   "id": "cae0cf3b",
   "metadata": {},
   "source": [
    "This loop follows a row-major (C-style) order, where elements are accessed with the outer loop (i) iterating over the first dimension (rows), the middle loop (j) iterating over the second dimension (columns), and the inner loop (k) iterating over the third dimension (depth).\n",
    "\n",
    "In memory, this is akin to iterating through one entire row at a time, then moving to the next row. It’s efficient in languages like C or NumPy (which is built on C), where arrays are stored in contiguous blocks in row-major order. Accessing elements in this order is generally faster because the memory layout matches this traversal order.\n",
    "\n",
    "#### Second block (column-order traversal):"
   ]
  },
  {
   "cell_type": "code",
   "execution_count": 3,
   "id": "c8ee5e32",
   "metadata": {},
   "outputs": [],
   "source": [
    "# column order traversal\n",
    "for k in range(x.shape[2]):\n",
    "    for j in range(x.shape[1]):\n",
    "        for i in range(x.shape[0]):\n",
    "            x[i,j,k] # do something"
   ]
  },
  {
   "cell_type": "markdown",
   "id": "f0f39d20",
   "metadata": {},
   "source": [
    "This loop uses a column-major (Fortran-style) order, where elements are accessed by iterating over the third dimension (k), then the second dimension (j), and finally the first dimension (i). This means that instead of iterating row by row, you’re iterating “column by column” or “depth slice by depth slice.”\n",
    "\n",
    "This traversal order can be slower in NumPy because the elements are stored in memory row-major style, so accessing them in this column-major order results in non-contiguous memory access, leading to more cache misses and less efficient memory access patterns.\n",
    "\n",
    "Key Differences:\n",
    "- Row-major (first block): Traverses memory in the order it is stored, making it more cache-friendly and generally faster.\n",
    "- Column-major (second block): Traverses memory in a non-contiguous way, which can result in slower performance due to less efficient memory access.\n",
    "In summary, the first block aligns better with how NumPy stores data, making it more efficient in most cases. The second block, while logically valid, may perform worse due to its mismatch with the underlying memory layout."
   ]
  },
  {
   "cell_type": "markdown",
   "id": "de6b5b4b",
   "metadata": {},
   "source": [
    "In summary:\n",
    "- 1st dimension (shape[i]) = number of subarrays.\n",
    "- 2nd dimension (shape[j]) = number of rows per subarray.\n",
    "- 3rd dimension (shape[k]) = number of columns per row in each subarray."
   ]
  },
  {
   "cell_type": "markdown",
   "id": "1b88b5c5",
   "metadata": {},
   "source": [
    "### Row Major Order\n",
    "NumPy defaults to arranging new arrays in row major order. This means that a 1-dimensional array or a single row of a 2-dimensional array is laid out in memory together in order of the last index.\n",
    "\n",
    "For example, a 1-dimensional array would be organized in memory like this.\n",
    "\n",
    "| $X_0$ | $X_1$ | $X_2$ | $X_3$ |\n",
    "| :--- | :--- | :--- | :--- |\n",
    "\n",
    "(We're using the matrix notation here instead of index notation for brevity and to avoid confusion with all the brackets.)\n",
    "\n",
    "Similarly, the first row of a 3×4 array would be organized similarly like this.\n",
    "\n",
    "| $X_{0,0}$ | $X_{0,1}$ | $X_{0,2}$ | $X_{0,3}$ |\n",
    "| :--- | :--- | :--- | :--- |\n",
    "| $X_{1,0}$ | $X_{1,1}$ | $X_{1,2}$ | $X_{1,3}$ |\n",
    "\n",
    "And the whole two dimensional array would be arranged like this.\n",
    "\n",
    "| $X_{0,0}$ | $X_{0,1}$ | $X_{0,2}$ | $X_{0,3}$ |  $X_{1,0}$ | $X_{1,1}$ | $X_{1,2}$ | $X_{1,3}$ |\n",
    "| :--- | :--- | :--- | :--- | :--- | :--- | :--- | :--- |\n",
    "\n",
    "Note that cells in the same row are next to each other.\n",
    "\n",
    "As more dimensions are added, we can describe the order in two different ways, but they produce the same order. For a k-dimensional array:\n",
    "\n",
    "- Fix the first dimension of the index at each value starting from zero, and recursively layout the $k−1$ dimensional array left by fixing that dimension. So layout $x_0$, then $x_1,*$ , then $x_2,*$ , and so on.\n",
    "- Layout the values by the lexicographical order by the index. You can think of this as alphabetical or dictionary order. So the all zeros index always goes first.\n",
    "\n",
    "Here's the column major order for the 3×4 example before.\n",
    "\n",
    "| $X_{0,0}$ | $X_{1,0}$ | $X_{2,0}$ | $X_{3,0}$ |  $X_{0,1}$ | $X_{1,1}$ | $X_{2,1}$ | $X_{3,1}$ | $X_{0,2}$ | $X_{1,2}$ |\n",
    "| :--- | :--- | :--- | :--- | :--- | :--- | :--- | :--- | :--- | :--- |"
   ]
  },
  {
   "cell_type": "code",
   "execution_count": 4,
   "id": "5d69f167",
   "metadata": {},
   "outputs": [
    {
     "data": {
      "text/plain": [
       "  C_CONTIGUOUS : True\n",
       "  F_CONTIGUOUS : False\n",
       "  OWNDATA : True\n",
       "  WRITEABLE : True\n",
       "  ALIGNED : True\n",
       "  WRITEBACKIFCOPY : False"
      ]
     },
     "execution_count": 4,
     "metadata": {},
     "output_type": "execute_result"
    }
   ],
   "source": [
    "x = np.asarray([[1,2], [3,4]])\n",
    "x.flags"
   ]
  },
  {
   "cell_type": "code",
   "execution_count": 5,
   "id": "135d2958",
   "metadata": {},
   "outputs": [
    {
     "data": {
      "text/plain": [
       "  C_CONTIGUOUS : False\n",
       "  F_CONTIGUOUS : True\n",
       "  OWNDATA : False\n",
       "  WRITEABLE : True\n",
       "  ALIGNED : True\n",
       "  WRITEBACKIFCOPY : False"
      ]
     },
     "execution_count": 5,
     "metadata": {},
     "output_type": "execute_result"
    }
   ],
   "source": [
    "x.T.flags"
   ]
  },
  {
   "cell_type": "markdown",
   "id": "0825acb1",
   "metadata": {},
   "source": [
    "### Peeking at NumPy Array Layouts\n",
    "This video looks at the underlying array layouts of two and three dimensional arrays to improve your intuition about how they work."
   ]
  },
  {
   "cell_type": "code",
   "execution_count": 6,
   "id": "c99b565d",
   "metadata": {},
   "outputs": [
    {
     "data": {
      "text/plain": [
       "array([[  0,   1,   2,   3],\n",
       "       [100, 101, 102, 103],\n",
       "       [200, 201, 202, 203]])"
      ]
     },
     "execution_count": 6,
     "metadata": {},
     "output_type": "execute_result"
    }
   ],
   "source": [
    "x = np.array([[0,1,2,3], [100,101,102,103], [200,201,202,203]])\n",
    "x"
   ]
  },
  {
   "cell_type": "code",
   "execution_count": 7,
   "id": "0b636048",
   "metadata": {},
   "outputs": [
    {
     "data": {
      "text/plain": [
       "array([0, 1, 2, 3])"
      ]
     },
     "execution_count": 7,
     "metadata": {},
     "output_type": "execute_result"
    }
   ],
   "source": [
    "x[0]"
   ]
  },
  {
   "cell_type": "code",
   "execution_count": 8,
   "id": "361a9404",
   "metadata": {},
   "outputs": [
    {
     "data": {
      "text/plain": [
       "array([100, 101, 102, 103])"
      ]
     },
     "execution_count": 8,
     "metadata": {},
     "output_type": "execute_result"
    }
   ],
   "source": [
    "x[1]"
   ]
  },
  {
   "cell_type": "code",
   "execution_count": 9,
   "id": "099b0b3c",
   "metadata": {},
   "outputs": [
    {
     "data": {
      "text/plain": [
       "array([200, 201, 202, 203])"
      ]
     },
     "execution_count": 9,
     "metadata": {},
     "output_type": "execute_result"
    }
   ],
   "source": [
    "x[2]"
   ]
  },
  {
   "cell_type": "code",
   "execution_count": 10,
   "id": "e8f558db",
   "metadata": {},
   "outputs": [
    {
     "data": {
      "text/plain": [
       "array([  0,   1,   2,   3, 100, 101, 102, 103, 200, 201, 202, 203])"
      ]
     },
     "execution_count": 10,
     "metadata": {},
     "output_type": "execute_result"
    }
   ],
   "source": [
    "x_1d = np.ravel(x)\n",
    "x_1d"
   ]
  },
  {
   "cell_type": "code",
   "execution_count": 11,
   "id": "e7afaa4a",
   "metadata": {},
   "outputs": [
    {
     "data": {
      "text/plain": [
       "array([[  0,   1, 999,   3],\n",
       "       [100, 101, 102, 103],\n",
       "       [200, 201, 202, 203]])"
      ]
     },
     "execution_count": 11,
     "metadata": {},
     "output_type": "execute_result"
    }
   ],
   "source": [
    "x_1d[2] = 999\n",
    "x #x_1d and x share the same data"
   ]
  },
  {
   "cell_type": "code",
   "execution_count": 12,
   "id": "d0d9b28b",
   "metadata": {},
   "outputs": [
    {
     "data": {
      "text/plain": [
       "array([ 0,  1,  2,  3,  4,  5,  6,  7,  8,  9, 10, 11, 12, 13, 14, 15, 16,\n",
       "       17, 18, 19, 20, 21, 22, 23, 24, 25, 26])"
      ]
     },
     "execution_count": 12,
     "metadata": {},
     "output_type": "execute_result"
    }
   ],
   "source": [
    "y = np.arange(27)\n",
    "y"
   ]
  },
  {
   "cell_type": "code",
   "execution_count": 13,
   "id": "6d87218b",
   "metadata": {},
   "outputs": [
    {
     "data": {
      "text/plain": [
       "array([[[ 0,  1,  2],\n",
       "        [ 3,  4,  5],\n",
       "        [ 6,  7,  8]],\n",
       "\n",
       "       [[ 9, 10, 11],\n",
       "        [12, 13, 14],\n",
       "        [15, 16, 17]],\n",
       "\n",
       "       [[18, 19, 20],\n",
       "        [21, 22, 23],\n",
       "        [24, 25, 26]]])"
      ]
     },
     "execution_count": 13,
     "metadata": {},
     "output_type": "execute_result"
    }
   ],
   "source": [
    "y = y.reshape(3,3, 3)\n",
    "y"
   ]
  },
  {
   "cell_type": "markdown",
   "id": "16b497b1",
   "metadata": {},
   "source": [
    "### Calculating Array Offsets\n",
    "Now that you have seen how many array layouts can be mapped to the same underlying one-dimensional data, let's look at how to calculate the position of a value from its index. This calculation is both simplified and sped up by the observation that changing a coordinate of the index by one changes the memory location in bytes by a distance only depending on which dimension was changed. This is true for both row major and column major orders. By pre-calculating these \"strides\", the byte offset within the array can be calculated by multiplying the corresponding coordinates and strides together, quickly yielding the exact memory location to load."
   ]
  },
  {
   "cell_type": "code",
   "execution_count": 14,
   "id": "9d45db3e",
   "metadata": {},
   "outputs": [
    {
     "data": {
      "text/plain": [
       "array([[[ 0,  1,  2,  3],\n",
       "        [ 4,  5,  6,  7],\n",
       "        [ 8,  9, 10, 11]],\n",
       "\n",
       "       [[12, 13, 14, 15],\n",
       "        [16, 17, 18, 19],\n",
       "        [20, 21, 22, 23]]])"
      ]
     },
     "execution_count": 14,
     "metadata": {},
     "output_type": "execute_result"
    }
   ],
   "source": [
    "import numpy as np\n",
    " \n",
    "x_1d = np.arange(24)\n",
    "x_3d = x_1d.reshape(2, 3, 4)\n",
    "x_3d"
   ]
  },
  {
   "cell_type": "markdown",
   "id": "2b9ba6ea",
   "metadata": {},
   "source": [
    "If you look at the values in x, you can see that the index in the original array before reshaping increases by one going from left to right within a row. And if you move from any value to the value below it, the index in the original array increases by 4. And if you look at how the array is printed as two groups separated by a blank line, the first and top group is the first coordinate being zero, and the second group is the first coordinate being one, then if you move from a value in the top group to the corresponding value in the bottom group, the index in the original array increases by twelve. So we can say that x_3d[i,j,k] = x_1d[i * 12 + j * 4 + k] that almost gives us the strides. Let's check our cheat sheet."
   ]
  },
  {
   "cell_type": "code",
   "execution_count": 15,
   "id": "a8e717ec",
   "metadata": {},
   "outputs": [
    {
     "data": {
      "text/plain": [
       "(32, 8)"
      ]
     },
     "execution_count": 15,
     "metadata": {},
     "output_type": "execute_result"
    }
   ],
   "source": [
    "x.strides"
   ]
  },
  {
   "cell_type": "markdown",
   "id": "dcd9e332",
   "metadata": {},
   "source": [
    "We found the numbers 12, 4 and 1 for the array index calculation, but the strides are actually 96, 32, and 8. Each of the strides is eight times the numbers we used for index calculation. Why this difference? The difference is that we were looking for changes in array indexes, but the strides are for calculating changes in memory addresses. The numbers we are looking at here are 64 bits, so they take 8 bytes each. Our memory addresses refer to specific bytes, so the addresses of adjacent 64 bit numbers are 8 apart. Hence multiplying the index differences by 8 to get the strides.\n",
    "\n",
    "How can we calculate the strides ourselves? Assuming row major order, we can calculate them easily starting from the last stride entry.\n",
    "\n",
    "$$\n",
    "strides[d-1] = sizeof(data type)\n",
    "$$\n",
    "$$strides[k<d-1] = strides[d-1] * shape[k+1]\n",
    "$$\n",
    "\n",
    "where the array is d-dimensional, and shape is the size of the array in each dimension.\n",
    "\n",
    "#### Iterating Over Arrays\n",
    "This video shows how to iterate over every value in a NumPy array. This is not a common operation, since it loses the efficiency advantage of NumPy's bulk operations, but is useful for understanding array layouts."
   ]
  },
  {
   "cell_type": "code",
   "execution_count": 16,
   "id": "51b6b625",
   "metadata": {},
   "outputs": [
    {
     "data": {
      "text/plain": [
       "array([0, 1, 2, 3, 4, 5])"
      ]
     },
     "execution_count": 16,
     "metadata": {},
     "output_type": "execute_result"
    }
   ],
   "source": [
    "x_1d = np.arange(6)\n",
    "x_1d"
   ]
  },
  {
   "cell_type": "code",
   "execution_count": 17,
   "id": "5562e0ba",
   "metadata": {},
   "outputs": [
    {
     "name": "stdout",
     "output_type": "stream",
     "text": [
      "Value 0\n",
      "Value 1\n",
      "Value 2\n",
      "Value 3\n",
      "Value 4\n",
      "Value 5\n"
     ]
    }
   ],
   "source": [
    "for v in x_1d:\n",
    "    print('Value', v)"
   ]
  },
  {
   "cell_type": "code",
   "execution_count": 18,
   "id": "e1cc368a",
   "metadata": {},
   "outputs": [
    {
     "data": {
      "text/plain": [
       "array([[0, 1, 2],\n",
       "       [3, 4, 5]])"
      ]
     },
     "execution_count": 18,
     "metadata": {},
     "output_type": "execute_result"
    }
   ],
   "source": [
    "x_2d = x_1d.reshape(2,3)\n",
    "x_2d"
   ]
  },
  {
   "cell_type": "code",
   "execution_count": 19,
   "id": "d95ec5d7",
   "metadata": {},
   "outputs": [
    {
     "name": "stdout",
     "output_type": "stream",
     "text": [
      "ROW [0 1 2]\n",
      "ROW [3 4 5]\n"
     ]
    }
   ],
   "source": [
    "for r in x_2d:\n",
    "    print('ROW', r)"
   ]
  },
  {
   "cell_type": "markdown",
   "id": "dc2cb675",
   "metadata": {},
   "source": [
    "if you want ot itereate over all the values, use the `np.nditer`method. "
   ]
  },
  {
   "cell_type": "code",
   "execution_count": 20,
   "id": "2206cb27",
   "metadata": {},
   "outputs": [
    {
     "name": "stdout",
     "output_type": "stream",
     "text": [
      "VALUE 0\n",
      "VALUE 1\n",
      "VALUE 2\n",
      "VALUE 3\n",
      "VALUE 4\n",
      "VALUE 5\n"
     ]
    }
   ],
   "source": [
    "for v in np.nditer(x_2d):\n",
    "    print(\"VALUE\", v)"
   ]
  },
  {
   "cell_type": "markdown",
   "id": "879a9da4",
   "metadata": {},
   "source": [
    "## 7.1 Lesson: NumPy Views\n",
    "Now that you understand how NumPy arrays work internally, we will learn how NumPy views are constructed. The basic idea is simple - share the original storage, and use different strides to navigate the same data in a different order. By sharing the storage but using different strides, we will be able to reshape or select subsets of the data. And since we are only making new strides, the cost is based on the number of axes of the arrays, not the number of elements in them. This is very fast.\n",
    "\n",
    "### Reinterpreting Array Shapes with Views\n",
    "Suppose we have an array with 12 elements, but we forgot the shape. How can we interpret the shape?\n",
    "\n",
    "There is only one way to treat 12 elements (or any other number of elements) as a one dimensional array. It is shown here, where the values in the table are element offsets from the beginning of the data."
   ]
  },
  {
   "cell_type": "code",
   "execution_count": 21,
   "id": "3d79682e",
   "metadata": {},
   "outputs": [
    {
     "data": {
      "text/plain": [
       "array([ 0,  1,  2,  3,  4,  5,  6,  7,  8,  9, 10, 11])"
      ]
     },
     "execution_count": 21,
     "metadata": {},
     "output_type": "execute_result"
    }
   ],
   "source": [
    "x = np.arange(12)\n",
    "x"
   ]
  },
  {
   "cell_type": "markdown",
   "id": "e0f1ef78",
   "metadata": {},
   "source": [
    "There are the six ways to interpret 12 elements as a two dimensional array of varying dimensions using row major order. Note that each shape corresponds to a different way to factor 12 into the product of two integers."
   ]
  },
  {
   "cell_type": "code",
   "execution_count": 22,
   "id": "4b944c50",
   "metadata": {},
   "outputs": [
    {
     "data": {
      "text/plain": [
       "array([[ 0,  1,  2,  3,  4,  5,  6,  7,  8,  9, 10, 11]])"
      ]
     },
     "execution_count": 22,
     "metadata": {},
     "output_type": "execute_result"
    }
   ],
   "source": [
    "x.reshape(1, 12)"
   ]
  },
  {
   "cell_type": "code",
   "execution_count": 23,
   "id": "af9cddbf",
   "metadata": {},
   "outputs": [
    {
     "data": {
      "text/plain": [
       "array([[ 0,  1,  2,  3,  4,  5],\n",
       "       [ 6,  7,  8,  9, 10, 11]])"
      ]
     },
     "execution_count": 23,
     "metadata": {},
     "output_type": "execute_result"
    }
   ],
   "source": [
    "x.reshape(2,6)"
   ]
  },
  {
   "cell_type": "code",
   "execution_count": 24,
   "id": "ea3a8075",
   "metadata": {},
   "outputs": [
    {
     "data": {
      "text/plain": [
       "array([[ 0,  1,  2],\n",
       "       [ 3,  4,  5],\n",
       "       [ 6,  7,  8],\n",
       "       [ 9, 10, 11]])"
      ]
     },
     "execution_count": 24,
     "metadata": {},
     "output_type": "execute_result"
    }
   ],
   "source": [
    "x.reshape(4,3)"
   ]
  },
  {
   "cell_type": "code",
   "execution_count": 25,
   "id": "0388f990",
   "metadata": {},
   "outputs": [
    {
     "data": {
      "text/plain": [
       "array([[ 0,  1],\n",
       "       [ 2,  3],\n",
       "       [ 4,  5],\n",
       "       [ 6,  7],\n",
       "       [ 8,  9],\n",
       "       [10, 11]])"
      ]
     },
     "execution_count": 25,
     "metadata": {},
     "output_type": "execute_result"
    }
   ],
   "source": [
    "x.reshape(6,2)"
   ]
  },
  {
   "cell_type": "code",
   "execution_count": 26,
   "id": "728d41ea",
   "metadata": {},
   "outputs": [
    {
     "data": {
      "text/plain": [
       "array([[ 0],\n",
       "       [ 1],\n",
       "       [ 2],\n",
       "       [ 3],\n",
       "       [ 4],\n",
       "       [ 5],\n",
       "       [ 6],\n",
       "       [ 7],\n",
       "       [ 8],\n",
       "       [ 9],\n",
       "       [10],\n",
       "       [11]])"
      ]
     },
     "execution_count": 26,
     "metadata": {},
     "output_type": "execute_result"
    }
   ],
   "source": [
    "x.reshape(12,1)"
   ]
  },
  {
   "cell_type": "markdown",
   "id": "04f95bcf",
   "metadata": {},
   "source": [
    "Using views, we could have arrays with any and all of these seven shape choices used to interpret the same underlying data. This is all done by using different strides to navigate the same data. If the array is contiguous, you can just calculate the strides for the new shape as if it was always the new shape. If the array is not contiguous, you can imagine the byte offsets like in the example above, and check how they change when moving in each dimension.\n",
    "\n",
    "### Seeing Array Views of Different Shape\n",
    "In this video, we will create array views matching the previous example, and show how changing one entry predictably makes changes visible in the other views."
   ]
  },
  {
   "cell_type": "code",
   "execution_count": 27,
   "id": "e1ce2b4d",
   "metadata": {},
   "outputs": [
    {
     "data": {
      "text/plain": [
       "[array([[ 0,  1,  2,  3,  4,  5,  6,  7,  8,  9, 10, 11]]),\n",
       " array([[ 0,  1,  2,  3,  4,  5],\n",
       "        [ 6,  7,  8,  9, 10, 11]]),\n",
       " array([[ 0,  1,  2,  3],\n",
       "        [ 4,  5,  6,  7],\n",
       "        [ 8,  9, 10, 11]]),\n",
       " array([[ 0,  1,  2],\n",
       "        [ 3,  4,  5],\n",
       "        [ 6,  7,  8],\n",
       "        [ 9, 10, 11]]),\n",
       " array([[ 0,  1],\n",
       "        [ 2,  3],\n",
       "        [ 4,  5],\n",
       "        [ 6,  7],\n",
       "        [ 8,  9],\n",
       "        [10, 11]]),\n",
       " array([[ 0],\n",
       "        [ 1],\n",
       "        [ 2],\n",
       "        [ 3],\n",
       "        [ 4],\n",
       "        [ 5],\n",
       "        [ 6],\n",
       "        [ 7],\n",
       "        [ 8],\n",
       "        [ 9],\n",
       "        [10],\n",
       "        [11]])]"
      ]
     },
     "execution_count": 27,
     "metadata": {},
     "output_type": "execute_result"
    }
   ],
   "source": [
    "x_2d_choices = [x.reshape(s_0, 12 // s_0) for s_0 in [1,2,3,4,6,12]]\n",
    "x_2d_choices"
   ]
  },
  {
   "cell_type": "code",
   "execution_count": 28,
   "id": "63ae729e",
   "metadata": {},
   "outputs": [
    {
     "data": {
      "text/plain": [
       "[array([[    0,     1,     2,     3,     4, 12345,     6,     7,     8,\n",
       "             9,    10,    11]]),\n",
       " array([[    0,     1,     2,     3,     4, 12345],\n",
       "        [    6,     7,     8,     9,    10,    11]]),\n",
       " array([[    0,     1,     2,     3],\n",
       "        [    4, 12345,     6,     7],\n",
       "        [    8,     9,    10,    11]]),\n",
       " array([[    0,     1,     2],\n",
       "        [    3,     4, 12345],\n",
       "        [    6,     7,     8],\n",
       "        [    9,    10,    11]]),\n",
       " array([[    0,     1],\n",
       "        [    2,     3],\n",
       "        [    4, 12345],\n",
       "        [    6,     7],\n",
       "        [    8,     9],\n",
       "        [   10,    11]]),\n",
       " array([[    0],\n",
       "        [    1],\n",
       "        [    2],\n",
       "        [    3],\n",
       "        [    4],\n",
       "        [12345],\n",
       "        [    6],\n",
       "        [    7],\n",
       "        [    8],\n",
       "        [    9],\n",
       "        [   10],\n",
       "        [   11]])]"
      ]
     },
     "execution_count": 28,
     "metadata": {},
     "output_type": "execute_result"
    }
   ],
   "source": [
    "x[5] = 12345 #we'll see a change in the original array in all of our views\n",
    "x_2d_choices"
   ]
  },
  {
   "cell_type": "markdown",
   "id": "a4ba6607",
   "metadata": {},
   "source": [
    "We can check if an array is a view by checking if the base attribute is none."
   ]
  },
  {
   "cell_type": "code",
   "execution_count": 29,
   "id": "2fc325ef",
   "metadata": {},
   "outputs": [
    {
     "data": {
      "text/plain": [
       "[array([    0,     1,     2,     3,     4, 12345,     6,     7,     8,\n",
       "            9,    10,    11]),\n",
       " array([    0,     1,     2,     3,     4, 12345,     6,     7,     8,\n",
       "            9,    10,    11]),\n",
       " array([    0,     1,     2,     3,     4, 12345,     6,     7,     8,\n",
       "            9,    10,    11]),\n",
       " array([    0,     1,     2,     3,     4, 12345,     6,     7,     8,\n",
       "            9,    10,    11]),\n",
       " array([    0,     1,     2,     3,     4, 12345,     6,     7,     8,\n",
       "            9,    10,    11]),\n",
       " array([    0,     1,     2,     3,     4, 12345,     6,     7,     8,\n",
       "            9,    10,    11])]"
      ]
     },
     "execution_count": 29,
     "metadata": {},
     "output_type": "execute_result"
    }
   ],
   "source": [
    "[a.base for a in x_2d_choices]"
   ]
  },
  {
   "cell_type": "markdown",
   "id": "110a5b82",
   "metadata": {},
   "source": [
    "the `base` attribute refers to the original array for views and is none otherwise. You can confirm an array is the original by using the `id` function."
   ]
  },
  {
   "cell_type": "code",
   "execution_count": 30,
   "id": "332d445f",
   "metadata": {},
   "outputs": [
    {
     "data": {
      "text/plain": [
       "4653466128"
      ]
     },
     "execution_count": 30,
     "metadata": {},
     "output_type": "execute_result"
    }
   ],
   "source": [
    "id(x)"
   ]
  },
  {
   "cell_type": "code",
   "execution_count": 31,
   "id": "c76a5062",
   "metadata": {},
   "outputs": [
    {
     "data": {
      "text/plain": [
       "[4653466128, 4653466128, 4653466128, 4653466128, 4653466128, 4653466128]"
      ]
     },
     "execution_count": 31,
     "metadata": {},
     "output_type": "execute_result"
    }
   ],
   "source": [
    "[id(a.base) for a in x_2d_choices] #should match x"
   ]
  },
  {
   "cell_type": "markdown",
   "id": "f332bd49",
   "metadata": {},
   "source": [
    "### Flattening Arrays with Views\n",
    "This video covers the different choices and tradeoffs flattening multi-dimensional arrays back down to one dimension.\n",
    "\n",
    "If we want to turn a multidimensional array back into a contiguous array we have a few choices."
   ]
  },
  {
   "cell_type": "code",
   "execution_count": 32,
   "id": "50a609f9",
   "metadata": {},
   "outputs": [
    {
     "data": {
      "text/plain": [
       "array([[0, 1, 2],\n",
       "       [3, 4, 5]])"
      ]
     },
     "execution_count": 32,
     "metadata": {},
     "output_type": "execute_result"
    }
   ],
   "source": [
    "x_contiguous = np.array([[0,1,2], [3,4,5]])\n",
    "x_contiguous"
   ]
  },
  {
   "cell_type": "code",
   "execution_count": 33,
   "id": "a5365f07",
   "metadata": {},
   "outputs": [
    {
     "data": {
      "text/plain": [
       "  C_CONTIGUOUS : True\n",
       "  F_CONTIGUOUS : False\n",
       "  OWNDATA : True\n",
       "  WRITEABLE : True\n",
       "  ALIGNED : True\n",
       "  WRITEBACKIFCOPY : False"
      ]
     },
     "execution_count": 33,
     "metadata": {},
     "output_type": "execute_result"
    }
   ],
   "source": [
    "x_contiguous.flags #confirm if array is contiguous"
   ]
  },
  {
   "cell_type": "code",
   "execution_count": 34,
   "id": "0d9c1bbd",
   "metadata": {},
   "outputs": [
    {
     "name": "stdout",
     "output_type": "stream",
     "text": [
      "ID 4653472656\n",
      "DATA\n",
      "[[0 1 2]\n",
      " [3 4 5]]\n",
      "C_CONTIGUOUS True\n",
      "OWNDATA True\n",
      "STRIDES (24, 8)\n"
     ]
    }
   ],
   "source": [
    "def check(a):\n",
    "    print('ID', id(a))\n",
    "    print('DATA')\n",
    "    print(a)\n",
    "    if a.base is not None:\n",
    "        print('BASE')\n",
    "        print(a.base)\n",
    "        print('BASE ID', id(a.base))\n",
    "    print('C_CONTIGUOUS', a.flags['C_CONTIGUOUS'])\n",
    "    print('OWNDATA', a.flags['OWNDATA'])\n",
    "    print('STRIDES', a.strides)\n",
    "check(x_contiguous)"
   ]
  },
  {
   "cell_type": "code",
   "execution_count": 35,
   "id": "3c697e5e",
   "metadata": {},
   "outputs": [
    {
     "name": "stdout",
     "output_type": "stream",
     "text": [
      "ID 4653474192\n",
      "DATA\n",
      "[0 1 2 3 4 5]\n",
      "BASE\n",
      "[[0 1 2]\n",
      " [3 4 5]]\n",
      "BASE ID 4653472656\n",
      "C_CONTIGUOUS True\n",
      "OWNDATA False\n",
      "STRIDES (8,)\n"
     ]
    }
   ],
   "source": [
    "check(np.reshape(x_contiguous, -1)) #flattens array to one dimension if you just give it one size"
   ]
  },
  {
   "cell_type": "code",
   "execution_count": 36,
   "id": "3abf62aa",
   "metadata": {},
   "outputs": [
    {
     "name": "stdout",
     "output_type": "stream",
     "text": [
      "ID 4653474480\n",
      "DATA\n",
      "[0 1 2 3 4 5]\n",
      "BASE\n",
      "[[0 1 2]\n",
      " [3 4 5]]\n",
      "BASE ID 4653472656\n",
      "C_CONTIGUOUS True\n",
      "OWNDATA False\n",
      "STRIDES (8,)\n"
     ]
    }
   ],
   "source": [
    "check(np.ravel(x_contiguous))"
   ]
  },
  {
   "cell_type": "code",
   "execution_count": 37,
   "id": "9925b5d0",
   "metadata": {},
   "outputs": [
    {
     "name": "stdout",
     "output_type": "stream",
     "text": [
      "ID 4653474864\n",
      "DATA\n",
      "[[0 2]\n",
      " [3 5]]\n",
      "BASE\n",
      "[[0 1 2]\n",
      " [3 4 5]]\n",
      "BASE ID 4653472656\n",
      "C_CONTIGUOUS False\n",
      "OWNDATA False\n",
      "STRIDES (24, 16)\n"
     ]
    }
   ],
   "source": [
    "x_not_contiguous = x_contiguous[:,::2] #take every other value along each row\n",
    "check(x_not_contiguous)"
   ]
  },
  {
   "cell_type": "markdown",
   "id": "71f98c3b",
   "metadata": {},
   "source": [
    "^ If you look at the strides you can see it moving twice as far in memory when you move along the row. This is the first one that is not contiguous. Can it be a view of our original array? "
   ]
  },
  {
   "cell_type": "code",
   "execution_count": 38,
   "id": "cbaee940",
   "metadata": {},
   "outputs": [
    {
     "name": "stdout",
     "output_type": "stream",
     "text": [
      "ID 4653475824\n",
      "DATA\n",
      "[0 2 3 5]\n",
      "BASE\n",
      "[[0 2]\n",
      " [3 5]]\n",
      "BASE ID 4653475728\n",
      "C_CONTIGUOUS True\n",
      "OWNDATA False\n",
      "STRIDES (8,)\n"
     ]
    }
   ],
   "source": [
    "check(np.reshape(x_not_contiguous, -1))"
   ]
  },
  {
   "cell_type": "code",
   "execution_count": 39,
   "id": "08c6e3dc",
   "metadata": {},
   "outputs": [
    {
     "data": {
      "text/plain": [
       "array([[0, 2],\n",
       "       [3, 5]])"
      ]
     },
     "execution_count": 39,
     "metadata": {},
     "output_type": "execute_result"
    }
   ],
   "source": [
    "mystery_base = np.reshape(x_not_contiguous, -1).base\n",
    "mystery_base"
   ]
  },
  {
   "cell_type": "code",
   "execution_count": 40,
   "id": "d5e79300",
   "metadata": {},
   "outputs": [
    {
     "name": "stdout",
     "output_type": "stream",
     "text": [
      "ID 4653474288\n",
      "DATA\n",
      "[[0 2]\n",
      " [3 5]]\n",
      "C_CONTIGUOUS True\n",
      "OWNDATA True\n",
      "STRIDES (16, 8)\n"
     ]
    }
   ],
   "source": [
    "check(mystery_base)"
   ]
  },
  {
   "cell_type": "markdown",
   "id": "12fe2baa",
   "metadata": {},
   "source": [
    "The `mystery_base` has the same shape and contents as `x_not_contiguous` array, but `mystery_base` is contiguous. It looks like the first thing that NumPy did after detecting that a view would not work was to make a copy with contiguous data and then make a view based on that copy."
   ]
  },
  {
   "cell_type": "code",
   "execution_count": 41,
   "id": "5d0fff71",
   "metadata": {},
   "outputs": [
    {
     "name": "stdout",
     "output_type": "stream",
     "text": [
      "ID 4653476880\n",
      "DATA\n",
      "[0 2 3 5]\n",
      "C_CONTIGUOUS True\n",
      "OWNDATA True\n",
      "STRIDES (8,)\n"
     ]
    }
   ],
   "source": [
    "check(np.ravel(x_not_contiguous))"
   ]
  },
  {
   "cell_type": "markdown",
   "id": "46af4c50",
   "metadata": {},
   "source": [
    "#### When Functions Use Views\n",
    "- creating a view is very fast. operations that are just views are basically instant. copying data will take a while for big arrays.\n",
    "- copying is slow, but contiguous arrays are faster to operate on.\n",
    "- It is good to know which behavior is happening, both for speed, and because if you have a view, there will be data sharing. You really want to know if writing to one array changes another.\n",
    "\n",
    "Every numpy array has a method `flatten` that will return a copy of the array flattened into one dimension."
   ]
  },
  {
   "cell_type": "code",
   "execution_count": 42,
   "id": "58c7f840",
   "metadata": {},
   "outputs": [
    {
     "name": "stdout",
     "output_type": "stream",
     "text": [
      "ID 4653477552\n",
      "DATA\n",
      "[0 2 3 5]\n",
      "C_CONTIGUOUS True\n",
      "OWNDATA True\n",
      "STRIDES (8,)\n"
     ]
    }
   ],
   "source": [
    "check(x_not_contiguous.flatten())"
   ]
  },
  {
   "cell_type": "markdown",
   "id": "93a808ce",
   "metadata": {},
   "source": [
    "#### Functions for R3shaping arrays\n",
    "| Name | View? | Comments |\n",
    "| :--- | :--- | :--- |\n",
    "| `numpy.atleast_1d` | yes | Returns a view with the same data, adding dimensions of length 1 to the beginning of the shape to make the dimension at least 1. |\n",
    "| `numpy.atleast_2d` | yes | Returns a view with the same data, adding dimensions of length 1 to the beginning of the shape to make the dimension at least 2. |\n",
    "| `numpy.atleast_3d` | yes | Returns a view with the same data, adding dimensions of length 1 to the beginning of the shape to make the dimension at least 3. |\n",
    "| `numpy.expand_dims` | yes | adds dimensions of length 1. |\n",
    "| `numpy.ndarray.flatten` | no | Returns a 1-dimensional copy of the array. |\n",
    "| `numpy.ravel` | if possible | Returns a 1-dimensional contiguous array with the same contents as the input array. |\n",
    "| `numpy.reshape` | if possible | Returns an array with the given shape and the same traversal order as the input array. |\n",
    "| `numpy.square` | yes | Removes Dimensions of length 1. Will remove a specific dimension if specified. |"
   ]
  },
  {
   "cell_type": "markdown",
   "id": "741939aa",
   "metadata": {},
   "source": [
    "### Copies and Views (https://numpy.org/doc/stable/user/basics.copies.html)\n",
    "When operating on NumPy arrays, it is possible to access the internal data buffer directly using a view without copying data around. This ensures good performance but can also cause unwanted problems if the user is not aware of how this works. Hence, it is important to know the difference between these two terms and to know which operations return copies and which return views.\n",
    "\n",
    "The NumPy array is a data structure consisting of two parts: the contiguous data buffer with the actual data elements and the metadata that contains information about the data buffer. The metadata includes data type, strides, and other important information that helps manipulate the ndarray easily. See the Internal organization of NumPy arrays section for a detailed look.\n",
    "\n",
    "#### View\n",
    "It is possible to access the array differently by just changing certain metadata like stride and dtype without changing the data buffer. This creates a new way of looking at the data and these new arrays are called views. The data buffer remains the same, so any changes made to a view reflects in the original copy. A view can be forced through the `ndarray.view` method.\n",
    "\n",
    "#### Copy\n",
    "When a new array is created by duplicating the data buffer as well as the metadata, it is called a copy. Changes made to the copy do not reflect on the original array. Making a copy is slower and memory-consuming but sometimes necessary. A copy can be forced by using `ndarray.copy`.\n",
    "\n",
    "#### Indexing Operations\n",
    "Views are created when elements can be addressed with offsets and strides in the original array. Hence, basic indexing always creates views. For example:"
   ]
  },
  {
   "cell_type": "code",
   "execution_count": 43,
   "id": "ab213d95",
   "metadata": {},
   "outputs": [
    {
     "data": {
      "text/plain": [
       "array([0, 1, 2, 3, 4, 5, 6, 7, 8, 9])"
      ]
     },
     "execution_count": 43,
     "metadata": {},
     "output_type": "execute_result"
    }
   ],
   "source": [
    "x = np.arange(10)\n",
    "x"
   ]
  },
  {
   "cell_type": "code",
   "execution_count": 44,
   "id": "99dfaf0b",
   "metadata": {},
   "outputs": [
    {
     "data": {
      "text/plain": [
       "array([1, 2])"
      ]
     },
     "execution_count": 44,
     "metadata": {},
     "output_type": "execute_result"
    }
   ],
   "source": [
    "y = x[1:3] #creates a view\n",
    "y"
   ]
  },
  {
   "cell_type": "code",
   "execution_count": 45,
   "id": "83ef7d38",
   "metadata": {},
   "outputs": [
    {
     "data": {
      "text/plain": [
       "array([ 0, 10, 11,  3,  4,  5,  6,  7,  8,  9])"
      ]
     },
     "execution_count": 45,
     "metadata": {},
     "output_type": "execute_result"
    }
   ],
   "source": [
    "x[1:3] = [10,11]\n",
    "x"
   ]
  },
  {
   "cell_type": "code",
   "execution_count": 46,
   "id": "4791ed3c",
   "metadata": {},
   "outputs": [
    {
     "data": {
      "text/plain": [
       "array([10, 11])"
      ]
     },
     "execution_count": 46,
     "metadata": {},
     "output_type": "execute_result"
    }
   ],
   "source": [
    "y"
   ]
  },
  {
   "cell_type": "markdown",
   "id": "ba0a06d9",
   "metadata": {},
   "source": [
    "Here, `y` gets changed when `x` is changed because it is a view.\n",
    "\n",
    "Advanced Indexing, on the other hand, always cretes copies. For example:"
   ]
  },
  {
   "cell_type": "code",
   "execution_count": 47,
   "id": "26fd6a9c",
   "metadata": {},
   "outputs": [
    {
     "data": {
      "text/plain": [
       "array([[0, 1, 2],\n",
       "       [3, 4, 5],\n",
       "       [6, 7, 8]])"
      ]
     },
     "execution_count": 47,
     "metadata": {},
     "output_type": "execute_result"
    }
   ],
   "source": [
    "x = np.arange(9).reshape(3,3)\n",
    "x"
   ]
  },
  {
   "cell_type": "code",
   "execution_count": 48,
   "id": "cd38fd8f",
   "metadata": {},
   "outputs": [
    {
     "data": {
      "text/plain": [
       "array([[3, 4, 5],\n",
       "       [6, 7, 8]])"
      ]
     },
     "execution_count": 48,
     "metadata": {},
     "output_type": "execute_result"
    }
   ],
   "source": [
    "y = x[[1,2]]\n",
    "y"
   ]
  },
  {
   "cell_type": "code",
   "execution_count": 49,
   "id": "0812d800",
   "metadata": {},
   "outputs": [
    {
     "data": {
      "text/plain": [
       "True"
      ]
     },
     "execution_count": 49,
     "metadata": {},
     "output_type": "execute_result"
    }
   ],
   "source": [
    "y.base is None"
   ]
  },
  {
   "cell_type": "markdown",
   "id": "dcec7f87",
   "metadata": {},
   "source": [
    "Here, ``y`` is a copy, as signified by the :attr:`base <.ndarray.base>`\n",
    "attribute. We can also confirm this by assigning new values to ``x[[1, 2]]``\n",
    "which in turn will not affect ``y`` at all::"
   ]
  },
  {
   "cell_type": "code",
   "execution_count": 50,
   "id": "73534b7f",
   "metadata": {},
   "outputs": [],
   "source": [
    "x[[1, 2]] = [[10, 11, 12], [13, 14, 15]]"
   ]
  },
  {
   "cell_type": "code",
   "execution_count": 51,
   "id": "1d657663",
   "metadata": {},
   "outputs": [
    {
     "data": {
      "text/plain": [
       "array([[ 0,  1,  2],\n",
       "       [10, 11, 12],\n",
       "       [13, 14, 15]])"
      ]
     },
     "execution_count": 51,
     "metadata": {},
     "output_type": "execute_result"
    }
   ],
   "source": [
    "x"
   ]
  },
  {
   "cell_type": "code",
   "execution_count": 52,
   "id": "c4049718",
   "metadata": {},
   "outputs": [
    {
     "data": {
      "text/plain": [
       "array([[3, 4, 5],\n",
       "       [6, 7, 8]])"
      ]
     },
     "execution_count": 52,
     "metadata": {},
     "output_type": "execute_result"
    }
   ],
   "source": [
    "y"
   ]
  },
  {
   "cell_type": "markdown",
   "id": "612cb882",
   "metadata": {},
   "source": [
    "It must be noted here that during the assignment of `x[[1, 2]]` no view or copy is created as the assignment happens in-place."
   ]
  },
  {
   "cell_type": "markdown",
   "id": "cdbfaffb",
   "metadata": {},
   "source": [
    "#### Other operations\n",
    "The `numpy.reshape` function creates a view where possible or a copy otherwise. In most cases, the strides can be modified to reshape the array with a view. However, in some cases where the array becomes non-contiguous (perhaps after a `ndarray.transpose` operation), the reshaping cannot be done by modifying strides and requires a copy. In these cases, we can raise an error by assigning the new shape to the shape attribute of the array. For example:"
   ]
  },
  {
   "cell_type": "code",
   "execution_count": 53,
   "id": "981d63c7",
   "metadata": {},
   "outputs": [
    {
     "data": {
      "text/plain": [
       "array([[1., 1.],\n",
       "       [1., 1.],\n",
       "       [1., 1.]])"
      ]
     },
     "execution_count": 53,
     "metadata": {},
     "output_type": "execute_result"
    }
   ],
   "source": [
    "x = np.ones((2,3))\n",
    "y = x.T #makes the array non-contiguous\n",
    "y"
   ]
  },
  {
   "cell_type": "code",
   "execution_count": 54,
   "id": "04ce0ece",
   "metadata": {},
   "outputs": [
    {
     "data": {
      "text/plain": [
       "array([[1., 1.],\n",
       "       [1., 1.],\n",
       "       [1., 1.]])"
      ]
     },
     "execution_count": 54,
     "metadata": {},
     "output_type": "execute_result"
    }
   ],
   "source": [
    "z = y.view()\n",
    "z"
   ]
  },
  {
   "cell_type": "code",
   "execution_count": 55,
   "id": "5e68b9ba",
   "metadata": {
    "scrolled": true
   },
   "outputs": [
    {
     "ename": "AttributeError",
     "evalue": "Incompatible shape for in-place modification. Use `.reshape()` to make a copy with the desired shape.",
     "output_type": "error",
     "traceback": [
      "\u001b[0;31m---------------------------------------------------------------------------\u001b[0m",
      "\u001b[0;31mAttributeError\u001b[0m                            Traceback (most recent call last)",
      "Cell \u001b[0;32mIn[55], line 1\u001b[0m\n\u001b[0;32m----> 1\u001b[0m z\u001b[38;5;241m.\u001b[39mshape \u001b[38;5;241m=\u001b[39m \u001b[38;5;241m6\u001b[39m\n",
      "\u001b[0;31mAttributeError\u001b[0m: Incompatible shape for in-place modification. Use `.reshape()` to make a copy with the desired shape."
     ]
    }
   ],
   "source": [
    "z.shape = 6"
   ]
  },
  {
   "cell_type": "markdown",
   "id": "6c57aff3",
   "metadata": {},
   "source": [
    "Taking the example of another operation, ravel returns a contiguous flattened view of the array wherever possible. On the other hand, `ndarray.flatten` always returns a flattened copy of the array. However, to guarantee a view in most cases, `x.reshape(-1)` may be preferable."
   ]
  },
  {
   "cell_type": "markdown",
   "id": "89564728",
   "metadata": {},
   "source": [
    "#### How to tell if the array is a view or a copy\n",
    "The base attribute of the ndarray makes it easy to tell if an array is a view or a copy. The `base` attribute of a view returns the original array while it returns `None` for a copy."
   ]
  },
  {
   "cell_type": "code",
   "execution_count": 56,
   "id": "500c762d",
   "metadata": {},
   "outputs": [
    {
     "data": {
      "text/plain": [
       "array([0, 1, 2, 3, 4, 5, 6, 7, 8])"
      ]
     },
     "execution_count": 56,
     "metadata": {},
     "output_type": "execute_result"
    }
   ],
   "source": [
    "x = np.arange(9)\n",
    "x"
   ]
  },
  {
   "cell_type": "code",
   "execution_count": 57,
   "id": "b50fa1b2",
   "metadata": {},
   "outputs": [
    {
     "data": {
      "text/plain": [
       "array([[0, 1, 2],\n",
       "       [3, 4, 5],\n",
       "       [6, 7, 8]])"
      ]
     },
     "execution_count": 57,
     "metadata": {},
     "output_type": "execute_result"
    }
   ],
   "source": [
    "y = x.reshape(3,3)\n",
    "y"
   ]
  },
  {
   "cell_type": "code",
   "execution_count": 58,
   "id": "47f5fa30",
   "metadata": {},
   "outputs": [
    {
     "data": {
      "text/plain": [
       "array([0, 1, 2, 3, 4, 5, 6, 7, 8])"
      ]
     },
     "execution_count": 58,
     "metadata": {},
     "output_type": "execute_result"
    }
   ],
   "source": [
    "y.base #.reshape() creates a view"
   ]
  },
  {
   "cell_type": "code",
   "execution_count": 59,
   "id": "e6f97ba9",
   "metadata": {},
   "outputs": [
    {
     "data": {
      "text/plain": [
       "array([[6, 7, 8],\n",
       "       [3, 4, 5]])"
      ]
     },
     "execution_count": 59,
     "metadata": {},
     "output_type": "execute_result"
    }
   ],
   "source": [
    "z = y[[2,1]]\n",
    "z"
   ]
  },
  {
   "cell_type": "code",
   "execution_count": 60,
   "id": "c174ef92",
   "metadata": {},
   "outputs": [
    {
     "data": {
      "text/plain": [
       "True"
      ]
     },
     "execution_count": 60,
     "metadata": {},
     "output_type": "execute_result"
    }
   ],
   "source": [
    "z.base is None #advanced indexing creates a copy"
   ]
  },
  {
   "cell_type": "markdown",
   "id": "bdeab0a8",
   "metadata": {},
   "source": [
    "Note that the `base` attribute should not be used to determine if an ndarray object is *new*; only if it is a view or a copy of another ndarray."
   ]
  },
  {
   "cell_type": "markdown",
   "id": "ddb90626",
   "metadata": {},
   "source": [
    "## 7.3 Lesson: Viewing Different Data\n",
    "The NumPy views that we've covered so far have been limited to presenting the same data with different shapes. In all cases, iterating all the values from each view of an array (with the default traversal orders) would return the same values in the same order. Simultaneously, a few of the functions had disclaimers about copying if data was not contiguous, or was otherwise not laid out in a way compatible with the desired view. How do these situations occur? Views are more powerful than the initial reshaping examples that we've seen, and we will now see examples of views selecting and reordering the array data in various ways.\n",
    "\n",
    "### Selecting Sub-Arrays\n",
    "This video is about selecting sub-arrays of a multidimensional array. This is the easiest way to select a subset of data, and it works if you want to select all of the data with a particular value for the first dimension."
   ]
  },
  {
   "cell_type": "code",
   "execution_count": 61,
   "id": "98e5641d",
   "metadata": {},
   "outputs": [
    {
     "data": {
      "text/plain": [
       "array([[[ 0,  1,  2,  3],\n",
       "        [ 4,  5,  6,  7],\n",
       "        [ 8,  9, 10, 11]],\n",
       "\n",
       "       [[12, 13, 14, 15],\n",
       "        [16, 17, 18, 19],\n",
       "        [20, 21, 22, 23]]])"
      ]
     },
     "execution_count": 61,
     "metadata": {},
     "output_type": "execute_result"
    }
   ],
   "source": [
    "x = np.arange(24).reshape(2,3,4)\n",
    "x"
   ]
  },
  {
   "cell_type": "code",
   "execution_count": 62,
   "id": "23155a08",
   "metadata": {},
   "outputs": [
    {
     "data": {
      "text/plain": [
       "array([[12, 13, 14, 15],\n",
       "       [16, 17, 18, 19],\n",
       "       [20, 21, 22, 23]])"
      ]
     },
     "execution_count": 62,
     "metadata": {},
     "output_type": "execute_result"
    }
   ],
   "source": [
    "x[1] #removes the first dimension from the array (only one subarray now)"
   ]
  },
  {
   "cell_type": "code",
   "execution_count": 63,
   "id": "ad086211",
   "metadata": {},
   "outputs": [
    {
     "data": {
      "text/plain": [
       "(96, 32, 8)"
      ]
     },
     "execution_count": 63,
     "metadata": {},
     "output_type": "execute_result"
    }
   ],
   "source": [
    "x.strides"
   ]
  },
  {
   "cell_type": "code",
   "execution_count": 64,
   "id": "5f4d5c33",
   "metadata": {},
   "outputs": [
    {
     "data": {
      "text/plain": [
       "(32, 8)"
      ]
     },
     "execution_count": 64,
     "metadata": {},
     "output_type": "execute_result"
    }
   ],
   "source": [
    "x[1].strides"
   ]
  },
  {
   "cell_type": "markdown",
   "id": "38392ed8",
   "metadata": {},
   "source": [
    "What do the strides look like? The strides of the subarray are just the 2nd and 3rd strides of the original array."
   ]
  },
  {
   "cell_type": "markdown",
   "id": "c694291c",
   "metadata": {},
   "source": [
    "### Slicing Arrays with Views\n",
    "This video introduces slicing, a special way to index Python lists and NumPy arrays. Slicing lets you concisely select a subset of a list as long as the entries are spaced evenly. NumPy generalizes slicing support to allow creating views of sliced on multiple dimensions at once."
   ]
  },
  {
   "cell_type": "code",
   "execution_count": 65,
   "id": "20428cdd",
   "metadata": {},
   "outputs": [
    {
     "data": {
      "text/plain": [
       "[0, 1, 2, 3, 4, 5, 6, 7, 8, 9, 10, 11, 12, 13, 14, 15, 16, 17, 18, 19]"
      ]
     },
     "execution_count": 65,
     "metadata": {},
     "output_type": "execute_result"
    }
   ],
   "source": [
    "x = list(range(20))\n",
    "x"
   ]
  },
  {
   "cell_type": "code",
   "execution_count": 66,
   "id": "dbd19b95",
   "metadata": {},
   "outputs": [
    {
     "data": {
      "text/plain": [
       "[5, 6, 7, 8, 9]"
      ]
     },
     "execution_count": 66,
     "metadata": {},
     "output_type": "execute_result"
    }
   ],
   "source": [
    "x[5:10] #take entries in the list, starting at 5 and stopping before 10"
   ]
  },
  {
   "cell_type": "code",
   "execution_count": 67,
   "id": "e65f1b50",
   "metadata": {},
   "outputs": [
    {
     "data": {
      "text/plain": [
       "[3, 6, 9, 12, 15]"
      ]
     },
     "execution_count": 67,
     "metadata": {},
     "output_type": "execute_result"
    }
   ],
   "source": [
    "x[3:16:3] #starts at index 3 and takes every 3rd entry before index 16"
   ]
  },
  {
   "cell_type": "markdown",
   "id": "4a0e4f4c",
   "metadata": {},
   "source": [
    "The general form looks like this: \n",
    "- The sequence can be a python `list` or `tuple`, or a similar object like a NumPy `array`.\n",
    "- The start is the first index selected, then the step is added to get new indices. The slice stops before the end index.\n",
    "\n",
    "This is exactly the same as the range function."
   ]
  },
  {
   "cell_type": "code",
   "execution_count": 68,
   "id": "cbb8bfcc",
   "metadata": {},
   "outputs": [
    {
     "name": "stdout",
     "output_type": "stream",
     "text": [
      "range(stop) -> range object\n",
      "range(start, stop[, step]) -> range object\n",
      "\n",
      "Return an object that produces a sequence of integers from start (inclusive)\n",
      "to stop (exclusive) by step.  range(i, j) produces i, i+1, i+2, ..., j-1.\n",
      "start defaults to 0, and stop is omitted!  range(4) produces 0, 1, 2, 3.\n",
      "These are exactly the valid indices for a list of 4 elements.\n",
      "When step is given, it specifies the increment (or decrement).\n"
     ]
    }
   ],
   "source": [
    "print(range.__doc__)"
   ]
  },
  {
   "cell_type": "code",
   "execution_count": 69,
   "id": "15e22ccd",
   "metadata": {},
   "outputs": [
    {
     "data": {
      "text/plain": [
       "10"
      ]
     },
     "execution_count": 69,
     "metadata": {},
     "output_type": "execute_result"
    }
   ],
   "source": [
    "x[10]"
   ]
  },
  {
   "cell_type": "markdown",
   "id": "cce6acd9",
   "metadata": {},
   "source": [
    "If you call range with one number, you get a sequence from 0 up to, but not including that number."
   ]
  },
  {
   "cell_type": "code",
   "execution_count": 70,
   "id": "56e0ed88",
   "metadata": {},
   "outputs": [
    {
     "data": {
      "text/plain": [
       "[0, 1, 2, 3, 4, 5, 6, 7, 8, 9]"
      ]
     },
     "execution_count": 70,
     "metadata": {},
     "output_type": "execute_result"
    }
   ],
   "source": [
    "list(range(10))"
   ]
  },
  {
   "cell_type": "code",
   "execution_count": 71,
   "id": "05d8e023",
   "metadata": {},
   "outputs": [
    {
     "data": {
      "text/plain": [
       "10"
      ]
     },
     "execution_count": 71,
     "metadata": {},
     "output_type": "execute_result"
    }
   ],
   "source": [
    "x[10]"
   ]
  },
  {
   "cell_type": "code",
   "execution_count": 72,
   "id": "81b3d61c",
   "metadata": {},
   "outputs": [
    {
     "data": {
      "text/plain": [
       "[0, 1, 2, 3, 4, 5, 6, 7, 8, 9]"
      ]
     },
     "execution_count": 72,
     "metadata": {},
     "output_type": "execute_result"
    }
   ],
   "source": [
    "x[0:10]"
   ]
  },
  {
   "cell_type": "code",
   "execution_count": 73,
   "id": "2db993f1",
   "metadata": {},
   "outputs": [
    {
     "data": {
      "text/plain": [
       "[0, 3, 6, 9]"
      ]
     },
     "execution_count": 73,
     "metadata": {},
     "output_type": "execute_result"
    }
   ],
   "source": [
    "x[0:10:3]"
   ]
  },
  {
   "cell_type": "code",
   "execution_count": 74,
   "id": "d40604a4",
   "metadata": {},
   "outputs": [
    {
     "data": {
      "text/plain": [
       "[0, 3, 6, 9]"
      ]
     },
     "execution_count": 74,
     "metadata": {},
     "output_type": "execute_result"
    }
   ],
   "source": [
    "x[:10:3] #auto starts at the beginning of the sequence"
   ]
  },
  {
   "cell_type": "code",
   "execution_count": 75,
   "id": "c68d23d2",
   "metadata": {},
   "outputs": [
    {
     "data": {
      "text/plain": [
       "[15, 16, 17, 18, 19]"
      ]
     },
     "execution_count": 75,
     "metadata": {},
     "output_type": "execute_result"
    }
   ],
   "source": [
    "x[15:] #15 through the end of the sequence"
   ]
  },
  {
   "cell_type": "code",
   "execution_count": 76,
   "id": "3a145b4a",
   "metadata": {},
   "outputs": [
    {
     "data": {
      "text/plain": [
       "[15, 16, 17, 18, 19]"
      ]
     },
     "execution_count": 76,
     "metadata": {},
     "output_type": "execute_result"
    }
   ],
   "source": [
    "x[15::] #15 through the end of the sequence"
   ]
  },
  {
   "cell_type": "code",
   "execution_count": 77,
   "id": "8f1056cd",
   "metadata": {},
   "outputs": [
    {
     "data": {
      "text/plain": [
       "[0, 5, 10, 15]"
      ]
     },
     "execution_count": 77,
     "metadata": {},
     "output_type": "execute_result"
    }
   ],
   "source": [
    "x[::5] #steps through the sequence in steps of 5"
   ]
  },
  {
   "cell_type": "code",
   "execution_count": 78,
   "id": "affa997c",
   "metadata": {},
   "outputs": [
    {
     "data": {
      "text/plain": [
       "array([ 0,  1,  2,  3,  4,  5,  6,  7,  8,  9, 10, 11, 12, 13, 14, 15, 16,\n",
       "       17, 18, 19])"
      ]
     },
     "execution_count": 78,
     "metadata": {},
     "output_type": "execute_result"
    }
   ],
   "source": [
    "x2 = np.array(x)\n",
    "x2"
   ]
  },
  {
   "cell_type": "code",
   "execution_count": 79,
   "id": "35026d53",
   "metadata": {},
   "outputs": [
    {
     "data": {
      "text/plain": [
       "array([ 0,  5, 10, 15])"
      ]
     },
     "execution_count": 79,
     "metadata": {},
     "output_type": "execute_result"
    }
   ],
   "source": [
    "x2[::5]"
   ]
  },
  {
   "cell_type": "code",
   "execution_count": 80,
   "id": "9d145690",
   "metadata": {},
   "outputs": [
    {
     "data": {
      "text/plain": [
       "array([[ 0,  1,  2,  3,  4],\n",
       "       [ 5,  6,  7,  8,  9],\n",
       "       [10, 11, 12, 13, 14],\n",
       "       [15, 16, 17, 18, 19]])"
      ]
     },
     "execution_count": 80,
     "metadata": {},
     "output_type": "execute_result"
    }
   ],
   "source": [
    "x3 = x2.reshape(4,5)\n",
    "x3"
   ]
  },
  {
   "cell_type": "code",
   "execution_count": 81,
   "id": "5910d86d",
   "metadata": {},
   "outputs": [
    {
     "data": {
      "text/plain": [
       "array([[ 0,  2,  4],\n",
       "       [10, 12, 14]])"
      ]
     },
     "execution_count": 81,
     "metadata": {},
     "output_type": "execute_result"
    }
   ],
   "source": [
    "x3[::2, ::2] #use commas to slice through multiple dimensions at once"
   ]
  },
  {
   "cell_type": "code",
   "execution_count": 82,
   "id": "742f8e0c",
   "metadata": {},
   "outputs": [
    {
     "data": {
      "text/plain": [
       "array([ 1, 11])"
      ]
     },
     "execution_count": 82,
     "metadata": {},
     "output_type": "execute_result"
    }
   ],
   "source": [
    "x3[::2,1]"
   ]
  },
  {
   "cell_type": "markdown",
   "id": "b057577e",
   "metadata": {},
   "source": [
    "Remember the dimension of the resulting array will drop for each axis with a specific value chose, if you don't want that, you can specify a slice of just one value."
   ]
  },
  {
   "cell_type": "code",
   "execution_count": 83,
   "id": "852636e0",
   "metadata": {},
   "outputs": [
    {
     "data": {
      "text/plain": [
       "array([[ 1],\n",
       "       [11]])"
      ]
     },
     "execution_count": 83,
     "metadata": {},
     "output_type": "execute_result"
    }
   ],
   "source": [
    "x3[::2, 1:2]"
   ]
  },
  {
   "cell_type": "code",
   "execution_count": 84,
   "id": "369a9630",
   "metadata": {},
   "outputs": [
    {
     "data": {
      "text/plain": [
       "array([[ 0,  1,  2,  3,  4,  5],\n",
       "       [ 6,  7,  8,  9, 10, 11],\n",
       "       [12, 13, 14, 15, 16, 17],\n",
       "       [18, 19, 20, 21, 22, 23]])"
      ]
     },
     "execution_count": 84,
     "metadata": {},
     "output_type": "execute_result"
    }
   ],
   "source": [
    " x = np.arange(24).reshape(4,6)\n",
    " x"
   ]
  },
  {
   "cell_type": "markdown",
   "id": "b310cecc",
   "metadata": {},
   "source": [
    "### Splitting and Combining Different Arrays\n",
    "This video shows how to divide arrays into smaller evenly sized arrays, and then recombine them.\n",
    "`np.hsplit` will split an array horizontally, dividing the columns into different arrays"
   ]
  },
  {
   "cell_type": "code",
   "execution_count": 85,
   "id": "746a6cce",
   "metadata": {},
   "outputs": [
    {
     "data": {
      "text/plain": [
       "[array([[ 0,  1],\n",
       "        [ 6,  7],\n",
       "        [12, 13],\n",
       "        [18, 19]]),\n",
       " array([[ 2,  3],\n",
       "        [ 8,  9],\n",
       "        [14, 15],\n",
       "        [20, 21]]),\n",
       " array([[ 4,  5],\n",
       "        [10, 11],\n",
       "        [16, 17],\n",
       "        [22, 23]])]"
      ]
     },
     "execution_count": 85,
     "metadata": {},
     "output_type": "execute_result"
    }
   ],
   "source": [
    "np.hsplit(x, 3)"
   ]
  },
  {
   "cell_type": "markdown",
   "id": "f3c74148",
   "metadata": {},
   "source": [
    "`np.vsplit` will split an array vertically, dividing the columns into different arrays"
   ]
  },
  {
   "cell_type": "code",
   "execution_count": 86,
   "id": "4e3272b2",
   "metadata": {},
   "outputs": [
    {
     "data": {
      "text/plain": [
       "[array([[0, 1, 2, 3, 4, 5]]),\n",
       " array([[ 6,  7,  8,  9, 10, 11]]),\n",
       " array([[12, 13, 14, 15, 16, 17]]),\n",
       " array([[18, 19, 20, 21, 22, 23]])]"
      ]
     },
     "execution_count": 86,
     "metadata": {},
     "output_type": "execute_result"
    }
   ],
   "source": [
    "np.vsplit(x, 4)"
   ]
  },
  {
   "cell_type": "markdown",
   "id": "53c1acdf",
   "metadata": {},
   "source": [
    "### Broadcasting Views\n",
    "This video shows off the views used for broadcasting. You will not need to explicitly use them very often, but understanding how they work will help you make good use of broadcasting."
   ]
  },
  {
   "cell_type": "code",
   "execution_count": 87,
   "id": "f73ae7ff",
   "metadata": {},
   "outputs": [
    {
     "data": {
      "text/plain": [
       "array([0, 1, 2])"
      ]
     },
     "execution_count": 87,
     "metadata": {},
     "output_type": "execute_result"
    }
   ],
   "source": [
    "x = np.array([0,1,2])\n",
    "x"
   ]
  },
  {
   "cell_type": "code",
   "execution_count": 88,
   "id": "1a3a0982",
   "metadata": {},
   "outputs": [
    {
     "data": {
      "text/plain": [
       "array([[0],\n",
       "       [1],\n",
       "       [2]])"
      ]
     },
     "execution_count": 88,
     "metadata": {},
     "output_type": "execute_result"
    }
   ],
   "source": [
    "y = np.array([[0],[1],[2]])\n",
    "y"
   ]
  },
  {
   "cell_type": "code",
   "execution_count": 89,
   "id": "65186243",
   "metadata": {},
   "outputs": [
    {
     "data": {
      "text/plain": [
       "array([[0, 1, 2],\n",
       "       [0, 1, 2],\n",
       "       [0, 1, 2]])"
      ]
     },
     "execution_count": 89,
     "metadata": {},
     "output_type": "execute_result"
    }
   ],
   "source": [
    "np.broadcast_to(x, (3,3))"
   ]
  },
  {
   "cell_type": "code",
   "execution_count": 90,
   "id": "d292226d",
   "metadata": {},
   "outputs": [
    {
     "data": {
      "text/plain": [
       "array([[0, 0, 0],\n",
       "       [1, 1, 1],\n",
       "       [2, 2, 2]])"
      ]
     },
     "execution_count": 90,
     "metadata": {},
     "output_type": "execute_result"
    }
   ],
   "source": [
    "np.broadcast_to(y, (3,3))"
   ]
  },
  {
   "cell_type": "code",
   "execution_count": 91,
   "id": "31e7d146",
   "metadata": {},
   "outputs": [
    {
     "data": {
      "text/plain": [
       "(8,)"
      ]
     },
     "execution_count": 91,
     "metadata": {},
     "output_type": "execute_result"
    }
   ],
   "source": [
    "x.strides"
   ]
  },
  {
   "cell_type": "code",
   "execution_count": 92,
   "id": "ba4114c3",
   "metadata": {},
   "outputs": [
    {
     "data": {
      "text/plain": [
       "(8, 8)"
      ]
     },
     "execution_count": 92,
     "metadata": {},
     "output_type": "execute_result"
    }
   ],
   "source": [
    "y.strides"
   ]
  },
  {
   "cell_type": "code",
   "execution_count": 93,
   "id": "4cb224ec",
   "metadata": {},
   "outputs": [
    {
     "data": {
      "text/plain": [
       "(0, 8)"
      ]
     },
     "execution_count": 93,
     "metadata": {},
     "output_type": "execute_result"
    }
   ],
   "source": [
    "np.broadcast_to(x, (3,3)).strides"
   ]
  },
  {
   "cell_type": "code",
   "execution_count": 94,
   "id": "5c29ed2a",
   "metadata": {},
   "outputs": [
    {
     "data": {
      "text/plain": [
       "(8, 0)"
      ]
     },
     "execution_count": 94,
     "metadata": {},
     "output_type": "execute_result"
    }
   ],
   "source": [
    "np.broadcast_to(y, (3,3)).strides"
   ]
  },
  {
   "cell_type": "markdown",
   "id": "73323827",
   "metadata": {},
   "source": [
    "### The Basics of NumPy Arrays\n",
    "Data manipulation in Python is nearly synonymous with NumPy array manipulation: even newer tools like Pandas (Chapter 3) are built around the NumPy array. This section will present several examples of using NumPy array manipulation to access data and subarrays, and to split, reshape, and join the arrays. While the types of operations shown here may seem a bit dry and pedantic, they comprise the building blocks of many other examples used throughout the book. Get to know them well!\n",
    "\n",
    "We'll cover a few categories of basic array manipulations here:\n",
    "\n",
    "- Attributes of arrays: Determining the size, shape, memory consumption, and data types of arrays\n",
    "- Indexing of arrays: Getting and setting the value of individual array elements\n",
    "- Slicing of arrays: Getting and setting smaller subarrays within a larger array\n",
    "- Reshaping of arrays: Changing the shape of a given array\n",
    "- Joining and splitting of arrays: Combining multiple arrays into one, and splitting one array into many\n",
    "\n",
    "#### NumPy Array Attributes\n",
    "First let's discuss some useful array attributes. We'll start by defining three random arrays, a one-dimensional, two-dimensional, and three-dimensional array. We'll use NumPy's random number generator, which we will seed with a set value in order to ensure that the same random arrays are generated each time this code is run:"
   ]
  },
  {
   "cell_type": "code",
   "execution_count": 95,
   "id": "dbbaef5e",
   "metadata": {},
   "outputs": [],
   "source": [
    "np.random.seed(0)  # seed for reproducibility\n",
    "x1 = np.random.randint(10, size=6)  # One-dimensional array\n",
    "x2 = np.random.randint(10, size=(3, 4))  # Two-dimensional array\n",
    "x3 = np.random.randint(10, size=(3, 4, 5))  # Three-dimensional array"
   ]
  },
  {
   "cell_type": "markdown",
   "id": "d56aabe7",
   "metadata": {},
   "source": [
    "Each array has attributes `ndim` (the number of dimensions), `shape` (the size of each dimension), and `size` (the total size of the array):"
   ]
  },
  {
   "cell_type": "code",
   "execution_count": 96,
   "id": "c58c3f50",
   "metadata": {},
   "outputs": [
    {
     "name": "stdout",
     "output_type": "stream",
     "text": [
      "x3 ndim:  3\n",
      "x3 shape: (3, 4, 5)\n",
      "x3 size:  60\n"
     ]
    }
   ],
   "source": [
    "print(\"x3 ndim: \", x3.ndim)\n",
    "print(\"x3 shape:\", x3.shape)\n",
    "print(\"x3 size: \", x3.size)"
   ]
  },
  {
   "cell_type": "markdown",
   "id": "3c06beb3",
   "metadata": {},
   "source": [
    "Another useful attribute is the `dtype`, the data type of the array (which we discussed previously in Understanding Data Types in Python):"
   ]
  },
  {
   "cell_type": "code",
   "execution_count": 97,
   "id": "ff7af427",
   "metadata": {},
   "outputs": [
    {
     "name": "stdout",
     "output_type": "stream",
     "text": [
      "dtype: int64\n"
     ]
    }
   ],
   "source": [
    "print(\"dtype:\", x3.dtype)"
   ]
  },
  {
   "cell_type": "markdown",
   "id": "8bcadc90",
   "metadata": {},
   "source": [
    "Other attributes include `itemsize`, which lists the size (in bytes) of each array element, and `nbytes`, which lists the total size (in bytes) of the array:"
   ]
  },
  {
   "cell_type": "code",
   "execution_count": 98,
   "id": "60889e92",
   "metadata": {},
   "outputs": [
    {
     "name": "stdout",
     "output_type": "stream",
     "text": [
      "itemsize: 8 bytes\n",
      "nbytes: 480 bytes\n"
     ]
    }
   ],
   "source": [
    "print(\"itemsize:\", x3.itemsize, \"bytes\")\n",
    "print(\"nbytes:\", x3.nbytes, \"bytes\")"
   ]
  },
  {
   "cell_type": "markdown",
   "id": "156cce73",
   "metadata": {},
   "source": [
    "In general, we expect that `nbytes` is equal to `itemsize` times `size`."
   ]
  },
  {
   "cell_type": "markdown",
   "id": "2fbad7b2",
   "metadata": {},
   "source": [
    "#### Array Indexing: Accessing Single Elements\n",
    "If you are familiar with Python's standard list indexing, indexing in NumPy will feel quite familiar. In a one-dimensional array, the $i^{th}$\n",
    " value (counting from zero) can be accessed by specifying the desired index in square brackets, just as with Python lists:"
   ]
  },
  {
   "cell_type": "code",
   "execution_count": 99,
   "id": "566443d3",
   "metadata": {},
   "outputs": [
    {
     "data": {
      "text/plain": [
       "array([5, 0, 3, 3, 7, 9])"
      ]
     },
     "execution_count": 99,
     "metadata": {},
     "output_type": "execute_result"
    }
   ],
   "source": [
    "x1"
   ]
  },
  {
   "cell_type": "code",
   "execution_count": 100,
   "id": "99ecfcc9",
   "metadata": {},
   "outputs": [
    {
     "data": {
      "text/plain": [
       "5"
      ]
     },
     "execution_count": 100,
     "metadata": {},
     "output_type": "execute_result"
    }
   ],
   "source": [
    "x1[0]"
   ]
  },
  {
   "cell_type": "code",
   "execution_count": 101,
   "id": "eb799f15",
   "metadata": {},
   "outputs": [
    {
     "data": {
      "text/plain": [
       "7"
      ]
     },
     "execution_count": 101,
     "metadata": {},
     "output_type": "execute_result"
    }
   ],
   "source": [
    "x1[4]"
   ]
  },
  {
   "cell_type": "markdown",
   "id": "844a7869",
   "metadata": {},
   "source": [
    "To index from the end of the array, you can use negative indices:"
   ]
  },
  {
   "cell_type": "code",
   "execution_count": 102,
   "id": "f2aa88c7",
   "metadata": {},
   "outputs": [
    {
     "data": {
      "text/plain": [
       "9"
      ]
     },
     "execution_count": 102,
     "metadata": {},
     "output_type": "execute_result"
    }
   ],
   "source": [
    "x1[-1]"
   ]
  },
  {
   "cell_type": "code",
   "execution_count": 103,
   "id": "d7bd8b82",
   "metadata": {},
   "outputs": [
    {
     "data": {
      "text/plain": [
       "7"
      ]
     },
     "execution_count": 103,
     "metadata": {},
     "output_type": "execute_result"
    }
   ],
   "source": [
    "x1[-2]"
   ]
  },
  {
   "cell_type": "markdown",
   "id": "35d47281",
   "metadata": {},
   "source": [
    "In a multi-dimensional array, items can be accessed using a comma-separated tuple of indices:"
   ]
  },
  {
   "cell_type": "code",
   "execution_count": 104,
   "id": "fa56b2b4",
   "metadata": {},
   "outputs": [
    {
     "data": {
      "text/plain": [
       "array([[3, 5, 2, 4],\n",
       "       [7, 6, 8, 8],\n",
       "       [1, 6, 7, 7]])"
      ]
     },
     "execution_count": 104,
     "metadata": {},
     "output_type": "execute_result"
    }
   ],
   "source": [
    "x2"
   ]
  },
  {
   "cell_type": "code",
   "execution_count": 105,
   "id": "2bb1de36",
   "metadata": {},
   "outputs": [
    {
     "data": {
      "text/plain": [
       "3"
      ]
     },
     "execution_count": 105,
     "metadata": {},
     "output_type": "execute_result"
    }
   ],
   "source": [
    "x2[0,0] #first subarray, first value"
   ]
  },
  {
   "cell_type": "code",
   "execution_count": 106,
   "id": "9e50b434",
   "metadata": {},
   "outputs": [
    {
     "data": {
      "text/plain": [
       "1"
      ]
     },
     "execution_count": 106,
     "metadata": {},
     "output_type": "execute_result"
    }
   ],
   "source": [
    "x2[2,0] #3rd subarray, first value"
   ]
  },
  {
   "cell_type": "code",
   "execution_count": 107,
   "id": "0b6895b6",
   "metadata": {},
   "outputs": [
    {
     "data": {
      "text/plain": [
       "7"
      ]
     },
     "execution_count": 107,
     "metadata": {},
     "output_type": "execute_result"
    }
   ],
   "source": [
    "x2[2,-1] #3rd subarray, last value"
   ]
  },
  {
   "cell_type": "markdown",
   "id": "0977bfa3",
   "metadata": {},
   "source": [
    "Values can also be modified using any of the above index notation:"
   ]
  },
  {
   "cell_type": "code",
   "execution_count": 108,
   "id": "dad354a9",
   "metadata": {},
   "outputs": [
    {
     "data": {
      "text/plain": [
       "array([[12,  5,  2,  4],\n",
       "       [ 7,  6,  8,  8],\n",
       "       [ 1,  6,  7,  7]])"
      ]
     },
     "execution_count": 108,
     "metadata": {},
     "output_type": "execute_result"
    }
   ],
   "source": [
    "x2[0, 0] = 12\n",
    "x2"
   ]
  },
  {
   "cell_type": "markdown",
   "id": "f351f65a",
   "metadata": {},
   "source": [
    "Keep in mind that, unlike Python lists, NumPy arrays have a fixed type. This means, for example, that if you attempt to insert a floating-point value to an integer array, the value will be silently truncated. Don't be caught unaware by this behavior!"
   ]
  },
  {
   "cell_type": "markdown",
   "id": "ffbcc7bc",
   "metadata": {},
   "source": [
    "#### Array Slicing: Accessing Subarrays\n",
    "Just as we can use square brackets to access individual array elements, we can also use them to access subarrays with the slice notation, marked by the colon (`:`) character. The NumPy slicing syntax follows that of the standard Python list; to access a slice of an array `x`, use this:\n",
    "\n",
    "`x[start:stop:step]`\n",
    "\n",
    "If any of these are unspecified, they default to the values `start=0`, `stop=size of dimension`, `step=1`. We'll take a look at accessing sub-arrays in one dimension and in multiple dimensions.\n",
    "\n",
    "#### One-dimensional subarrays"
   ]
  },
  {
   "cell_type": "code",
   "execution_count": 109,
   "id": "9e7d3986",
   "metadata": {},
   "outputs": [
    {
     "data": {
      "text/plain": [
       "array([0, 1, 2, 3, 4, 5, 6, 7, 8, 9])"
      ]
     },
     "execution_count": 109,
     "metadata": {},
     "output_type": "execute_result"
    }
   ],
   "source": [
    "x = np.arange(10)\n",
    "x"
   ]
  },
  {
   "cell_type": "code",
   "execution_count": 110,
   "id": "68fd3b7d",
   "metadata": {},
   "outputs": [
    {
     "data": {
      "text/plain": [
       "array([0, 1, 2, 3, 4])"
      ]
     },
     "execution_count": 110,
     "metadata": {},
     "output_type": "execute_result"
    }
   ],
   "source": [
    "x[:5]  # first five elements"
   ]
  },
  {
   "cell_type": "code",
   "execution_count": 111,
   "id": "6b349f88",
   "metadata": {},
   "outputs": [
    {
     "data": {
      "text/plain": [
       "array([5, 6, 7, 8, 9])"
      ]
     },
     "execution_count": 111,
     "metadata": {},
     "output_type": "execute_result"
    }
   ],
   "source": [
    "x[5:]  # elements after index 5"
   ]
  },
  {
   "cell_type": "code",
   "execution_count": 112,
   "id": "6ed3b992",
   "metadata": {},
   "outputs": [
    {
     "data": {
      "text/plain": [
       "array([4, 5, 6])"
      ]
     },
     "execution_count": 112,
     "metadata": {},
     "output_type": "execute_result"
    }
   ],
   "source": [
    "x[4:7]  # middle sub-array"
   ]
  },
  {
   "cell_type": "code",
   "execution_count": 113,
   "id": "07344651",
   "metadata": {},
   "outputs": [
    {
     "data": {
      "text/plain": [
       "array([0, 2, 4, 6, 8])"
      ]
     },
     "execution_count": 113,
     "metadata": {},
     "output_type": "execute_result"
    }
   ],
   "source": [
    "x[::2]  # every other element"
   ]
  },
  {
   "cell_type": "code",
   "execution_count": 114,
   "id": "eff846f0",
   "metadata": {},
   "outputs": [
    {
     "data": {
      "text/plain": [
       "array([1, 3, 5, 7, 9])"
      ]
     },
     "execution_count": 114,
     "metadata": {},
     "output_type": "execute_result"
    }
   ],
   "source": [
    "x[1::2]  # every other element, starting at index 1"
   ]
  },
  {
   "cell_type": "markdown",
   "id": "eeccb041",
   "metadata": {},
   "source": [
    "A potentially confusing case is when the step value is negative. In this case, the defaults for `start` and `stop` are swapped. This becomes a convenient way to reverse an array:"
   ]
  },
  {
   "cell_type": "code",
   "execution_count": 115,
   "id": "bb50fb15",
   "metadata": {},
   "outputs": [
    {
     "data": {
      "text/plain": [
       "array([9, 8, 7, 6, 5, 4, 3, 2, 1, 0])"
      ]
     },
     "execution_count": 115,
     "metadata": {},
     "output_type": "execute_result"
    }
   ],
   "source": [
    "x[::-1]  # all elements, reversed"
   ]
  },
  {
   "cell_type": "code",
   "execution_count": 116,
   "id": "76933cae",
   "metadata": {},
   "outputs": [
    {
     "data": {
      "text/plain": [
       "array([5, 3, 1])"
      ]
     },
     "execution_count": 116,
     "metadata": {},
     "output_type": "execute_result"
    }
   ],
   "source": [
    "x[5::-2]  # reversed every other from index 5"
   ]
  },
  {
   "cell_type": "markdown",
   "id": "ea22306c",
   "metadata": {},
   "source": [
    "#### Multi-dimensional subarrays\n",
    "Multi-dimensional slices work in the same way, with multiple slices separated by commas. For example:"
   ]
  },
  {
   "cell_type": "code",
   "execution_count": 117,
   "id": "c438a3df",
   "metadata": {},
   "outputs": [
    {
     "data": {
      "text/plain": [
       "array([[12,  5,  2,  4],\n",
       "       [ 7,  6,  8,  8],\n",
       "       [ 1,  6,  7,  7]])"
      ]
     },
     "execution_count": 117,
     "metadata": {},
     "output_type": "execute_result"
    }
   ],
   "source": [
    "x2"
   ]
  },
  {
   "cell_type": "code",
   "execution_count": 118,
   "id": "757965d9",
   "metadata": {},
   "outputs": [
    {
     "data": {
      "text/plain": [
       "array([[12,  5,  2],\n",
       "       [ 7,  6,  8]])"
      ]
     },
     "execution_count": 118,
     "metadata": {},
     "output_type": "execute_result"
    }
   ],
   "source": [
    "x2[:2, :3] # two rows, three columns"
   ]
  },
  {
   "cell_type": "code",
   "execution_count": 119,
   "id": "3ea77680",
   "metadata": {},
   "outputs": [
    {
     "data": {
      "text/plain": [
       "array([[12,  2],\n",
       "       [ 7,  8],\n",
       "       [ 1,  7]])"
      ]
     },
     "execution_count": 119,
     "metadata": {},
     "output_type": "execute_result"
    }
   ],
   "source": [
    "x2[:3, ::2]  # all rows, every other column"
   ]
  },
  {
   "cell_type": "markdown",
   "id": "0ac8d027",
   "metadata": {},
   "source": [
    "Finally, subarray dimensions can even be reversed together:"
   ]
  },
  {
   "cell_type": "code",
   "execution_count": 120,
   "id": "bb42dbd4",
   "metadata": {},
   "outputs": [
    {
     "data": {
      "text/plain": [
       "array([[ 7,  7,  6,  1],\n",
       "       [ 8,  8,  6,  7],\n",
       "       [ 4,  2,  5, 12]])"
      ]
     },
     "execution_count": 120,
     "metadata": {},
     "output_type": "execute_result"
    }
   ],
   "source": [
    "x2[::-1, ::-1]"
   ]
  },
  {
   "cell_type": "markdown",
   "id": "efae8ada",
   "metadata": {},
   "source": [
    "#### Accessing array rows and columns\n",
    "One commonly needed routine is accessing of single rows or columns of an array. This can be done by combining indexing and slicing, using an empty slice marked by a single colon (`:`):"
   ]
  },
  {
   "cell_type": "code",
   "execution_count": 121,
   "id": "793421ef",
   "metadata": {},
   "outputs": [
    {
     "name": "stdout",
     "output_type": "stream",
     "text": [
      "[12  7  1]\n"
     ]
    }
   ],
   "source": [
    "print(x2[:, 0])  # first column of x2"
   ]
  },
  {
   "cell_type": "code",
   "execution_count": 122,
   "id": "79c047af",
   "metadata": {},
   "outputs": [
    {
     "name": "stdout",
     "output_type": "stream",
     "text": [
      "[12  5  2  4]\n"
     ]
    }
   ],
   "source": [
    "print(x2[0, :])  # first row of x2"
   ]
  },
  {
   "cell_type": "markdown",
   "id": "aa7149d9",
   "metadata": {},
   "source": [
    "In the case of row access, the empty slice can be omitted for a more compact syntax:"
   ]
  },
  {
   "cell_type": "code",
   "execution_count": 123,
   "id": "041decaa",
   "metadata": {},
   "outputs": [
    {
     "name": "stdout",
     "output_type": "stream",
     "text": [
      "[12  5  2  4]\n"
     ]
    }
   ],
   "source": [
    "print(x2[0])  # equivalent to x2[0, :]"
   ]
  },
  {
   "cell_type": "markdown",
   "id": "16a40a12",
   "metadata": {},
   "source": [
    "#### Subarrays as no-copy views\n",
    "One important–and extremely useful–thing to know about array slices is that they return views rather than *copies* of the array data. This is one area in which NumPy array slicing differs from Python list slicing: in lists, slices will be copies. Consider our two-dimensional array from before:"
   ]
  },
  {
   "cell_type": "code",
   "execution_count": 124,
   "id": "9c43cb41",
   "metadata": {},
   "outputs": [
    {
     "name": "stdout",
     "output_type": "stream",
     "text": [
      "[[12  5  2  4]\n",
      " [ 7  6  8  8]\n",
      " [ 1  6  7  7]]\n"
     ]
    }
   ],
   "source": [
    "print(x2)"
   ]
  },
  {
   "cell_type": "markdown",
   "id": "b3d2cf5c",
   "metadata": {},
   "source": [
    "Let's extract a $2×2$ subarray from this:"
   ]
  },
  {
   "cell_type": "code",
   "execution_count": 125,
   "id": "88fd6375",
   "metadata": {},
   "outputs": [
    {
     "name": "stdout",
     "output_type": "stream",
     "text": [
      "[[12  5]\n",
      " [ 7  6]]\n"
     ]
    }
   ],
   "source": [
    "x2_sub = x2[:2, :2]\n",
    "print(x2_sub)"
   ]
  },
  {
   "cell_type": "markdown",
   "id": "f7b7589b",
   "metadata": {},
   "source": [
    "Now if we modify this subarray, we'll see that the original array is changed! Observe:"
   ]
  },
  {
   "cell_type": "code",
   "execution_count": 126,
   "id": "326b0a8d",
   "metadata": {},
   "outputs": [
    {
     "name": "stdout",
     "output_type": "stream",
     "text": [
      "[[99  5]\n",
      " [ 7  6]]\n"
     ]
    }
   ],
   "source": [
    "x2_sub[0, 0] = 99\n",
    "print(x2_sub)"
   ]
  },
  {
   "cell_type": "code",
   "execution_count": 127,
   "id": "bcba97cb",
   "metadata": {},
   "outputs": [
    {
     "name": "stdout",
     "output_type": "stream",
     "text": [
      "[[99  5  2  4]\n",
      " [ 7  6  8  8]\n",
      " [ 1  6  7  7]]\n"
     ]
    }
   ],
   "source": [
    "print(x2)"
   ]
  },
  {
   "cell_type": "markdown",
   "id": "5482162b",
   "metadata": {},
   "source": [
    "This default behavior is actually quite useful: it means that when we work with large datasets, we can access and process pieces of these datasets without the need to copy the underlying data buffer.\n",
    "\n",
    "#### Creating copies of arrays\n",
    "Despite the nice features of array views, it is sometimes useful to instead explicitly copy the data within an array or a subarray. This can be most easily done with the copy() method:"
   ]
  },
  {
   "cell_type": "code",
   "execution_count": 128,
   "id": "a4a45013",
   "metadata": {},
   "outputs": [
    {
     "name": "stdout",
     "output_type": "stream",
     "text": [
      "[[99  5]\n",
      " [ 7  6]]\n"
     ]
    }
   ],
   "source": [
    "x2_sub_copy = x2[:2, :2].copy()\n",
    "print(x2_sub_copy)"
   ]
  },
  {
   "cell_type": "markdown",
   "id": "fe2cf8ef",
   "metadata": {},
   "source": [
    "If we now modify this subarray, the original array is not touched:"
   ]
  },
  {
   "cell_type": "code",
   "execution_count": 129,
   "id": "55395d58",
   "metadata": {},
   "outputs": [
    {
     "name": "stdout",
     "output_type": "stream",
     "text": [
      "[[42  5]\n",
      " [ 7  6]]\n"
     ]
    }
   ],
   "source": [
    "x2_sub_copy[0, 0] = 42\n",
    "print(x2_sub_copy)"
   ]
  },
  {
   "cell_type": "code",
   "execution_count": 130,
   "id": "b72edd4c",
   "metadata": {},
   "outputs": [
    {
     "name": "stdout",
     "output_type": "stream",
     "text": [
      "[[99  5  2  4]\n",
      " [ 7  6  8  8]\n",
      " [ 1  6  7  7]]\n"
     ]
    }
   ],
   "source": [
    "print(x2)"
   ]
  },
  {
   "cell_type": "markdown",
   "id": "305b0a57",
   "metadata": {},
   "source": [
    "#### Reshaping of Arrays\n",
    "Another useful type of operation is reshaping of arrays. The most flexible way of doing this is with the reshape method. For example, if you want to put the numbers 1 through 9 in a $3×3$ grid, you can do the following:"
   ]
  },
  {
   "cell_type": "code",
   "execution_count": 131,
   "id": "408005ff",
   "metadata": {},
   "outputs": [
    {
     "name": "stdout",
     "output_type": "stream",
     "text": [
      "[[1 2 3]\n",
      " [4 5 6]\n",
      " [7 8 9]]\n"
     ]
    }
   ],
   "source": [
    "grid = np.arange(1, 10).reshape((3, 3))\n",
    "print(grid)"
   ]
  },
  {
   "cell_type": "markdown",
   "id": "e18dcd12",
   "metadata": {},
   "source": [
    "Note that for this to work, the size of the initial array must match the size of the reshaped array. Where possible, the `reshape` method will use a no-copy view of the initial array, but with non-contiguous memory buffers this is not always the case.\n",
    "\n",
    "Another common reshaping pattern is the conversion of a one-dimensional array into a two-dimensional row or column matrix. This can be done with the `reshape` method, or more easily done by making use of the newaxis keyword within a slice operation:"
   ]
  },
  {
   "cell_type": "code",
   "execution_count": 132,
   "id": "75315190",
   "metadata": {},
   "outputs": [
    {
     "data": {
      "text/plain": [
       "array([[1, 2, 3]])"
      ]
     },
     "execution_count": 132,
     "metadata": {},
     "output_type": "execute_result"
    }
   ],
   "source": [
    "x = np.array([1, 2, 3])\n",
    "\n",
    "# row vector via reshape\n",
    "x.reshape((1, 3))"
   ]
  },
  {
   "cell_type": "code",
   "execution_count": 133,
   "id": "7d50c79b",
   "metadata": {},
   "outputs": [
    {
     "data": {
      "text/plain": [
       "array([[1, 2, 3]])"
      ]
     },
     "execution_count": 133,
     "metadata": {},
     "output_type": "execute_result"
    }
   ],
   "source": [
    "# row vector via newaxis\n",
    "x[np.newaxis, :]"
   ]
  },
  {
   "cell_type": "code",
   "execution_count": 134,
   "id": "65c1d0ac",
   "metadata": {},
   "outputs": [
    {
     "data": {
      "text/plain": [
       "array([[1],\n",
       "       [2],\n",
       "       [3]])"
      ]
     },
     "execution_count": 134,
     "metadata": {},
     "output_type": "execute_result"
    }
   ],
   "source": [
    "# column vector via reshape\n",
    "x.reshape((3, 1))"
   ]
  },
  {
   "cell_type": "code",
   "execution_count": 135,
   "id": "a164dd1d",
   "metadata": {},
   "outputs": [
    {
     "data": {
      "text/plain": [
       "array([[1],\n",
       "       [2],\n",
       "       [3]])"
      ]
     },
     "execution_count": 135,
     "metadata": {},
     "output_type": "execute_result"
    }
   ],
   "source": [
    "# column vector via newaxis\n",
    "x[:, np.newaxis]"
   ]
  },
  {
   "cell_type": "markdown",
   "id": "5cb864ff",
   "metadata": {},
   "source": [
    "We will see this type of transformation often throughout the remainder of the book.\n",
    "\n",
    "#### Array Concatenation and Splitting\n",
    "All of the preceding routines worked on single arrays. It's also possible to combine multiple arrays into one, and to conversely split a single array into multiple arrays. We'll take a look at those operations here.\n",
    "\n",
    "#### Concatenation of arrays\n",
    "Concatenation, or joining of two arrays in NumPy, is primarily accomplished using the routines `np.concatenate`, `np.vstack`, and `np.hstack`. `np.concatenate` takes a tuple or list of arrays as its first argument, as we can see here:"
   ]
  },
  {
   "cell_type": "code",
   "execution_count": 136,
   "id": "500db1ff",
   "metadata": {},
   "outputs": [
    {
     "data": {
      "text/plain": [
       "array([1, 2, 3, 3, 2, 1])"
      ]
     },
     "execution_count": 136,
     "metadata": {},
     "output_type": "execute_result"
    }
   ],
   "source": [
    "x = np.array([1, 2, 3])\n",
    "y = np.array([3, 2, 1])\n",
    "np.concatenate([x, y])"
   ]
  },
  {
   "cell_type": "markdown",
   "id": "08cb73e3",
   "metadata": {},
   "source": [
    "You can concatenate more than two arrays at once:"
   ]
  },
  {
   "cell_type": "code",
   "execution_count": 137,
   "id": "9009d369",
   "metadata": {},
   "outputs": [
    {
     "name": "stdout",
     "output_type": "stream",
     "text": [
      "[ 1  2  3  3  2  1 99 99 99]\n"
     ]
    }
   ],
   "source": [
    "z = [99, 99, 99]\n",
    "print(np.concatenate([x, y, z]))"
   ]
  },
  {
   "cell_type": "markdown",
   "id": "54b6169a",
   "metadata": {},
   "source": [
    "It can also be used for two-dimensional arrays"
   ]
  },
  {
   "cell_type": "code",
   "execution_count": 138,
   "id": "ac701429",
   "metadata": {},
   "outputs": [],
   "source": [
    "grid = np.array([[1, 2, 3],\n",
    "                 [4, 5, 6]])"
   ]
  },
  {
   "cell_type": "code",
   "execution_count": 139,
   "id": "579519b5",
   "metadata": {},
   "outputs": [
    {
     "data": {
      "text/plain": [
       "array([[1, 2, 3],\n",
       "       [4, 5, 6],\n",
       "       [1, 2, 3],\n",
       "       [4, 5, 6]])"
      ]
     },
     "execution_count": 139,
     "metadata": {},
     "output_type": "execute_result"
    }
   ],
   "source": [
    "# concatenate along the first axis\n",
    "np.concatenate([grid, grid])"
   ]
  },
  {
   "cell_type": "code",
   "execution_count": 140,
   "id": "5638cee7",
   "metadata": {},
   "outputs": [
    {
     "data": {
      "text/plain": [
       "array([[1, 2, 3, 1, 2, 3],\n",
       "       [4, 5, 6, 4, 5, 6]])"
      ]
     },
     "execution_count": 140,
     "metadata": {},
     "output_type": "execute_result"
    }
   ],
   "source": [
    "# concatenate along the second axis (zero-indexed)\n",
    "np.concatenate([grid, grid], axis=1)"
   ]
  },
  {
   "cell_type": "markdown",
   "id": "38c8ec91",
   "metadata": {},
   "source": [
    "For working with arrays of mixed dimensions, it can be clearer to use the `np.vstack` (vertical stack) and `np.hstack` (horizontal stack) functions:"
   ]
  },
  {
   "cell_type": "code",
   "execution_count": 141,
   "id": "a7f558cc",
   "metadata": {},
   "outputs": [
    {
     "data": {
      "text/plain": [
       "array([[1, 2, 3],\n",
       "       [9, 8, 7],\n",
       "       [6, 5, 4]])"
      ]
     },
     "execution_count": 141,
     "metadata": {},
     "output_type": "execute_result"
    }
   ],
   "source": [
    "x = np.array([1, 2, 3])\n",
    "grid = np.array([[9, 8, 7],\n",
    "                 [6, 5, 4]])\n",
    "\n",
    "# vertically stack the arrays\n",
    "np.vstack([x, grid])"
   ]
  },
  {
   "cell_type": "code",
   "execution_count": 142,
   "id": "46aebc02",
   "metadata": {},
   "outputs": [
    {
     "data": {
      "text/plain": [
       "array([[ 9,  8,  7, 99],\n",
       "       [ 6,  5,  4, 99]])"
      ]
     },
     "execution_count": 142,
     "metadata": {},
     "output_type": "execute_result"
    }
   ],
   "source": [
    "# horizontally stack the arrays\n",
    "y = np.array([[99],\n",
    "              [99]])\n",
    "np.hstack([grid, y])"
   ]
  },
  {
   "cell_type": "markdown",
   "id": "bcace9ca",
   "metadata": {},
   "source": [
    "Similary, `np.dstack` will stack arrays along the third axis."
   ]
  },
  {
   "cell_type": "markdown",
   "id": "e5980d5d",
   "metadata": {},
   "source": [
    "Splitting of arrays\n",
    "The opposite of concatenation is splitting, which is implemented by the functions `np.split`, `np.hsplit`, and `np.vsplit`. For each of these, we can pass a list of indices giving the split points:"
   ]
  },
  {
   "cell_type": "code",
   "execution_count": 143,
   "id": "801b6002",
   "metadata": {},
   "outputs": [
    {
     "name": "stdout",
     "output_type": "stream",
     "text": [
      "[1 2 3] [99 99] [3 2 1]\n"
     ]
    }
   ],
   "source": [
    "x = [1, 2, 3, 99, 99, 3, 2, 1]\n",
    "x1, x2, x3 = np.split(x, [3, 5])\n",
    "print(x1, x2, x3)"
   ]
  },
  {
   "cell_type": "markdown",
   "id": "f42db0f6",
   "metadata": {},
   "source": [
    "Notice that N split-points, leads to N + 1 subarrays. The related functions `np.hsplit` and `np.vsplit` are similar:"
   ]
  },
  {
   "cell_type": "code",
   "execution_count": 144,
   "id": "218616bd",
   "metadata": {},
   "outputs": [
    {
     "data": {
      "text/plain": [
       "array([[ 0,  1,  2,  3],\n",
       "       [ 4,  5,  6,  7],\n",
       "       [ 8,  9, 10, 11],\n",
       "       [12, 13, 14, 15]])"
      ]
     },
     "execution_count": 144,
     "metadata": {},
     "output_type": "execute_result"
    }
   ],
   "source": [
    "grid = np.arange(16).reshape((4, 4))\n",
    "grid"
   ]
  },
  {
   "cell_type": "code",
   "execution_count": 145,
   "id": "66b666b6",
   "metadata": {},
   "outputs": [
    {
     "name": "stdout",
     "output_type": "stream",
     "text": [
      "[[0 1 2 3]\n",
      " [4 5 6 7]]\n",
      "[[ 8  9 10 11]\n",
      " [12 13 14 15]]\n"
     ]
    }
   ],
   "source": [
    "upper, lower = np.vsplit(grid, [2])\n",
    "print(upper)\n",
    "print(lower)"
   ]
  },
  {
   "cell_type": "code",
   "execution_count": 146,
   "id": "bb338d62",
   "metadata": {},
   "outputs": [
    {
     "name": "stdout",
     "output_type": "stream",
     "text": [
      "[[ 0  1]\n",
      " [ 4  5]\n",
      " [ 8  9]\n",
      " [12 13]]\n",
      "[[ 2  3]\n",
      " [ 6  7]\n",
      " [10 11]\n",
      " [14 15]]\n"
     ]
    }
   ],
   "source": [
    "left, right = np.hsplit(grid, [2])\n",
    "print(left)\n",
    "print(right)"
   ]
  },
  {
   "cell_type": "markdown",
   "id": "a9dfa40f",
   "metadata": {},
   "source": [
    "Similarly, `np.dsplit` will split arrays along the third axis."
   ]
  },
  {
   "cell_type": "markdown",
   "id": "c6f71db6",
   "metadata": {},
   "source": [
    "### Surprising View Transformations\n",
    "This video shows off some more surprising data transformations that can be implemented with views. The resulting arrays look much more different from original data than the examples that we have looked at so far, but still can be created instantly using views."
   ]
  },
  {
   "cell_type": "code",
   "execution_count": 147,
   "id": "551684be",
   "metadata": {},
   "outputs": [
    {
     "data": {
      "text/plain": [
       "array([[ 0,  1,  2,  3,  4],\n",
       "       [ 5,  6,  7,  8,  9],\n",
       "       [10, 11, 12, 13, 14],\n",
       "       [15, 16, 17, 18, 19]])"
      ]
     },
     "execution_count": 147,
     "metadata": {},
     "output_type": "execute_result"
    }
   ],
   "source": [
    "x = np.arange(20).reshape(4,5)\n",
    "x"
   ]
  },
  {
   "cell_type": "code",
   "execution_count": 148,
   "id": "dfee56d9",
   "metadata": {},
   "outputs": [],
   "source": [
    "def check(a):\n",
    "    print('SHAPE')\n",
    "    print(a.shape)\n",
    "    print('DATA')\n",
    "    print(a)\n",
    "    print('STRIDES')\n",
    "    print(a.strides)"
   ]
  },
  {
   "cell_type": "code",
   "execution_count": 149,
   "id": "8979792d",
   "metadata": {},
   "outputs": [
    {
     "name": "stdout",
     "output_type": "stream",
     "text": [
      "SHAPE\n",
      "(4, 5)\n",
      "DATA\n",
      "[[ 0  1  2  3  4]\n",
      " [ 5  6  7  8  9]\n",
      " [10 11 12 13 14]\n",
      " [15 16 17 18 19]]\n",
      "STRIDES\n",
      "(40, 8)\n"
     ]
    }
   ],
   "source": [
    "check(x)"
   ]
  },
  {
   "cell_type": "code",
   "execution_count": 150,
   "id": "b30f92c0",
   "metadata": {},
   "outputs": [
    {
     "name": "stdout",
     "output_type": "stream",
     "text": [
      "SHAPE\n",
      "(5, 4)\n",
      "DATA\n",
      "[[ 0  5 10 15]\n",
      " [ 1  6 11 16]\n",
      " [ 2  7 12 17]\n",
      " [ 3  8 13 18]\n",
      " [ 4  9 14 19]]\n",
      "STRIDES\n",
      "(8, 40)\n"
     ]
    }
   ],
   "source": [
    "check(np.transpose(x))"
   ]
  },
  {
   "cell_type": "code",
   "execution_count": 151,
   "id": "7e62c42b",
   "metadata": {},
   "outputs": [
    {
     "name": "stdout",
     "output_type": "stream",
     "text": [
      "SHAPE\n",
      "(5, 4)\n",
      "DATA\n",
      "[[ 0  5 10 15]\n",
      " [ 1  6 11 16]\n",
      " [ 2  7 12 17]\n",
      " [ 3  8 13 18]\n",
      " [ 4  9 14 19]]\n",
      "STRIDES\n",
      "(8, 40)\n"
     ]
    }
   ],
   "source": [
    "check(x.T)"
   ]
  },
  {
   "cell_type": "code",
   "execution_count": 152,
   "id": "6c209714",
   "metadata": {},
   "outputs": [
    {
     "name": "stdout",
     "output_type": "stream",
     "text": [
      "SHAPE\n",
      "(4, 5)\n",
      "DATA\n",
      "[[15 16 17 18 19]\n",
      " [10 11 12 13 14]\n",
      " [ 5  6  7  8  9]\n",
      " [ 0  1  2  3  4]]\n",
      "STRIDES\n",
      "(-40, 8)\n"
     ]
    }
   ],
   "source": [
    "check(np.flipud(x))"
   ]
  },
  {
   "cell_type": "code",
   "execution_count": 153,
   "id": "d5530bd8",
   "metadata": {},
   "outputs": [
    {
     "name": "stdout",
     "output_type": "stream",
     "text": [
      "SHAPE\n",
      "(4, 5)\n",
      "DATA\n",
      "[[ 4  3  2  1  0]\n",
      " [ 9  8  7  6  5]\n",
      " [14 13 12 11 10]\n",
      " [19 18 17 16 15]]\n",
      "STRIDES\n",
      "(40, -8)\n"
     ]
    }
   ],
   "source": [
    "check(np.fliplr(x))"
   ]
  },
  {
   "cell_type": "code",
   "execution_count": 154,
   "id": "6c21c91c",
   "metadata": {},
   "outputs": [
    {
     "name": "stdout",
     "output_type": "stream",
     "text": [
      "SHAPE\n",
      "(3, 4, 2, 2)\n",
      "DATA\n",
      "[[[[ 0  1]\n",
      "   [ 5  6]]\n",
      "\n",
      "  [[ 1  2]\n",
      "   [ 6  7]]\n",
      "\n",
      "  [[ 2  3]\n",
      "   [ 7  8]]\n",
      "\n",
      "  [[ 3  4]\n",
      "   [ 8  9]]]\n",
      "\n",
      "\n",
      " [[[ 5  6]\n",
      "   [10 11]]\n",
      "\n",
      "  [[ 6  7]\n",
      "   [11 12]]\n",
      "\n",
      "  [[ 7  8]\n",
      "   [12 13]]\n",
      "\n",
      "  [[ 8  9]\n",
      "   [13 14]]]\n",
      "\n",
      "\n",
      " [[[10 11]\n",
      "   [15 16]]\n",
      "\n",
      "  [[11 12]\n",
      "   [16 17]]\n",
      "\n",
      "  [[12 13]\n",
      "   [17 18]]\n",
      "\n",
      "  [[13 14]\n",
      "   [18 19]]]]\n",
      "STRIDES\n",
      "(40, 8, 40, 8)\n"
     ]
    }
   ],
   "source": [
    "check(np.lib.stride_tricks.sliding_window_view(x,(2,2)))"
   ]
  },
  {
   "cell_type": "markdown",
   "id": "71ab6def",
   "metadata": {},
   "source": [
    "## Numpy Wrap-Up\n",
    "\n",
    "We will wrap up this module's coverage of NumPy by surveying parts of NumPy that will be good for you to know. The emphasis here will be on awareness, not on building working knowledge, so that you can find and use new parts of NumPy as needed.\n",
    "\n",
    "### Learning Objectives\n",
    "- Find and use NumPy functions for linear algebra and other operations as needed\n",
    "- Explain the usage of less common NumPy array structures\n",
    "- Identify slow array creation patterns and explain how to avoid them\n",
    "#### Think About It\n",
    "Documentation for most software is broadly available online. What do you need to know to find documentation for existing functions?\n"
   ]
  },
  {
   "cell_type": "markdown",
   "id": "f6f9b21a",
   "metadata": {},
   "source": [
    "## 7.5 Lesson: Linear Algebra\n",
    "\n",
    "NumPy has a number of functions for linear algebra operations. If you are taking this module simultaneously with Module 1, you'll start using these next week. We'll cover a few of these now, to give you an idea where to look when you need them.\n",
    "\n",
    "The most common linear algebra operation is probably matrix multiplication."
   ]
  },
  {
   "cell_type": "code",
   "execution_count": 155,
   "id": "006bd7dd",
   "metadata": {},
   "outputs": [
    {
     "data": {
      "text/plain": [
       "array([[1., 1., 1.],\n",
       "       [1., 1., 1.]])"
      ]
     },
     "execution_count": 155,
     "metadata": {},
     "output_type": "execute_result"
    }
   ],
   "source": [
    "import numpy as np\n",
    "x = np.ones((2,3))\n",
    "x"
   ]
  },
  {
   "cell_type": "code",
   "execution_count": 156,
   "id": "661c6914",
   "metadata": {},
   "outputs": [
    {
     "data": {
      "text/plain": [
       "array([[1., 1., 1., 1.],\n",
       "       [1., 1., 1., 1.],\n",
       "       [1., 1., 1., 1.]])"
      ]
     },
     "execution_count": 156,
     "metadata": {},
     "output_type": "execute_result"
    }
   ],
   "source": [
    "y = np.ones((3,4))\n",
    "y"
   ]
  },
  {
   "cell_type": "markdown",
   "id": "3f15b62a",
   "metadata": {},
   "source": [
    "Note: these shapes are different, and not compatible for broadcast"
   ]
  },
  {
   "cell_type": "code",
   "execution_count": 157,
   "id": "a8970430",
   "metadata": {},
   "outputs": [
    {
     "data": {
      "text/plain": [
       "array([[3., 3., 3., 3.],\n",
       "       [3., 3., 3., 3.]])"
      ]
     },
     "execution_count": 157,
     "metadata": {},
     "output_type": "execute_result"
    }
   ],
   "source": [
    "np.matmul(x,y)"
   ]
  },
  {
   "cell_type": "markdown",
   "id": "7ca3c48f",
   "metadata": {},
   "source": [
    "Matrix multiplication is so common that there is a special @ overload, so you can write matrix multiplication more concisely with NumPy."
   ]
  },
  {
   "cell_type": "code",
   "execution_count": 158,
   "id": "6301ea2c",
   "metadata": {},
   "outputs": [
    {
     "data": {
      "text/plain": [
       "array([[3., 3., 3., 3.],\n",
       "       [3., 3., 3., 3.]])"
      ]
     },
     "execution_count": 158,
     "metadata": {},
     "output_type": "execute_result"
    }
   ],
   "source": [
    "x @ y"
   ]
  },
  {
   "cell_type": "markdown",
   "id": "fefe4fc3",
   "metadata": {},
   "source": [
    "The second most common is probably the transpose operation that we already saw as a view."
   ]
  },
  {
   "cell_type": "code",
   "execution_count": 159,
   "id": "e1252461",
   "metadata": {},
   "outputs": [
    {
     "data": {
      "text/plain": [
       "array([[1., 1.],\n",
       "       [1., 1.],\n",
       "       [1., 1.]])"
      ]
     },
     "execution_count": 159,
     "metadata": {},
     "output_type": "execute_result"
    }
   ],
   "source": [
    "np.transpose(x)"
   ]
  },
  {
   "cell_type": "code",
   "execution_count": 160,
   "id": "ff5cc0b5",
   "metadata": {},
   "outputs": [
    {
     "data": {
      "text/plain": [
       "array([[1., 1.],\n",
       "       [1., 1.],\n",
       "       [1., 1.]])"
      ]
     },
     "execution_count": 160,
     "metadata": {},
     "output_type": "execute_result"
    }
   ],
   "source": [
    "x.T"
   ]
  },
  {
   "cell_type": "markdown",
   "id": "d2d2a535",
   "metadata": {},
   "source": [
    "## `numpy.dot`\n",
    "\n",
    "Dot product of two arrays. Specifically,\n",
    "\n",
    "- If both a and b are 1-D arrays, it is inner product of vectors (without complex conjugation).\n",
    "- If both a and b are 2-D arrays, it is matrix multiplication, but using `matmul` or `a @ b` is preferred.\n",
    "- If either a or b is 0-D (scalar), it is equivalent to `multiply` and using `numpy.multiply(a, b)` or `a * b` is preferred.\n",
    "- If a is an N-D array and b is a 1-D array, it is a sum product over the last axis of a and b.\n",
    "- If a is an N-D array and b is an M-D array (where `M>=2`), it is a sum product over the last axis of a and the second-to-last axis of b:"
   ]
  },
  {
   "cell_type": "code",
   "execution_count": 161,
   "id": "83c22b08",
   "metadata": {},
   "outputs": [
    {
     "data": {
      "text/plain": [
       "12"
      ]
     },
     "execution_count": 161,
     "metadata": {},
     "output_type": "execute_result"
    }
   ],
   "source": [
    "np.dot(3,4)"
   ]
  },
  {
   "cell_type": "code",
   "execution_count": 163,
   "id": "199148d8",
   "metadata": {},
   "outputs": [
    {
     "data": {
      "text/plain": [
       "(-13+0j)"
      ]
     },
     "execution_count": 163,
     "metadata": {},
     "output_type": "execute_result"
    }
   ],
   "source": [
    "np.dot([2j, 3j], [2j, 3j])"
   ]
  },
  {
   "cell_type": "code",
   "execution_count": 164,
   "id": "11edf8ab",
   "metadata": {},
   "outputs": [
    {
     "data": {
      "text/plain": [
       "array([[4, 1],\n",
       "       [2, 2]])"
      ]
     },
     "execution_count": 164,
     "metadata": {},
     "output_type": "execute_result"
    }
   ],
   "source": [
    "a = [[1, 0], [0, 1]]\n",
    "b = [[4, 1], [2, 2]]\n",
    "np.dot(a, b)"
   ]
  },
  {
   "cell_type": "code",
   "execution_count": 165,
   "id": "63044588",
   "metadata": {},
   "outputs": [
    {
     "data": {
      "text/plain": [
       "499128"
      ]
     },
     "execution_count": 165,
     "metadata": {},
     "output_type": "execute_result"
    }
   ],
   "source": [
    "a = np.arange(3*4*5*6).reshape((3,4,5,6))\n",
    "b = np.arange(3*4*5*6)[::-1].reshape((5,4,6,3))\n",
    "np.dot(a, b)[2,3,2,1,2,2]"
   ]
  },
  {
   "cell_type": "code",
   "execution_count": 166,
   "id": "0d3a8714",
   "metadata": {},
   "outputs": [
    {
     "data": {
      "text/plain": [
       "499128"
      ]
     },
     "execution_count": 166,
     "metadata": {},
     "output_type": "execute_result"
    }
   ],
   "source": [
    "sum(a[2,3,2,:] * b[1,2,:,2])"
   ]
  },
  {
   "cell_type": "markdown",
   "id": "117f248e",
   "metadata": {},
   "source": [
    "## `numpy.linalg.matrix_rank`\n",
    "\n",
    "Return matrix rank of array using SVD method.\n",
    "Rank of the array is the number of singular values of the array that are greater than *tol*."
   ]
  },
  {
   "cell_type": "code",
   "execution_count": 167,
   "id": "e42b1a49",
   "metadata": {},
   "outputs": [
    {
     "data": {
      "text/plain": [
       "0"
      ]
     },
     "execution_count": 167,
     "metadata": {},
     "output_type": "execute_result"
    }
   ],
   "source": [
    "import numpy as np\n",
    "from numpy.linalg import matrix_rank\n",
    "matrix_rank(np.eye(4)) # Full rank matrix\n",
    "I=np.eye(4); I[-1,-1] = 0. # rank deficient matrix\n",
    "matrix_rank(I)\n",
    "matrix_rank(np.ones((4,))) # 1 dimension - rank 1 unless all 0\n",
    "matrix_rank(np.zeros((4,)))"
   ]
  },
  {
   "cell_type": "markdown",
   "id": "9b9b92b3",
   "metadata": {},
   "source": [
    "## `numpy.linalg.solve`\n",
    "Solve a linear matrix equation, or system of linear scalar equations.\n",
    "\n",
    "Computes the “exact” solution, x, of the well-determined, i.e., full rank, linear matrix equation ax = b.\n",
    "\n",
    "Example: \n",
    "Solve the system of equations: `x0 + 2 * x1 = 1` and `3 * x0 + 5 * x1 = 2`:"
   ]
  },
  {
   "cell_type": "code",
   "execution_count": 168,
   "id": "906ea182",
   "metadata": {},
   "outputs": [
    {
     "data": {
      "text/plain": [
       "array([-1.,  1.])"
      ]
     },
     "execution_count": 168,
     "metadata": {},
     "output_type": "execute_result"
    }
   ],
   "source": [
    "import numpy as np\n",
    "a = np.array([[1, 2], [3, 5]])\n",
    "b = np.array([1, 2])\n",
    "x = np.linalg.solve(a, b)\n",
    "x"
   ]
  },
  {
   "cell_type": "markdown",
   "id": "dca2ba83",
   "metadata": {},
   "source": [
    "check that the solution is correct:"
   ]
  },
  {
   "cell_type": "code",
   "execution_count": 169,
   "id": "25aaa946",
   "metadata": {},
   "outputs": [
    {
     "data": {
      "text/plain": [
       "True"
      ]
     },
     "execution_count": 169,
     "metadata": {},
     "output_type": "execute_result"
    }
   ],
   "source": [
    "np.allclose(np.dot(a, x), b)"
   ]
  },
  {
   "cell_type": "markdown",
   "id": "7cc01fa0",
   "metadata": {},
   "source": [
    "## `numpy.linalg.inv`\n",
    "\n",
    "`linalg.inv(a)`\n",
    "    \n",
    "- Compute the inverse of a matrix.\n",
    "- Given a square matrix a, return the matrix ainv satisfying `a @ ainv = ainv @ a = eye(a.shape[0])`.\n",
    "\n",
    "\n",
    "examples:"
   ]
  },
  {
   "cell_type": "code",
   "execution_count": 170,
   "id": "4a17c393",
   "metadata": {},
   "outputs": [
    {
     "data": {
      "text/plain": [
       "True"
      ]
     },
     "execution_count": 170,
     "metadata": {},
     "output_type": "execute_result"
    }
   ],
   "source": [
    "import numpy as np\n",
    "from numpy.linalg import inv\n",
    "a = np.array([[1., 2.], [3., 4.]])\n",
    "ainv = inv(a)\n",
    "np.allclose(a @ ainv, np.eye(2))\n",
    "np.allclose(ainv @ a, np.eye(2))"
   ]
  },
  {
   "cell_type": "markdown",
   "id": "e9f4b495",
   "metadata": {},
   "source": [
    "If a is a matrix object, then the return value is a matrix as well:"
   ]
  },
  {
   "cell_type": "code",
   "execution_count": 171,
   "id": "5e88466d",
   "metadata": {},
   "outputs": [
    {
     "data": {
      "text/plain": [
       "matrix([[-2. ,  1. ],\n",
       "        [ 1.5, -0.5]])"
      ]
     },
     "execution_count": 171,
     "metadata": {},
     "output_type": "execute_result"
    }
   ],
   "source": [
    "ainv = inv(np.matrix(a))\n",
    "ainv"
   ]
  },
  {
   "cell_type": "markdown",
   "id": "91dda3db",
   "metadata": {},
   "source": [
    "Inverses of several matrices can be computed at once:"
   ]
  },
  {
   "cell_type": "code",
   "execution_count": 172,
   "id": "9b0c0caa",
   "metadata": {},
   "outputs": [
    {
     "data": {
      "text/plain": [
       "array([[[-2.  ,  1.  ],\n",
       "        [ 1.5 , -0.5 ]],\n",
       "\n",
       "       [[-1.25,  0.75],\n",
       "        [ 0.75, -0.25]]])"
      ]
     },
     "execution_count": 172,
     "metadata": {},
     "output_type": "execute_result"
    }
   ],
   "source": [
    "a = np.array([[[1., 2.], [3., 4.]], [[1, 3], [3, 5]]])\n",
    "inv(a)"
   ]
  },
  {
   "cell_type": "markdown",
   "id": "81fcd3f2",
   "metadata": {},
   "source": [
    "If a matrix is close to singular, the computed inverse may not satisfy `a @ ainv = ainv @ a = eye(a.shape[0])` even if a LinAlgError is not raised:"
   ]
  },
  {
   "cell_type": "code",
   "execution_count": 173,
   "id": "b619d870",
   "metadata": {},
   "outputs": [
    {
     "data": {
      "text/plain": [
       "array([[ 0.,  0.,  0.],\n",
       "       [-1.,  0.,  0.],\n",
       "       [ 0.,  0.,  0.]])"
      ]
     },
     "execution_count": 173,
     "metadata": {},
     "output_type": "execute_result"
    }
   ],
   "source": [
    "a = np.array([[2,4,6],[2,0,2],[6,8,14]])\n",
    "inv(a)  # No errors raised\n",
    "a @ inv(a)"
   ]
  },
  {
   "cell_type": "markdown",
   "id": "c2c7169d",
   "metadata": {},
   "source": [
    "To detect ill-conditioned matrices, you can use `numpy.linalg.cond` to compute its condition number [1]. The larger the condition number, the more ill-conditioned the matrix is. As a rule of thumb, if the condition number `cond(a) = 10**k`, then you may lose up to `k` digits of accuracy on top of what would be lost to the numerical method due to loss of precision from arithmetic methods."
   ]
  },
  {
   "cell_type": "code",
   "execution_count": 174,
   "id": "d0263db1",
   "metadata": {},
   "outputs": [
    {
     "data": {
      "text/plain": [
       "6.326316942768597e+16"
      ]
     },
     "execution_count": 174,
     "metadata": {},
     "output_type": "execute_result"
    }
   ],
   "source": [
    "from numpy.linalg import cond\n",
    "cond(a)"
   ]
  },
  {
   "cell_type": "markdown",
   "id": "d74cdb13",
   "metadata": {},
   "source": [
    "It is also possible to detect ill-conditioning by inspecting the matrix’s singular values directly. The ratio between the largest and the smallest singular value is the condition number:"
   ]
  },
  {
   "cell_type": "code",
   "execution_count": 175,
   "id": "4bff39bd",
   "metadata": {},
   "outputs": [
    {
     "data": {
      "text/plain": [
       "6.326316942768597e+16"
      ]
     },
     "execution_count": 175,
     "metadata": {},
     "output_type": "execute_result"
    }
   ],
   "source": [
    "from numpy.linalg import svd\n",
    "sigma = svd(a, compute_uv=False)  # Do not compute singular vectors\n",
    "sigma.max()/sigma.min()"
   ]
  },
  {
   "cell_type": "markdown",
   "id": "7dc051af",
   "metadata": {},
   "source": [
    "## 7.6 Lesson: Patterns to Avoid in NumPy\n",
    "Hopefully, you have been impressed that NumPy makes working with lots of numbers efficient in many ways. As we wrap up our NumPy coverage, we will point out a couple of uses that NumPy allows, but will tend to hurt your efficiency in practice.\n",
    "\n",
    "### Structured Arrays\n",
    "When we first introduced NumPy arrays, one of the limitations that let memory usage be more efficient was limiting an array's elements to just one type. NumPy does have a way of storing more than one type in an array, called structured arrays. Structured arrays let you specify a set of data types that will be packaged together into one array element. However, by NumPy's own documentation, structured arrays are not appropriate for most users.\n",
    "\n",
    "Users looking to manipulate tabular data, such as stored in csv files, may find other pydata projects more suitable, such as `xarray`, `pandas`, or `DataArray`. These provide a high-level interface for tabular data analysis and are better optimized for that use (NumPy).\n",
    "\n",
    "NumPy structured arrays are intended as a low level interface to other libraries. If you feel like they might be useful, try using `pandas`, which we will introduce next week, instead.\n",
    "\n",
    "### Growing Arrays Incrementally\n",
    "The NumPy functions so far have created arrays all at once. Usually, you can predict the size of a NumPy function's output based on the sizes of its input. NumPy does have a few functions to incrementally grow an or shrink an array one row at a time, but generally this should be avoided, since changing the size of an array usually means creating a new array.\n",
    "\n",
    "`numpy.insert` will let you insert an element at a given position in an array, but the documentation includes this disclaimer.\n",
    "\n",
    "A copy of arr with values inserted. Note that insert does not occur in-place: a new array is returned.\n",
    "\n",
    "`numpy.append` will add an element at the end of an array, and has its own disclaimer.\n",
    "\n",
    "A copy of arr with values appended to axis. Note that append does not occur in-place: a new array is allocated and filled.\n",
    "\n",
    "`numpy.delete` will delete an element in an array. Of course, it has a disclaimer too.\n",
    "\n",
    "A copy of arr with the elements specified by obj removed. Note that delete does not occur in-place.\n",
    "\n",
    "### What do all these disclaimers mean?\n",
    "- Each call creates a new array, even though the verbs in the names suggest the original array is being changed. This may be particularly confusing if you had multiple variables referring to the original array.\n",
    "- Each call takes time proportional to the total size of the array, because a whole new array is created from scratch. (This is the opposite of using views which are efficient from not creating a new copy.)\n",
    "- Building a large array with insert or append takes time at least quadratic in the final length of the array. The total time is quadratic from summing up the linear costs of individual updates. The following plot shows this fast growing cost."
   ]
  },
  {
   "cell_type": "code",
   "execution_count": 176,
   "id": "13d61088",
   "metadata": {},
   "outputs": [
    {
     "data": {
      "text/plain": [
       "[<matplotlib.lines.Line2D at 0x122d1f550>]"
      ]
     },
     "execution_count": 176,
     "metadata": {},
     "output_type": "execute_result"
    },
    {
     "data": {
      "image/png": "[encoded data removed]",
      "text/plain": [
       "<Figure size 640x480 with 1 Axes>"
      ]
     },
     "metadata": {},
     "output_type": "display_data"
    }
   ],
   "source": [
    "import matplotlib.pyplot as plt\n",
    "import numpy as np\n",
    " \n",
    "array_sizes = range(1, 51)\n",
    "cumulative_costs = np.cumsum(array_sizes)\n",
    " \n",
    "plt.bar(array_sizes, array_sizes, label=\"insert/append cost\")\n",
    "plt.plot(array_sizes, cumulative_costs, label=\"cumulative cost\")"
   ]
  },
  {
   "cell_type": "markdown",
   "id": "92de99f9",
   "metadata": {},
   "source": [
    "As a general rule, you should avoid updating NumPy arrays one element at a time, since you are not taking advantage of NumPy's efficient array processing. But even more important, do not grow NumPy arrays one element at a time. Even that phrasing is misleading; you are not growing an array, but repeatedly destroying and recreating slightly bigger arrays at massive cost. Even if you can not populate the array with fast processing, at least figure out how big it will be and create it once. Manually updating one element at a time in an array is far faster than repeatedly recreating it one larger."
   ]
  },
  {
   "cell_type": "markdown",
   "id": "157745db",
   "metadata": {},
   "source": [
    "## 7.7 Lesson: Finding NumPy Functions\n",
    "NumPy has a lot of functionality. We have given many examples of many different functions in the last couple weeks, but there are many many more functions available in NumPy. We will conclude our NumPy coverage with tips on where to look for NumPy functions, and details to check before using them.\n",
    "\n",
    "### Where to Look for More NumPy Functionality\n",
    "Where should you look for a NumPy function if you don't know what it is called?\n",
    "\n",
    "- Google or your favorite search engine is generally a fine place to start. Just search for \"NumPy THING YOU WANT TO DO\", and select a link from numpy.org. Use \"numpy.org\" in your search to bias it more.\n",
    "- If you know a similar NumPy function, the index of related functions (on the left as of April 2024), is a decent place to skim\n",
    "- NumPy's documentation is easy enough to navigate\n",
    "- Last but not least, you can ask your favorite AI chat bot, but please look up the real documentation on numpy.org before you use any function that you discover that way. Not all functions mentioned by large language models exist, and they sometimes miss important nuances.\n",
    "### Details to Check When Using a New NumPy Function\n",
    "Whenever you use a new NumPy function, check the documentation to make sure you know what it is doing. As we saw with the functions to insert, append, and delete, sometimes the names are a little misleading, and there are important details you will see in the documentation.\n",
    "\n",
    "Some specific details to check:\n",
    "\n",
    "1. Does this function make a view or a completely new array? Does that vary? If you are seeing the same data presented differently, a view is preferred. If you are calculating, a new array is usually unavoidable. But sometimes, there are a few similar functions that vary in this behavior, like we saw with flattening arrays.\n",
    "2. If the function is calculating, is it a universal function? If not, how does it generalize with different numbers of dimensions? This is more likely to come up for linear algebra functions which we think of as operating on 2-dimensional matrices, but the NumPy versions may accept more dimensions.\n",
    "\n",
    "It's good to know the answers to these questions for any NumPy function that you use. Later on, you may be using other libraries such as TensorFlow or PyTorch which are inspired by or based on NumPy, and you'll want to ask these questions then too."
   ]
  },
  {
   "cell_type": "code",
   "execution_count": 177,
   "id": "1e335852",
   "metadata": {},
   "outputs": [
    {
     "name": "stdout",
     "output_type": "stream",
     "text": [
      "[25, 36, 49, 64, 81]\n"
     ]
    }
   ],
   "source": [
    "def f12(vs):\n",
    "    return [v for (i, v) in enumerate(vs) if i >= 5]\n",
    "\n",
    "def g12(n):\n",
    "    for i in range(n):\n",
    "        yield i ** 2\n",
    "\n",
    "print(f12(g12(10)))"
   ]
  },
  {
   "cell_type": "code",
   "execution_count": null,
   "id": "88212b85",
   "metadata": {},
   "outputs": [],
   "source": []
  }
 ],
 "metadata": {
  "kernelspec": {
   "display_name": "Python 3 (ipykernel)",
   "language": "python",
   "name": "python3"
  },
  "language_info": {
   "codemirror_mode": {
    "name": "ipython",
    "version": 3
   },
   "file_extension": ".py",
   "mimetype": "text/x-python",
   "name": "python",
   "nbconvert_exporter": "python",
   "pygments_lexer": "ipython3",
   "version": "3.11.7"
  }
 },
 "nbformat": 4,
 "nbformat_minor": 5
}
