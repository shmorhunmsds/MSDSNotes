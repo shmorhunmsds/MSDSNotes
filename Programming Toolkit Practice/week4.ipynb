{
 "cells": [
  {
   "cell_type": "markdown",
   "id": "6e9b62f0",
   "metadata": {},
   "source": [
    "# Week 4: Strings of Data\n",
    "\n",
    "In computer programming, the word \"string\" is used to refer to text stored and manipulated by the program. Logically, strings are sequences of individual characters; Python lets you iterate over a string's characters or index them as if the string were a list of characters. The notion of character is general - it could be any letter in the alphabet, a digit, or any Unicode character, including emojis. As of Python 3, strings default to supporting Unicode, so one string could simultaneously have an English word, a math formula, and Chinese characters without making any special effort.\n",
    "\n",
    "String support is ubiquitous across programming languages. The features of strings vary from language to language, but broadly cover reading and writing raw data from files, converting that raw data into more useful forms like numbers, and converting useful data like numbers back to strings for storage. We will cover Python's string support with a focus on converting between different forms of data.\n",
    "\n",
    "**Topic Outline**\n",
    "1. What is a String?\n",
    "2. Print Anything\n",
    "3. Basic String Usage\n",
    "4. Parsing Data from Strings\n",
    "\n",
    "**Think About It**\n",
    "- When you see a number, how do you recognize the number as a whole from the individual digits?\n",
    "- How do you separate words on a page?"
   ]
  },
  {
   "cell_type": "markdown",
   "id": "091cbd7c",
   "metadata": {},
   "source": [
    "## 4.1 Lesson: What is a String? \n",
    "\n",
    "A string is a sequence of characters representing text. The following video looks at what we can do with strings with just that description. The example code is Python specific, but the concepts are universal across programming languages.\n",
    "\n",
    "This video introduces common properties of strings shared across programming languages."
   ]
  },
  {
   "cell_type": "code",
   "execution_count": 1,
   "id": "58da6060",
   "metadata": {},
   "outputs": [
    {
     "name": "stdout",
     "output_type": "stream",
     "text": [
      "hello world.\n"
     ]
    }
   ],
   "source": [
    "print(\"hello world.\")"
   ]
  },
  {
   "cell_type": "code",
   "execution_count": 6,
   "id": "c9e6cdd5",
   "metadata": {},
   "outputs": [
    {
     "data": {
      "text/plain": [
       "12"
      ]
     },
     "execution_count": 6,
     "metadata": {},
     "output_type": "execute_result"
    }
   ],
   "source": [
    "#length of string\n",
    "len(\"hello world.\")"
   ]
  },
  {
   "cell_type": "code",
   "execution_count": 5,
   "id": "9252bc3c",
   "metadata": {},
   "outputs": [
    {
     "name": "stdout",
     "output_type": "stream",
     "text": [
      "h\n",
      "e\n",
      "l\n",
      "l\n",
      "o\n",
      " \n",
      "w\n",
      "o\n",
      "r\n",
      "l\n",
      "d\n",
      ".\n"
     ]
    }
   ],
   "source": [
    "#loop over string\n",
    "for c in \"hello world.\":\n",
    "    print(c)"
   ]
  },
  {
   "cell_type": "code",
   "execution_count": 7,
   "id": "a80d38ca",
   "metadata": {},
   "outputs": [
    {
     "data": {
      "text/plain": [
       "'h'"
      ]
     },
     "execution_count": 7,
     "metadata": {},
     "output_type": "execute_result"
    }
   ],
   "source": [
    "# string indexing\n",
    "\"hello world\"[0]"
   ]
  },
  {
   "cell_type": "code",
   "execution_count": 8,
   "id": "0e7dc818",
   "metadata": {},
   "outputs": [
    {
     "data": {
      "text/plain": [
       "'lo wo'"
      ]
     },
     "execution_count": 8,
     "metadata": {},
     "output_type": "execute_result"
    }
   ],
   "source": [
    "\"hello world\"[3:8]"
   ]
  },
  {
   "cell_type": "markdown",
   "id": "2d06c916",
   "metadata": {},
   "source": [
    "## 4.2 Lesson: Print Anything\n",
    "\n",
    "You have already seen a number of examples where various objects and values are output in this notebook. You may have noticed that the details vary. Sometimes the print function is used. Sometimes the last expression is the output. Sometimes there are quotes. Sometimes there are no quotes. This lesson will dig in on some of those details as examples of string conversions and manipulations.\n",
    "\n",
    "This video explores different ways to print strings, and what the different ways highlight."
   ]
  },
  {
   "cell_type": "code",
   "execution_count": 9,
   "id": "01fe1aaf",
   "metadata": {},
   "outputs": [
    {
     "data": {
      "text/plain": [
       "'Hello Everybody'"
      ]
     },
     "execution_count": 9,
     "metadata": {},
     "output_type": "execute_result"
    }
   ],
   "source": [
    "\"Hello Everybody\" #output has quotes"
   ]
  },
  {
   "cell_type": "markdown",
   "id": "a6823ac0",
   "metadata": {},
   "source": [
    "Printing only a string will print the output without quotes. Quotes are not part of the string, because they act as markers to identify the beginning and the end of the string."
   ]
  },
  {
   "cell_type": "code",
   "execution_count": 10,
   "id": "dfa79138",
   "metadata": {},
   "outputs": [
    {
     "data": {
      "text/plain": [
       "16"
      ]
     },
     "execution_count": 10,
     "metadata": {},
     "output_type": "execute_result"
    }
   ],
   "source": [
    "len(\"Hello Everybody!\")"
   ]
  },
  {
   "cell_type": "code",
   "execution_count": 12,
   "id": "1efe068c",
   "metadata": {},
   "outputs": [
    {
     "data": {
      "text/plain": [
       "'Hello Everybody!'"
      ]
     },
     "execution_count": 12,
     "metadata": {},
     "output_type": "execute_result"
    }
   ],
   "source": [
    "'Hello Everybody!' #output of the repr function"
   ]
  },
  {
   "cell_type": "markdown",
   "id": "b34d02b6",
   "metadata": {},
   "source": [
    "`repr` is a function that converts any python object into a string. `repr` tries to return a string that you can copy and past into python code and get the original object or value back."
   ]
  },
  {
   "cell_type": "code",
   "execution_count": 13,
   "id": "a8574f8a",
   "metadata": {},
   "outputs": [
    {
     "data": {
      "text/plain": [
       "42.0"
      ]
     },
     "execution_count": 13,
     "metadata": {},
     "output_type": "execute_result"
    }
   ],
   "source": [
    "4.2e1"
   ]
  },
  {
   "cell_type": "code",
   "execution_count": 14,
   "id": "0a545030",
   "metadata": {},
   "outputs": [
    {
     "name": "stdout",
     "output_type": "stream",
     "text": [
      "42.0\n"
     ]
    }
   ],
   "source": [
    "print(4.2e1)"
   ]
  },
  {
   "cell_type": "code",
   "execution_count": 16,
   "id": "bb674b17",
   "metadata": {},
   "outputs": [
    {
     "data": {
      "text/plain": [
       "'42.0'"
      ]
     },
     "execution_count": 16,
     "metadata": {},
     "output_type": "execute_result"
    }
   ],
   "source": [
    "str(4.2e1)"
   ]
  },
  {
   "cell_type": "markdown",
   "id": "47aeabf8",
   "metadata": {},
   "source": [
    "#### `print` vs `str` and `repr`\n",
    "- `print` is good for things you look at alot\n",
    "- For debugging, exploration and quick checks, use the default `str` and `repr`\n",
    "\n",
    "**Table: String Conversion Functions**\n",
    "| Function Name | Description |\n",
    "| :--- | :--- |\n",
    "| `str` | converts any object into a string. Also the class for string objects. |\n",
    "| `repr` | converts an object into a string. Usually returns a string that you could copy paste into Python code to reconstruct the object |\n",
    "\n",
    "#### References:\n",
    "**Source** | https://pyformat.info/ This web site is devoted to Python formatting options. It is old, and does not include f-strings, but is clearer than Python’s official documentation where it has coverage.\n",
    "\n",
    "\n",
    "**Source** | https://docs.python.org/3/library/re.html Regular expressions are a standard way to write patterns for searching for and matching with strings. The “re” module is Python’s built-in implementation of regular expressions."
   ]
  },
  {
   "cell_type": "markdown",
   "id": "e76d1150",
   "metadata": {},
   "source": [
    "## 4.3 Lesson: Basic String Usage\n",
    "\n",
    "In data science, most work with strings consists of parsing inputs into something more meaningful, such as numbers, representing labels or categories such as “sunny” or “raining”, or writing output. Later, you will see more kinds of string manipulation, particularly for language models and other text-specific analysis, but these three will cover us for most problems.\n",
    "\n",
    "How will we cover this work? Parsing inputs will be a major focus of next week, but many useful functions will be mentioned in this overview of strings. Using strings as labels or categories does little manipulation of them - mostly they are used as keys in other data structures. Writing output will also be covered next week, but this lesson will cover useful functions and formatting capability to generate strings that you want to output.\n",
    "\n",
    "#### Key Terms\n",
    "**Parsing**: The process of analyzing a sequence to understand its structure and extract meaning."
   ]
  },
  {
   "cell_type": "markdown",
   "id": "1a1c87f0",
   "metadata": {},
   "source": [
    "### A Whirlwind Tour of Python, String Type:\n",
    "\n",
    "Strings in python are created with single for double quotes"
   ]
  },
  {
   "cell_type": "code",
   "execution_count": 17,
   "id": "e65bf915",
   "metadata": {},
   "outputs": [],
   "source": [
    "message = \"what do you like?\"\n",
    "response = \"spam\""
   ]
  },
  {
   "cell_type": "markdown",
   "id": "26086661",
   "metadata": {},
   "source": [
    "Python has many extremely useful string functions and methods, here are a few of them:"
   ]
  },
  {
   "cell_type": "code",
   "execution_count": 18,
   "id": "0eb80e2e",
   "metadata": {},
   "outputs": [
    {
     "data": {
      "text/plain": [
       "4"
      ]
     },
     "execution_count": 18,
     "metadata": {},
     "output_type": "execute_result"
    }
   ],
   "source": [
    "#length of string:\n",
    "len(response)"
   ]
  },
  {
   "cell_type": "code",
   "execution_count": 19,
   "id": "95424852",
   "metadata": {},
   "outputs": [
    {
     "data": {
      "text/plain": [
       "'SPAM'"
      ]
     },
     "execution_count": 19,
     "metadata": {},
     "output_type": "execute_result"
    }
   ],
   "source": [
    "#make upper-case. See also str.lower()\n",
    "response.upper()"
   ]
  },
  {
   "cell_type": "code",
   "execution_count": 20,
   "id": "0f4024c0",
   "metadata": {},
   "outputs": [
    {
     "data": {
      "text/plain": [
       "'What do you like?'"
      ]
     },
     "execution_count": 20,
     "metadata": {},
     "output_type": "execute_result"
    }
   ],
   "source": [
    "#capitalize, also see str.title()\n",
    "message.capitalize()"
   ]
  },
  {
   "cell_type": "code",
   "execution_count": 21,
   "id": "94ee48e2",
   "metadata": {},
   "outputs": [
    {
     "data": {
      "text/plain": [
       "'what do you like?spam'"
      ]
     },
     "execution_count": 21,
     "metadata": {},
     "output_type": "execute_result"
    }
   ],
   "source": [
    "# concatenation with +\n",
    "message + response"
   ]
  },
  {
   "cell_type": "code",
   "execution_count": 22,
   "id": "862a928a",
   "metadata": {},
   "outputs": [
    {
     "data": {
      "text/plain": [
       "'spamspamspamspamspam'"
      ]
     },
     "execution_count": 22,
     "metadata": {},
     "output_type": "execute_result"
    }
   ],
   "source": [
    "# multiplication is multiple concatenation\n",
    "5 * response"
   ]
  },
  {
   "cell_type": "code",
   "execution_count": 23,
   "id": "49a19778",
   "metadata": {},
   "outputs": [
    {
     "data": {
      "text/plain": [
       "'w'"
      ]
     },
     "execution_count": 23,
     "metadata": {},
     "output_type": "execute_result"
    }
   ],
   "source": [
    "# access individual characters (zero-based indexing)\n",
    "message[0]"
   ]
  },
  {
   "cell_type": "markdown",
   "id": "43b5bfdf",
   "metadata": {},
   "source": [
    "### Using Strings in Python\n",
    "A string is a piece of text. Str is the class for python strings. Any object can be passed to `str` to turn the object into a string. `repr` can also be used to turn an object into a string."
   ]
  },
  {
   "cell_type": "code",
   "execution_count": 24,
   "id": "39975ea8",
   "metadata": {},
   "outputs": [
    {
     "data": {
      "text/plain": [
       "3.0"
      ]
     },
     "execution_count": 24,
     "metadata": {},
     "output_type": "execute_result"
    }
   ],
   "source": [
    "3.0"
   ]
  },
  {
   "cell_type": "code",
   "execution_count": 25,
   "id": "78de886c",
   "metadata": {},
   "outputs": [
    {
     "data": {
      "text/plain": [
       "'3.0'"
      ]
     },
     "execution_count": 25,
     "metadata": {},
     "output_type": "execute_result"
    }
   ],
   "source": [
    "str(3.0)"
   ]
  },
  {
   "cell_type": "code",
   "execution_count": 26,
   "id": "daeddc43",
   "metadata": {},
   "outputs": [
    {
     "data": {
      "text/plain": [
       "'hello world'"
      ]
     },
     "execution_count": 26,
     "metadata": {},
     "output_type": "execute_result"
    }
   ],
   "source": [
    "\"hello world\""
   ]
  },
  {
   "cell_type": "code",
   "execution_count": 27,
   "id": "1ff213f8",
   "metadata": {},
   "outputs": [
    {
     "name": "stdout",
     "output_type": "stream",
     "text": [
      "'hello world'\n"
     ]
    }
   ],
   "source": [
    "print(repr(\"hello world\"))"
   ]
  },
  {
   "cell_type": "code",
   "execution_count": 28,
   "id": "9e7b09df",
   "metadata": {},
   "outputs": [
    {
     "data": {
      "text/plain": [
       "\"'hello world'\""
      ]
     },
     "execution_count": 28,
     "metadata": {},
     "output_type": "execute_result"
    }
   ],
   "source": [
    "repr(\"hello world\")"
   ]
  },
  {
   "cell_type": "code",
   "execution_count": 29,
   "id": "5aa81d89",
   "metadata": {},
   "outputs": [
    {
     "data": {
      "text/plain": [
       "'\\'the dog said \"hello\" to me.\\''"
      ]
     },
     "execution_count": 29,
     "metadata": {},
     "output_type": "execute_result"
    }
   ],
   "source": [
    "repr('the dog said \"hello\" to me.') #the output tries to output a string that can be copied into python code. "
   ]
  },
  {
   "cell_type": "markdown",
   "id": "e948f926",
   "metadata": {},
   "source": [
    "The function `repr()` tries to output a string that you can copy paste to remake the object in python code. This generally works well for built-in object types, but custom types need code to support it well. It will generate the visible escape sequences for them. In Python, escape characters start with a backslash `\\`, as can be seen in the above example.\n",
    "\n",
    "#### What is a String? \n",
    "\n",
    "In Python3, a string is a sequence of unicode characters. Unicode is a standard for representing characters all over the world. Unicode handles all of the different characters worldwide. \n",
    "\n",
    "Since strings are sequences, you and write a `for` loop over strings: "
   ]
  },
  {
   "cell_type": "markdown",
   "id": "c4de4a81",
   "metadata": {},
   "source": [
    "### Formatting Data in Strings\n",
    "Using f-strings and the format function to easily include data in strings\n",
    "\n",
    "F strings replaced a lot of clunky string formatting functions. Let's look at an example. "
   ]
  },
  {
   "cell_type": "code",
   "execution_count": 3,
   "id": "b698ac95",
   "metadata": {},
   "outputs": [
    {
     "name": "stdout",
     "output_type": "stream",
     "text": [
      "hi! X = 3.14\n"
     ]
    }
   ],
   "source": [
    "x = 3.14\n",
    "print(f\"hi! X = {x}\")"
   ]
  },
  {
   "cell_type": "markdown",
   "id": "f8c235d2",
   "metadata": {},
   "source": [
    "If you put an f before the string, python will look for sections marked with braces, and read the insides for more Python expressions. Mostly variables are used, but more complicated expressions can go in there."
   ]
  },
  {
   "cell_type": "code",
   "execution_count": 7,
   "id": "36c15f14",
   "metadata": {},
   "outputs": [
    {
     "name": "stdout",
     "output_type": "stream",
     "text": [
      "the answer is 13.375796178343949\n"
     ]
    }
   ],
   "source": [
    "y = 42\n",
    "print(f\"the answer is {y/x}\")"
   ]
  },
  {
   "cell_type": "markdown",
   "id": "547d433a",
   "metadata": {},
   "source": [
    "You can also specify details about how to format those expressions."
   ]
  },
  {
   "cell_type": "code",
   "execution_count": 8,
   "id": "ebd69105",
   "metadata": {},
   "outputs": [
    {
     "name": "stdout",
     "output_type": "stream",
     "text": [
      "the answer is 13.38\n"
     ]
    }
   ],
   "source": [
    "print(f\"the answer is {y / x:.2f}\")"
   ]
  },
  {
   "cell_type": "markdown",
   "id": "0a068876",
   "metadata": {},
   "source": [
    "- The `:` marks the beginning of the formatting. The `f` stands for floating point, so a real number, and the `.2` specifies two digits after the decimal point.\n",
    "\n",
    "- If you want to truncate a float to an integer, use a `.0` so there are no digits after the decimal point. "
   ]
  },
  {
   "cell_type": "code",
   "execution_count": 9,
   "id": "8de59d9d",
   "metadata": {},
   "outputs": [
    {
     "name": "stdout",
     "output_type": "stream",
     "text": [
      "the answer is 13\n"
     ]
    }
   ],
   "source": [
    "print(f\"the answer is {y // x:.0f}\")"
   ]
  },
  {
   "cell_type": "markdown",
   "id": "f32bd475",
   "metadata": {},
   "source": [
    "- If you have an integer, you can use `:d`, or just skip it:"
   ]
  },
  {
   "cell_type": "code",
   "execution_count": 10,
   "id": "8643ef16",
   "metadata": {},
   "outputs": [
    {
     "name": "stdout",
     "output_type": "stream",
     "text": [
      "42\n"
     ]
    }
   ],
   "source": [
    "print(f\"{y:d}\")"
   ]
  },
  {
   "cell_type": "code",
   "execution_count": 11,
   "id": "5e5c4224",
   "metadata": {},
   "outputs": [
    {
     "name": "stdout",
     "output_type": "stream",
     "text": [
      "42\n"
     ]
    }
   ],
   "source": [
    "print(f\"{y}\")"
   ]
  },
  {
   "cell_type": "markdown",
   "id": "46155c36",
   "metadata": {},
   "source": [
    "If you want to format the number with commas, add a `:,d`"
   ]
  },
  {
   "cell_type": "code",
   "execution_count": 13,
   "id": "00c72859",
   "metadata": {},
   "outputs": [
    {
     "name": "stdout",
     "output_type": "stream",
     "text": [
      "1,234,567\n"
     ]
    }
   ],
   "source": [
    "z=1234567\n",
    "print(f\"{z:,d}\")"
   ]
  },
  {
   "cell_type": "markdown",
   "id": "2fc62a21",
   "metadata": {},
   "source": [
    "more than one expression can be inserted:"
   ]
  },
  {
   "cell_type": "code",
   "execution_count": 14,
   "id": "76c8e39e",
   "metadata": {},
   "outputs": [
    {
     "name": "stdout",
     "output_type": "stream",
     "text": [
      "the answer to 42 / 3.14 is 13.375796178343949\n"
     ]
    }
   ],
   "source": [
    "print (f\"the answer to {y} / {x} is {y/x}\")"
   ]
  },
  {
   "cell_type": "markdown",
   "id": "d409e0d8",
   "metadata": {},
   "source": [
    "**Table: String Methods to Know**\n",
    "| Method Name | Description |\n",
    "| :--- | :--- |\n",
    "| `capitalize` | Capitalizes the first word of a string. |\n",
    "| `encode` | converts a string into bytes, defaulting to UTF-8. Sometimes needed for writing files.|\n",
    "| `format` | uses the string as a template, takes in arguments to fill in that template|\n",
    "| `find` | looks for another string inside the original string. returns the index where it was found, or -1 otherwise. |\n",
    "| `index` | LIke find, but raises an exception if not found |\n",
    "| `startswith`/`endswith` | Like find, but raises an exception if not listed |\n",
    "| `split` | returns a list of strings from splitting on characters in the input string. Defaults to splitting on any \"white space\" if no split chracters are given. |\n",
    "| `replace` | does find and replace with the input arguments. | "
   ]
  },
  {
   "cell_type": "markdown",
   "id": "1aa5d02e",
   "metadata": {},
   "source": [
    "## 4.4 Lesson: Parsing Data From Strings\n",
    " \n",
    "We already saw several ways to make strings from different types. (The easy answer was to use the `str` function.) How do we convert from strings back to other data types?\n",
    "\n",
    "In practice, you will not need to write your own code parsing numeric types like integers and floating point numbers, but you may need to write code separating out those numbers. In this lesson, you will see a video showing how to parse an integer, but generally, you should just use the built-in functions `int` or `float`, depending on what type of number you expect. However, you will almost inevitably run into examples where something unexpected is presented as a \"number\", and suddenly an exception will happen. So, we will also show you how to catch exceptions and deal with them. We will not cover how you should respond to invalid numbers; that will depend on your application. But you will be able to handle them as you see fit.\n",
    "\n",
    "#### Parsing Numbers from Strings\n",
    "This video presents a very simple example of parsing integers from scratch and shows how to use the built-in Python functionality. \n",
    "\n",
    "Let's write a function to parse an integer from a string:"
   ]
  },
  {
   "cell_type": "code",
   "execution_count": 17,
   "id": "6d1d9176",
   "metadata": {},
   "outputs": [],
   "source": [
    "# bad parser\n",
    "def my_parse_int(s):\n",
    "    output = 0\n",
    "    for c in s:\n",
    "        output = output * 10 + ord(c) - ord('0')\n",
    "        print('TEMP', output)\n",
    "    return output"
   ]
  },
  {
   "cell_type": "markdown",
   "id": "2935a1dc",
   "metadata": {},
   "source": [
    "The print statement in the loop will show how each output value is changing, as each character is read."
   ]
  },
  {
   "cell_type": "code",
   "execution_count": 18,
   "id": "f1a9a72e",
   "metadata": {},
   "outputs": [
    {
     "name": "stdout",
     "output_type": "stream",
     "text": [
      "TEMP 1\n",
      "TEMP 12\n",
      "TEMP 123\n",
      "TEMP 1234\n"
     ]
    },
    {
     "data": {
      "text/plain": [
       "1234"
      ]
     },
     "execution_count": 18,
     "metadata": {},
     "output_type": "execute_result"
    }
   ],
   "source": [
    "my_parse_int('1234')"
   ]
  },
  {
   "cell_type": "markdown",
   "id": "e8bdbbe8",
   "metadata": {},
   "source": [
    "What is this ord function?"
   ]
  },
  {
   "cell_type": "code",
   "execution_count": 19,
   "id": "37a89ca3",
   "metadata": {},
   "outputs": [
    {
     "data": {
      "text/plain": [
       "48"
      ]
     },
     "execution_count": 19,
     "metadata": {},
     "output_type": "execute_result"
    }
   ],
   "source": [
    "ord('0')"
   ]
  },
  {
   "cell_type": "code",
   "execution_count": 20,
   "id": "633f0f55",
   "metadata": {},
   "outputs": [
    {
     "data": {
      "text/plain": [
       "49"
      ]
     },
     "execution_count": 20,
     "metadata": {},
     "output_type": "execute_result"
    }
   ],
   "source": [
    "ord('1')"
   ]
  },
  {
   "cell_type": "code",
   "execution_count": 21,
   "id": "0876a7c8",
   "metadata": {},
   "outputs": [
    {
     "data": {
      "text/plain": [
       "50"
      ]
     },
     "execution_count": 21,
     "metadata": {},
     "output_type": "execute_result"
    }
   ],
   "source": [
    "ord('2')"
   ]
  },
  {
   "cell_type": "markdown",
   "id": "6e330316",
   "metadata": {},
   "source": [
    "#### Code Example: Catching Exceptions from Invalid Numbers\n",
    "In the last video, you saw that calling `int` or `float` with bad number strings would throw an exception. If this happens, your program will stop with an error unless you have arranged to do so already. Here's an example of how to do that."
   ]
  },
  {
   "cell_type": "code",
   "execution_count": 23,
   "id": "e4bc3df5",
   "metadata": {},
   "outputs": [],
   "source": [
    "def parse_int_with_default(s, default=None):\n",
    "    try:\n",
    "        return int(s)\n",
    "    except ValueError:\n",
    "        return default"
   ]
  },
  {
   "cell_type": "code",
   "execution_count": 24,
   "id": "8a63ca3c",
   "metadata": {},
   "outputs": [
    {
     "data": {
      "text/plain": [
       "3"
      ]
     },
     "execution_count": 24,
     "metadata": {},
     "output_type": "execute_result"
    }
   ],
   "source": [
    "parse_int_with_default('3')"
   ]
  },
  {
   "cell_type": "code",
   "execution_count": 25,
   "id": "0e7f5dca",
   "metadata": {},
   "outputs": [],
   "source": [
    "parse_int_with_default('abc')"
   ]
  },
  {
   "cell_type": "code",
   "execution_count": 27,
   "id": "56d31464",
   "metadata": {},
   "outputs": [
    {
     "data": {
      "text/plain": [
       "-9999"
      ]
     },
     "execution_count": 27,
     "metadata": {},
     "output_type": "execute_result"
    }
   ],
   "source": [
    "parse_int_with_default('abc', -9999)"
   ]
  },
  {
   "cell_type": "markdown",
   "id": "ae916e74",
   "metadata": {},
   "source": [
    "What default should you use? Is it better to let the exception happen and expose the bad data? That depends entirely on the context that you are working in."
   ]
  },
  {
   "cell_type": "code",
   "execution_count": 28,
   "id": "61570f25",
   "metadata": {},
   "outputs": [],
   "source": [
    "x = \"This is a test.\""
   ]
  },
  {
   "cell_type": "code",
   "execution_count": 29,
   "id": "b738b007",
   "metadata": {},
   "outputs": [
    {
     "data": {
      "text/plain": [
       "False"
      ]
     },
     "execution_count": 29,
     "metadata": {},
     "output_type": "execute_result"
    }
   ],
   "source": [
    "x.startswith(\"this\")"
   ]
  },
  {
   "cell_type": "code",
   "execution_count": 30,
   "id": "2d238daa",
   "metadata": {},
   "outputs": [
    {
     "data": {
      "text/plain": [
       "True"
      ]
     },
     "execution_count": 30,
     "metadata": {},
     "output_type": "execute_result"
    }
   ],
   "source": [
    "x == x.capitalize()"
   ]
  },
  {
   "cell_type": "code",
   "execution_count": 31,
   "id": "96926faf",
   "metadata": {},
   "outputs": [
    {
     "data": {
      "text/plain": [
       "False"
      ]
     },
     "execution_count": 31,
     "metadata": {},
     "output_type": "execute_result"
    }
   ],
   "source": [
    "x.replace(\"This\", \"test\") == \"test\""
   ]
  },
  {
   "cell_type": "code",
   "execution_count": 32,
   "id": "3336c23a",
   "metadata": {},
   "outputs": [
    {
     "data": {
      "text/plain": [
       "True"
      ]
     },
     "execution_count": 32,
     "metadata": {},
     "output_type": "execute_result"
    }
   ],
   "source": [
    "len(x.split()) == 4"
   ]
  },
  {
   "cell_type": "code",
   "execution_count": 33,
   "id": "0987f9ce",
   "metadata": {},
   "outputs": [
    {
     "data": {
      "text/plain": [
       "True"
      ]
     },
     "execution_count": 33,
     "metadata": {},
     "output_type": "execute_result"
    }
   ],
   "source": [
    "x.find(\"test\") == 10"
   ]
  },
  {
   "cell_type": "markdown",
   "id": "69175667",
   "metadata": {},
   "source": [
    "# Week 4 Topic 2: Reading and Writing Data in Files\n",
    "\n",
    "Data science projects usually involve reading and parsing data from files. Files will typically be your first source of historical data when starting a project. Even if your project ultimately pulls from production databases, you should generally start testing with a snapshot saved to a file (and seriously consider whether your project actually needs to pull from live production systems). The following lessons will give you several examples of reading and writing different kinds of files.\n",
    "\n",
    "The examples in this lesson are written with a focus on the basic functionality. Each example is followed by notes explaining new Python features or functions used in the code; please read those notes carefully. The notes will mention the most likely issues to come up from bad data, but the code will skip error checking for clarity until the later examples.\n",
    "\n",
    "#### Topic Outline\n",
    "- Reading a File\n",
    "- Reading and Writing TSV Files\n",
    "- Reading and Writing CSV Files\n",
    "- What Data Structures Should Be Used?\n",
    "- Reading and Writing JSON Files\n",
    "\n",
    "#### Think About It\n",
    "- Have you ever looked inside a CSV file saved by Microsoft Excel? Could you recognize the data?"
   ]
  },
  {
   "cell_type": "markdown",
   "id": "739c5286",
   "metadata": {},
   "source": [
    "## 4.6 Lesson: Reading a File\n",
    "\n",
    "Reading a file in Python is pretty easy using the `open` function to access local files. Later on, you'll see that many Python libraries provide \"file-like\" objects that can be used similarly to files, or that sharing the same parsing functions.\n",
    "\n",
    "For now, here are two example functions that read a file and return the file contents broken into lines:\n",
    "\n",
    "- The first reads the whole file at once and returns all the lines in a list. \n",
    "- The second reads the file incrementally and returns an iterator returning a line at a time. \n",
    "\n",
    "The former takes more memory, but can be sorted, processed multiple times, or anything else that you would do with a list. The latter requires minimal memory, and is more efficient if you just need to look at the contents once, or process the contents before storing them in a more persistent data structure. Both are reasonable bases for future development depending on your specific needs.\n",
    "\n",
    "#### Reading Lines from a File\n",
    "The following example code reads all the lines of a file at once and returns them in a list."
   ]
  },
  {
   "cell_type": "code",
   "execution_count": 34,
   "id": "e77fd9a0",
   "metadata": {},
   "outputs": [],
   "source": [
    "def read_file_at_once(filename):\n",
    "    output = []\n",
    "    with open(filename) as fp:\n",
    "        for line in fp:\n",
    "            output.append(line)\n",
    " \n",
    "    return output"
   ]
  },
  {
   "cell_type": "code",
   "execution_count": 36,
   "id": "52d42bcc",
   "metadata": {},
   "outputs": [
    {
     "data": {
      "text/plain": [
       "['Fourscore and seven years ago our fathers brought forth on this\\n',\n",
       " 'continent a new nation, conceived in liberty and dedicated to the\\n',\n",
       " 'proposition that all men are created equal.\\n',\n",
       " 'Now we are engaged in a great civil war, testing whether that nation\\n',\n",
       " 'or any nation so conceived and so dedicated can long endure. We are\\n',\n",
       " 'met on a great battle field of that war. We have come to dedicate a\\n',\n",
       " 'portion of that field, as a final resting place for those who here\\n',\n",
       " 'gave their lives that that nation might live. It is altogether\\n',\n",
       " 'fitting and proper that we should do this.\\n',\n",
       " 'But, in a larger sense, we can not dedicate - we can not consecrate\\n',\n",
       " '- we can not hallow - this ground. The brave men, living and dead,\\n',\n",
       " 'who struggled here, have consecrated it, far above our poor power to\\n',\n",
       " 'add or detract. The world will little note, nor long remember, what\\n',\n",
       " 'we say here, but it can never forget what they did here. It is for\\n',\n",
       " 'us the living, rather, to be dedicated here to the unfinished work\\n',\n",
       " 'which they who fought here have thus far so nobly advanced. It is\\n',\n",
       " 'rather for us to be here dedicated to the great task remaining\\n',\n",
       " 'before us - that from these honored dead we take increased devotion\\n',\n",
       " 'to that cause for which they gave the last full measure of devotion\\n',\n",
       " '- that we here highly resolve that these dead shall not have died in\\n',\n",
       " 'vain - that this nation, under God, shall have a new birth of\\n',\n",
       " 'freedom - and that government of the people, by the people, for the\\n',\n",
       " 'people, shall not perish from the earth.\\n']"
      ]
     },
     "execution_count": 36,
     "metadata": {},
     "output_type": "execute_result"
    }
   ],
   "source": [
    "read_file_at_once('gettysburg.txt.txt')"
   ]
  },
  {
   "cell_type": "markdown",
   "id": "39b6a69c",
   "metadata": {},
   "source": [
    "#### Code Notes\n",
    "-  This function uses a new `with` statement syntax\n",
    "     - In this case, a new variable fp is created with the result of `open(filename)` which represents the open file\n",
    "    - At the end of the `with` statement, the open file is closed automatically, even if an exception happened\n",
    "    - This \"context manager\" pattern is often used to manage resource connections, and libraries supporting context managers will give you similar examples to follow  \n",
    "- The iterator of `fp` and other file handles returns lines from the file"
   ]
  },
  {
   "cell_type": "markdown",
   "id": "56b164f3",
   "metadata": {},
   "source": [
    "#### Code Example: Reading Lines with a Generator"
   ]
  },
  {
   "cell_type": "code",
   "execution_count": 37,
   "id": "55b9b406",
   "metadata": {},
   "outputs": [],
   "source": [
    "def read_file_with_generator(filename):\n",
    "    with open(filename) as fp:\n",
    "        for line in fp:\n",
    "            yield line"
   ]
  },
  {
   "cell_type": "code",
   "execution_count": 38,
   "id": "a3f2f025",
   "metadata": {},
   "outputs": [
    {
     "data": {
      "text/plain": [
       "<generator object read_file_with_generator at 0x10d0d17b0>"
      ]
     },
     "execution_count": 38,
     "metadata": {},
     "output_type": "execute_result"
    }
   ],
   "source": [
    "read_file_with_generator('gettysburg.txt.txt')"
   ]
  },
  {
   "cell_type": "markdown",
   "id": "2d194ab1",
   "metadata": {},
   "source": [
    "#### Code Notes\n",
    "- This function uses the `yield` statement or expression. A genrator function immediately returns a \"coroutine\" which acts as an iterator. Each timne the next iterator output is requested, the coroutine runs the generator function's code until the next `yield` statement, or the function completes. All expressions \"yielded are returned as iterator output.\n",
    "\n",
    "**TLDR**: `yield` turns your function output into an iterator."
   ]
  },
  {
   "cell_type": "markdown",
   "id": "202d2c94",
   "metadata": {},
   "source": [
    "## A Whirlwind Tour of Python: Generators\n",
    "\n",
    "Here we'll take a deeper dive into Python generators, including *generator expressions* and *generator functions*\n",
    "\n",
    "### Generator Expressions:\n",
    "The difference between list comprehensions and generator expressions is sometimes confusing, but we'll outline the differences between them.\n",
    "\n",
    "#### List comprehensions use square brackets, while generator expressions use parenthesis\n",
    "\n",
    "This is a represenative list comprehension:"
   ]
  },
  {
   "cell_type": "code",
   "execution_count": 39,
   "id": "afcb2600",
   "metadata": {},
   "outputs": [
    {
     "data": {
      "text/plain": [
       "[0, 1, 4, 9, 16, 25, 36, 49, 64, 81, 100, 121]"
      ]
     },
     "execution_count": 39,
     "metadata": {},
     "output_type": "execute_result"
    }
   ],
   "source": [
    "[n ** 2 for n in range(12)]"
   ]
  },
  {
   "cell_type": "markdown",
   "id": "fe85f172",
   "metadata": {},
   "source": [
    "While this is a represenative generator expression:"
   ]
  },
  {
   "cell_type": "code",
   "execution_count": 41,
   "id": "f8de717b",
   "metadata": {},
   "outputs": [
    {
     "data": {
      "text/plain": [
       "<generator object <genexpr> at 0x10b714380>"
      ]
     },
     "execution_count": 41,
     "metadata": {},
     "output_type": "execute_result"
    }
   ],
   "source": [
    "(n ** 2 for n in range(12))"
   ]
  },
  {
   "cell_type": "markdown",
   "id": "3f1c1b7b",
   "metadata": {},
   "source": [
    "Notice that printing the generator expression does not print the contents; one way to print the contents of a generator expression is to pass it to the `list` constructor:"
   ]
  },
  {
   "cell_type": "code",
   "execution_count": 42,
   "id": "8e5637d8",
   "metadata": {},
   "outputs": [
    {
     "data": {
      "text/plain": [
       "[0, 1, 4, 9, 16, 25, 36, 49, 64, 81, 100, 121]"
      ]
     },
     "execution_count": 42,
     "metadata": {},
     "output_type": "execute_result"
    }
   ],
   "source": [
    "G = (n ** 2 for n in range (12))\n",
    "list(G)"
   ]
  },
  {
   "cell_type": "markdown",
   "id": "65ccd1c9",
   "metadata": {},
   "source": [
    "#### A list is a collection of values, while a generator is a recipe for producing values\n",
    "\n",
    "When you create a list, you are actually building a collection of values, and there is some memory cost associated with that. When you create a generator, you are not building a collection of values, but a recipe for producing those values. Both expose the same iterator interface, as we can see here:"
   ]
  },
  {
   "cell_type": "code",
   "execution_count": 43,
   "id": "b4c85f40",
   "metadata": {},
   "outputs": [
    {
     "name": "stdout",
     "output_type": "stream",
     "text": [
      "0 1 4 9 16 25 36 49 64 81 100 121 "
     ]
    }
   ],
   "source": [
    "L = [n ** 2 for n in range (12)]\n",
    "for val in L:\n",
    "    print(val, end= ' ')"
   ]
  },
  {
   "cell_type": "code",
   "execution_count": 44,
   "id": "53e562ae",
   "metadata": {},
   "outputs": [
    {
     "name": "stdout",
     "output_type": "stream",
     "text": [
      "0 1 4 9 16 25 36 49 64 81 100 121 "
     ]
    }
   ],
   "source": [
    "G = (n ** 2 for n in range (12))\n",
    "for val in G:\n",
    "    print(val, end = \" \")"
   ]
  },
  {
   "cell_type": "markdown",
   "id": "fe59ab0e",
   "metadata": {},
   "source": [
    "The difference is that a generator expression does not actually compute the values until they are needed. This not only leads to memory efficiency, but to computational efficiency as well! This also means that while the size of a list is limited by available memory, the size of a generator expression is unlimited!\n",
    "\n",
    "An example of an infinite generator expression can be created using the `count` iterator defined in `itertools`:"
   ]
  },
  {
   "cell_type": "code",
   "execution_count": 46,
   "id": "2341f367",
   "metadata": {},
   "outputs": [
    {
     "data": {
      "text/plain": [
       "count(0)"
      ]
     },
     "execution_count": 46,
     "metadata": {},
     "output_type": "execute_result"
    }
   ],
   "source": [
    "from itertools import count\n",
    "count()"
   ]
  },
  {
   "cell_type": "code",
   "execution_count": 47,
   "id": "0a7ccd8d",
   "metadata": {},
   "outputs": [
    {
     "name": "stdout",
     "output_type": "stream",
     "text": [
      "0 1 2 3 4 5 6 7 8 9 10 "
     ]
    }
   ],
   "source": [
    "for i in count():\n",
    "    print(i, end= \" \")\n",
    "    if i >= 10: break"
   ]
  },
  {
   "cell_type": "markdown",
   "id": "776930bc",
   "metadata": {},
   "source": [
    "The `count` iterator will go on happily counting forever until you tell it to stop; this makes it convenient to create generators that will also go on forever:"
   ]
  },
  {
   "cell_type": "code",
   "execution_count": 49,
   "id": "4447ba87",
   "metadata": {},
   "outputs": [
    {
     "name": "stdout",
     "output_type": "stream",
     "text": [
      "1 11 13 17 19 23 29 31 37 41 "
     ]
    }
   ],
   "source": [
    "factors = [2, 3, 5, 7]\n",
    "G = (i for i in count() if all(i % n > 0 for n in factors))\n",
    "for val in G:\n",
    "    print(val, end=\" \")\n",
    "    if val > 40: break"
   ]
  },
  {
   "cell_type": "markdown",
   "id": "a97a53e5",
   "metadata": {},
   "source": [
    "You might see what we're getting at here: if we were to expand the list of factors appropriately, what we would have the beginnings of is a prime number generator, using the Sieve of Eratosthenes algorithm. We'll explore this more momentarily."
   ]
  },
  {
   "cell_type": "markdown",
   "id": "0f506a31",
   "metadata": {},
   "source": [
    "### A list can be iterated multiple times; a generator expression is single-use\n",
    "\n",
    "This is one of those potential gotchas of generator expressions. With a list, we can straightforwardly do this:"
   ]
  },
  {
   "cell_type": "code",
   "execution_count": 50,
   "id": "148dd08f",
   "metadata": {},
   "outputs": [
    {
     "name": "stdout",
     "output_type": "stream",
     "text": [
      "0 1 4 9 16 25 36 49 64 81 100 121 \n",
      "0 1 4 9 16 25 36 49 64 81 100 121 "
     ]
    }
   ],
   "source": [
    "L = [n ** 2 for n in range(12)]\n",
    "for val in L:\n",
    "    print(val, end=\" \")\n",
    "print()\n",
    "\n",
    "for val in L:\n",
    "    print(val, end=\" \")"
   ]
  },
  {
   "cell_type": "markdown",
   "id": "0a938aa6",
   "metadata": {},
   "source": [
    "A generator expression, on the other hand, is used-up after one iteration:"
   ]
  },
  {
   "cell_type": "code",
   "execution_count": 51,
   "id": "16db95bb",
   "metadata": {},
   "outputs": [
    {
     "data": {
      "text/plain": [
       "[0, 1, 4, 9, 16, 25, 36, 49, 64, 81, 100, 121]"
      ]
     },
     "execution_count": 51,
     "metadata": {},
     "output_type": "execute_result"
    }
   ],
   "source": [
    "G = (n ** 2 for n in range(12))\n",
    "list(G)"
   ]
  },
  {
   "cell_type": "code",
   "execution_count": 52,
   "id": "d658a033",
   "metadata": {},
   "outputs": [
    {
     "data": {
      "text/plain": [
       "[]"
      ]
     },
     "execution_count": 52,
     "metadata": {},
     "output_type": "execute_result"
    }
   ],
   "source": [
    "list(G)"
   ]
  },
  {
   "cell_type": "markdown",
   "id": "453a4126",
   "metadata": {},
   "source": [
    "This can be very useful because it means iteration can be stopped and started:"
   ]
  },
  {
   "cell_type": "code",
   "execution_count": 53,
   "id": "948f5a77",
   "metadata": {},
   "outputs": [
    {
     "name": "stdout",
     "output_type": "stream",
     "text": [
      "0 1 4 9 16 25 36 \n",
      "doing something in between\n",
      "49 64 81 100 121 "
     ]
    }
   ],
   "source": [
    "G = (n**2 for n in range(12))\n",
    "for n in G:\n",
    "    print(n, end=' ')\n",
    "    if n > 30: break\n",
    "\n",
    "print(\"\\ndoing something in between\")\n",
    "\n",
    "for n in G:\n",
    "    print(n, end=' ')"
   ]
  },
  {
   "cell_type": "markdown",
   "id": "fdcab4bd",
   "metadata": {},
   "source": [
    "One place I've found this useful is when working with collections of data files on disk; it means that you can quite easily analyze them in batches, letting the generator keep track of which ones you have yet to see."
   ]
  },
  {
   "cell_type": "markdown",
   "id": "79c96a3b",
   "metadata": {},
   "source": [
    "### Generator Functions: Using `Yield`\n",
    "\n",
    "We saw in the previous section that list comprehensions are best used to create relatively simple lists, while using a normal `for` loop can be better in more complicated situations. The same is true of generator expressions: we can make more complicated generators using *generator functions*, which make use of the `yield` statement.\n",
    "\n",
    "Here we have two ways of constructing the same list:"
   ]
  },
  {
   "cell_type": "code",
   "execution_count": 54,
   "id": "73326275",
   "metadata": {},
   "outputs": [
    {
     "name": "stdout",
     "output_type": "stream",
     "text": [
      "[0, 1, 4, 9, 16, 25, 36, 49, 64, 81, 100, 121]\n",
      "[0, 1, 4, 9, 16, 25, 36, 49, 64, 81, 100, 121]\n"
     ]
    }
   ],
   "source": [
    "L1 = [n ** 2 for n in range(12)]\n",
    "\n",
    "L2 = []\n",
    "for n in range(12):\n",
    "    L2.append(n ** 2)\n",
    "\n",
    "print(L1)\n",
    "print(L2)"
   ]
  },
  {
   "cell_type": "markdown",
   "id": "bba00da1",
   "metadata": {},
   "source": [
    "Similarly, here we have two ways of constructing equivalent generators:"
   ]
  },
  {
   "cell_type": "code",
   "execution_count": 55,
   "id": "0932d5f7",
   "metadata": {},
   "outputs": [
    {
     "name": "stdout",
     "output_type": "stream",
     "text": [
      "0 1 4 9 16 25 36 49 64 81 100 121\n",
      "0 1 4 9 16 25 36 49 64 81 100 121\n"
     ]
    }
   ],
   "source": [
    "G1 = (n ** 2 for n in range(12))\n",
    "\n",
    "def gen():\n",
    "    for n in range(12):\n",
    "        yield n ** 2\n",
    "\n",
    "G2 = gen()\n",
    "print(*G1)\n",
    "print(*G2)"
   ]
  },
  {
   "cell_type": "markdown",
   "id": "30ac8d6a",
   "metadata": {},
   "source": [
    "A generator function is a function that, rather than using `return` to return a value once, uses `yield` to yield a (potentially infinite) sequence of values. Just as in generator expressions, the state of the generator is preserved between partial iterations, but if we want a fresh copy of the generator we can simply call the function again."
   ]
  },
  {
   "cell_type": "markdown",
   "id": "942de2fd",
   "metadata": {},
   "source": [
    "#### Example: Prime Number Generator\n",
    "\n",
    "Here I'll show my favorite example of a generator function: a function to generate an unbounded series of prime numbers. A classic algorithm for this is the Sieve of Eratosthenes, which works something like this:"
   ]
  },
  {
   "cell_type": "code",
   "execution_count": 56,
   "id": "353d1138",
   "metadata": {},
   "outputs": [
    {
     "name": "stdout",
     "output_type": "stream",
     "text": [
      "[2, 3, 4, 5, 6, 7, 8, 9, 10, 11, 12, 13, 14, 15, 16, 17, 18, 19, 20, 21, 22, 23, 24, 25, 26, 27, 28, 29, 30, 31, 32, 33, 34, 35, 36, 37, 38, 39]\n"
     ]
    }
   ],
   "source": [
    "# Generate a list of candidates\n",
    "L = [n for n in range(2, 40)]\n",
    "print(L)"
   ]
  },
  {
   "cell_type": "code",
   "execution_count": 57,
   "id": "157f2681",
   "metadata": {},
   "outputs": [
    {
     "name": "stdout",
     "output_type": "stream",
     "text": [
      "[2, 3, 5, 7, 9, 11, 13, 15, 17, 19, 21, 23, 25, 27, 29, 31, 33, 35, 37, 39]\n"
     ]
    }
   ],
   "source": [
    "# Remove all multiples of the first value\n",
    "L = [n for n in L if n == L[0] or n % L[0] > 0]\n",
    "print(L)"
   ]
  },
  {
   "cell_type": "code",
   "execution_count": 58,
   "id": "8c12e2a5",
   "metadata": {},
   "outputs": [
    {
     "name": "stdout",
     "output_type": "stream",
     "text": [
      "[2, 3, 5, 7, 11, 13, 17, 19, 23, 25, 29, 31, 35, 37]\n"
     ]
    }
   ],
   "source": [
    "# Remove all multiples of the second value\n",
    "L = [n for n in L if n == L[1] or n % L[1] > 0]\n",
    "print(L)"
   ]
  },
  {
   "cell_type": "code",
   "execution_count": 59,
   "id": "811685cc",
   "metadata": {},
   "outputs": [
    {
     "name": "stdout",
     "output_type": "stream",
     "text": [
      "[2, 3, 5, 7, 11, 13, 17, 19, 23, 29, 31, 37]\n"
     ]
    }
   ],
   "source": [
    "# Remove all multiples of the third value\n",
    "L = [n for n in L if n == L[2] or n % L[2] > 0]\n",
    "print(L)"
   ]
  },
  {
   "cell_type": "markdown",
   "id": "e8cc3a62",
   "metadata": {},
   "source": [
    "If we repeat this procedure enough times on a large enough list, we can generate as many primes as we wish.\n",
    "\n",
    "Let's encapsulate this logic in a generator function:"
   ]
  },
  {
   "cell_type": "code",
   "execution_count": 60,
   "id": "773344e5",
   "metadata": {},
   "outputs": [
    {
     "name": "stdout",
     "output_type": "stream",
     "text": [
      "2 3 5 7 11 13 17 19 23 29 31 37 41 43 47 53 59 61 67 71 73 79 83 89 97\n"
     ]
    }
   ],
   "source": [
    "def gen_primes(N):\n",
    "    \"\"\"Generate primes up to N\"\"\"\n",
    "    primes = set()\n",
    "    for n in range(2, N):\n",
    "        if all(n % p > 0 for p in primes):\n",
    "            primes.add(n)\n",
    "            yield n\n",
    "\n",
    "print(*gen_primes(100))"
   ]
  },
  {
   "cell_type": "markdown",
   "id": "4c0d8b00",
   "metadata": {},
   "source": [
    "That's all there is to it! While this is certainly not the most computationally efficient implementation of the Sieve of Eratosthenes, it illustrates how convenient the generator function syntax can be for building more complicated sequences."
   ]
  },
  {
   "cell_type": "markdown",
   "id": "64037cf1",
   "metadata": {},
   "source": [
    "## 4.7 Lesson: Readng and Writing TSV files:\n",
    "\n",
    "The tab-separated value (TSV) file format is a common way to share data. They are generally easy to create and parse, and have pretty broad support. Most files with the extension .tsv are TSV files. Microsoft Excel defaults to saving TSV files with the extension .txt.\n",
    "\n",
    "The idea of TSV files is simple. Each line in the file is broken up into columns by a \"tab\" character (\"\\t\" in Python and most languages). This works because most data does not naturally have embedded tabs. After reading each line, simply split it on tabs and you have the columns.\n",
    "\n",
    "Most TSV files have a header row for the first line. This header row is naturally split up by tabs, and the strings between those tabs are the column names.\n",
    "\n",
    "The following code examples read and write TSV files. They are written using generators for output, or taking in iterables for input, to emphasize the lightweight iterable-oriented style. Each of them can be easily switched to use lists if appropriate.\n",
    "\n",
    "### Code Example: Reading a TSV File\n",
    "Here is an example of reading a tab-separated file and yielding a list of values for each row. If there is a header row, it will be the first list returned."
   ]
  },
  {
   "cell_type": "code",
   "execution_count": 61,
   "id": "669a00c7",
   "metadata": {},
   "outputs": [],
   "source": [
    "def read_tsv_lists(filename):\n",
    "    with open(filename) as fp:\n",
    "        for line in fp:\n",
    "            # strip newline at end of the line\n",
    "            line = line.rstrip(\"\\n\")\n",
    "            yield line.split(\"\\t\")"
   ]
  },
  {
   "cell_type": "markdown",
   "id": "655e726c",
   "metadata": {},
   "source": [
    "#### Notes:\n",
    "- The string method `str.rstrip` removes the specified characters at the end of the line. In this case, it is being used to strip the newline character `'\\n'` marking the end of the line. Each line except the last one will end with the newline character, but it is not really data, just a separator between lines.\n",
    "- The string method `str.split` breaks up the original string and returns the pieces in a list. The original string is not actually changed.\n",
    "- Sometimes functions like this are written to return tuples of data to discourage accidental changes. This requires marginal extra code - just add `tuple()` to the `yield` statement. However, this makes changes like parsing numbers from strings more inconvenient, so its probably better to leave it as a list.\n",
    "- All the values in the returned rows will be strings. You will eventually want to convert them to other types.\n",
    "- This code is unlikely to have errors if the file exists and you can read it, but unexpected results may happen if the columns are inconsistent.\n",
    "    - This code has no checks if the number of columns in each row are the same. Usually, you should at least check if the number matches the header (first) row.\n",
    "    \n",
    "#### Code Example: Reading a TSV File into Dictionaries\n",
    "Here is another example of reading a tab-separated file with a header and yielding the contents as dictionaries. This version requires a header row in the file."
   ]
  },
  {
   "cell_type": "code",
   "execution_count": 62,
   "id": "bbf4e267",
   "metadata": {},
   "outputs": [],
   "source": [
    "def read_tsv_dictionaries(filename):\n",
    "    with open(filename) as fp:\n",
    "        def parse_ine(line):\n",
    "            return line.rstrip(\"\\n\").split(\"\\t\")\n",
    "        \n",
    "        header = parse_line(next(fp))\n",
    "        for line in fp:\n",
    "            line = parse_line(line)\n",
    "            yield dict(zip(header, line))"
   ]
  },
  {
   "cell_type": "markdown",
   "id": "489b4e87",
   "metadata": {},
   "source": [
    "#### Code Notes:\n",
    "- The nested function `parse_line` is for convenience to avoid repeating the logic for stripping newlines and splitting on tabs. It does not access any variables from the surrounding scope, but itself is scoped so only code inside the with statement can access it.\n",
    "- The header variable is a list populated by parsing the first line of the file.\n",
    "- This function uses three built-in functions that we haven't mentioned before.\n",
    "    - The built-in function `next` returns the next output from an iterator. In this case, it was the first line from the file.\n",
    "     - The built-in function `dict` takes in an iterable of pairs (sequences of length two) and populates a dictionary. The first value of each pair becomes a key, and the second value of each pair is that key's value.\n",
    "    - The built-in function `zip` takes two or more iterables, repeatedly takes a value from each, and yields a tuple of those values. The name is an analogy to zipping up a zipper - two sides are becoming paired together. In this usage, the column names in the `header` variable are being paired with the values in the `line` variable.\n",
    "- This code will raise an exception when next is called if the file is empty\n",
    "    - This means that the file does not even have a header row, and your assumptions about this being a valid data file were wrong. If you catch this exception, you should probably report which file the error, and then raise an exception again since your process is unlikely to work with this file empty.\n",
    "- If rows after the header have different numbers of values, this code will continue without an exception, but you may be surprised later since the dictionaries are not as expected\n",
    "    - If there are fewer values than expected, then the code will implicitly assume that these values should be matched to the first column names in the header, and the dictionary will be missing the later keys. You will see the `KeyError` exception when trying to access those keys.\n",
    "    - If there are more values than expected, then they will be silently dropped by the `zip` function.\n",
    "    - If you want to catch these cases, you can add an explicit length comparison `(len(header) != len(line))` and code your own response, or add `strict=True` to the `zip` call which will make it raise a `ValueError` if the lengths do not match.\n",
    "    \n",
    "#### Code Example: Writing a TSV File in Python\n",
    "Here is a function to write a simple TSV file. It takes in the target filename, a sequence of column_names for the header, and a sequence of rows of data with each row being a sequence."
   ]
  },
  {
   "cell_type": "code",
   "execution_count": 4,
   "id": "f0f65a2f",
   "metadata": {},
   "outputs": [],
   "source": [
    "def write_tsv(filename, column_names, rows):\n",
    "    with open(filename, \"w\") as fp:\n",
    "        def write_line(row):\n",
    "            fp.write(\"\\t\".join(str(v) for v in row) + \"\\n\")\n",
    " \n",
    "        write_line(column_names)\n",
    "        for row in rows:\n",
    "            write_line(row)"
   ]
  },
  {
   "cell_type": "code",
   "execution_count": 7,
   "id": "6cfbb771",
   "metadata": {},
   "outputs": [
    {
     "name": "stdout",
     "output_type": "stream",
     "text": [
      "Object `write` not found.\n"
     ]
    }
   ],
   "source": [
    ".write?"
   ]
  },
  {
   "cell_type": "markdown",
   "id": "55d832af",
   "metadata": {},
   "source": [
    "#### Code Notes:\n",
    "- This function assumes that `str` is adequate to convert all of the values to strings.\n",
    "- The nested function write_line writes one line to the file with its input row converted to strings.\n",
    "    - Unlike the previous nested function example, it uses the variable `fp` from the surrounding scope.\n",
    "    - The file object fp's method `.write` takes in a string and writes it to the file. Unlike the `print` function, it does not automatically add a new line at the end, so it needs to be explicitly included.\n",
    "- The string method `str.split` takes in a sequence of strings and joins them together separated by the original string.\n",
    "    - `\"\\t\".join([\"a\", \"b\", \"c\"])` returns `\"a+b+c\"`\n",
    "- This function could be modified to handle dictionary rows by changing the `write_line(row)` line to pass a list or generator comprehension to `write_line` to fetch the values in the right order.\n",
    "    - If you make that modification, you should \"freeze\" `column_names` as a list so that you can iterate over it multiple times."
   ]
  },
  {
   "cell_type": "markdown",
   "id": "e929b07c",
   "metadata": {},
   "source": [
    "## 4.8 Lesson: Reading and Writing CSV files & What Data Structure Should be Used When First Reading a File?\n",
    "\n",
    "The comma-separated value format, or CSV for short, is a more common file format than TSVs. Many older software systems, and Microsoft Excel in particular, used CSV files as their primary shareable file format. Like TSVs, CSVs are human readable. As you likely assumed, comma-separated value files use commas to separate values. But since commas are much more likely to appear in string data than tabs (which are invisible), CSV files use quoting and other means to distinguish commas in values and commas separating values. The details vary across software generating the files, but the Microsoft Excel dialect is close to a de facto standard.\n",
    "\n",
    "Given the complexities and variation of different CSV formats, we strongly recommend that you use Python's built-in csv library. The csv library works well with default settings, and has many options to handle the various dialects. The csv library can even handle TSV files with appropriate options, and has classes for dictionary support.\n",
    "\n",
    "https://docs.python.org/3/library/csv.html\n",
    "\n",
    "### Complicated Strings and Numbers in the CSV File Format:\n",
    "How to write different types of data to a csv file. "
   ]
  },
  {
   "cell_type": "code",
   "execution_count": 64,
   "id": "7e6246c0",
   "metadata": {},
   "outputs": [],
   "source": [
    "import csv\n",
    "with open(\"test.csv\", \"w\") as test_fp:\n",
    "    test_writer = csv.writer(test_fp)\n",
    "    test_writer.writerow([\"hi\", \"hello, and goodbye\"])"
   ]
  },
  {
   "cell_type": "markdown",
   "id": "8fb42ef0",
   "metadata": {},
   "source": [
    "This code uses `csv.writer` to get an object specialized in writing CSV files. The function has several options to change dialect in the object returned by `csv.writer` has a `writerow` method which we will use to write the data. This `writerow` method takes in a sequence of data, and the data in the sequence does not need to be a string. It will auotmatically call `str()` to convert non-string data.   "
   ]
  },
  {
   "cell_type": "code",
   "execution_count": 66,
   "id": "1b5c985b",
   "metadata": {},
   "outputs": [
    {
     "name": "stdout",
     "output_type": "stream",
     "text": [
      "hi,\"hello, and goodbye\"\n",
      "\n"
     ]
    }
   ],
   "source": [
    "with open(\"test.csv\") as test_fp:\n",
    "    for l in test_fp:\n",
    "        print(l)"
   ]
  },
  {
   "cell_type": "code",
   "execution_count": 69,
   "id": "f96b2b96",
   "metadata": {},
   "outputs": [],
   "source": [
    "def test_csv(row):\n",
    "    with open(\"test.csv\", \"w\") as test_fp:\n",
    "        test_writer = csv.writer(test_fp)\n",
    "        test_writer.writerow(row)\n",
    "    with open(\"test.csv\") as test_fp:\n",
    "        for l in test_fp:\n",
    "            print(l)"
   ]
  },
  {
   "cell_type": "code",
   "execution_count": 70,
   "id": "2ce55ece",
   "metadata": {},
   "outputs": [
    {
     "name": "stdout",
     "output_type": "stream",
     "text": [
      "hi,5,42.0,bye\n",
      "\n"
     ]
    }
   ],
   "source": [
    "test_csv(['hi', 5, 42.0, \"bye\"])"
   ]
  },
  {
   "cell_type": "code",
   "execution_count": 72,
   "id": "476278e1",
   "metadata": {},
   "outputs": [
    {
     "name": "stdout",
     "output_type": "stream",
     "text": [
      "hi,\"this is a double quote \"\" in the middle and end\"\"\",done\n",
      "\n"
     ]
    }
   ],
   "source": [
    "test_csv([\"hi\", 'this is a double quote \" in the middle and end\"', \"done\"]) #example with double quotes"
   ]
  },
  {
   "cell_type": "markdown",
   "id": "e7bd09f2",
   "metadata": {},
   "source": [
    "Two double quotes in a row is the default encoding of a double quote in a string. So if you're writing code to parse this yourself and your code was parsing the middle of a string in double quotes, it would need to peek at the next character to tell if this was a double quote inside a string, or the stringw as being closed. If there is an odd double quote left at the end, then that markes the end of the string value. "
   ]
  },
  {
   "cell_type": "code",
   "execution_count": 73,
   "id": "2d7a09ab",
   "metadata": {},
   "outputs": [
    {
     "name": "stdout",
     "output_type": "stream",
     "text": [
      "\"lots of double quotes \"\"\"\"\"\"\"\"\"\"\"\n",
      "\n"
     ]
    }
   ],
   "source": [
    "test_csv(['lots of double quotes \"\"\"\"\"'])"
   ]
  },
  {
   "cell_type": "markdown",
   "id": "ad60b35f",
   "metadata": {},
   "source": [
    "#### Code Example: Reading a CSV File with the CSV Module"
   ]
  },
  {
   "cell_type": "code",
   "execution_count": 74,
   "id": "665bdbf8",
   "metadata": {},
   "outputs": [],
   "source": [
    "import csv\n",
    "def read_csv_lists(filename):\n",
    "    with open(filename) as file:\n",
    "        reader = csv.reader(file)\n",
    "        for row in reader:\n",
    "            yield row"
   ]
  },
  {
   "cell_type": "markdown",
   "id": "2fcdc417",
   "metadata": {},
   "source": [
    "#### Code Notes:\n",
    "- If you compare this function with `read_tsv_lists` earlier, the addition of one reader object replaced stripping new lines and splitting the line into multiple values.\n",
    "    - The latter splitting functionality would have been much more complicated than the simple TSV case.\n",
    "- `csv.reader` has several options for tweaking the dialect read\n",
    "    - Any changes to the dialect options will be made in the `csv.reader` call, and the following loop will be unchanged.\n",
    "\n",
    "#### Code Example: Reading a CSV File into Dictionaries\n",
    "Here is another version of the file reading code that returns dictionaries instead of lists. Note how brief the change is; this is a common pattern that they wanted to be easy to express."
   ]
  },
  {
   "cell_type": "code",
   "execution_count": 75,
   "id": "5fe42019",
   "metadata": {},
   "outputs": [],
   "source": [
    "import csv\n",
    "def read_csv_dictionaries():\n",
    "    with open(filename) as file:\n",
    "        reader = csv.DictReader(file)\n",
    "        for row in reader:\n",
    "            yield row"
   ]
  },
  {
   "cell_type": "markdown",
   "id": "985b84f4",
   "metadata": {},
   "source": [
    "#### Code Notes:\n",
    "- The only change from the previous `read_csv` function is changing the call from `csv.reader` to `csv.DictReader`.\n",
    "- `csv.DictReader` can be similarly configured with options to read different dialects.\n",
    "#### Code Example: Reading TSV Files with the CSV Module\n",
    "Here is an example of using those options to read a TSV file using the CSV module."
   ]
  },
  {
   "cell_type": "code",
   "execution_count": 76,
   "id": "9ed5ffe1",
   "metadata": {},
   "outputs": [],
   "source": [
    "import csv\n",
    " \n",
    "def read_tsv_dictionaries_2():\n",
    "    with open(filename) as file:\n",
    "        reader = csv.DictReader(file, dialect=\"excel-tab\")\n",
    "        for row in reader:\n",
    "            yield row"
   ]
  },
  {
   "cell_type": "markdown",
   "id": "00842fef",
   "metadata": {},
   "source": [
    "#### Code Notes:\n",
    "- The only change is adding the `dialect=\"excel-tab\"` option.\n",
    "- You could also get this effect with `delimiter=\"\\t\"` since `\\t` is the tab character.\n",
    "\n",
    "but what exactly is the `excel-tab` dialect?"
   ]
  },
  {
   "cell_type": "code",
   "execution_count": 77,
   "id": "bf129c41",
   "metadata": {},
   "outputs": [
    {
     "data": {
      "text/plain": [
       "['excel', 'excel-tab', 'unix']"
      ]
     },
     "execution_count": 77,
     "metadata": {},
     "output_type": "execute_result"
    }
   ],
   "source": [
    "import csv\n",
    "csv.list_dialects()"
   ]
  },
  {
   "cell_type": "code",
   "execution_count": 79,
   "id": "5b64b731",
   "metadata": {},
   "outputs": [
    {
     "data": {
      "text/plain": [
       "<_csv.Dialect at 0x10af77c40>"
      ]
     },
     "execution_count": 79,
     "metadata": {},
     "output_type": "execute_result"
    }
   ],
   "source": [
    "dialect = csv.get_dialect('excel-tab')\n",
    "dialect"
   ]
  },
  {
   "cell_type": "code",
   "execution_count": 80,
   "id": "219f1a3b",
   "metadata": {},
   "outputs": [
    {
     "data": {
      "text/plain": [
       "['__class__',\n",
       " '__delattr__',\n",
       " '__dir__',\n",
       " '__doc__',\n",
       " '__eq__',\n",
       " '__format__',\n",
       " '__ge__',\n",
       " '__getattribute__',\n",
       " '__getstate__',\n",
       " '__gt__',\n",
       " '__hash__',\n",
       " '__init__',\n",
       " '__init_subclass__',\n",
       " '__le__',\n",
       " '__lt__',\n",
       " '__module__',\n",
       " '__ne__',\n",
       " '__new__',\n",
       " '__reduce__',\n",
       " '__reduce_ex__',\n",
       " '__repr__',\n",
       " '__setattr__',\n",
       " '__sizeof__',\n",
       " '__str__',\n",
       " '__subclasshook__',\n",
       " 'delimiter',\n",
       " 'doublequote',\n",
       " 'escapechar',\n",
       " 'lineterminator',\n",
       " 'quotechar',\n",
       " 'quoting',\n",
       " 'skipinitialspace',\n",
       " 'strict']"
      ]
     },
     "execution_count": 80,
     "metadata": {},
     "output_type": "execute_result"
    }
   ],
   "source": [
    "dir(dialect)"
   ]
  },
  {
   "cell_type": "code",
   "execution_count": 81,
   "id": "731c1678",
   "metadata": {},
   "outputs": [
    {
     "name": "stdout",
     "output_type": "stream",
     "text": [
      "delimiter '\\t'\n",
      "doublequote True\n",
      "escapechar None\n",
      "lineterminator '\\r\\n'\n",
      "quotechar '\"'\n",
      "quoting 0\n",
      "skipinitialspace False\n",
      "strict False\n"
     ]
    }
   ],
   "source": [
    "for attribute in dir(dialect):\n",
    "    if not attribute.startswith(\"_\"):\n",
    "        print(attribute, repr(getattr(dialect, attribute)))"
   ]
  },
  {
   "cell_type": "markdown",
   "id": "65fa11d5",
   "metadata": {},
   "source": [
    "#### Code Notes:\n",
    "- `csv.list_dialects` returns a list of the available dialects. `\"excel-tab\"` is included.\n",
    "- `csv.get_dialect` gives us a dialect object, but converting it into a string is not very helpful.\n",
    "- The built-in function `dir` was mentioned in week 1, but we have not used it since. It returns a list of the attributes (including methods) of an object, and is handy when trying to learn about an unfamiliar object.\n",
    "- The built-in function `getattr` returns an object's named attribute. What's an attribute? Anything you can access from the object using the dot notation. So `getattr(o, \"foo\")` is the same as `o.foo`. Here, it was used to programmatically look at an unfamiliar object where the attribute names weren't known beforehand.\n",
    "- `repr` was used for clarity since some of these attributes were non-visible characters; `repr` changed them to the backslashed expressions.\n",
    "- This dialect is a little fancier than a plain TSV file but is probably fine for most purposes.\n",
    "    - Of particular note, it supports quoting fields with double quotes and the same double doublequote behavior that we saw looking at example CSV encodings.\n",
    "    - Most of the time, these just do not come up at all.\n",
    "    - When they come up, you'll have to decide on a case by case basis whether you want this support or not.\n",
    "\n",
    "#### Code Example: Handling Different Data Types\n",
    "We will wrap up this example with a more full-featured parser that handles numeric types too. It will try to convert all fields except `\"mango_id\"` into numbers and set the value to None if the parsing fails. None will not be a good input to most modeling code, but you will have to separately decide what to do in those cases."
   ]
  },
  {
   "cell_type": "code",
   "execution_count": 82,
   "id": "187710bb",
   "metadata": {},
   "outputs": [],
   "source": [
    "import csv\n",
    " \n",
    "def read_mango_data(filename):\n",
    "    with open(filename) as file:\n",
    "        reader = csv.DictReader(file, dialect=\"excel-tab\")\n",
    "        for row in reader:\n",
    "            for column_name in row:\n",
    "                if column_name != \"mango_id\":\n",
    "                    try:\n",
    "                        row[column_name] = float(row[column_name])\n",
    "                    except:\n",
    "                        row[column_name] = None\n",
    " \n",
    "            yield row"
   ]
  },
  {
   "cell_type": "markdown",
   "id": "4e6c58e0",
   "metadata": {},
   "source": [
    "#### Code Notes:\n",
    "\n",
    "- You may want to convert individual columns instead of looping over all columns, depending on what your data looks like.\n",
    "- `float` is a reasonable default for most numeric columns, but occasionally `int` will be preferred.\n",
    "\n",
    "#### An Opinionated Take\n",
    "This video argues for using the list of dictionaries representation when first investigating a new file or source of data."
   ]
  },
  {
   "cell_type": "markdown",
   "id": "0153a92b",
   "metadata": {},
   "source": [
    "## 4.9 Lesson: Reading and Writing JSON Files\n",
    "JavaScript Object Notation, commonly known as JSON, is a popular format originally used by JavaScript as a human-readable format to transfer data between web servers and web pages in a browser. Most of the early usage helped make more interactive web pages. Since that original use case, the JSON file format has become standardized, and it is used by many application program interfaces (APIs), accepted by many databases, and generally used where flexibility is desired.\n",
    "\n",
    "Let’s look at an example."
   ]
  },
  {
   "cell_type": "code",
   "execution_count": 83,
   "id": "4fc1e9c2",
   "metadata": {},
   "outputs": [
    {
     "name": "stdout",
     "output_type": "stream",
     "text": [
      "{\"hi\": [\"this\", \"string\", \"is\", \"in\", \"a\", \"list\"], \"numbers\": [1, 2, 3, 4, 5], \"nothing\": null}\n"
     ]
    }
   ],
   "source": [
    "import json\n",
    "print(json.dumps({\"hi\": [\"this\", \"string\", \"is\", \"in\", \"a\", \"list\"], \"numbers\": [1, 2, 3, 4, 5], \"nothing\": None}))"
   ]
  },
  {
   "cell_type": "markdown",
   "id": "87d8afde",
   "metadata": {},
   "source": [
    "That example JSON data should be easy for you to interpret with your knowledge so far. In fact, this example is almost valid Python code except for the `null` at the end instead of None.\n",
    "\n",
    "JSON is not a great representation for data in data science. It takes up a lot of space and can be expensive to parse. However, it is still handy to know since it is often used for configuration files, and you may need to parse other data sources using JSON to extract the data that you want to model. Fortunately, Python has strong JSON support via the built-in json library.\n",
    "\n",
    "A particularly nice feature of JSON is that all the type information is built-in to the file format, so parsing a JSON file includes parsing all the types. A downside of JSON is that if the file is corrupted somehow, then it is difficult to recover, in contrast to TSV and CSV files where you can usually get away with just dropping the impacted lines."
   ]
  },
  {
   "cell_type": "markdown",
   "id": "dcbdf24a",
   "metadata": {},
   "source": [
    "#### Video: Reading and Writing JSON in Python\n",
    "This video gives a quick introduction to reading and writing data in the common JSON format."
   ]
  },
  {
   "cell_type": "code",
   "execution_count": 84,
   "id": "96c39307",
   "metadata": {},
   "outputs": [],
   "source": [
    "import json\n",
    "\n",
    "# let's make a JSON\n",
    "Data = {\"config\" : {\"important\": True, \"purple_factor\": 0.9, \"exceptions\": [\"brown\", \"red\"]}}"
   ]
  },
  {
   "cell_type": "markdown",
   "id": "85a16644",
   "metadata": {},
   "source": [
    "To write a file, we just open the file for writing, and call it `json.dump`"
   ]
  },
  {
   "cell_type": "code",
   "execution_count": 86,
   "id": "b62230f0",
   "metadata": {},
   "outputs": [],
   "source": [
    "with open(\"test.json\", \"w\") as file:\n",
    "    json.dump(Data, file)"
   ]
  },
  {
   "cell_type": "markdown",
   "id": "8785bc4d",
   "metadata": {},
   "source": [
    "Let's look at what that wrote out:"
   ]
  },
  {
   "cell_type": "code",
   "execution_count": 87,
   "id": "7c222a06",
   "metadata": {},
   "outputs": [
    {
     "name": "stdout",
     "output_type": "stream",
     "text": [
      "{\"config\": {\"important\": true, \"purple_factor\": 0.9, \"exceptions\": [\"brown\", \"red\"]}}\n"
     ]
    }
   ],
   "source": [
    "with open(\"test.json\") as file:\n",
    "    for line in file:\n",
    "        print(line)"
   ]
  },
  {
   "cell_type": "code",
   "execution_count": 88,
   "id": "0142093d",
   "metadata": {},
   "outputs": [
    {
     "data": {
      "text/plain": [
       "{'config': {'important': True,\n",
       "  'purple_factor': 0.9,\n",
       "  'exceptions': ['brown', 'red']}}"
      ]
     },
     "execution_count": 88,
     "metadata": {},
     "output_type": "execute_result"
    }
   ],
   "source": [
    "with open(\"test.json\") as file:\n",
    "    new_data = json.load(file)\n",
    "new_data"
   ]
  },
  {
   "cell_type": "code",
   "execution_count": 90,
   "id": "039672a7",
   "metadata": {},
   "outputs": [
    {
     "name": "stdout",
     "output_type": "stream",
     "text": [
      "{\"config\": {\"important\": true, \"purple_factor\": 0.9, \"exceptions\": [\"brown\", \"red\"]}}\n"
     ]
    }
   ],
   "source": [
    "data_json = json.dumps(Data)\n",
    "print(data_json)"
   ]
  },
  {
   "cell_type": "markdown",
   "id": "723c9ee7",
   "metadata": {},
   "source": [
    "The default string conversion used by print usually generates one long line of text for complex objects."
   ]
  },
  {
   "cell_type": "code",
   "execution_count": 91,
   "id": "71daf9d7",
   "metadata": {},
   "outputs": [
    {
     "name": "stdout",
     "output_type": "stream",
     "text": [
      "[{'x': {'hi': 'bye', 'hello': 'goodbye'}}, 0, 1, [{'weird': {'weirder': 'stuff'}}, 'some more stuff'], ['a', 'b', 'c']]\n"
     ]
    }
   ],
   "source": [
    "messy_data = [{\"x\": {\"hi\": \"bye\", \"hello\": \"goodbye\"}}, 0, 1, [{\"weird\": {\"weirder\": \"stuff\"}}, \"some more stuff\"], [\"a\", \"b\", \"c\"]]\n",
    "print(messy_data)"
   ]
  },
  {
   "cell_type": "markdown",
   "id": "5be78b5e",
   "metadata": {},
   "source": [
    "If you just use `json.dumps`, then the output is pretty similar to Python's default conversion to strings. In this case, most of the change is just changing the quotes to double quotes."
   ]
  },
  {
   "cell_type": "code",
   "execution_count": 92,
   "id": "7ad77bf4",
   "metadata": {},
   "outputs": [
    {
     "name": "stdout",
     "output_type": "stream",
     "text": [
      "[{\"x\": {\"hi\": \"bye\", \"hello\": \"goodbye\"}}, 0, 1, [{\"weird\": {\"weirder\": \"stuff\"}}, \"some more stuff\"], [\"a\", \"b\", \"c\"]]\n"
     ]
    }
   ],
   "source": [
    "import json\n",
    "print(json.dumps(messy_data))"
   ]
  },
  {
   "cell_type": "markdown",
   "id": "f7371376",
   "metadata": {},
   "source": [
    "But if you add the `indent=2` option, then it will add new lines and indentation to the output, and you'll be able to see the structure of the object much better."
   ]
  },
  {
   "cell_type": "code",
   "execution_count": 93,
   "id": "10bab993",
   "metadata": {},
   "outputs": [
    {
     "name": "stdout",
     "output_type": "stream",
     "text": [
      "[\n",
      "  {\n",
      "    \"x\": {\n",
      "      \"hi\": \"bye\",\n",
      "      \"hello\": \"goodbye\"\n",
      "    }\n",
      "  },\n",
      "  0,\n",
      "  1,\n",
      "  [\n",
      "    {\n",
      "      \"weird\": {\n",
      "        \"weirder\": \"stuff\"\n",
      "      }\n",
      "    },\n",
      "    \"some more stuff\"\n",
      "  ],\n",
      "  [\n",
      "    \"a\",\n",
      "    \"b\",\n",
      "    \"c\"\n",
      "  ]\n",
      "]\n"
     ]
    }
   ],
   "source": [
    "print(json.dumps(messy_data, indent=2))"
   ]
  },
  {
   "cell_type": "markdown",
   "id": "6a20902c",
   "metadata": {},
   "source": [
    "**Table: JSON Functions in Python** | The following functions are in the JSON module cover most usage.\n",
    "| function name | description |\n",
    "| :--- | :--- |\n",
    "| `dump` | write the input object to a file-like object as JSON. |\n",
    "| `dumps` | Return the input object encoded as JSON string. |\n",
    "| `load` | Reads the contents ofa file-like object, parses it as JSON, and returns the resulting object. |\n",
    "| `loads` | Reads the contents of a string as JSON and returns the file. |"
   ]
  },
  {
   "cell_type": "code",
   "execution_count": 100,
   "id": "805ee637",
   "metadata": {
    "collapsed": true
   },
   "outputs": [
    {
     "ename": "FileNotFoundError",
     "evalue": "[Errno 2] No such file or directory: 'output.json'",
     "output_type": "error",
     "traceback": [
      "\u001b[0;31m---------------------------------------------------------------------------\u001b[0m",
      "\u001b[0;31mFileNotFoundError\u001b[0m                         Traceback (most recent call last)",
      "Cell \u001b[0;32mIn[100], line 2\u001b[0m\n\u001b[1;32m      1\u001b[0m \u001b[38;5;66;03m#json.dump\u001b[39;00m\n\u001b[0;32m----> 2\u001b[0m \u001b[38;5;28;01mwith\u001b[39;00m \u001b[38;5;28mopen\u001b[39m(\u001b[38;5;124m\"\u001b[39m\u001b[38;5;124moutput.json\u001b[39m\u001b[38;5;124m\"\u001b[39m) \u001b[38;5;28;01mas\u001b[39;00m fp:\n\u001b[1;32m      3\u001b[0m     json\u001b[38;5;241m.\u001b[39mdump([{\u001b[38;5;124m\"\u001b[39m\u001b[38;5;124mhi\u001b[39m\u001b[38;5;124m\"\u001b[39m : \u001b[38;5;124m\"\u001b[39m\u001b[38;5;124mbye\u001b[39m\u001b[38;5;124m\"\u001b[39m}], fp)\n",
      "File \u001b[0;32m/opt/anaconda3/lib/python3.11/site-packages/IPython/core/interactiveshell.py:310\u001b[0m, in \u001b[0;36m_modified_open\u001b[0;34m(file, *args, **kwargs)\u001b[0m\n\u001b[1;32m    303\u001b[0m \u001b[38;5;28;01mif\u001b[39;00m file \u001b[38;5;129;01min\u001b[39;00m {\u001b[38;5;241m0\u001b[39m, \u001b[38;5;241m1\u001b[39m, \u001b[38;5;241m2\u001b[39m}:\n\u001b[1;32m    304\u001b[0m     \u001b[38;5;28;01mraise\u001b[39;00m \u001b[38;5;167;01mValueError\u001b[39;00m(\n\u001b[1;32m    305\u001b[0m         \u001b[38;5;124mf\u001b[39m\u001b[38;5;124m\"\u001b[39m\u001b[38;5;124mIPython won\u001b[39m\u001b[38;5;124m'\u001b[39m\u001b[38;5;124mt let you open fd=\u001b[39m\u001b[38;5;132;01m{\u001b[39;00mfile\u001b[38;5;132;01m}\u001b[39;00m\u001b[38;5;124m by default \u001b[39m\u001b[38;5;124m\"\u001b[39m\n\u001b[1;32m    306\u001b[0m         \u001b[38;5;124m\"\u001b[39m\u001b[38;5;124mas it is likely to crash IPython. If you know what you are doing, \u001b[39m\u001b[38;5;124m\"\u001b[39m\n\u001b[1;32m    307\u001b[0m         \u001b[38;5;124m\"\u001b[39m\u001b[38;5;124myou can use builtins\u001b[39m\u001b[38;5;124m'\u001b[39m\u001b[38;5;124m open.\u001b[39m\u001b[38;5;124m\"\u001b[39m\n\u001b[1;32m    308\u001b[0m     )\n\u001b[0;32m--> 310\u001b[0m \u001b[38;5;28;01mreturn\u001b[39;00m io_open(file, \u001b[38;5;241m*\u001b[39margs, \u001b[38;5;241m*\u001b[39m\u001b[38;5;241m*\u001b[39mkwargs)\n",
      "\u001b[0;31mFileNotFoundError\u001b[0m: [Errno 2] No such file or directory: 'output.json'"
     ]
    }
   ],
   "source": [
    "#json.dump\n",
    "with open(\"output.json\") as fp:\n",
    "    dump([{\"hi\" : \"bye\"}], fp)"
   ]
  },
  {
   "cell_type": "code",
   "execution_count": 99,
   "id": "06be5682",
   "metadata": {},
   "outputs": [
    {
     "data": {
      "text/plain": [
       "'[{\"hi\": \"bye\"}]'"
      ]
     },
     "execution_count": 99,
     "metadata": {},
     "output_type": "execute_result"
    }
   ],
   "source": [
    "#json.dumps\n",
    "output = json.dumps([{\"hi\" : \"bye\"}])\n",
    "output"
   ]
  },
  {
   "cell_type": "code",
   "execution_count": 101,
   "id": "04b067cb",
   "metadata": {
    "collapsed": true
   },
   "outputs": [
    {
     "ename": "FileNotFoundError",
     "evalue": "[Errno 2] No such file or directory: 'input.json'",
     "output_type": "error",
     "traceback": [
      "\u001b[0;31m---------------------------------------------------------------------------\u001b[0m",
      "\u001b[0;31mFileNotFoundError\u001b[0m                         Traceback (most recent call last)",
      "Cell \u001b[0;32mIn[101], line 2\u001b[0m\n\u001b[1;32m      1\u001b[0m \u001b[38;5;66;03m#json.load\u001b[39;00m\n\u001b[0;32m----> 2\u001b[0m \u001b[38;5;28;01mwith\u001b[39;00m \u001b[38;5;28mopen\u001b[39m(\u001b[38;5;124m\"\u001b[39m\u001b[38;5;124minput.json\u001b[39m\u001b[38;5;124m\"\u001b[39m) \u001b[38;5;28;01mas\u001b[39;00m fp:\n\u001b[1;32m      3\u001b[0m     input_data \u001b[38;5;241m=\u001b[39m load(fp)\n",
      "File \u001b[0;32m/opt/anaconda3/lib/python3.11/site-packages/IPython/core/interactiveshell.py:310\u001b[0m, in \u001b[0;36m_modified_open\u001b[0;34m(file, *args, **kwargs)\u001b[0m\n\u001b[1;32m    303\u001b[0m \u001b[38;5;28;01mif\u001b[39;00m file \u001b[38;5;129;01min\u001b[39;00m {\u001b[38;5;241m0\u001b[39m, \u001b[38;5;241m1\u001b[39m, \u001b[38;5;241m2\u001b[39m}:\n\u001b[1;32m    304\u001b[0m     \u001b[38;5;28;01mraise\u001b[39;00m \u001b[38;5;167;01mValueError\u001b[39;00m(\n\u001b[1;32m    305\u001b[0m         \u001b[38;5;124mf\u001b[39m\u001b[38;5;124m\"\u001b[39m\u001b[38;5;124mIPython won\u001b[39m\u001b[38;5;124m'\u001b[39m\u001b[38;5;124mt let you open fd=\u001b[39m\u001b[38;5;132;01m{\u001b[39;00mfile\u001b[38;5;132;01m}\u001b[39;00m\u001b[38;5;124m by default \u001b[39m\u001b[38;5;124m\"\u001b[39m\n\u001b[1;32m    306\u001b[0m         \u001b[38;5;124m\"\u001b[39m\u001b[38;5;124mas it is likely to crash IPython. If you know what you are doing, \u001b[39m\u001b[38;5;124m\"\u001b[39m\n\u001b[1;32m    307\u001b[0m         \u001b[38;5;124m\"\u001b[39m\u001b[38;5;124myou can use builtins\u001b[39m\u001b[38;5;124m'\u001b[39m\u001b[38;5;124m open.\u001b[39m\u001b[38;5;124m\"\u001b[39m\n\u001b[1;32m    308\u001b[0m     )\n\u001b[0;32m--> 310\u001b[0m \u001b[38;5;28;01mreturn\u001b[39;00m io_open(file, \u001b[38;5;241m*\u001b[39margs, \u001b[38;5;241m*\u001b[39m\u001b[38;5;241m*\u001b[39mkwargs)\n",
      "\u001b[0;31mFileNotFoundError\u001b[0m: [Errno 2] No such file or directory: 'input.json'"
     ]
    }
   ],
   "source": [
    "#json.load\n",
    "with open(\"input.json\") as fp:\n",
    "    input_data = load(fp)"
   ]
  },
  {
   "cell_type": "code",
   "execution_count": 105,
   "id": "6e7277f5",
   "metadata": {},
   "outputs": [
    {
     "data": {
      "text/plain": [
       "[{'hi': 'bye'}]"
      ]
     },
     "execution_count": 105,
     "metadata": {},
     "output_type": "execute_result"
    }
   ],
   "source": [
    "#json.loads\n",
    "input_data = json.loads(output)\n",
    "input_data"
   ]
  },
  {
   "cell_type": "code",
   "execution_count": null,
   "id": "94f807a2",
   "metadata": {},
   "outputs": [],
   "source": []
  }
 ],
 "metadata": {
  "kernelspec": {
   "display_name": "Python 3 (ipykernel)",
   "language": "python",
   "name": "python3"
  },
  "language_info": {
   "codemirror_mode": {
    "name": "ipython",
    "version": 3
   },
   "file_extension": ".py",
   "mimetype": "text/x-python",
   "name": "python",
   "nbconvert_exporter": "python",
   "pygments_lexer": "ipython3",
   "version": "3.11.7"
  }
 },
 "nbformat": 4,
 "nbformat_minor": 5
}
