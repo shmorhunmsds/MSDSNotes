{
 "cells": [
  {
   "cell_type": "markdown",
   "id": "8ea886b9",
   "metadata": {},
   "source": [
    "# Week 6 Overview\n",
    "This week, we will start learning NumPy, a Python package known for its efficient multidimensional arrays and library of functions. We will start with motivating the use of efficient array representations, and then demonstrate how NumPy provides those benefits. We will survey basic NumPy functionality for fast computation with lots of numbers, and wrap up with loading and saving data so we can use it for existing datasets. Next week, we will dig in on some of NumPy's more advanced, but tricky, features that enable its high performance when used judiciously.\n",
    "\n",
    "### Learning Objectives\n",
    "By the end of this week, you should be able to:\n",
    "- Explain why specialized numeric arrays are useful\n",
    "- Create and populate a NumPy array\n",
    "- Read a NumPy array from a file\n",
    "- Test whether a module is installed in the current environment\n",
    "- Find NumPy documentation for a given function\n",
    "### Think About It\n",
    "- How often do you repeat a task before trying to streamline it?\n",
    "- If you just learned a pattern, do you tend to see it more often?\n",
    "- Would you gain more from making your simplest tasks twice as fast or your hardest tasks twice as fast? Which do you spend more time on?\n",
    "\n",
    "## Introduction to Numpy\n",
    "NumPy is a Python package providing efficient multidimensional arrays and a vast library of functions to compute efficiently with them. According to creator Travis Oliphant, the name NumPy comes from Numerical Python since it was developed to provide numerical arrays for SciPy, which he also created. We will be using NumPy's arrays to efficiently store, analyze, and model data. In addition, pandas and scikit-learn, which we will cover later in this module, are built on top of NumPy.\n",
    "\n",
    "### From the Numpy Documentation (version 1.26)\n",
    "NumPy is the fundamental package for scientific computing in Python. It is a Python library that provides a multidimensional array object, various derived objects (such as masked arrays and matrices), and an assortment of routines for fast operations on arrays, including mathematical, logical, shape manipulation, sorting, selecting, I/O, discrete Fourier transforms, basic linear algebra, basic statistical operations, random simulation and much more.\n",
    "\n",
    "NumPy is best known for its efficient number arrays, which are a de facto standard interface for data science. Deep learning libraries such as Keras, TensorFlow, and PyTorch all directly support converting to and from NumPy arrays and make special efforts to work efficiently and share memory with NumPy. The recent Keras 3 release (fall 2023) included full NumPy API compatibility as one of its features."
   ]
  },
  {
   "cell_type": "markdown",
   "id": "e8a0463f",
   "metadata": {},
   "source": [
    "## Lesson 6.2: Why Arrays?\n",
    "Why do we use arrays?\n",
    "1. They are a convenient way to work with lots of numbers, and match up with matrices in math.\n",
    "2. Large arrays use less memory than corresponding Python lists.\n",
    "3. Large arrays can be processed faster than corresponding Python lists.\n",
    "\n",
    "The second and third reasons specify large arrays. For small arrays, array overhead might be slightly more than Python lists. If some of your usage will be large arrays, it usually makes sense to handle all of it with arrays instead of writing it twice. The large arrays will be a lot faster, and the small arrays will be almost as fast in most cases. Conveniently, most NumPy functions will accept lists of numbers and automatically convert them to arrays, which will make it easy for you to write functions for NumPy arrays and support lists of numbers too.\n",
    "\n",
    "### Definition: Array\n",
    "A k-dimensional array is a data structure holding a fixed number of th eelements of the same type whose access is determined by the array's shape.\n",
    "- The array's shape is a tuple of k non-negative integers, $(l_0,\\dots,l_{k} -1)$. An array of this shape may be referred to as an $(l_0,\\dots,l_{k} -1)$, reading the x as \"by\". Each entry in the shape determines the length of that array along the corresponding axis.\n",
    "- Indexes into the array are tuples of k integers bounded by the corresponding entry in the shape. For index $(i_0, \\dots, i_k-1)$, the bounds are $-l_j \\leq i_j < l_k - 1$. (Negative indexes count from the end of the axis. We will rarely use them.) The tuple parentheses can be omitted for brevity when indexing an array.\n",
    "- The number of elements in the array is the product of the shape.\n",
    "\n",
    "What does that mean?\n",
    "- A 0-dimensional array is just a single value.\n",
    "- A 1-dimensional array is like a list of numbers, but the numbers must all be the same type, and the length of the list is fixed.\n",
    "- A 2-dimensional array is like a fixed length list of 1-dimensional arrays, all of the same type and length, and is indexed by a pair of integer. The first integer selects one of the 1-dimensional arrays, and the second selects a number in that 1-dimensional arrays.\n",
    "- Higher dimensional arrays similarly behave like a 1-dimensional array of arrays with dimension one lower, all sharing the same type and shape.\n",
    "- The last point about sharing type and shape is crucial. This limitation distinguishes arrays from lists which may contain different types, and allows contained lists to have any length.\n",
    "- Here are some visualizations of the indexes of low dimensional arrays, each assuming array x with shape set to all fives.\n",
    "\n"
   ]
  },
  {
   "cell_type": "code",
   "execution_count": 238,
   "id": "70355501",
   "metadata": {},
   "outputs": [
    {
     "data": {
      "text/plain": [
       "array([], dtype=float64)"
      ]
     },
     "execution_count": 238,
     "metadata": {},
     "output_type": "execute_result"
    }
   ],
   "source": [
    "# 0-dimensional\n",
    "import numpy as np\n",
    "x = []\n",
    "x = np.array(x)\n",
    "x"
   ]
  },
  {
   "cell_type": "code",
   "execution_count": 239,
   "id": "33497e49",
   "metadata": {},
   "outputs": [
    {
     "name": "stdout",
     "output_type": "stream",
     "text": [
      "['x[0]']\n",
      "['x[1]']\n",
      "['x[2]']\n",
      "['x[3]']\n",
      "['x[4]']\n"
     ]
    }
   ],
   "source": [
    "# 1-dimensional\n",
    "rows, cols = 5,1\n",
    "array = np.empty((rows, cols), dtype=object)\n",
    "for i in range(rows):\n",
    "    for j in range(cols):\n",
    "        array[i, j] = f'x[{i}]'\n",
    "for row in array:\n",
    "    print(row)"
   ]
  },
  {
   "cell_type": "code",
   "execution_count": 240,
   "id": "d32530ef",
   "metadata": {},
   "outputs": [
    {
     "name": "stdout",
     "output_type": "stream",
     "text": [
      "['x[0, 0]' 'x[0, 1]' 'x[0, 2]' 'x[0, 3]' 'x[0, 4]']\n",
      "['x[1, 0]' 'x[1, 1]' 'x[1, 2]' 'x[1, 3]' 'x[1, 4]']\n",
      "['x[2, 0]' 'x[2, 1]' 'x[2, 2]' 'x[2, 3]' 'x[2, 4]']\n",
      "['x[3, 0]' 'x[3, 1]' 'x[3, 2]' 'x[3, 3]' 'x[3, 4]']\n",
      "['x[4, 0]' 'x[4, 1]' 'x[4, 2]' 'x[4, 3]' 'x[4, 4]']\n"
     ]
    }
   ],
   "source": [
    "# 2-Dimensional\n",
    "rows, cols = 5,5\n",
    "array = np.empty((rows, cols), dtype=object)\n",
    "for i in range(rows):\n",
    "    for j in range(cols):\n",
    "        array[i, j] = f'x[{i}, {j}]'\n",
    "for row in array:\n",
    "    print(row)"
   ]
  },
  {
   "cell_type": "markdown",
   "id": "3247200e",
   "metadata": {},
   "source": [
    "If you are taking or have taken Module 1: Mathematical Foundations of Data Science, this should look similar to the matrix notation used there, except using brackets instead of subscripts. For two dimensional arrays, we typically use the first axis to specify a row and the second axis to specify a column. The first index specifies a row number counting from the top, and the second index specifies a column number counting from the left.\n",
    "\n",
    "So what do we get from the rigidity of arrays compared to Python's flexible lists?\n",
    "\n",
    "1. Type information needs to be stored just once and can be shared across values.\n",
    "2. All the values can be packed tightly together using less space.\n",
    "3. Individual values can be accessed directly instead of navigating through multiple lists.\n",
    "\n",
    "Points one and two combine to mean that large arrays are a lot more size efficient. In week one, we saw that a 64 bit floating point number, which should take 8 bytes, actually took 24 bytes, a factor of 3 overhead. If we add the overhead of a Python list containing those numbers, the overhead increases to a factor of 4. What about an array containing the same numbers? The array overhead is barely over 1. (The video at the end of this lesson will show you the details.)\n",
    "\n",
    "If you store many floating point values in a Python list, it will take four times more memory than using a NumPy array. Does that matter? Yes! For most computations, this means reading and writing four times more memory and running four times longer. The details vary - a computation doing a lot of work on each value will be affected less, while computations that spill over important thresholds (e.g. no longer fitting in RAM) will be affected more. But the bottom line is that a Python list is not very efficient if you are working with many numbers at once.\n",
    "\n",
    "After cutting the 4x memory overhead, is there any more improvement from arrays? Yes, there is more improvement from cutting Python's computation overhead too. NumPy has a whole library of fast routines that are heavily optimized for NumPy's array layouts, and taking advantage of point three above. The details vary, but it is common to see claims of five to ten times speed improvements for large arrays, and even a hundred times is occasionally mentioned. Let's be frank - your code is unlikely to run a hundred times faster just from switching to NumPy, but five to ten times should not be surprising.\n",
    "\n",
    "Your mileage may vary, and beware that these claims are for thousands or millions of numbers. You should expect a slowdown if you use NumPy to calculate with one or two numbers."
   ]
  },
  {
   "cell_type": "markdown",
   "id": "fb808ee4",
   "metadata": {},
   "source": [
    "## Comparing Memory Usage of NumPy Arrays vs Python Lists\n",
    "This video compares the memory usage of NumPy arrays and Python lists and exactly quantifies the differences in space usage.\n",
    "\n",
    "At the beginning of this module, we saw that current 64-bit floating numbers which should take 8 bytes are actually taking 24 bytes."
   ]
  },
  {
   "cell_type": "code",
   "execution_count": 241,
   "id": "2349b8d2",
   "metadata": {},
   "outputs": [],
   "source": [
    "import sys"
   ]
  },
  {
   "cell_type": "code",
   "execution_count": 242,
   "id": "6efeeed1",
   "metadata": {},
   "outputs": [
    {
     "data": {
      "text/plain": [
       "24"
      ]
     },
     "execution_count": 242,
     "metadata": {},
     "output_type": "execute_result"
    }
   ],
   "source": [
    "sys.getsizeof(3.0)"
   ]
  },
  {
   "cell_type": "markdown",
   "id": "a0812d1c",
   "metadata": {},
   "source": [
    "What if we converted that to numpy?"
   ]
  },
  {
   "cell_type": "code",
   "execution_count": 243,
   "id": "2ce18ccd",
   "metadata": {},
   "outputs": [
    {
     "data": {
      "text/plain": [
       "104"
      ]
     },
     "execution_count": 243,
     "metadata": {},
     "output_type": "execute_result"
    }
   ],
   "source": [
    "import numpy as np\n",
    "x = np.array(3.0)\n",
    "sys.getsizeof(x)"
   ]
  },
  {
   "cell_type": "markdown",
   "id": "2eef0e2e",
   "metadata": {},
   "source": [
    "Numpy is not the most efficient way to handle individual numbers. That is 13x overhead. Let's look at a bigger array:"
   ]
  },
  {
   "cell_type": "code",
   "execution_count": 244,
   "id": "52928df5",
   "metadata": {},
   "outputs": [
    {
     "data": {
      "text/plain": [
       "8000112"
      ]
     },
     "execution_count": 244,
     "metadata": {},
     "output_type": "execute_result"
    }
   ],
   "source": [
    "test_array = np.arange(1_000_000, dtype=np.float64)\n",
    "sys.getsizeof(test_array)"
   ]
  },
  {
   "cell_type": "markdown",
   "id": "493b9a82",
   "metadata": {},
   "source": [
    "That test array just created has 1 million numbers, counting up from 0 like the range function. The `dtype` parameter is to be explicit about what type of array we are making, so we can be 100% certain, since each of those values take 8 bytes, the minimum place to store them is 8 million bytes, with 112 bytes of overhead."
   ]
  },
  {
   "cell_type": "markdown",
   "id": "1ab2cc33",
   "metadata": {},
   "source": [
    "Let's try a regular list:"
   ]
  },
  {
   "cell_type": "code",
   "execution_count": 245,
   "id": "c4fdc64e",
   "metadata": {},
   "outputs": [
    {
     "data": {
      "text/plain": [
       "8448728"
      ]
     },
     "execution_count": 245,
     "metadata": {},
     "output_type": "execute_result"
    }
   ],
   "source": [
    "test_list = [float(v) for v in range(1_000_000)]\n",
    "sys.getsizeof(test_list)"
   ]
  },
  {
   "cell_type": "markdown",
   "id": "089f0331",
   "metadata": {},
   "source": [
    "That's about 6% bigger than the numpy array, but that does not include all of the numbers in the list. Only the memory consumption directly attributed to the python object is accounted for, not the memory consumption of the object it refers to, so it does not contain the size of the objects in the underlying list."
   ]
  },
  {
   "cell_type": "code",
   "execution_count": 246,
   "id": "d140d9a2",
   "metadata": {},
   "outputs": [
    {
     "data": {
      "text/plain": [
       "32448728"
      ]
     },
     "execution_count": 246,
     "metadata": {},
     "output_type": "execute_result"
    }
   ],
   "source": [
    "sys.getsizeof(test_list) + sum(sys.getsizeof(v) for v in test_list)"
   ]
  },
  {
   "cell_type": "markdown",
   "id": "8441ebae",
   "metadata": {},
   "source": [
    "So storing the same numbers actually takes about 4 times as much space with a python list compared to a numpy array."
   ]
  },
  {
   "cell_type": "markdown",
   "id": "a24b48de",
   "metadata": {},
   "source": [
    "Python Data Science Handbook, Chapter 2.0, Introduction to NumPy. This chapter further motivates NumPy and gives other example applications.\n",
    "\n",
    "This chapter, along with chapter 3, outlines techniques for effectively loading, storing, and manipulating in-memory data in Python. The topic is very broad: datasets can come from a wide range of sources and a wide range of formats, including be collections of documents, collections of images, collections of sound clips, collections of numerical measurements, or nearly anything else. Despite this apparent heterogeneity, it will help us to think of all data fundamentally as arrays of numbers.\n",
    "\n",
    "For example, images–particularly digital images–can be thought of as simply two-dimensional arrays of numbers representing pixel brightness across the area. Sound clips can be thought of as one-dimensional arrays of intensity versus time. Text can be converted in various ways into numerical representations, perhaps binary digits representing the frequency of certain words or pairs of words. No matter what the data are, the first step in making it analyzable will be to transform them into arrays of numbers. (We will discuss some specific examples of this process later in Feature Engineering)\n",
    "\n",
    "For this reason, efficient storage and manipulation of numerical arrays is absolutely fundamental to the process of doing data science. We'll now take a look at the specialized tools that Python has for handling such numerical arrays: the NumPy package, and the Pandas package (discussed in Chapter 3).\n",
    "\n",
    "This chapter will cover NumPy in detail. NumPy (short for Numerical Python) provides an efficient interface to store and operate on dense data buffers. In some ways, NumPy arrays are like Python's built-in list type, but NumPy arrays provide much more efficient storage and data operations as the arrays grow larger in size. NumPy arrays form the core of nearly the entire ecosystem of data science tools in Python, so time spent learning to use NumPy effectively will be valuable no matter what aspect of data science interests you."
   ]
  },
  {
   "cell_type": "markdown",
   "id": "75121ef2",
   "metadata": {},
   "source": [
    "### A python list is more than just a list\n",
    "Let's consider now what happens when we use a Python data structure that holds many Python objects. The standard mutable multi-element container in Python is the list. We can create a list of integers as follows:"
   ]
  },
  {
   "cell_type": "code",
   "execution_count": 247,
   "id": "79232a04",
   "metadata": {},
   "outputs": [
    {
     "data": {
      "text/plain": [
       "[0, 1, 2, 3, 4, 5, 6, 7, 8, 9]"
      ]
     },
     "execution_count": 247,
     "metadata": {},
     "output_type": "execute_result"
    }
   ],
   "source": [
    "L = list(range(10))\n",
    "L"
   ]
  },
  {
   "cell_type": "code",
   "execution_count": 248,
   "id": "34b43206",
   "metadata": {},
   "outputs": [
    {
     "data": {
      "text/plain": [
       "int"
      ]
     },
     "execution_count": 248,
     "metadata": {},
     "output_type": "execute_result"
    }
   ],
   "source": [
    "type(L[0])"
   ]
  },
  {
   "cell_type": "markdown",
   "id": "6a0cff6d",
   "metadata": {},
   "source": [
    "Or similarly, a list of strings"
   ]
  },
  {
   "cell_type": "code",
   "execution_count": 249,
   "id": "f6ce804c",
   "metadata": {},
   "outputs": [
    {
     "data": {
      "text/plain": [
       "['0', '1', '2', '3', '4', '5', '6', '7', '8', '9']"
      ]
     },
     "execution_count": 249,
     "metadata": {},
     "output_type": "execute_result"
    }
   ],
   "source": [
    "L2 = [str(c) for c in L]\n",
    "L2"
   ]
  },
  {
   "cell_type": "code",
   "execution_count": 250,
   "id": "3602dc7c",
   "metadata": {},
   "outputs": [
    {
     "data": {
      "text/plain": [
       "str"
      ]
     },
     "execution_count": 250,
     "metadata": {},
     "output_type": "execute_result"
    }
   ],
   "source": [
    "type(L2[0])"
   ]
  },
  {
   "cell_type": "markdown",
   "id": "39aa6f3e",
   "metadata": {},
   "source": [
    "Because of Python's dynamic typing, we can even create heterogeneous lists:"
   ]
  },
  {
   "cell_type": "code",
   "execution_count": 251,
   "id": "51b26ca5",
   "metadata": {},
   "outputs": [
    {
     "data": {
      "text/plain": [
       "[bool, str, float, int]"
      ]
     },
     "execution_count": 251,
     "metadata": {},
     "output_type": "execute_result"
    }
   ],
   "source": [
    "L3 = [True, \"2\", 3.0, 4]\n",
    "[type(item) for item in L3]"
   ]
  },
  {
   "attachments": {
    "image.png": {
     "image/png": "[encoded data removed]"
    }
   },
   "cell_type": "markdown",
   "id": "f3f56b4c",
   "metadata": {},
   "source": [
    "But this flexibility comes at a cost: to allow these flexible types, each item in the list must contain its own type info, reference count, and other information–that is, each item is a complete Python object. In the special case that all variables are of the same type, much of this information is redundant: it can be much more efficient to store data in a fixed-type array. The difference between a dynamic-type list and a fixed-type (NumPy-style) array is illustrated in the following figure:\n",
    "\n",
    "![image.png](attachment:image.png)\n",
    "\n",
    "At the implementation level, the array essentially contains a single pointer to one contiguous block of data. The Python list, on the other hand, contains a pointer to a block of pointers, each of which in turn points to a full Python object like the Python integer we saw earlier. Again, the advantage of the list is flexibility: because each list element is a full structure containing both data and type information, the list can be filled with data of any desired type. Fixed-type NumPy-style arrays lack this flexibility, but are much more efficient for storing and manipulating data."
   ]
  },
  {
   "cell_type": "markdown",
   "id": "d2fda69d",
   "metadata": {},
   "source": [
    "## Fixed-Type Arrays in Python\n",
    "Python offers several different options for storing data in efficient, fixed-type data buffers. The built-in `array` module (available since Python 3.3) can be used to create dense arrays of a uniform type:"
   ]
  },
  {
   "cell_type": "code",
   "execution_count": 252,
   "id": "cf89b098",
   "metadata": {},
   "outputs": [
    {
     "data": {
      "text/plain": [
       "array('i', [0, 1, 2, 3, 4, 5, 6, 7, 8, 9])"
      ]
     },
     "execution_count": 252,
     "metadata": {},
     "output_type": "execute_result"
    }
   ],
   "source": [
    "import array\n",
    "L = list(range(10))\n",
    "A = array.array('i', L)\n",
    "A"
   ]
  },
  {
   "cell_type": "markdown",
   "id": "3b0c56e5",
   "metadata": {},
   "source": [
    "Here `'i'` is a type code indicating the contents are integers.\n",
    "\n",
    "Much more useful, however, is the `ndarray` object of the NumPy package. While Python's `array` object provides efficient storage of array-based data, NumPy adds to this efficient *operations* on that data. We will explore these operations in later sections; here we'll demonstrate several ways of creating a NumPy array.\n",
    "\n",
    "We'll start with the standard NumPy import, under the alias `np`:"
   ]
  },
  {
   "cell_type": "code",
   "execution_count": 253,
   "id": "3489588f",
   "metadata": {},
   "outputs": [],
   "source": [
    "import numpy as np"
   ]
  },
  {
   "cell_type": "markdown",
   "id": "a32d7226",
   "metadata": {},
   "source": [
    "## Creating Arrays from Python Lists\n",
    "First, we can use `np.array` to create arrays from Python lists:"
   ]
  },
  {
   "cell_type": "code",
   "execution_count": 254,
   "id": "1fb43824",
   "metadata": {},
   "outputs": [
    {
     "data": {
      "text/plain": [
       "array([1, 2, 3, 4, 5])"
      ]
     },
     "execution_count": 254,
     "metadata": {},
     "output_type": "execute_result"
    }
   ],
   "source": [
    "# integer array\n",
    "np.array([1,2,3,4,5])"
   ]
  },
  {
   "cell_type": "markdown",
   "id": "b39f2a46",
   "metadata": {},
   "source": [
    "Remember that unlike Python lists, NumPy is constrained to arrays that all contain the same type. If types do not match, NumPy will upcast if possible (here, integers are up-cast to floating point):\n",
    "\n"
   ]
  },
  {
   "cell_type": "code",
   "execution_count": 255,
   "id": "abcd1423",
   "metadata": {},
   "outputs": [
    {
     "data": {
      "text/plain": [
       "array([3.14, 3.  , 2.  , 3.  ])"
      ]
     },
     "execution_count": 255,
     "metadata": {},
     "output_type": "execute_result"
    }
   ],
   "source": [
    "np.array([3.14,3,2,3])"
   ]
  },
  {
   "cell_type": "markdown",
   "id": "edad5717",
   "metadata": {},
   "source": [
    "If we want to explicitly set the data type of the resulting array, we can use the `dtype` keyword:"
   ]
  },
  {
   "cell_type": "code",
   "execution_count": 256,
   "id": "530f0b47",
   "metadata": {},
   "outputs": [
    {
     "data": {
      "text/plain": [
       "array([1., 2., 3., 4.], dtype=float32)"
      ]
     },
     "execution_count": 256,
     "metadata": {},
     "output_type": "execute_result"
    }
   ],
   "source": [
    "np.array([1,2,3,4], dtype='float32')"
   ]
  },
  {
   "cell_type": "markdown",
   "id": "53d0e3b2",
   "metadata": {},
   "source": [
    "Finally, unlike Python lists, NumPy arrays can explicitly be multi-dimensional; here's one way of initializing a multidimensional array using a list of lists:"
   ]
  },
  {
   "cell_type": "code",
   "execution_count": 257,
   "id": "1c368bb2",
   "metadata": {},
   "outputs": [
    {
     "data": {
      "text/plain": [
       "array([[2, 3, 4],\n",
       "       [4, 5, 6],\n",
       "       [6, 7, 8]])"
      ]
     },
     "execution_count": 257,
     "metadata": {},
     "output_type": "execute_result"
    }
   ],
   "source": [
    "# nested lists result in multi-dimensional arrays\n",
    "np.array([range(i, i + 3) for i in [2, 4, 6]])"
   ]
  },
  {
   "cell_type": "markdown",
   "id": "df411d5d",
   "metadata": {},
   "source": [
    "## Creating Arrays from Scratch:\n",
    "Especially for larger arrays, it is more efficient to create arrays from scratch using routines built into NumPy, here are several examples:"
   ]
  },
  {
   "cell_type": "code",
   "execution_count": 258,
   "id": "84f363df",
   "metadata": {},
   "outputs": [
    {
     "data": {
      "text/plain": [
       "array([0, 0, 0, 0, 0, 0, 0, 0, 0, 0])"
      ]
     },
     "execution_count": 258,
     "metadata": {},
     "output_type": "execute_result"
    }
   ],
   "source": [
    "# Create a length-10 integer array filled with zeros\n",
    "np.zeros(10, dtype=int)"
   ]
  },
  {
   "cell_type": "code",
   "execution_count": 259,
   "id": "7174d1b2",
   "metadata": {},
   "outputs": [
    {
     "data": {
      "text/plain": [
       "array([[1., 1., 1., 1., 1.],\n",
       "       [1., 1., 1., 1., 1.],\n",
       "       [1., 1., 1., 1., 1.]])"
      ]
     },
     "execution_count": 259,
     "metadata": {},
     "output_type": "execute_result"
    }
   ],
   "source": [
    "# Create a 3x5 floating-point array filled with ones\n",
    "np.ones((3, 5), dtype=float)"
   ]
  },
  {
   "cell_type": "code",
   "execution_count": 260,
   "id": "2688d8f0",
   "metadata": {},
   "outputs": [
    {
     "data": {
      "text/plain": [
       "array([[3.14, 3.14, 3.14, 3.14, 3.14],\n",
       "       [3.14, 3.14, 3.14, 3.14, 3.14],\n",
       "       [3.14, 3.14, 3.14, 3.14, 3.14]])"
      ]
     },
     "execution_count": 260,
     "metadata": {},
     "output_type": "execute_result"
    }
   ],
   "source": [
    "# Create a 3x5 array filled with 3.14\n",
    "np.full((3, 5), 3.14)"
   ]
  },
  {
   "cell_type": "code",
   "execution_count": 261,
   "id": "5b7c9ca4",
   "metadata": {},
   "outputs": [
    {
     "data": {
      "text/plain": [
       "array([ 0,  2,  4,  6,  8, 10, 12, 14, 16, 18])"
      ]
     },
     "execution_count": 261,
     "metadata": {},
     "output_type": "execute_result"
    }
   ],
   "source": [
    "# Create an array filled with a linear sequence\n",
    "# Starting at 0, ending at 20, stepping by 2\n",
    "# (this is similar to the built-in range() function)\n",
    "np.arange(0, 20, 2)"
   ]
  },
  {
   "cell_type": "code",
   "execution_count": 262,
   "id": "694a422b",
   "metadata": {},
   "outputs": [
    {
     "data": {
      "text/plain": [
       "array([0.  , 0.25, 0.5 , 0.75, 1.  ])"
      ]
     },
     "execution_count": 262,
     "metadata": {},
     "output_type": "execute_result"
    }
   ],
   "source": [
    "# Create an array of five values evenly spaced between 0 and 1\n",
    "np.linspace(0, 1, 5)"
   ]
  },
  {
   "cell_type": "code",
   "execution_count": 263,
   "id": "4a77c6a4",
   "metadata": {},
   "outputs": [
    {
     "data": {
      "text/plain": [
       "array([[0.25241011, 0.97572458, 0.1197632 ],\n",
       "       [0.20856888, 0.23983126, 0.39034023],\n",
       "       [0.61318864, 0.8603706 , 0.34645385]])"
      ]
     },
     "execution_count": 263,
     "metadata": {},
     "output_type": "execute_result"
    }
   ],
   "source": [
    "# Create a 3x3 array of uniformly distributed\n",
    "# random values between 0 and 1\n",
    "np.random.random((3, 3))"
   ]
  },
  {
   "cell_type": "code",
   "execution_count": 264,
   "id": "ea5b6028",
   "metadata": {},
   "outputs": [
    {
     "data": {
      "text/plain": [
       "array([[-0.80846432, -1.55328005,  1.09581535],\n",
       "       [ 1.0034082 , -0.96307811,  0.38494418],\n",
       "       [-2.10187333,  0.43009583, -0.66377698]])"
      ]
     },
     "execution_count": 264,
     "metadata": {},
     "output_type": "execute_result"
    }
   ],
   "source": [
    "# Create a 3x3 array of normally distributed random values\n",
    "# with mean 0 and standard deviation 1\n",
    "np.random.normal(0, 1, (3, 3))"
   ]
  },
  {
   "cell_type": "code",
   "execution_count": 265,
   "id": "46eb6255",
   "metadata": {},
   "outputs": [
    {
     "data": {
      "text/plain": [
       "array([[1, 8, 6],\n",
       "       [9, 9, 7],\n",
       "       [6, 0, 9]])"
      ]
     },
     "execution_count": 265,
     "metadata": {},
     "output_type": "execute_result"
    }
   ],
   "source": [
    "# Create a 3x3 array of random integers in the interval [0, 10)\n",
    "np.random.randint(0, 10, (3, 3))"
   ]
  },
  {
   "cell_type": "code",
   "execution_count": 266,
   "id": "1669aea2",
   "metadata": {},
   "outputs": [
    {
     "data": {
      "text/plain": [
       "array([[1., 0., 0.],\n",
       "       [0., 1., 0.],\n",
       "       [0., 0., 1.]])"
      ]
     },
     "execution_count": 266,
     "metadata": {},
     "output_type": "execute_result"
    }
   ],
   "source": [
    "# Create a 3x3 identity matrix\n",
    "np.eye(3)"
   ]
  },
  {
   "cell_type": "code",
   "execution_count": 267,
   "id": "cd30437d",
   "metadata": {},
   "outputs": [
    {
     "data": {
      "text/plain": [
       "array([1., 1., 1.])"
      ]
     },
     "execution_count": 267,
     "metadata": {},
     "output_type": "execute_result"
    }
   ],
   "source": [
    "# Create an uninitialized array of three integers\n",
    "# The values will be whatever happens to already exist at that memory location\n",
    "np.empty(3)"
   ]
  },
  {
   "cell_type": "markdown",
   "id": "020e4a2b",
   "metadata": {},
   "source": [
    "## NumPy Standard Data Types\n",
    "NumPy arrays contain values of a single type, so it is important to have detailed knowledge of those types and their limitations. Because NumPy is built in C, the types will be familiar to users of C, Fortran, and other related languages.\n",
    "\n",
    "The standard NumPy data types are listed in the following table. Note that when constructing an array, they can be specified using a string:"
   ]
  },
  {
   "cell_type": "code",
   "execution_count": 268,
   "id": "0918f98e",
   "metadata": {},
   "outputs": [
    {
     "data": {
      "text/plain": [
       "array([0, 0, 0, 0, 0, 0, 0, 0, 0, 0], dtype=int16)"
      ]
     },
     "execution_count": 268,
     "metadata": {},
     "output_type": "execute_result"
    }
   ],
   "source": [
    "np.zeros(10, dtype='int16')"
   ]
  },
  {
   "cell_type": "markdown",
   "id": "1c5d065a",
   "metadata": {},
   "source": [
    "Or using the associated NumPy object:"
   ]
  },
  {
   "cell_type": "code",
   "execution_count": 269,
   "id": "fec6b5a7",
   "metadata": {},
   "outputs": [
    {
     "data": {
      "text/plain": [
       "array([0, 0, 0, 0, 0, 0, 0, 0, 0, 0], dtype=int16)"
      ]
     },
     "execution_count": 269,
     "metadata": {},
     "output_type": "execute_result"
    }
   ],
   "source": [
    "np.zeros(10, dtype=np.int16)"
   ]
  },
  {
   "cell_type": "markdown",
   "id": "e65e12ba",
   "metadata": {},
   "source": [
    "| Data type\t | Description |\n",
    "|-------------|-------------|\n",
    "| `bool_`     | Boolean (True or False) stored as a byte |\n",
    "| `int_`      | Default integer type (same as C `long`; normally either `int64` or `int32`)| \n",
    "| `intc`      | Identical to C `int` (normally `int32` or `int64`)| \n",
    "| `intp`      | Integer used for indexing (same as C `ssize_t`; normally either `int32` or `int64`)| \n",
    "| `int8`      | Byte (–128 to 127)| \n",
    "| `int16`     | Integer (–32768 to 32767)|\n",
    "| `int32`     | Integer (–2147483648 to 2147483647)|\n",
    "| `int64`     | Integer (–9223372036854775808 to 9223372036854775807)| \n",
    "| `uint8`     | Unsigned integer (0 to 255)| \n",
    "| `uint16`    | Unsigned integer (0 to 65535)| \n",
    "| `uint32`    | Unsigned integer (0 to 4294967295)| \n",
    "| `uint64`    | Unsigned integer (0 to 18446744073709551615)| \n",
    "| `float_`    | Shorthand for `float64`| \n",
    "| `float16`   | Half-precision float: sign bit, 5 bits exponent, 10 bits mantissa| \n",
    "| `float32`   | Single-precision float: sign bit, 8 bits exponent, 23 bits mantissa| \n",
    "| `float64`   | Double-precision float: sign bit, 11 bits exponent, 52 bits mantissa| \n",
    "| `complex_`  | Shorthand for `complex128`| \n",
    "| `complex64` | Complex number, represented by two 32-bit floats| \n",
    "| `complex128`| Complex number, represented by two 64-bit floats| "
   ]
  },
  {
   "cell_type": "markdown",
   "id": "3bab2d50",
   "metadata": {},
   "source": [
    "## 6.4 Lesson: Building Numpy Arrays\n",
    "The first two things you need to know to make a NumPy array are what data type you will use and what shape the array will be. The data type specifies whether you are working with floating point numbers, integers, or even a mix and how much space each one will use. The shape determines the number of axes and the length along each axis. Together, the data type and shape determine how many numbers can be stored in the array and how much memory they consume. Both usually have a clear best, or at least default, choice based on the context of your program."
   ]
  },
  {
   "cell_type": "markdown",
   "id": "01d0c83b",
   "metadata": {},
   "source": [
    "### Converting Sequences to Numpy Arrays\n",
    "There are 6 general mechanisms for creating arrays:\n",
    "1. Conversion from other Python structures (i.e. lists and tuples)\n",
    "2. Intrinsic NumPy array creation functions (e.g. arange, ones, zeros, etc.)\n",
    "3. Replicating, joining, or mutating existing arrays\n",
    "4. Reading arrays from disk, either from standard or custom formats\n",
    "5. Creating arrays from raw bytes through the use of strings or buffers\n",
    "6. Use of special library functions (e.g., random)\n",
    "\n",
    "You can use these methods to create ndarrays or Structured arrays. This document will cover general methods for ndarray creation."
   ]
  },
  {
   "cell_type": "markdown",
   "id": "f20cd1fb",
   "metadata": {},
   "source": [
    "1) Converting Python sequences to NumPy arrays\n",
    "NumPy arrays can be defined using Python sequences such as lists and tuples. Lists and tuples are defined using `[...]` and `(...)`, respectively. Lists and tuples can define ndarray creation:\n",
    "- a list of numbers will create a 1D array,\n",
    "- a list of lists will create a 2D array,\n",
    "\n",
    "further nested lists will create higher-dimensional arrays. In general, any array object is called an ndarray in NumPy."
   ]
  },
  {
   "cell_type": "code",
   "execution_count": 270,
   "id": "f891239f",
   "metadata": {},
   "outputs": [],
   "source": [
    "import numpy as np\n",
    "a1D = np.array([1, 2, 3, 4])\n",
    "a2D = np.array([[1, 2], [3, 4]])\n",
    "a3D = np.array([[[1, 2], [3, 4]], [[5, 6], [7, 8]]])"
   ]
  },
  {
   "cell_type": "markdown",
   "id": "93b73f98",
   "metadata": {},
   "source": [
    "When you use `numpy.array` to define a new array, you should consider the dtype of the elements in the array, which can be specified explicitly. This feature gives you more control over the underlying data structures and how the elements are handled in C/C++ functions. When values do not fit and you are using a `dtype`, NumPy may raise an error:"
   ]
  },
  {
   "cell_type": "code",
   "execution_count": 271,
   "id": "2bbed52e",
   "metadata": {},
   "outputs": [
    {
     "name": "stderr",
     "output_type": "stream",
     "text": [
      "/var/folders/4k/nl2zz_ln4d55dcscl_vvjglh0000gn/T/ipykernel_44205/1903986189.py:2: DeprecationWarning: NumPy will stop allowing conversion of out-of-bound Python integers to integer arrays.  The conversion of 128 to int8 will fail in the future.\n",
      "For the old behavior, usually:\n",
      "    np.array(value).astype(dtype)\n",
      "will give the desired result (the cast overflows).\n",
      "  np.array([127, 128, 129], dtype=np.int8)\n",
      "/var/folders/4k/nl2zz_ln4d55dcscl_vvjglh0000gn/T/ipykernel_44205/1903986189.py:2: DeprecationWarning: NumPy will stop allowing conversion of out-of-bound Python integers to integer arrays.  The conversion of 129 to int8 will fail in the future.\n",
      "For the old behavior, usually:\n",
      "    np.array(value).astype(dtype)\n",
      "will give the desired result (the cast overflows).\n",
      "  np.array([127, 128, 129], dtype=np.int8)\n"
     ]
    },
    {
     "data": {
      "text/plain": [
       "array([ 127, -128, -127], dtype=int8)"
      ]
     },
     "execution_count": 271,
     "metadata": {},
     "output_type": "execute_result"
    }
   ],
   "source": [
    "import numpy as np\n",
    "np.array([127, 128, 129], dtype=np.int8)"
   ]
  },
  {
   "cell_type": "markdown",
   "id": "d69dcc13",
   "metadata": {},
   "source": [
    "An 8-bit signed integer represents integers from -128 to 127. Assigning the `int8` array to integers outside of this range results in overflow. This feature can often be misunderstood. If you perform calculations with mismatching `dtypes`, you can get unwanted results, for example:"
   ]
  },
  {
   "cell_type": "code",
   "execution_count": 272,
   "id": "c557e642",
   "metadata": {},
   "outputs": [
    {
     "name": "stdout",
     "output_type": "stream",
     "text": [
      "unsigned c: [4294967293 4294967293 4294967293] uint32\n",
      "signed c: [-3 -3 -3] int64\n"
     ]
    }
   ],
   "source": [
    "import numpy as np\n",
    "a = np.array([2, 3, 4], dtype=np.uint32)\n",
    "b = np.array([5, 6, 7], dtype=np.uint32)\n",
    "c_unsigned32 = a - b\n",
    "print('unsigned c:', c_unsigned32, c_unsigned32.dtype)\n",
    "c_signed32 = a - b.astype(np.int32)\n",
    "print('signed c:', c_signed32, c_signed32.dtype)"
   ]
  },
  {
   "cell_type": "markdown",
   "id": "5edddb0b",
   "metadata": {},
   "source": [
    "Notice when you perform operations with two arrays of the same `dtype`: `uint32`, the resulting array is the same type. When you perform operations with different `dtype`, NumPy will assign a new type that satisfies all of the array elements involved in the computation, here `uint32` and `int32` can both be represented in as `int64`.\n",
    "\n",
    "The default NumPy behavior is to create arrays in either 32 or 64-bit signed integers (platform dependent and matches C `long` size) or double precision floating point numbers. If you expect your integer arrays to be a specific type, then you need to specify the dtype while you create the array."
   ]
  },
  {
   "cell_type": "markdown",
   "id": "9f268c69",
   "metadata": {},
   "source": [
    "###  2) Intrinsic NumPy array creation functions\n",
    "NumPy has over 40 built-in functions for creating arrays as laid out in the Array creation routines. These functions can be split into roughly three categories, based on the dimension of the array they create:\n",
    "1. 1D arrays\n",
    "2. 2D arrays\n",
    "3. ndarrays\n",
    "### 1 - 1D array creation functions\n",
    "The 1D array creation functions e.g. `numpy.linspace` and `numpy.arange` generally need at least two inputs, `start` and `stop`.\n",
    "\n",
    "`numpy.arange` creates arrays with regularly incrementing values. Check the documentation for complete information and examples. A few examples are shown:"
   ]
  },
  {
   "cell_type": "code",
   "execution_count": 273,
   "id": "513c2dad",
   "metadata": {},
   "outputs": [
    {
     "data": {
      "text/plain": [
       "array([2. , 2.1, 2.2, 2.3, 2.4, 2.5, 2.6, 2.7, 2.8, 2.9])"
      ]
     },
     "execution_count": 273,
     "metadata": {},
     "output_type": "execute_result"
    }
   ],
   "source": [
    "import numpy as np\n",
    "np.arange(10)\n",
    "np.arange(2, 10, dtype=float)\n",
    "np.arange(2, 3, 0.1)"
   ]
  },
  {
   "cell_type": "markdown",
   "id": "7dea92c7",
   "metadata": {},
   "source": [
    "Note: best practice for `numpy.arange` is to use integer start, end, and step values. There are some subtleties regarding `dtype`. In the second example, the `dtype` is defined. In the third example, the array is `dtype=float` to accommodate the step size of `0.1`. Due to roundoff error, the `stop` value is sometimes included.\n",
    "\n",
    "`numpy.linspace` will create arrays with a specified number of elements, and spaced equally between the specified beginning and end values. For example:"
   ]
  },
  {
   "cell_type": "code",
   "execution_count": 274,
   "id": "8dff6c6a",
   "metadata": {},
   "outputs": [
    {
     "data": {
      "text/plain": [
       "array([1. , 1.6, 2.2, 2.8, 3.4, 4. ])"
      ]
     },
     "execution_count": 274,
     "metadata": {},
     "output_type": "execute_result"
    }
   ],
   "source": [
    "import numpy as np\n",
    "np.linspace(1., 4., 6)"
   ]
  },
  {
   "cell_type": "markdown",
   "id": "d73a91e6",
   "metadata": {},
   "source": [
    "The advantage of this creation function is that you guarantee the number of elements and the starting and end point. The previous arange(`start`, `stop`, `step`) will not include the value stop."
   ]
  },
  {
   "cell_type": "markdown",
   "id": "e4a025c9",
   "metadata": {},
   "source": [
    "## 2 - 2D array creation functions\n",
    "The 2D array creation functions e.g. `numpy.eye`, `numpy.diag`, and `numpy.vander` define properties of special matrices represented as 2D arrays.\n",
    "\n",
    "`np.eye(n, m)` defines a 2D identity matrix. The elements where i=j (row index and column index are equal) are 1 and the rest are 0, as such:"
   ]
  },
  {
   "cell_type": "code",
   "execution_count": 275,
   "id": "70a586e5",
   "metadata": {},
   "outputs": [
    {
     "data": {
      "text/plain": [
       "array([[1., 0., 0., 0., 0.],\n",
       "       [0., 1., 0., 0., 0.],\n",
       "       [0., 0., 1., 0., 0.]])"
      ]
     },
     "execution_count": 275,
     "metadata": {},
     "output_type": "execute_result"
    }
   ],
   "source": [
    "import numpy as np\n",
    "np.eye(3)\n",
    "np.eye(3, 5)"
   ]
  },
  {
   "cell_type": "markdown",
   "id": "479d66a7",
   "metadata": {},
   "source": [
    "`numpy.diag` can define either a square 2D array with given values along the diagonal *or* if given a 2D array returns a 1D array that is only the diagonal elements. The two array creation functions can be helpful while doing linear algebra, as such:"
   ]
  },
  {
   "cell_type": "code",
   "execution_count": 276,
   "id": "87bd261e",
   "metadata": {},
   "outputs": [
    {
     "data": {
      "text/plain": [
       "array([1, 4])"
      ]
     },
     "execution_count": 276,
     "metadata": {},
     "output_type": "execute_result"
    }
   ],
   "source": [
    "import numpy as np\n",
    "np.diag([1, 2, 3])\n",
    "np.diag([1, 2, 3], 1)\n",
    "a = np.array([[1, 2], [3, 4]])\n",
    "np.diag(a)"
   ]
  },
  {
   "cell_type": "markdown",
   "id": "78b3439a",
   "metadata": {},
   "source": [
    "`vander(x, n)` defines a Vandermonde matrix as a 2D NumPy array. Each column of the Vandermonde matrix is a decreasing power of the input 1D array or list or tuple, `x` where the highest polynomial order is `n-1`. This array creation routine is helpful in generating linear least squares models, as such:"
   ]
  },
  {
   "cell_type": "code",
   "execution_count": 277,
   "id": "274d9ed4",
   "metadata": {},
   "outputs": [
    {
     "data": {
      "text/plain": [
       "array([[0. , 1. ],\n",
       "       [0.5, 1. ],\n",
       "       [1. , 1. ],\n",
       "       [1.5, 1. ],\n",
       "       [2. , 1. ]])"
      ]
     },
     "execution_count": 277,
     "metadata": {},
     "output_type": "execute_result"
    }
   ],
   "source": [
    "np.vander(np.linspace(0,2,5), 2)"
   ]
  },
  {
   "cell_type": "code",
   "execution_count": 278,
   "id": "b1b81597",
   "metadata": {},
   "outputs": [
    {
     "data": {
      "text/plain": [
       "array([[1, 1],\n",
       "       [2, 1],\n",
       "       [3, 1],\n",
       "       [4, 1]])"
      ]
     },
     "execution_count": 278,
     "metadata": {},
     "output_type": "execute_result"
    }
   ],
   "source": [
    "np.vander([1,2,3,4], 2)"
   ]
  },
  {
   "cell_type": "code",
   "execution_count": 279,
   "id": "54957b89",
   "metadata": {},
   "outputs": [
    {
     "data": {
      "text/plain": [
       "array([[ 1,  1,  1,  1],\n",
       "       [ 8,  4,  2,  1],\n",
       "       [27,  9,  3,  1],\n",
       "       [64, 16,  4,  1]])"
      ]
     },
     "execution_count": 279,
     "metadata": {},
     "output_type": "execute_result"
    }
   ],
   "source": [
    "np.vander((1,2,3,4), 4)"
   ]
  },
  {
   "cell_type": "markdown",
   "id": "9b834c81",
   "metadata": {},
   "source": [
    "## 3 - general ndarray creation functions\n",
    "The ndarray creation functions e.g. `numpy.ones`, `numpy.zeros`, and `random` define arrays based upon the desired shape. The ndarray creation functions can create arrays with any dimension by specifying how many dimensions and length along that dimension in a tuple or list.\n",
    "\n",
    "`numpy.zeros` will create an array filled with 0 values with the specified shape. The default dtype is `float64`:"
   ]
  },
  {
   "cell_type": "code",
   "execution_count": 280,
   "id": "82232df7",
   "metadata": {},
   "outputs": [
    {
     "data": {
      "text/plain": [
       "array([[0., 0., 0.],\n",
       "       [0., 0., 0.]])"
      ]
     },
     "execution_count": 280,
     "metadata": {},
     "output_type": "execute_result"
    }
   ],
   "source": [
    "np.zeros((2,3))"
   ]
  },
  {
   "cell_type": "code",
   "execution_count": 281,
   "id": "c13485b4",
   "metadata": {},
   "outputs": [
    {
     "data": {
      "text/plain": [
       "array([[[0., 0.],\n",
       "        [0., 0.],\n",
       "        [0., 0.]],\n",
       "\n",
       "       [[0., 0.],\n",
       "        [0., 0.],\n",
       "        [0., 0.]]])"
      ]
     },
     "execution_count": 281,
     "metadata": {},
     "output_type": "execute_result"
    }
   ],
   "source": [
    "np.zeros((2,3,2))"
   ]
  },
  {
   "cell_type": "markdown",
   "id": "de00783d",
   "metadata": {},
   "source": [
    "`numpy.ones` will create an array filled with 1 values. It is identical to `zeros` in all other respects as such:"
   ]
  },
  {
   "cell_type": "code",
   "execution_count": 282,
   "id": "b0db30ed",
   "metadata": {},
   "outputs": [
    {
     "data": {
      "text/plain": [
       "array([[1., 1., 1.],\n",
       "       [1., 1., 1.]])"
      ]
     },
     "execution_count": 282,
     "metadata": {},
     "output_type": "execute_result"
    }
   ],
   "source": [
    "np.ones((2,3))"
   ]
  },
  {
   "cell_type": "code",
   "execution_count": 283,
   "id": "f686f78b",
   "metadata": {},
   "outputs": [
    {
     "data": {
      "text/plain": [
       "array([[[1., 1.],\n",
       "        [1., 1.],\n",
       "        [1., 1.]],\n",
       "\n",
       "       [[1., 1.],\n",
       "        [1., 1.],\n",
       "        [1., 1.]]])"
      ]
     },
     "execution_count": 283,
     "metadata": {},
     "output_type": "execute_result"
    }
   ],
   "source": [
    "np.ones((2,3,2))"
   ]
  },
  {
   "cell_type": "markdown",
   "id": "99a55c50",
   "metadata": {},
   "source": [
    "The `random` method of the result of `default_rng` will create an array filled with random values between 0 and 1. It is included with the `numpy.random` library. Below, two arrays are created with shapes (2,3) and (2,3,2), respectively. The seed is set to 42 so you can reproduce these pseudorandom numbers:"
   ]
  },
  {
   "cell_type": "code",
   "execution_count": 284,
   "id": "3cead00a",
   "metadata": {},
   "outputs": [
    {
     "data": {
      "text/plain": [
       "array([[0.77395605, 0.43887844, 0.85859792],\n",
       "       [0.69736803, 0.09417735, 0.97562235]])"
      ]
     },
     "execution_count": 284,
     "metadata": {},
     "output_type": "execute_result"
    }
   ],
   "source": [
    "from numpy.random import default_rng\n",
    "default_rng(42).random((2,3))"
   ]
  },
  {
   "cell_type": "code",
   "execution_count": 285,
   "id": "bebe83a5",
   "metadata": {},
   "outputs": [
    {
     "data": {
      "text/plain": [
       "array([[[0.77395605, 0.43887844],\n",
       "        [0.85859792, 0.69736803],\n",
       "        [0.09417735, 0.97562235]],\n",
       "\n",
       "       [[0.7611397 , 0.78606431],\n",
       "        [0.12811363, 0.45038594],\n",
       "        [0.37079802, 0.92676499]]])"
      ]
     },
     "execution_count": 285,
     "metadata": {},
     "output_type": "execute_result"
    }
   ],
   "source": [
    "default_rng(42).random((2,3,2))"
   ]
  },
  {
   "cell_type": "markdown",
   "id": "e3de2dfa",
   "metadata": {},
   "source": [
    "`numpy.indices` will create a set of arrays (stacked as a one-higher dimensioned array), one per dimension with each representing variation in that dimension:"
   ]
  },
  {
   "cell_type": "code",
   "execution_count": 286,
   "id": "9edb9b89",
   "metadata": {},
   "outputs": [
    {
     "data": {
      "text/plain": [
       "array([[[0, 0, 0],\n",
       "        [1, 1, 1],\n",
       "        [2, 2, 2]],\n",
       "\n",
       "       [[0, 1, 2],\n",
       "        [0, 1, 2],\n",
       "        [0, 1, 2]]])"
      ]
     },
     "execution_count": 286,
     "metadata": {},
     "output_type": "execute_result"
    }
   ],
   "source": [
    "np.indices((3,3))"
   ]
  },
  {
   "cell_type": "markdown",
   "id": "d0a0eb73",
   "metadata": {},
   "source": [
    "This is particularly useful for evaluating functions of multiple dimensions on a regular grid."
   ]
  },
  {
   "cell_type": "markdown",
   "id": "270af331",
   "metadata": {},
   "source": [
    "## 3) Replicating, joining, or mutating existing arrays\n",
    "Once you have created arrays, you can replicate, join, or mutate those existing arrays to create new arrays. When you assign an array or its elements to a new variable, you have to explicitly `numpy.copy` the array, otherwise the variable is a view into the original array. Consider the following example:"
   ]
  },
  {
   "cell_type": "code",
   "execution_count": 287,
   "id": "06d00dfc",
   "metadata": {},
   "outputs": [
    {
     "name": "stdout",
     "output_type": "stream",
     "text": [
      "a =  [1 2 3 4] b =  [2 3]\n"
     ]
    }
   ],
   "source": [
    "a = np.array([1,2,3,4])\n",
    "b = a[:2].copy()\n",
    "b += 1\n",
    "print('a = ', a, \"b = \", b)"
   ]
  },
  {
   "cell_type": "markdown",
   "id": "940802c0",
   "metadata": {},
   "source": [
    "In this example, you did not create a new array. You created a variable, `b` that viewed the first 2 elements of `a`. When you added 1 to `b` you would get the same result by adding 1 to `a[:2]`. If you want to create a *new* array, use the `numpy.copy` array creation routine as such:"
   ]
  },
  {
   "cell_type": "code",
   "execution_count": 288,
   "id": "01a9ef0c",
   "metadata": {},
   "outputs": [
    {
     "name": "stdout",
     "output_type": "stream",
     "text": [
      "a =  [1 2 3 4] b =  [2 3]\n"
     ]
    }
   ],
   "source": [
    "import numpy as np\n",
    "a = np.array([1, 2, 3, 4])\n",
    "b = a[:2].copy()\n",
    "b += 1\n",
    "print('a = ', a, 'b = ', b)"
   ]
  },
  {
   "cell_type": "markdown",
   "id": "fec8db19",
   "metadata": {},
   "source": [
    "For more information and examples look at Copies and Views.\n",
    "\n",
    "There are a number of routines to join existing arrays e.g. `numpy.vstack`, `numpy.hstack`, and `numpy.block`. Here is an example of joining four 2-by-2 arrays into a 4-by-4 array using `block`:"
   ]
  },
  {
   "cell_type": "code",
   "execution_count": 289,
   "id": "63f58bd9",
   "metadata": {},
   "outputs": [
    {
     "data": {
      "text/plain": [
       "array([[ 1.,  1.,  1.,  0.],\n",
       "       [ 1.,  1.,  0.,  1.],\n",
       "       [ 0.,  0., -3.,  0.],\n",
       "       [ 0.,  0.,  0., -4.]])"
      ]
     },
     "execution_count": 289,
     "metadata": {},
     "output_type": "execute_result"
    }
   ],
   "source": [
    "import numpy as np\n",
    "A = np.ones((2, 2))\n",
    "B = np.eye(2, 2)\n",
    "C = np.zeros((2, 2))\n",
    "D = np.diag((-3, -4))\n",
    "np.block([[A, B], [C, D]])"
   ]
  },
  {
   "cell_type": "markdown",
   "id": "2f24b8fc",
   "metadata": {},
   "source": [
    "Other routines use similar syntax to join ndarrays. Check the routine’s documentation for further examples and syntax."
   ]
  },
  {
   "cell_type": "markdown",
   "id": "76350f22",
   "metadata": {},
   "source": [
    "## Creating Arrays from Numpy Sequences\n",
    "Let's make some numpy arrays now and ask numpy to make all the decisions about data types and shapes. We will do this by making our own sequences in python, then pass them to python."
   ]
  },
  {
   "cell_type": "code",
   "execution_count": 290,
   "id": "94a3c2ef",
   "metadata": {},
   "outputs": [
    {
     "data": {
      "text/plain": [
       "array([1, 2, 3])"
      ]
     },
     "execution_count": 290,
     "metadata": {},
     "output_type": "execute_result"
    }
   ],
   "source": [
    "import numpy as np\n",
    "my_data_array = np.array([1,2,3])\n",
    "my_data_array"
   ]
  },
  {
   "cell_type": "markdown",
   "id": "4c7704ff",
   "metadata": {},
   "source": [
    "We called `np.array()` with a list of 3 integers and that looks like an array of 3 integers. Let's doublecheck the data type:"
   ]
  },
  {
   "cell_type": "code",
   "execution_count": 291,
   "id": "0b1ec5a8",
   "metadata": {},
   "outputs": [
    {
     "data": {
      "text/plain": [
       "dtype('int64')"
      ]
     },
     "execution_count": 291,
     "metadata": {},
     "output_type": "execute_result"
    }
   ],
   "source": [
    "my_data_array.dtype"
   ]
  },
  {
   "cell_type": "markdown",
   "id": "19a3bb2b",
   "metadata": {},
   "source": [
    "The integer type is confirmed. Numpy picked the 64bit integer type. Let's check the shape now."
   ]
  },
  {
   "cell_type": "code",
   "execution_count": 292,
   "id": "36b89fd1",
   "metadata": {},
   "outputs": [
    {
     "data": {
      "text/plain": [
       "(3,)"
      ]
     },
     "execution_count": 292,
     "metadata": {},
     "output_type": "execute_result"
    }
   ],
   "source": [
    "my_data_array.shape"
   ]
  },
  {
   "cell_type": "markdown",
   "id": "df4fdbbb",
   "metadata": {},
   "source": [
    "The shape has one size, so this array is one-dimensional and has length 3 along that dimension. So we should be able to index it at lengths `0`, `1`, and `2` to look at each entry individually."
   ]
  },
  {
   "cell_type": "code",
   "execution_count": 293,
   "id": "fa781c37",
   "metadata": {},
   "outputs": [
    {
     "data": {
      "text/plain": [
       "1"
      ]
     },
     "execution_count": 293,
     "metadata": {},
     "output_type": "execute_result"
    }
   ],
   "source": [
    "my_data_array[0]"
   ]
  },
  {
   "cell_type": "code",
   "execution_count": 294,
   "id": "1ce93e00",
   "metadata": {},
   "outputs": [
    {
     "data": {
      "text/plain": [
       "2"
      ]
     },
     "execution_count": 294,
     "metadata": {},
     "output_type": "execute_result"
    }
   ],
   "source": [
    "my_data_array[1]"
   ]
  },
  {
   "cell_type": "code",
   "execution_count": 295,
   "id": "feafa3db",
   "metadata": {},
   "outputs": [
    {
     "data": {
      "text/plain": [
       "3"
      ]
     },
     "execution_count": 295,
     "metadata": {},
     "output_type": "execute_result"
    }
   ],
   "source": [
    "my_data_array[2]"
   ]
  },
  {
   "cell_type": "markdown",
   "id": "e253a4c4",
   "metadata": {},
   "source": [
    "We can also index backwards, like python lists and tuples allow:"
   ]
  },
  {
   "cell_type": "code",
   "execution_count": 296,
   "id": "01f04df6",
   "metadata": {},
   "outputs": [
    {
     "data": {
      "text/plain": [
       "3"
      ]
     },
     "execution_count": 296,
     "metadata": {},
     "output_type": "execute_result"
    }
   ],
   "source": [
    "my_data_array[-1]"
   ]
  },
  {
   "cell_type": "markdown",
   "id": "260b63c7",
   "metadata": {},
   "source": [
    "What needs to change to make a floating point array?"
   ]
  },
  {
   "cell_type": "code",
   "execution_count": 297,
   "id": "5fb435e5",
   "metadata": {},
   "outputs": [
    {
     "data": {
      "text/plain": [
       "array([1., 2., 3.])"
      ]
     },
     "execution_count": 297,
     "metadata": {},
     "output_type": "execute_result"
    }
   ],
   "source": [
    "my_data_array = np.array([1.0, 2.0, 3.0])\n",
    "my_data_array"
   ]
  },
  {
   "cell_type": "markdown",
   "id": "9f1cde31",
   "metadata": {},
   "source": [
    "The printed array has visibly changed to show decimal points. Let's check the type now:"
   ]
  },
  {
   "cell_type": "code",
   "execution_count": 298,
   "id": "8b400c1d",
   "metadata": {},
   "outputs": [
    {
     "data": {
      "text/plain": [
       "dtype('float64')"
      ]
     },
     "execution_count": 298,
     "metadata": {},
     "output_type": "execute_result"
    }
   ],
   "source": [
    "my_data_array.dtype #change to floating point"
   ]
  },
  {
   "cell_type": "markdown",
   "id": "6fa03c71",
   "metadata": {},
   "source": [
    "The default data type is probably a safe choice, since it will perform no worse than other data types. The 64-bit versions will just take more memory than the smaller versions. They will let us pick whether we want to use smaller, less expressive types, instead of guessing we will want one and suprising us with a calculation error."
   ]
  },
  {
   "cell_type": "code",
   "execution_count": 299,
   "id": "8a1e7aa6",
   "metadata": {},
   "outputs": [
    {
     "data": {
      "text/plain": [
       "array([1., 2., 3.])"
      ]
     },
     "execution_count": 299,
     "metadata": {},
     "output_type": "execute_result"
    }
   ],
   "source": [
    "my_data_array = np.array([1,2,3.0])\n",
    "my_data_array"
   ]
  },
  {
   "cell_type": "markdown",
   "id": "1717f557",
   "metadata": {},
   "source": [
    "Those look like floating point numbers"
   ]
  },
  {
   "cell_type": "code",
   "execution_count": 300,
   "id": "6d863d3f",
   "metadata": {},
   "outputs": [
    {
     "data": {
      "text/plain": [
       "dtype('float64')"
      ]
     },
     "execution_count": 300,
     "metadata": {},
     "output_type": "execute_result"
    }
   ],
   "source": [
    "my_data_array.dtype"
   ]
  },
  {
   "cell_type": "markdown",
   "id": "aabe30a9",
   "metadata": {},
   "source": [
    "I will now try a list of 3 entries, each of which is a list of two numbers."
   ]
  },
  {
   "cell_type": "code",
   "execution_count": 301,
   "id": "e5326711",
   "metadata": {},
   "outputs": [
    {
     "data": {
      "text/plain": [
       "array([[1, 2],\n",
       "       [3, 4],\n",
       "       [5, 6]])"
      ]
     },
     "execution_count": 301,
     "metadata": {},
     "output_type": "execute_result"
    }
   ],
   "source": [
    "my_data_array = np.array([[1,2], [3,4], [5,6]])\n",
    "my_data_array"
   ]
  },
  {
   "cell_type": "code",
   "execution_count": 302,
   "id": "c0ca1318",
   "metadata": {},
   "outputs": [
    {
     "data": {
      "text/plain": [
       "(3, 2)"
      ]
     },
     "execution_count": 302,
     "metadata": {},
     "output_type": "execute_result"
    }
   ],
   "source": [
    "my_data_array.shape"
   ]
  },
  {
   "cell_type": "markdown",
   "id": "63bb5b5f",
   "metadata": {},
   "source": [
    "3x2 is confirmed, one way to think of this is that you can index the numpy version the same way, as the input sequence, let's look at that input list again."
   ]
  },
  {
   "cell_type": "code",
   "execution_count": 303,
   "id": "84871aff",
   "metadata": {},
   "outputs": [
    {
     "data": {
      "text/plain": [
       "[[1, 2], [3, 4], [5, 6]]"
      ]
     },
     "execution_count": 303,
     "metadata": {},
     "output_type": "execute_result"
    }
   ],
   "source": [
    "my_data_list = [[1,2], [3,4], [5,6]]\n",
    "my_data_list"
   ]
  },
  {
   "cell_type": "markdown",
   "id": "c3e7ddde",
   "metadata": {},
   "source": [
    "We can index that input list with `0`, `1`, or `2` to get one of the inner lists"
   ]
  },
  {
   "cell_type": "code",
   "execution_count": 304,
   "id": "3620f03d",
   "metadata": {},
   "outputs": [
    {
     "data": {
      "text/plain": [
       "[1, 2]"
      ]
     },
     "execution_count": 304,
     "metadata": {},
     "output_type": "execute_result"
    }
   ],
   "source": [
    "my_data_list[0]"
   ]
  },
  {
   "cell_type": "markdown",
   "id": "ec762caa",
   "metadata": {},
   "source": [
    "We can do the same with the array, you can index one at a time, and numpy will return that corresponding array. For a two-dimensional array, indexing with just one number will select you a one-dimensional subarray"
   ]
  },
  {
   "cell_type": "code",
   "execution_count": 305,
   "id": "9d6fc114",
   "metadata": {},
   "outputs": [
    {
     "data": {
      "text/plain": [
       "array([3, 4])"
      ]
     },
     "execution_count": 305,
     "metadata": {},
     "output_type": "execute_result"
    }
   ],
   "source": [
    "my_data_array[1]"
   ]
  },
  {
   "cell_type": "markdown",
   "id": "92f8e0e8",
   "metadata": {},
   "source": [
    "Returning to the question of how numpy picks the shape from a sequence? The outside length determiens the lenght of the first axis, the next layer inside picks the length of the second axis, and so on. What if we do something weird, and the inside lengths do not match?"
   ]
  },
  {
   "cell_type": "code",
   "execution_count": 307,
   "id": "31efb8f6",
   "metadata": {},
   "outputs": [
    {
     "ename": "ValueError",
     "evalue": "setting an array element with a sequence. The requested array has an inhomogeneous shape after 1 dimensions. The detected shape was (2,) + inhomogeneous part.",
     "output_type": "error",
     "traceback": [
      "\u001b[0;31m---------------------------------------------------------------------------\u001b[0m",
      "\u001b[0;31mValueError\u001b[0m                                Traceback (most recent call last)",
      "Cell \u001b[0;32mIn[307], line 1\u001b[0m\n\u001b[0;32m----> 1\u001b[0m np\u001b[38;5;241m.\u001b[39marray([[\u001b[38;5;241m1\u001b[39m,\u001b[38;5;241m2\u001b[39m], [\u001b[38;5;241m3\u001b[39m]])\n",
      "\u001b[0;31mValueError\u001b[0m: setting an array element with a sequence. The requested array has an inhomogeneous shape after 1 dimensions. The detected shape was (2,) + inhomogeneous part."
     ]
    }
   ],
   "source": [
    "np.array([[1,2], [3]])"
   ]
  },
  {
   "cell_type": "markdown",
   "id": "5f0f2268",
   "metadata": {},
   "source": [
    "The next function to convert Python data is `np.asarray`. What does it do differently? "
   ]
  },
  {
   "cell_type": "code",
   "execution_count": null,
   "id": "eccc3383",
   "metadata": {},
   "outputs": [],
   "source": [
    "my_data_array = np.asarray([[1,2], [3,4], [5,6]])\n",
    "my_data_array"
   ]
  },
  {
   "cell_type": "markdown",
   "id": "89022e7d",
   "metadata": {},
   "source": [
    "That looks the same, but there is a subtle hint in the name. `np.array` and `np.asarray` behave differently when you pass in a NumPy array. `np.array`'s default behavior is to always copy the data and make a fresh array. \n",
    "\n",
    "`np.asarray`'s default behavior is just to return the input array, because you already have the data as an array. \n",
    "\n",
    "We can check each object to see if it is the same object, or just a copy that looks the same."
   ]
  },
  {
   "cell_type": "code",
   "execution_count": null,
   "id": "cd417932",
   "metadata": {},
   "outputs": [],
   "source": [
    "id(my_data_array)"
   ]
  },
  {
   "cell_type": "code",
   "execution_count": null,
   "id": "a6c32bdf",
   "metadata": {},
   "outputs": [],
   "source": [
    "my_data_array_2 = np.array(my_data_array)\n",
    "id(my_data_array_2)"
   ]
  },
  {
   "cell_type": "code",
   "execution_count": null,
   "id": "11987c82",
   "metadata": {},
   "outputs": [],
   "source": [
    "my_data_array_3 = np.asarray(my_data_array)\n",
    "id(my_data_array_3)"
   ]
  },
  {
   "cell_type": "markdown",
   "id": "df4d49fd",
   "metadata": {},
   "source": [
    "When we passed the original NumPy array back to `np.asarray`, we got the same array back. Both `np.array` and `np.asarray` will act up if you pass in an iterator without a length"
   ]
  },
  {
   "cell_type": "code",
   "execution_count": null,
   "id": "cbd0d8ca",
   "metadata": {},
   "outputs": [],
   "source": [
    "np.array([1.2 for i in range(10)])"
   ]
  },
  {
   "cell_type": "markdown",
   "id": "9f7e6a30",
   "metadata": {},
   "source": [
    "List comprehensions have lengths because they are lists. "
   ]
  },
  {
   "cell_type": "code",
   "execution_count": null,
   "id": "f5b7f890",
   "metadata": {},
   "outputs": [],
   "source": [
    "np.array(range(10))"
   ]
  },
  {
   "cell_type": "markdown",
   "id": "ede05d07",
   "metadata": {},
   "source": [
    "Range works too because the range object supports the `len` function for length."
   ]
  },
  {
   "cell_type": "code",
   "execution_count": null,
   "id": "15337a04",
   "metadata": {},
   "outputs": [],
   "source": [
    "np.array(i for i in range(10))"
   ]
  },
  {
   "cell_type": "markdown",
   "id": "97191d2d",
   "metadata": {},
   "source": [
    "if you pass a generator object by accident, you will get a zero-dimensional scalar array with a data type object. That is almost certainly not what you wanted.\n",
    "\n",
    "If you need to pass a generator function without a length, there's another function, `np.fromiter` for this. You will need to pass the `dtype` argument as well."
   ]
  },
  {
   "cell_type": "code",
   "execution_count": null,
   "id": "d5502a50",
   "metadata": {},
   "outputs": [],
   "source": [
    "np.fromiter((i for i in range(10)), dtype=np.dtype('float64'))"
   ]
  },
  {
   "cell_type": "markdown",
   "id": "709aa2af",
   "metadata": {},
   "source": [
    "There is also an optionsl countargument to `np.fromiter`. This will limit how many values are read from the iterator. \n",
    "\n",
    "So which of these 3 functions should you use?\n",
    "\n",
    "- `np.asarray` is the most commonly used.\n",
    "    - usually this is inside a function that other people call, and you want to support all the different kinds of array like inputs. Most of numpy's functions work like this. They just convert everything into arrays as they are passed in.\n",
    "    - Using `np.asarray` on these inputs leaves the NumPy arrays unchanged, and evertying else is converted. Skipping the conversion for numpy arrays is nice. What is not so nice is writing all over the data of someone who nicely passed you an array.\n",
    "- `np.fromiter` is a good function when you are stuck with just a generator."
   ]
  },
  {
   "cell_type": "markdown",
   "id": "a27b5559",
   "metadata": {},
   "source": [
    "## 6.5 Lesson: Picking Your Data Type and Creating Arrays of Zeros and Other Constants\n",
    "\n",
    "What data type should you use?\n",
    "1. If you are only using integers, check the range involved to pick between 32 and 64 bits. If you aren't sure, use 64 bits (int64). It probably isn't worth thinking about unsigned integers - they only give you one more bit of positive range compared to the signed ones. (`int64` would cover `uint63`.)\n",
    "2. If you are using any floating point, use float32 unless you are really paranoid about numerical accuracy. Use `float64` if you are paranoid. Maybe debugging too if you want to compare against calculating with Python floating point values.\n",
    "If you want to squeeze into 16 bits or less, you need to check all your calculations carefully to make sure none of the values (final or intermediate) go out of the supported range. Check this carefully - the highest `float16` value is only 65504, and the highest `int16` value is only 32767.\n",
    "\n",
    "** Use `float32` unless you have a good reason otherwise. "
   ]
  },
  {
   "cell_type": "code",
   "execution_count": null,
   "id": "fdd4bff1",
   "metadata": {},
   "outputs": [],
   "source": [
    "np.finfo('float16').max"
   ]
  },
  {
   "cell_type": "code",
   "execution_count": null,
   "id": "0a8f7940",
   "metadata": {},
   "outputs": [],
   "source": [
    "np.array(65504, dtype=\"float16\")"
   ]
  },
  {
   "cell_type": "code",
   "execution_count": null,
   "id": "e435c02e",
   "metadata": {},
   "outputs": [],
   "source": [
    "np.iinfo(\"int16\").max"
   ]
  },
  {
   "cell_type": "markdown",
   "id": "19fa181d",
   "metadata": {},
   "source": [
    "Code Notes:\n",
    "\n",
    "- The NumPy function `numpy.finfo` will return information about the floating point data types. Unfortunately, there seems to be a bug in the `max` attribute, and it underreported the maximum value of `float16` by 4 (confirmed above).\n",
    "- The NumPy function `numpy.iinfo` similarly returns information about integer data types.\n",
    "\n",
    "| dtype | size (bytes) | common usage |\n",
    "| :--- | :--- | :--- |\n",
    "| `float64` | 8 | Will match Python floating point behavior. |\n",
    "| `float32` | 4 | Use this as your default. First data type to try to reduce memory usage. Probably just works with small numerical differences, unless your application is very sensitive to precision. |\n",
    "| `float16` | 2 | A smaller floating point data type. Test carefully since its precision and range are much more likely to be limiting. This is not the same as the `bfloat16` type mentioned in week 1. |\n",
    "| `int64` | 8  | The largest signed integer size that is ubiquitous. Check the range of integers that you are working with before choosing a smaller size such as `int32`, `int16`, or `int8`.|\n",
    "| `uint64` | 8 | The largest unsigned integer size that is ubiquitous. Use this over `int64` if you know that only non-negative numbers are needed by your application. Check the range of integers you are working with before choosing a smaller size such as `uint32`, `uint16`, or `uint8`. |"
   ]
  },
  {
   "cell_type": "markdown",
   "id": "52b9e869",
   "metadata": {},
   "source": [
    "## Creating Arrays of Zeros and Other Constants\n",
    "\n",
    "This video gives examples of creating arrays of zeros which are convenient as a blank slate to start your calculations from scratch. Examples of creating arrays of all ones and other constants are also included.\n",
    "\n",
    "We just talked about making arrays from data that we already had. let's make some arrays from scratch. The `np.zeros` function will make a numpy array full of zeros."
   ]
  },
  {
   "cell_type": "code",
   "execution_count": null,
   "id": "57cef4f1",
   "metadata": {},
   "outputs": [],
   "source": [
    "z = np.zeros(10) #how big it should be \n",
    "z"
   ]
  },
  {
   "cell_type": "markdown",
   "id": "6f6c347a",
   "metadata": {},
   "source": [
    "if you pass in an integer, then you'll get a one dimensional array with that length. If you pass in a tuple, then that will be the shape of the array."
   ]
  },
  {
   "cell_type": "code",
   "execution_count": null,
   "id": "7a097815",
   "metadata": {},
   "outputs": [],
   "source": [
    "z = np.zeros((2,5))\n",
    "z"
   ]
  },
  {
   "cell_type": "markdown",
   "id": "2989cb17",
   "metadata": {},
   "source": [
    "`np.zeros` defaults to floating point values. let's spot check with dtype was used. It can be overridden by using the optional `dtype` argument."
   ]
  },
  {
   "cell_type": "code",
   "execution_count": null,
   "id": "b0ff5d6e",
   "metadata": {},
   "outputs": [],
   "source": [
    "z.dtype"
   ]
  },
  {
   "cell_type": "code",
   "execution_count": null,
   "id": "d2fe729a",
   "metadata": {},
   "outputs": [],
   "source": [
    "z = np.zeros((2,5), dtype='int32')\n",
    "z"
   ]
  },
  {
   "cell_type": "markdown",
   "id": "f866bc02",
   "metadata": {},
   "source": [
    "Conveniently, it showed the dtype too, which will always happen if it is not the default data type. If you want to match the size and data type of an existing array, there's another numpy function called `zeros_like` that will do that. "
   ]
  },
  {
   "cell_type": "code",
   "execution_count": null,
   "id": "75115fbe",
   "metadata": {},
   "outputs": [],
   "source": [
    "z2 = np.zeros_like(z)\n",
    "z2"
   ]
  },
  {
   "cell_type": "markdown",
   "id": "4bdce241",
   "metadata": {},
   "source": [
    "Theres also `np.ones` and `np.ones_like` that function the same as `np.zeros` and `np.zeros_like`, but with 1s instead of 0s. They also default to `float64`."
   ]
  },
  {
   "cell_type": "code",
   "execution_count": null,
   "id": "18b99b9f",
   "metadata": {},
   "outputs": [],
   "source": [
    "o3 = np.ones((2,5))\n",
    "o3"
   ]
  },
  {
   "cell_type": "markdown",
   "id": "52fd7b20",
   "metadata": {},
   "source": [
    "Two more functions, `full` and `full_like` that take in one more argument that is filled in."
   ]
  },
  {
   "cell_type": "code",
   "execution_count": 430,
   "id": "d783de41",
   "metadata": {},
   "outputs": [
    {
     "data": {
      "text/plain": [
       "array([[3, 3, 3, 3, 3],\n",
       "       [3, 3, 3, 3, 3]])"
      ]
     },
     "execution_count": 430,
     "metadata": {},
     "output_type": "execute_result"
    }
   ],
   "source": [
    "f = np.full((2,5), 3)\n",
    "f"
   ]
  },
  {
   "cell_type": "markdown",
   "id": "2efc152e",
   "metadata": {},
   "source": [
    "## Creating Ranges and Grids in Arrays\n",
    "This video gives examples of creating arrays with numbers spanning a given range at regular intervals. This will generalize the use of the range function that you have already seen drive function inputs, particularly for making charts.\n",
    "\n",
    "If you've been paying attention to the example code for making charts in this module, you probably notice the use of the range function to generate data for charts. Here's an example to refresh your memory:"
   ]
  },
  {
   "cell_type": "code",
   "execution_count": null,
   "id": "1feadab5",
   "metadata": {},
   "outputs": [],
   "source": [
    "import matplotlib.pyplot as plt\n",
    "import numpy as np"
   ]
  },
  {
   "cell_type": "code",
   "execution_count": 308,
   "id": "cf79f7cd",
   "metadata": {},
   "outputs": [
    {
     "data": {
      "text/plain": [
       "[<matplotlib.lines.Line2D at 0x32dfe0290>]"
      ]
     },
     "execution_count": 308,
     "metadata": {},
     "output_type": "execute_result"
    },
    {
     "data": {
      "image/png": "[encoded data removed]",
      "text/plain": [
       "<Figure size 640x480 with 1 Axes>"
      ]
     },
     "metadata": {},
     "output_type": "display_data"
    }
   ],
   "source": [
    "plt.plot(range(10), [x**2 for x in range(10)], '*')"
   ]
  },
  {
   "cell_type": "markdown",
   "id": "837f334c",
   "metadata": {},
   "source": [
    "In this example the range function returns an iterator whos values are 0 - 9. The range function is directly used fo the x coordinates in that plot. That same range call is used in the list comprehension generating the y coordinates. For this plot, I added the extra parameter, the string with the character * to change it from a line chart to marking the points individually."
   ]
  },
  {
   "cell_type": "code",
   "execution_count": 309,
   "id": "9d63d73e",
   "metadata": {},
   "outputs": [
    {
     "data": {
      "text/plain": [
       "[<matplotlib.lines.Line2D at 0x32e057f50>]"
      ]
     },
     "execution_count": 309,
     "metadata": {},
     "output_type": "execute_result"
    },
    {
     "data": {
      "image/png": "[encoded data removed]",
      "text/plain": [
       "<Figure size 640x480 with 1 Axes>"
      ]
     },
     "metadata": {},
     "output_type": "display_data"
    }
   ],
   "source": [
    "xs = np.linspace(0, 10)\n",
    "plt.plot(xs, [x ** 2 for x in xs], \"*\" )"
   ]
  },
  {
   "cell_type": "markdown",
   "id": "ce33ee7b",
   "metadata": {},
   "source": [
    "We get a similar looking chart, but with a lot more points. What does the linspace output look like?"
   ]
  },
  {
   "cell_type": "code",
   "execution_count": 310,
   "id": "cfcd6167",
   "metadata": {},
   "outputs": [
    {
     "data": {
      "text/plain": [
       "array([ 0.        ,  0.20408163,  0.40816327,  0.6122449 ,  0.81632653,\n",
       "        1.02040816,  1.2244898 ,  1.42857143,  1.63265306,  1.83673469,\n",
       "        2.04081633,  2.24489796,  2.44897959,  2.65306122,  2.85714286,\n",
       "        3.06122449,  3.26530612,  3.46938776,  3.67346939,  3.87755102,\n",
       "        4.08163265,  4.28571429,  4.48979592,  4.69387755,  4.89795918,\n",
       "        5.10204082,  5.30612245,  5.51020408,  5.71428571,  5.91836735,\n",
       "        6.12244898,  6.32653061,  6.53061224,  6.73469388,  6.93877551,\n",
       "        7.14285714,  7.34693878,  7.55102041,  7.75510204,  7.95918367,\n",
       "        8.16326531,  8.36734694,  8.57142857,  8.7755102 ,  8.97959184,\n",
       "        9.18367347,  9.3877551 ,  9.59183673,  9.79591837, 10.        ])"
      ]
     },
     "execution_count": 310,
     "metadata": {},
     "output_type": "execute_result"
    }
   ],
   "source": [
    "xs"
   ]
  },
  {
   "cell_type": "code",
   "execution_count": 311,
   "id": "c3eb18cb",
   "metadata": {},
   "outputs": [
    {
     "data": {
      "text/plain": [
       "(50,)"
      ]
     },
     "execution_count": 311,
     "metadata": {},
     "output_type": "execute_result"
    }
   ],
   "source": [
    "xs.shape"
   ]
  },
  {
   "cell_type": "markdown",
   "id": "e1024008",
   "metadata": {},
   "source": [
    "`np.linspace` returns an array of numbers. the first number is the first argument, the last number is the second argument. The default output size is 50, The numbers in the middle are linearly interpolated between them, so they are evenly spaced in the range between the first and last numbers."
   ]
  },
  {
   "cell_type": "code",
   "execution_count": 312,
   "id": "c022bb1e",
   "metadata": {},
   "outputs": [
    {
     "data": {
      "text/plain": [
       "array([ 0. ,  2.5,  5. ,  7.5, 10. ])"
      ]
     },
     "execution_count": 312,
     "metadata": {},
     "output_type": "execute_result"
    }
   ],
   "source": [
    "np.linspace(0,10,5)"
   ]
  },
  {
   "cell_type": "markdown",
   "id": "ab71adb9",
   "metadata": {},
   "source": [
    "Somewhat similar to the python `range` function. With `linspace` you specify the end values and the number of points."
   ]
  },
  {
   "cell_type": "code",
   "execution_count": 313,
   "id": "a3f6c857",
   "metadata": {},
   "outputs": [
    {
     "data": {
      "text/plain": [
       "array([ 0.,  1.,  2.,  3.,  4.,  5.,  6.,  7.,  8.,  9., 10.])"
      ]
     },
     "execution_count": 313,
     "metadata": {},
     "output_type": "execute_result"
    }
   ],
   "source": [
    "np.linspace(0,10,11)"
   ]
  },
  {
   "cell_type": "code",
   "execution_count": 314,
   "id": "89afe6aa",
   "metadata": {},
   "outputs": [
    {
     "data": {
      "text/plain": [
       "[0, 1, 2, 3, 4, 5, 6, 7, 8, 9]"
      ]
     },
     "execution_count": 314,
     "metadata": {},
     "output_type": "execute_result"
    }
   ],
   "source": [
    "list(range(0,10))"
   ]
  },
  {
   "cell_type": "markdown",
   "id": "b832355d",
   "metadata": {},
   "source": [
    "`linspace` includes the n value, while `range` does not. `linspace` also defaults to floating point numbers."
   ]
  },
  {
   "cell_type": "code",
   "execution_count": 315,
   "id": "4b22ce51",
   "metadata": {},
   "outputs": [
    {
     "data": {
      "text/plain": [
       "array([0, 2, 4, 6, 8])"
      ]
     },
     "execution_count": 315,
     "metadata": {},
     "output_type": "execute_result"
    }
   ],
   "source": [
    "np.arange(0,10,2)"
   ]
  },
  {
   "cell_type": "code",
   "execution_count": 316,
   "id": "977ac2ab",
   "metadata": {},
   "outputs": [
    {
     "data": {
      "text/plain": [
       "array([0., 2., 4., 6., 8.])"
      ]
     },
     "execution_count": 316,
     "metadata": {},
     "output_type": "execute_result"
    }
   ],
   "source": [
    "np.arange(0,10,2, dtype='float64')"
   ]
  },
  {
   "cell_type": "markdown",
   "id": "7dd7ebc2",
   "metadata": {},
   "source": [
    "## Table of NumPy Functions for Array Creation\n",
    "The following table lists the functions demonstrated in the previous videos. They cover much of the common usage creating new arrays that are not the products of computation. Links to the documentation are in the resources section.\n",
    "\n",
    "| function  | usage |\n",
    "|-----------|-------|\n",
    "| `arange`  | Creates a new one dimensional array with contents similar to Python's range function. |\n",
    "| `array`   | Creates a new array from an array-like input. |\n",
    "| `asarray` | Creates a new array if input is array-like, but not an array. Returns input if it is already an array. |\n",
    "| `fromiter`| Creates a new array from a Python iterable. More efficient if a length is passed in too. |\n",
    "| `linspace`| Creates a new array with values evenly spaced between the specified end points. |\n",
    "| `ones`    | Creates a new array initialized with ones. |\n",
    "| `ones_like` | Creates a new array initialized with ones, matching the data type and size of an existing array. |\n",
    "| `zeros`   | Creates a new array initialized with zeros. |\n",
    "| `zeros_like` | Creates a new array initialized with zeros, matching the data type and size of an existing array. |"
   ]
  },
  {
   "cell_type": "markdown",
   "id": "dc0387ba",
   "metadata": {},
   "source": [
    "## 6.6 Lesson: Big Math\n",
    "We will finally make use of the much vaunted efficiency of NumPy arrays. We will start with element-wise operations where the same operation is applied to every element (value) in an array or to every pair of corresponding elements in two arrays. We will then cover broadcasting, a generalization of the element-wise behavior that allows arrays of different shapes to be combined meaningfully. The smallest example of broadcasting, combining an array with a single scalar, is quite natural; each element in the array is individually combined with the scalar. Broadcasting generalizes that example allowing a variety of large array operations to be concisely described and efficiently computed.\n",
    "\n",
    "### NumPy as an Array Calculator\n",
    "This video will show off NumPy arrays to perform bulk calculations quickly, similar to using Python as a calculator in week 1, but with thousands or millions of numbers at once. Basic math operations and NumPy's large library of functions will both be highlighted."
   ]
  },
  {
   "cell_type": "code",
   "execution_count": 317,
   "id": "d88dc25d",
   "metadata": {},
   "outputs": [
    {
     "data": {
      "text/plain": [
       "array([[1, 2, 3],\n",
       "       [4, 5, 6]])"
      ]
     },
     "execution_count": 317,
     "metadata": {},
     "output_type": "execute_result"
    }
   ],
   "source": [
    "x = np.array([[1,2,3], [4,5,6]])\n",
    "x"
   ]
  },
  {
   "cell_type": "code",
   "execution_count": 318,
   "id": "7b60f921",
   "metadata": {},
   "outputs": [
    {
     "data": {
      "text/plain": [
       "array([[ 7,  8,  9],\n",
       "       [10, 11, 12]])"
      ]
     },
     "execution_count": 318,
     "metadata": {},
     "output_type": "execute_result"
    }
   ],
   "source": [
    "y = np.array([[7,8,9], [10,11,12]])\n",
    "y"
   ]
  },
  {
   "cell_type": "markdown",
   "id": "8d067435",
   "metadata": {},
   "source": [
    "Let's start with some basic arithmetic first."
   ]
  },
  {
   "cell_type": "code",
   "execution_count": 319,
   "id": "eacd5c2d",
   "metadata": {},
   "outputs": [
    {
     "data": {
      "text/plain": [
       "array([[ 8, 10, 12],\n",
       "       [14, 16, 18]])"
      ]
     },
     "execution_count": 319,
     "metadata": {},
     "output_type": "execute_result"
    }
   ],
   "source": [
    "x + y"
   ]
  },
  {
   "cell_type": "markdown",
   "id": "648dc421",
   "metadata": {},
   "source": [
    "When we add the arrays together, the addition was on the element-wise basis, so the first element of x was added to the first element of y, and so on and so forth."
   ]
  },
  {
   "cell_type": "code",
   "execution_count": 320,
   "id": "d7ce39d0",
   "metadata": {},
   "outputs": [
    {
     "data": {
      "text/plain": [
       "array([[-6, -6, -6],\n",
       "       [-6, -6, -6]])"
      ]
     },
     "execution_count": 320,
     "metadata": {},
     "output_type": "execute_result"
    }
   ],
   "source": [
    "x - y"
   ]
  },
  {
   "cell_type": "code",
   "execution_count": 321,
   "id": "53b3a3cf",
   "metadata": {},
   "outputs": [
    {
     "data": {
      "text/plain": [
       "array([[ 7, 16, 27],\n",
       "       [40, 55, 72]])"
      ]
     },
     "execution_count": 321,
     "metadata": {},
     "output_type": "execute_result"
    }
   ],
   "source": [
    "x * y"
   ]
  },
  {
   "cell_type": "code",
   "execution_count": 322,
   "id": "d0deaba7",
   "metadata": {},
   "outputs": [
    {
     "data": {
      "text/plain": [
       "array([[0.14285714, 0.25      , 0.33333333],\n",
       "       [0.4       , 0.45454545, 0.5       ]])"
      ]
     },
     "execution_count": 322,
     "metadata": {},
     "output_type": "execute_result"
    }
   ],
   "source": [
    "x / y"
   ]
  },
  {
   "cell_type": "code",
   "execution_count": 323,
   "id": "0310f9b8",
   "metadata": {},
   "outputs": [
    {
     "data": {
      "text/plain": [
       "array([[0, 0, 0],\n",
       "       [0, 0, 0]])"
      ]
     },
     "execution_count": 323,
     "metadata": {},
     "output_type": "execute_result"
    }
   ],
   "source": [
    "x // y"
   ]
  },
  {
   "cell_type": "code",
   "execution_count": 324,
   "id": "e8cf60fe",
   "metadata": {},
   "outputs": [
    {
     "data": {
      "text/plain": [
       "array([[ 0.84147098,  0.90929743,  0.14112001],\n",
       "       [-0.7568025 , -0.95892427, -0.2794155 ]])"
      ]
     },
     "execution_count": 324,
     "metadata": {},
     "output_type": "execute_result"
    }
   ],
   "source": [
    " np.sin(x)"
   ]
  },
  {
   "cell_type": "markdown",
   "id": "0a3a6c18",
   "metadata": {},
   "source": [
    "## Handling Arrays of Different Shapes\n",
    "This video introduces NumPy's handling of arrays with different shapes. Combining arrays with individual scalars have a simple intuitive behavior. Broadcasting generalizes that behavior in a powerful way."
   ]
  },
  {
   "cell_type": "code",
   "execution_count": 325,
   "id": "667093df",
   "metadata": {},
   "outputs": [
    {
     "data": {
      "text/plain": [
       "array([[0, 1, 2, 3, 4, 5]])"
      ]
     },
     "execution_count": 325,
     "metadata": {},
     "output_type": "execute_result"
    }
   ],
   "source": [
    "#combine array with scalar\n",
    "x = np.array([[0,1,2,3,4,5]])\n",
    "x"
   ]
  },
  {
   "cell_type": "code",
   "execution_count": 326,
   "id": "10cbee22",
   "metadata": {},
   "outputs": [
    {
     "data": {
      "text/plain": [
       "array([[10, 11, 12, 13, 14, 15]])"
      ]
     },
     "execution_count": 326,
     "metadata": {},
     "output_type": "execute_result"
    }
   ],
   "source": [
    " x + 10"
   ]
  },
  {
   "cell_type": "markdown",
   "id": "f0fb7bfa",
   "metadata": {},
   "source": [
    "if you combine an array with a scalar, we say that scalar is broadcast, and we bind with every number in that array. "
   ]
  },
  {
   "cell_type": "code",
   "execution_count": 327,
   "id": "222e1f42",
   "metadata": {},
   "outputs": [
    {
     "data": {
      "text/plain": [
       "array([[  0],\n",
       "       [100],\n",
       "       [200],\n",
       "       [300],\n",
       "       [400]])"
      ]
     },
     "execution_count": 327,
     "metadata": {},
     "output_type": "execute_result"
    }
   ],
   "source": [
    "y = np.array([[0], [100], [200], [300], [400]])\n",
    "y"
   ]
  },
  {
   "cell_type": "code",
   "execution_count": 328,
   "id": "0b811e08",
   "metadata": {},
   "outputs": [
    {
     "data": {
      "text/plain": [
       "array([[  0,   1,   2,   3,   4,   5],\n",
       "       [100, 101, 102, 103, 104, 105],\n",
       "       [200, 201, 202, 203, 204, 205],\n",
       "       [300, 301, 302, 303, 304, 305],\n",
       "       [400, 401, 402, 403, 404, 405]])"
      ]
     },
     "execution_count": 328,
     "metadata": {},
     "output_type": "execute_result"
    }
   ],
   "source": [
    "x + y"
   ]
  },
  {
   "cell_type": "markdown",
   "id": "7e3b2582",
   "metadata": {},
   "source": [
    "This just combined x with one row of 6 columns with y with 5 rows of one column for an array with 5 rows and 6 columns."
   ]
  },
  {
   "cell_type": "code",
   "execution_count": 329,
   "id": "48f67dc3",
   "metadata": {},
   "outputs": [
    {
     "data": {
      "text/plain": [
       "(1, 6)"
      ]
     },
     "execution_count": 329,
     "metadata": {},
     "output_type": "execute_result"
    }
   ],
   "source": [
    "x.shape"
   ]
  },
  {
   "cell_type": "code",
   "execution_count": 330,
   "id": "25793448",
   "metadata": {},
   "outputs": [
    {
     "data": {
      "text/plain": [
       "(5, 1)"
      ]
     },
     "execution_count": 330,
     "metadata": {},
     "output_type": "execute_result"
    }
   ],
   "source": [
    "y.shape"
   ]
  },
  {
   "cell_type": "markdown",
   "id": "7393119e",
   "metadata": {},
   "source": [
    "broadcasting will work if each array have the same length, or if one of them has length 1."
   ]
  },
  {
   "cell_type": "code",
   "execution_count": 331,
   "id": "71736712",
   "metadata": {},
   "outputs": [
    {
     "data": {
      "text/plain": [
       "(5, 6)"
      ]
     },
     "execution_count": 331,
     "metadata": {},
     "output_type": "execute_result"
    }
   ],
   "source": [
    "(x + y).shape"
   ]
  },
  {
   "cell_type": "markdown",
   "id": "c9461bf1",
   "metadata": {},
   "source": [
    "## Computation on Arrays: Broadcasting\n",
    "We saw in the previous section how NumPy's universal functions can be used to vectorize operations and thereby remove slow Python loops. Another means of vectorizing operations is to use NumPy's broadcasting functionality. Broadcasting is simply a set of rules for applying binary ufuncs (e.g., addition, subtraction, multiplication, etc.) on arrays of different sizes.\n",
    "\n",
    "### Introducing Broadcasting\n",
    "Recall that for arrays of the same size, binary operations are performed on an element-by-element basis:"
   ]
  },
  {
   "cell_type": "code",
   "execution_count": 332,
   "id": "bfb65a62",
   "metadata": {},
   "outputs": [
    {
     "data": {
      "text/plain": [
       "array([5, 6, 7])"
      ]
     },
     "execution_count": 332,
     "metadata": {},
     "output_type": "execute_result"
    }
   ],
   "source": [
    "a = np.array([0, 1, 2])\n",
    "b = np.array([5, 5, 5])\n",
    "a + b"
   ]
  },
  {
   "cell_type": "markdown",
   "id": "1bfce0e7",
   "metadata": {},
   "source": [
    "Broadcasting allows these types of binary operations to be performed on arrays of different sizes–for example, we can just as easily add a scalar (think of it as a zero-dimensional array) to an array:"
   ]
  },
  {
   "cell_type": "code",
   "execution_count": 333,
   "id": "cfc99484",
   "metadata": {},
   "outputs": [
    {
     "data": {
      "text/plain": [
       "array([5, 6, 7])"
      ]
     },
     "execution_count": 333,
     "metadata": {},
     "output_type": "execute_result"
    }
   ],
   "source": [
    "a + 5"
   ]
  },
  {
   "cell_type": "markdown",
   "id": "fbf3f36d",
   "metadata": {},
   "source": [
    "We can think of this as an operation that stretches or duplicates the value 5 into the array `[5, 5, 5]`, and adds the results. The advantage of NumPy's broadcasting is that this duplication of values does not actually take place, but it is a useful mental model as we think about broadcasting.\n",
    "\n",
    "We can similarly extend this to arrays of higher dimension. Observe the result when we add a one-dimensional array to a two-dimensional array:"
   ]
  },
  {
   "cell_type": "code",
   "execution_count": 334,
   "id": "92d8f7f4",
   "metadata": {},
   "outputs": [
    {
     "data": {
      "text/plain": [
       "array([[1., 1., 1.],\n",
       "       [1., 1., 1.],\n",
       "       [1., 1., 1.]])"
      ]
     },
     "execution_count": 334,
     "metadata": {},
     "output_type": "execute_result"
    }
   ],
   "source": [
    "M = np.ones((3,3))\n",
    "M"
   ]
  },
  {
   "cell_type": "code",
   "execution_count": 335,
   "id": "16f85ab1",
   "metadata": {},
   "outputs": [
    {
     "data": {
      "text/plain": [
       "array([[1., 2., 3.],\n",
       "       [1., 2., 3.],\n",
       "       [1., 2., 3.]])"
      ]
     },
     "execution_count": 335,
     "metadata": {},
     "output_type": "execute_result"
    }
   ],
   "source": [
    "M + a"
   ]
  },
  {
   "cell_type": "markdown",
   "id": "888b0dc0",
   "metadata": {},
   "source": [
    "Here the one-dimensional array `a` is stretched, or broadcast across the second dimension in order to match the shape of `M`.\n",
    "\n",
    "While these examples are relatively easy to understand, more complicated cases can involve broadcasting of both arrays. Consider the following example:"
   ]
  },
  {
   "cell_type": "code",
   "execution_count": 336,
   "id": "c8d977a6",
   "metadata": {},
   "outputs": [
    {
     "name": "stdout",
     "output_type": "stream",
     "text": [
      "[0 1 2]\n",
      "[[0]\n",
      " [1]\n",
      " [2]]\n"
     ]
    }
   ],
   "source": [
    "a = np.arange(3)\n",
    "b = np.arange(3)[:, np.newaxis]\n",
    "\n",
    "print(a)\n",
    "print(b)"
   ]
  },
  {
   "cell_type": "code",
   "execution_count": 337,
   "id": "16db6735",
   "metadata": {},
   "outputs": [
    {
     "data": {
      "text/plain": [
       "array([[0, 1, 2],\n",
       "       [1, 2, 3],\n",
       "       [2, 3, 4]])"
      ]
     },
     "execution_count": 337,
     "metadata": {},
     "output_type": "execute_result"
    }
   ],
   "source": [
    "a + b"
   ]
  },
  {
   "attachments": {
    "image.png": {
     "image/png": "[encoded data removed]"
    }
   },
   "cell_type": "markdown",
   "id": "2367162a",
   "metadata": {},
   "source": [
    "Just as before we stretched or broadcasted one value to match the shape of the other, here we've stretched both `a` and `b` to match a common shape, and the result is a two-dimensional array! The geometry of these examples is visualized in the following figure (Code to produce this plot can be found in the appendix, and is adapted from source published in the astroML documentation. Used by permission).\n",
    "\n",
    "![image.png](attachment:image.png)\n",
    "\n",
    "The light boxes represent the broadcasted values: again, this extra memory is not actually allocated in the course of the operation, but it can be useful conceptually to imagine that it is.\n",
    "\n",
    "## Rules of Broadcasting\n",
    "\n",
    "Broadcasting in NumPy follows a strict set of rules to determine the interaction between the two arrays:\n",
    "\n",
    "- Rule 1: If the two arrays differ in their number of dimensions, the shape of the one with fewer dimensions is padded with ones on its leading (left) side.\n",
    "- Rule 2: If the shape of the two arrays does not match in any dimension, the array with shape equal to 1 in that dimension is stretched to match the other shape.\n",
    "- Rule 3: If in any dimension the sizes disagree and neither is equal to 1, an error is raised.\n",
    "To make these rules clear, let's consider a few examples in detail."
   ]
  },
  {
   "cell_type": "markdown",
   "id": "5b0cab24",
   "metadata": {},
   "source": [
    "### Broadcasting example 1\n",
    "Let's look at adding a two-dimensional array to a one-dimensional array:"
   ]
  },
  {
   "cell_type": "code",
   "execution_count": 338,
   "id": "01a3cbc8",
   "metadata": {},
   "outputs": [],
   "source": [
    "M = np.ones((2, 3))\n",
    "a = np.arange(3)"
   ]
  },
  {
   "cell_type": "markdown",
   "id": "7826a11b",
   "metadata": {},
   "source": [
    "Let's consider an operation on these two arrays. The shape of the arrays are\n",
    "\n",
    "- `M.shape = (2, 3)`\n",
    "- `a.shape = (3,)`\n",
    "\n",
    "We see by rule 1 that the array `a` has fewer dimensions, so we pad it on the left with ones:\n",
    "\n",
    "- `M.shape -> (2, 3)`\n",
    "- `a.shape -> (1, 3)`\n",
    "\n",
    "By rule 2, we now see that the first dimension disagrees, so we stretch this dimension to match:\n",
    "\n",
    "- `M.shape -> (2, 3)`\n",
    "- `a.shape -> (2, 3)`\n",
    "\n",
    "The shapes match, and we see that the final shape will be `(2, 3)`:"
   ]
  },
  {
   "cell_type": "code",
   "execution_count": 339,
   "id": "a7127c1a",
   "metadata": {},
   "outputs": [
    {
     "data": {
      "text/plain": [
       "array([[1., 2., 3.],\n",
       "       [1., 2., 3.]])"
      ]
     },
     "execution_count": 339,
     "metadata": {},
     "output_type": "execute_result"
    }
   ],
   "source": [
    "M + a"
   ]
  },
  {
   "cell_type": "markdown",
   "id": "1ef641f4",
   "metadata": {},
   "source": [
    "### Broadcasting example 2\n",
    "Let's take a look at an example where both arrays need to be broadcast:"
   ]
  },
  {
   "cell_type": "code",
   "execution_count": 340,
   "id": "53e5e831",
   "metadata": {},
   "outputs": [],
   "source": [
    "a = np.arange(3).reshape((3, 1))\n",
    "b = np.arange(3)"
   ]
  },
  {
   "cell_type": "markdown",
   "id": "d82c14b4",
   "metadata": {},
   "source": [
    "Again, we'll start by writing out the shape of the arrays:\n",
    "\n",
    "- `a.shape = (3, 1)`\n",
    "- `b.shape = (3,)`\n",
    "\n",
    "Rule 1 says we must pad the shape of b with ones:\n",
    "\n",
    "- `a.shape -> (3, 1)`\n",
    "- `b.shape -> (1, 3)`\n",
    "\n",
    "And rule 2 tells us that we upgrade each of these ones to match the corresponding size of the other array:\n",
    "\n",
    "- `a.shape -> (3, 3)`\n",
    "- `b.shape -> (3, 3)`\n",
    "\n",
    "Because the result matches, these shapes are compatible. We can see this here:"
   ]
  },
  {
   "cell_type": "code",
   "execution_count": 341,
   "id": "31402de8",
   "metadata": {},
   "outputs": [
    {
     "data": {
      "text/plain": [
       "array([[0, 1, 2],\n",
       "       [1, 2, 3],\n",
       "       [2, 3, 4]])"
      ]
     },
     "execution_count": 341,
     "metadata": {},
     "output_type": "execute_result"
    }
   ],
   "source": [
    "a + b"
   ]
  },
  {
   "cell_type": "markdown",
   "id": "ae8cecde",
   "metadata": {},
   "source": [
    "### Broadcasting Example 3\n",
    "Now let's take a look at an example in which the two arrays are not compatible:"
   ]
  },
  {
   "cell_type": "code",
   "execution_count": 342,
   "id": "f947598f",
   "metadata": {},
   "outputs": [],
   "source": [
    "M = np.ones((3, 2))\n",
    "a = np.arange(3)"
   ]
  },
  {
   "cell_type": "markdown",
   "id": "fb38f013",
   "metadata": {},
   "source": [
    "This is just a slightly different situation than in the first example: the matrix `M` is transposed. How does this affect the calculation? The shape of the arrays are\n",
    "\n",
    "- `M.shape = (3, 2)`\n",
    "- `a.shape = (3,)`\n",
    "\n",
    "Again, rule 1 tells us that we must pad the shape of a with ones:\n",
    "\n",
    "- `M.shape -> (3, 2)`\n",
    "- `a.shape -> (1, 3)`\n",
    "\n",
    "By rule 2, the first dimension of a is stretched to match that of `M`:\n",
    "\n",
    "- `M.shape -> (3, 2)`\n",
    "- `a.shape -> (3, 3)`\n",
    "\n",
    "Now we hit rule 3–the final shapes do not match, so these two arrays are incompatible, as we can observe by attempting this operation:"
   ]
  },
  {
   "cell_type": "code",
   "execution_count": 373,
   "id": "8b12f8e0",
   "metadata": {},
   "outputs": [
    {
     "ename": "ValueError",
     "evalue": "operands could not be broadcast together with shapes (3,4) (3,) ",
     "output_type": "error",
     "traceback": [
      "\u001b[0;31m---------------------------------------------------------------------------\u001b[0m",
      "\u001b[0;31mValueError\u001b[0m                                Traceback (most recent call last)",
      "Cell \u001b[0;32mIn[373], line 1\u001b[0m\n\u001b[0;32m----> 1\u001b[0m M \u001b[38;5;241m+\u001b[39m a\n",
      "\u001b[0;31mValueError\u001b[0m: operands could not be broadcast together with shapes (3,4) (3,) "
     ]
    }
   ],
   "source": [
    "M + a"
   ]
  },
  {
   "cell_type": "markdown",
   "id": "9e3e3bc4",
   "metadata": {},
   "source": [
    "Note the potential confusion here: you could imagine making `a` and `M` compatible by, say, padding `a`'s shape with ones on the right rather than the left. But this is not how the broadcasting rules work! That sort of flexibility might be useful in some cases, but it would lead to potential areas of ambiguity. If right-side padding is what you'd like, you can do this explicitly by reshaping the array (we'll use the `np.newaxis` keyword introduced in The Basics of NumPy Arrays):"
   ]
  },
  {
   "cell_type": "code",
   "execution_count": 374,
   "id": "b58c12c5",
   "metadata": {},
   "outputs": [
    {
     "data": {
      "text/plain": [
       "(3, 1)"
      ]
     },
     "execution_count": 374,
     "metadata": {},
     "output_type": "execute_result"
    }
   ],
   "source": [
    "a[:, np.newaxis].shape"
   ]
  },
  {
   "cell_type": "code",
   "execution_count": 375,
   "id": "7cbfb991",
   "metadata": {},
   "outputs": [
    {
     "data": {
      "text/plain": [
       "array([[0.17884014, 0.68772795, 0.40226081, 0.15092894],\n",
       "       [1.31477631, 1.51593677, 1.75373936, 1.07237938],\n",
       "       [2.14997301, 2.43816894, 2.69456405, 2.24380266]])"
      ]
     },
     "execution_count": 375,
     "metadata": {},
     "output_type": "execute_result"
    }
   ],
   "source": [
    "M + a[:, np.newaxis]"
   ]
  },
  {
   "cell_type": "markdown",
   "id": "8cc83409",
   "metadata": {},
   "source": [
    "Also note that while we've been focusing on the `+` operator here, these broadcasting rules apply to *any* binary ufunc. For example, here is the `logaddexp(a, b)` function, which computes `log(exp(a) + exp(b))` with more precision than the naive approach:"
   ]
  },
  {
   "cell_type": "code",
   "execution_count": 376,
   "id": "c537c82e",
   "metadata": {},
   "outputs": [
    {
     "data": {
      "text/plain": [
       "array([[0.78655991, 1.09500273, 0.91436938, 0.77145639],\n",
       "       [1.40811325, 1.48012364, 1.57757832, 1.3332482 ],\n",
       "       [2.14603174, 2.19041509, 2.23984675, 2.15930907]])"
      ]
     },
     "execution_count": 376,
     "metadata": {},
     "output_type": "execute_result"
    }
   ],
   "source": [
    "np.logaddexp(M, a[:, np.newaxis])"
   ]
  },
  {
   "cell_type": "markdown",
   "id": "0c6853f8",
   "metadata": {},
   "source": [
    "## Broadcasting in Practice\n",
    "Broadcasting operations form the core of many examples we'll see throughout this book. We'll now take a look at a couple simple examples of where they can be useful.\n",
    "\n",
    "## Centering an array\n",
    "In the previous section, we saw that ufuncs allow a NumPy user to remove the need to explicitly write slow Python loops. Broadcasting extends this ability. One commonly seen example is when centering an array of data. Imagine you have an array of 10 observations, each of which consists of 3 values. Using the standard convention (see Data Representation in Scikit-Learn), we'll store this in a 10×3 array:"
   ]
  },
  {
   "cell_type": "code",
   "execution_count": 377,
   "id": "a5aa3848",
   "metadata": {},
   "outputs": [],
   "source": [
    "X = np.random.random((10,3))"
   ]
  },
  {
   "cell_type": "markdown",
   "id": "357fd674",
   "metadata": {},
   "source": [
    "We can compute the mean of each feature by using the `mean` aggregate across the first dimension:"
   ]
  },
  {
   "cell_type": "code",
   "execution_count": 378,
   "id": "e4712a91",
   "metadata": {},
   "outputs": [
    {
     "data": {
      "text/plain": [
       "array([0.40647027, 0.44407459, 0.36398265])"
      ]
     },
     "execution_count": 378,
     "metadata": {},
     "output_type": "execute_result"
    }
   ],
   "source": [
    "Xmean = X.mean(0)\n",
    "Xmean"
   ]
  },
  {
   "cell_type": "markdown",
   "id": "fea5044a",
   "metadata": {},
   "source": [
    "And now we can center the `X` array by subtracting the mean(this is the broadcasting operation)"
   ]
  },
  {
   "cell_type": "code",
   "execution_count": 379,
   "id": "55fe6e06",
   "metadata": {},
   "outputs": [],
   "source": [
    "X_centered = X - Xmean"
   ]
  },
  {
   "cell_type": "markdown",
   "id": "d37cf3e0",
   "metadata": {},
   "source": [
    "To double-check that we've done this correctly, we can check that the centered array has near zero mean:"
   ]
  },
  {
   "cell_type": "code",
   "execution_count": 380,
   "id": "cacd3d1a",
   "metadata": {},
   "outputs": [
    {
     "data": {
      "text/plain": [
       "array([-8.8817842e-17, -4.4408921e-17, -4.4408921e-17])"
      ]
     },
     "execution_count": 380,
     "metadata": {},
     "output_type": "execute_result"
    }
   ],
   "source": [
    "X_centered.mean(0)"
   ]
  },
  {
   "cell_type": "markdown",
   "id": "a4f68a61",
   "metadata": {},
   "source": [
    "To within machine precision the mean is now zero. "
   ]
  },
  {
   "cell_type": "markdown",
   "id": "ce316820",
   "metadata": {},
   "source": [
    "### Plotting a two-dimensional function\n",
    "One place that broadcasting is very useful is in displaying images based on two-dimensional functions. If we want to define a function $z=f(x,y)$, broadcasting can be used to compute the function across the grid:"
   ]
  },
  {
   "cell_type": "code",
   "execution_count": 381,
   "id": "367034fe",
   "metadata": {},
   "outputs": [],
   "source": [
    "# x and y have 50 steps from 0 to 5\n",
    "x = np.linspace(0, 5, 50)\n",
    "y = np.linspace(0, 5, 50)[:, np.newaxis]\n",
    "\n",
    "z = np.sin(x) ** 10 + np.cos(10 + y * x) * np.cos(x)"
   ]
  },
  {
   "cell_type": "code",
   "execution_count": 382,
   "id": "6df11377",
   "metadata": {},
   "outputs": [
    {
     "data": {
      "image/png": "[encoded data removed]",
      "text/plain": [
       "<Figure size 640x480 with 2 Axes>"
      ]
     },
     "metadata": {},
     "output_type": "display_data"
    }
   ],
   "source": [
    "%matplotlib inline\n",
    "import matplotlib.pyplot as plt\n",
    "plt.imshow(z, origin='lower', extent=[0, 5, 0, 5],\n",
    "           cmap='viridis')\n",
    "plt.colorbar();"
   ]
  },
  {
   "cell_type": "markdown",
   "id": "96545c6d",
   "metadata": {},
   "source": [
    "## Lesson 6.7: Reducing Arrays and Making a Universal Function\n",
    "NumPy can also reduce arrays of numbers to smaller summaries or statistics in an efficient way. We will see a few examples of this, along with options to control the reduction.\n",
    "\n",
    "### Reducing Arrays\n",
    "This video gives examples of using NumPy to reduce arrays to smaller summaries or statistics of the data."
   ]
  },
  {
   "cell_type": "code",
   "execution_count": 383,
   "id": "3a991e61",
   "metadata": {},
   "outputs": [
    {
     "data": {
      "text/plain": [
       "array([[1, 3, 6],\n",
       "       [2, 3, 5]])"
      ]
     },
     "execution_count": 383,
     "metadata": {},
     "output_type": "execute_result"
    }
   ],
   "source": [
    "x = np.array([[1,3,6], [2,3,5]])\n",
    "x"
   ]
  },
  {
   "cell_type": "code",
   "execution_count": 384,
   "id": "82a9f5fe",
   "metadata": {},
   "outputs": [
    {
     "data": {
      "text/plain": [
       "20"
      ]
     },
     "execution_count": 384,
     "metadata": {},
     "output_type": "execute_result"
    }
   ],
   "source": [
    "np.sum(x)"
   ]
  },
  {
   "cell_type": "code",
   "execution_count": 385,
   "id": "b7dcfca7",
   "metadata": {},
   "outputs": [
    {
     "data": {
      "text/plain": [
       "3.3333333333333335"
      ]
     },
     "execution_count": 385,
     "metadata": {},
     "output_type": "execute_result"
    }
   ],
   "source": [
    "np.mean(x)"
   ]
  },
  {
   "cell_type": "code",
   "execution_count": 386,
   "id": "7eaeab7c",
   "metadata": {},
   "outputs": [
    {
     "data": {
      "text/plain": [
       "6"
      ]
     },
     "execution_count": 386,
     "metadata": {},
     "output_type": "execute_result"
    }
   ],
   "source": [
    "np.max(x)"
   ]
  },
  {
   "cell_type": "markdown",
   "id": "4a43ef22",
   "metadata": {},
   "source": [
    "If you call one of these functions with an array, they will return a value summarizing the whole array. You can get a more granular summary by also passing an axis."
   ]
  },
  {
   "cell_type": "code",
   "execution_count": 387,
   "id": "6d472eb1",
   "metadata": {},
   "outputs": [
    {
     "data": {
      "text/plain": [
       "array([ 3,  6, 11])"
      ]
     },
     "execution_count": 387,
     "metadata": {},
     "output_type": "execute_result"
    }
   ],
   "source": [
    "np.sum(x, axis=0)"
   ]
  },
  {
   "cell_type": "code",
   "execution_count": 388,
   "id": "ae6d018b",
   "metadata": {},
   "outputs": [
    {
     "data": {
      "text/plain": [
       "array([10, 10])"
      ]
     },
     "execution_count": 388,
     "metadata": {},
     "output_type": "execute_result"
    }
   ],
   "source": [
    "np.sum(x, axis=1)"
   ]
  },
  {
   "cell_type": "code",
   "execution_count": 389,
   "id": "79e02e70",
   "metadata": {},
   "outputs": [
    {
     "data": {
      "text/plain": [
       "array([[10],\n",
       "       [10]])"
      ]
     },
     "execution_count": 389,
     "metadata": {},
     "output_type": "execute_result"
    }
   ],
   "source": [
    "x1 = np.sum(x, axis=1, keepdims=True)\n",
    "x1"
   ]
  },
  {
   "cell_type": "code",
   "execution_count": 390,
   "id": "eced13c6",
   "metadata": {},
   "outputs": [
    {
     "data": {
      "text/plain": [
       "(2, 1)"
      ]
     },
     "execution_count": 390,
     "metadata": {},
     "output_type": "execute_result"
    }
   ],
   "source": [
    "x1.shape"
   ]
  },
  {
   "cell_type": "markdown",
   "id": "d692f3ad",
   "metadata": {},
   "source": [
    "if you already have an array, you can call the more common functions as methods on the array"
   ]
  },
  {
   "cell_type": "code",
   "execution_count": 391,
   "id": "249a9fb6",
   "metadata": {},
   "outputs": [
    {
     "data": {
      "text/plain": [
       "20"
      ]
     },
     "execution_count": 391,
     "metadata": {},
     "output_type": "execute_result"
    }
   ],
   "source": [
    "np.sum(x)"
   ]
  },
  {
   "cell_type": "markdown",
   "id": "2d4c0240",
   "metadata": {},
   "source": [
    "If you are writing a function that might take in anything arry like as input, use the module function, which will handle the conversions automatically or use `np.asarray` if you'll repeatedly use the array data."
   ]
  },
  {
   "cell_type": "markdown",
   "id": "f78b97ac",
   "metadata": {},
   "source": [
    "## Aggregations: Min, Max, and Everything In Between\n",
    "\n",
    "Often when faced with a large amount of data, a first step is to compute summary statistics for the data in question. Perhaps the most common summary statistics are the mean and standard deviation, which allow you to summarize the \"typical\" values in a dataset, but other aggregates are useful as well (the sum, product, median, minimum and maximum, quantiles, etc.).\n",
    "\n",
    "NumPy has fast built-in aggregation functions for working on arrays; we'll discuss and demonstrate some of them here.\n",
    "\n",
    "### Summing the Values in an Array\n",
    "As a quick example, consider computing the sum of all values in an array. Python itself can do this using the built-in `sum` function:"
   ]
  },
  {
   "cell_type": "code",
   "execution_count": 392,
   "id": "54536dc0",
   "metadata": {},
   "outputs": [
    {
     "data": {
      "text/plain": [
       "54.58939404484365"
      ]
     },
     "execution_count": 392,
     "metadata": {},
     "output_type": "execute_result"
    }
   ],
   "source": [
    "L = np.random.random(100)\n",
    "sum(L)"
   ]
  },
  {
   "cell_type": "markdown",
   "id": "dd788527",
   "metadata": {},
   "source": [
    "The syntax is quite similar to that of Numpy's `sum` function, and the result is the same in the simplest case."
   ]
  },
  {
   "cell_type": "code",
   "execution_count": 393,
   "id": "1dd33a5e",
   "metadata": {},
   "outputs": [
    {
     "data": {
      "text/plain": [
       "54.58939404484368"
      ]
     },
     "execution_count": 393,
     "metadata": {},
     "output_type": "execute_result"
    }
   ],
   "source": [
    "np.sum(L)"
   ]
  },
  {
   "cell_type": "markdown",
   "id": "f65987a4",
   "metadata": {},
   "source": [
    "However, because it executes the operation in compiled code, NumPy's version of the operation is computed much more quickly:"
   ]
  },
  {
   "cell_type": "code",
   "execution_count": 394,
   "id": "61f5cfae",
   "metadata": {},
   "outputs": [
    {
     "name": "stdout",
     "output_type": "stream",
     "text": [
      "48.3 ms ± 1.69 ms per loop (mean ± std. dev. of 7 runs, 10 loops each)\n",
      "180 µs ± 1.61 µs per loop (mean ± std. dev. of 7 runs, 10,000 loops each)\n"
     ]
    }
   ],
   "source": [
    "big_array = np.random.rand(1000000)\n",
    "%timeit sum(big_array)\n",
    "%timeit np.sum(big_array)"
   ]
  },
  {
   "cell_type": "markdown",
   "id": "080750e1",
   "metadata": {},
   "source": [
    "Be careful, though: the `sum` function and the `np.sum` function are not identical, which can sometimes lead to confusion! In particular, their optional arguments have different meanings, and `np.sum` is aware of multiple array dimensions, as we will see in the following section."
   ]
  },
  {
   "cell_type": "markdown",
   "id": "ce869a52",
   "metadata": {},
   "source": [
    "### Minimum and Maximum\n",
    "Similarly, Python has built-in `min` and `max` functions, used to find the minimum value of any given array:"
   ]
  },
  {
   "cell_type": "code",
   "execution_count": 395,
   "id": "5acd28c5",
   "metadata": {},
   "outputs": [
    {
     "data": {
      "text/plain": [
       "(7.071203171893359e-07, 0.9999997207656334)"
      ]
     },
     "execution_count": 395,
     "metadata": {},
     "output_type": "execute_result"
    }
   ],
   "source": [
    "min(big_array), max(big_array)"
   ]
  },
  {
   "cell_type": "markdown",
   "id": "894f0342",
   "metadata": {},
   "source": [
    "NumPy's corresponding functions have similar syntax, and again operate much more quickly:"
   ]
  },
  {
   "cell_type": "code",
   "execution_count": 396,
   "id": "84a73e76",
   "metadata": {},
   "outputs": [
    {
     "data": {
      "text/plain": [
       "(7.071203171893359e-07, 0.9999997207656334)"
      ]
     },
     "execution_count": 396,
     "metadata": {},
     "output_type": "execute_result"
    }
   ],
   "source": [
    "np.min(big_array), np.max(big_array)"
   ]
  },
  {
   "cell_type": "code",
   "execution_count": 397,
   "id": "ae37feff",
   "metadata": {},
   "outputs": [
    {
     "name": "stdout",
     "output_type": "stream",
     "text": [
      "30.3 ms ± 91 µs per loop (mean ± std. dev. of 7 runs, 10 loops each)\n",
      "115 µs ± 589 ns per loop (mean ± std. dev. of 7 runs, 10,000 loops each)\n"
     ]
    }
   ],
   "source": [
    "%timeit min(big_array)\n",
    "%timeit np.min(big_array)"
   ]
  },
  {
   "cell_type": "markdown",
   "id": "f04e4446",
   "metadata": {},
   "source": [
    "For `min`, `max`, `sum`, and several other NumPy aggregates, a shorter syntax is to use methods of the array object itself:"
   ]
  },
  {
   "cell_type": "code",
   "execution_count": 398,
   "id": "980e8f16",
   "metadata": {},
   "outputs": [
    {
     "name": "stdout",
     "output_type": "stream",
     "text": [
      "7.071203171893359e-07 0.9999997207656334 500214.19758462254\n"
     ]
    }
   ],
   "source": [
    "print(big_array.min(), big_array.max(), big_array.sum())"
   ]
  },
  {
   "cell_type": "markdown",
   "id": "e6fb039d",
   "metadata": {},
   "source": [
    "Whenever possible, make sure that you are using the NumPy version of these aggregates when operating on NumPy arrays!"
   ]
  },
  {
   "cell_type": "markdown",
   "id": "2ab4cc9f",
   "metadata": {},
   "source": [
    "### Multi-Dimensional Aggregates\n",
    "One common type of aggregation operation is an aggregate along a row or column. Say you have some data stored in a two-dimensional array:"
   ]
  },
  {
   "cell_type": "code",
   "execution_count": 399,
   "id": "8c294159",
   "metadata": {},
   "outputs": [
    {
     "name": "stdout",
     "output_type": "stream",
     "text": [
      "[[0.81250458 0.68306202 0.09142216 0.72943166]\n",
      " [0.49977781 0.88075176 0.77188336 0.33609389]\n",
      " [0.35670153 0.26486376 0.51351043 0.18439926]]\n"
     ]
    }
   ],
   "source": [
    "M = np.random.random((3,4))\n",
    "print(M)"
   ]
  },
  {
   "cell_type": "markdown",
   "id": "eb37a463",
   "metadata": {},
   "source": [
    "By default, each NumPy aggregation function will return the aggregate over the entire array:"
   ]
  },
  {
   "cell_type": "code",
   "execution_count": 400,
   "id": "7c8e8c04",
   "metadata": {},
   "outputs": [
    {
     "data": {
      "text/plain": [
       "6.124402222351315"
      ]
     },
     "execution_count": 400,
     "metadata": {},
     "output_type": "execute_result"
    }
   ],
   "source": [
    "M.sum()"
   ]
  },
  {
   "cell_type": "markdown",
   "id": "024d830c",
   "metadata": {},
   "source": [
    "Aggregation functions take an additional argument specifying the axis along which the aggregate is computed. For example, we can find the minimum value within each column by specifying `axis=0`:"
   ]
  },
  {
   "cell_type": "code",
   "execution_count": 401,
   "id": "8aff90b7",
   "metadata": {},
   "outputs": [
    {
     "data": {
      "text/plain": [
       "array([0.35670153, 0.26486376, 0.09142216, 0.18439926])"
      ]
     },
     "execution_count": 401,
     "metadata": {},
     "output_type": "execute_result"
    }
   ],
   "source": [
    "M.min(axis=0)"
   ]
  },
  {
   "cell_type": "markdown",
   "id": "3b0092d7",
   "metadata": {},
   "source": [
    "The function returns four values, corresponding to the four columns of numbers.\n",
    "\n",
    "Similarly, we can find the maximum value within each row:"
   ]
  },
  {
   "cell_type": "code",
   "execution_count": 402,
   "id": "21bbda6b",
   "metadata": {},
   "outputs": [
    {
     "data": {
      "text/plain": [
       "array([0.09142216, 0.33609389, 0.18439926])"
      ]
     },
     "execution_count": 402,
     "metadata": {},
     "output_type": "execute_result"
    }
   ],
   "source": [
    "M.min(axis=1)"
   ]
  },
  {
   "cell_type": "markdown",
   "id": "3caa8f54",
   "metadata": {},
   "source": [
    "The way the axis is specified here can be confusing to users coming from other languages. The `axis` keyword specifies *the dimension of the array that will be collapsed*, rather than the dimension that will be returned. So specifying `axis=0` means that the first axis will be collapsed: for two-dimensional arrays, this means that values within each column will be aggregated.\n",
    "\n",
    "## Other Aggregation Functions\n",
    "NumPy provides many other aggregation functions, but we won't discuss them in detail here. Additionally, most aggregates have a `NaN`-safe counterpart that computes the result while ignoring missing values, which are marked by the special IEEE floating-point `NaN` value (for a fuller discussion of missing data, see Handling Missing Data). Some of these `NaN`-safe functions were not added until NumPy 1.8, so they will not be available in older NumPy versions.\n",
    "\n",
    "The following table provides a list of useful aggregation functions available in NumPy:\n",
    "\n",
    "| Function Name    | NaN-safe Version    | Description                                    |\n",
    "|------------------|---------------------|------------------------------------------------|\n",
    "| `np.sum`         | `np.nansum`         | Compute sum of elements                        |\n",
    "| `np.prod`        | `np.nanprod`        | Compute product of elements                    |\n",
    "| `np.mean`        | `np.nanmean`        | Compute mean of elements                       |\n",
    "| `np.std`         | `np.nanstd`         | Compute standard deviation                     |\n",
    "| `np.var`         | `np.nanvar`         | Compute variance                               |\n",
    "| `np.min`         | `np.nanmin`         | Find minimum value                             |\n",
    "| `np.max`         | `np.nanmax`         | Find maximum value                             |\n",
    "| `np.argmin`      | `np.nanargmin`      | Find index of minimum value                    |\n",
    "| `np.argmax`      | `np.nanargmax`      | Find index of maximum value                    |\n",
    "| `np.median`      | `np.nanmedian`      | Compute median of elements                     |\n",
    "| `np.percentile`  | `np.nanpercentile`  | Compute rank-based statistics of elements      |\n",
    "| `np.any`         | N/A                 | Evaluate whether any elements are true         |\n",
    "| `np.all`         | N/A                 | Evaluate whether all elements are true         |\n",
    "\n",
    "We will see these aggregates often throughout the rest of the book."
   ]
  },
  {
   "cell_type": "markdown",
   "id": "ff707d9b",
   "metadata": {},
   "source": [
    "Example: What is the Average Height of US Presidents?\n",
    "Aggregates available in NumPy can be extremely useful for summarizing a set of values. As a simple example, let's consider the heights of all US presidents. This data is available in the file president_heights.csv, which is a simple comma-separated list of labels and values:"
   ]
  },
  {
   "cell_type": "code",
   "execution_count": 403,
   "id": "55797785",
   "metadata": {},
   "outputs": [
    {
     "name": "stdout",
     "output_type": "stream",
     "text": [
      "[189 170 189 163 183 171 185 168 173 183 173 173 175 178 183 193 178 173\n",
      " 174 183 183 168 170 178 182 180 183 178 182 188 175 179 183 193 182 183\n",
      " 177 185 188 188 182 185 191 182]\n"
     ]
    }
   ],
   "source": [
    "import pandas as pd\n",
    "data = pd.read_csv('president_heights.csv')\n",
    "heights = np.array(data['height(cm)'])\n",
    "print(heights)"
   ]
  },
  {
   "cell_type": "code",
   "execution_count": 404,
   "id": "a532ca4b",
   "metadata": {},
   "outputs": [
    {
     "data": {
      "text/html": [
       "<div>\n",
       "<style scoped>\n",
       "    .dataframe tbody tr th:only-of-type {\n",
       "        vertical-align: middle;\n",
       "    }\n",
       "\n",
       "    .dataframe tbody tr th {\n",
       "        vertical-align: top;\n",
       "    }\n",
       "\n",
       "    .dataframe thead th {\n",
       "        text-align: right;\n",
       "    }\n",
       "</style>\n",
       "<table border=\"1\" class=\"dataframe\">\n",
       "  <thead>\n",
       "    <tr style=\"text-align: right;\">\n",
       "      <th></th>\n",
       "      <th>order</th>\n",
       "      <th>name</th>\n",
       "      <th>height(cm)</th>\n",
       "    </tr>\n",
       "  </thead>\n",
       "  <tbody>\n",
       "    <tr>\n",
       "      <th>0</th>\n",
       "      <td>1</td>\n",
       "      <td>George Washington</td>\n",
       "      <td>189</td>\n",
       "    </tr>\n",
       "    <tr>\n",
       "      <th>1</th>\n",
       "      <td>2</td>\n",
       "      <td>John Adams</td>\n",
       "      <td>170</td>\n",
       "    </tr>\n",
       "    <tr>\n",
       "      <th>2</th>\n",
       "      <td>3</td>\n",
       "      <td>Thomas Jefferson</td>\n",
       "      <td>189</td>\n",
       "    </tr>\n",
       "    <tr>\n",
       "      <th>3</th>\n",
       "      <td>4</td>\n",
       "      <td>James Madison</td>\n",
       "      <td>163</td>\n",
       "    </tr>\n",
       "    <tr>\n",
       "      <th>4</th>\n",
       "      <td>5</td>\n",
       "      <td>James Monroe</td>\n",
       "      <td>183</td>\n",
       "    </tr>\n",
       "  </tbody>\n",
       "</table>\n",
       "</div>"
      ],
      "text/plain": [
       "   order               name  height(cm)\n",
       "0      1  George Washington         189\n",
       "1      2         John Adams         170\n",
       "2      3   Thomas Jefferson         189\n",
       "3      4      James Madison         163\n",
       "4      5       James Monroe         183"
      ]
     },
     "execution_count": 404,
     "metadata": {},
     "output_type": "execute_result"
    }
   ],
   "source": [
    "data.head()"
   ]
  },
  {
   "cell_type": "markdown",
   "id": "652f2c61",
   "metadata": {},
   "source": [
    "Now that we have this data array, we can compute a variety of summary statistics:\n",
    "\n"
   ]
  },
  {
   "cell_type": "code",
   "execution_count": 405,
   "id": "e30b937b",
   "metadata": {},
   "outputs": [
    {
     "name": "stdout",
     "output_type": "stream",
     "text": [
      "Mean height:        180.04545454545453\n",
      "Standard deviation: 6.983599441335736\n",
      "Minimum height:     163\n",
      "Maximum height:     193\n"
     ]
    }
   ],
   "source": [
    "print(\"Mean height:       \", heights.mean())\n",
    "print(\"Standard deviation:\", heights.std())\n",
    "print(\"Minimum height:    \", heights.min())\n",
    "print(\"Maximum height:    \", heights.max())"
   ]
  },
  {
   "cell_type": "markdown",
   "id": "ae2b7dcc",
   "metadata": {},
   "source": [
    "Note that in each case, the aggregation operation reduced the entire array to a single summarizing value, which gives us information about the distribution of values. We may also wish to compute quantiles:"
   ]
  },
  {
   "cell_type": "code",
   "execution_count": 406,
   "id": "87b3bf8e",
   "metadata": {},
   "outputs": [
    {
     "name": "stdout",
     "output_type": "stream",
     "text": [
      "25th percentile:    174.75\n",
      "Median:             182.0\n",
      "75th percentile:    183.5\n"
     ]
    }
   ],
   "source": [
    "print(\"25th percentile:   \", np.percentile(heights, 25))\n",
    "print(\"Median:            \", np.median(heights))\n",
    "print(\"75th percentile:   \", np.percentile(heights, 75))"
   ]
  },
  {
   "cell_type": "markdown",
   "id": "01f718a6",
   "metadata": {},
   "source": [
    "We see that the median height of US presidents is 182 cm, or just shy of six feet.\n",
    "\n",
    "Of course, sometimes it's more useful to see a visual representation of this data, which we can accomplish using tools in Matplotlib (we'll discuss Matplotlib more fully in Chapter 4). For example, this code generates the following chart:"
   ]
  },
  {
   "cell_type": "code",
   "execution_count": 407,
   "id": "02caa1bc",
   "metadata": {},
   "outputs": [
    {
     "data": {
      "image/png": "[encoded data removed]",
      "text/plain": [
       "<Figure size 640x480 with 1 Axes>"
      ]
     },
     "metadata": {},
     "output_type": "display_data"
    }
   ],
   "source": [
    "import matplotlib.pyplot as plt\n",
    "import seaborn; seaborn.set()  # set plot style\n",
    "plt.hist(heights)\n",
    "plt.title('Height Distribution of US Presidents')\n",
    "plt.xlabel('height (cm)')\n",
    "plt.ylabel('number');"
   ]
  },
  {
   "cell_type": "markdown",
   "id": "5b130ee9",
   "metadata": {},
   "source": [
    "These aggregates are some of the fundamental pieces of exploratory data analysis that we'll explore in more depth in later chapters of the book."
   ]
  },
  {
   "cell_type": "markdown",
   "id": "7b976b6a",
   "metadata": {},
   "source": [
    "## Lesson 6.9: Universal Functions\n",
    "A concept linking NumPy's element-wise computations, broadcasting, and reductions is universal functions, also called `ufuncs`. Each universal function is based on a function taking in a fixed number of inputs and returning a fixed number of outputs. For example, that function could take two inputs and add them together for one output. That function is then \"vectorized\" to handle many sets of inputs at once, and support for broadcasting, type casting, and other standard features are automatically added, resulting in a universal function.\n",
    "\n",
    "### Making a Universal Function\n",
    "This video shows an example of making and testing a universal function to illustrate how NumPy builds up a broad array and broadcast support from a simple function."
   ]
  },
  {
   "cell_type": "code",
   "execution_count": 408,
   "id": "fb04d83c",
   "metadata": {},
   "outputs": [],
   "source": [
    "def my_add(x,y):\n",
    "    return x + y"
   ]
  },
  {
   "cell_type": "code",
   "execution_count": 409,
   "id": "f744a8cc",
   "metadata": {},
   "outputs": [],
   "source": [
    "universal_my_add = np.frompyfunc(my_add, 2,1)"
   ]
  },
  {
   "cell_type": "code",
   "execution_count": 410,
   "id": "f50862f6",
   "metadata": {},
   "outputs": [
    {
     "data": {
      "text/plain": [
       "array([[ 0,  5, 10],\n",
       "       [ 3,  7, 11]])"
      ]
     },
     "execution_count": 410,
     "metadata": {},
     "output_type": "execute_result"
    }
   ],
   "source": [
    "x = np.array([[0,5,10], [3,7,11]])\n",
    "x"
   ]
  },
  {
   "cell_type": "code",
   "execution_count": 411,
   "id": "3a89d6df",
   "metadata": {},
   "outputs": [
    {
     "data": {
      "text/plain": [
       "array([[0, 10, 20],\n",
       "       [6, 14, 22]], dtype=object)"
      ]
     },
     "execution_count": 411,
     "metadata": {},
     "output_type": "execute_result"
    }
   ],
   "source": [
    "universal_my_add(x,x)"
   ]
  },
  {
   "cell_type": "code",
   "execution_count": 412,
   "id": "a89e578a",
   "metadata": {},
   "outputs": [
    {
     "data": {
      "text/plain": [
       "array([3, 12, 21], dtype=object)"
      ]
     },
     "execution_count": 412,
     "metadata": {},
     "output_type": "execute_result"
    }
   ],
   "source": [
    "universal_my_add.reduce(x)"
   ]
  },
  {
   "cell_type": "markdown",
   "id": "b80a34ad",
   "metadata": {},
   "source": [
    "It reduces the first dimension bye default, but you can pass the other dimension with the `axis` argument:"
   ]
  },
  {
   "cell_type": "code",
   "execution_count": 413,
   "id": "ba724edc",
   "metadata": {},
   "outputs": [
    {
     "data": {
      "text/plain": [
       "array([15, 21], dtype=object)"
      ]
     },
     "execution_count": 413,
     "metadata": {},
     "output_type": "execute_result"
    }
   ],
   "source": [
    "universal_my_add.reduce(x, axis =1)"
   ]
  },
  {
   "cell_type": "markdown",
   "id": "2bd5a492",
   "metadata": {},
   "source": [
    "An alternative from `pyfunc` is `np.factorize`. This does not give a full universal function, and does not include a built-in `reduce`, but you can specify the output type and keep the memory efficiency. "
   ]
  },
  {
   "cell_type": "code",
   "execution_count": 414,
   "id": "7f982f52",
   "metadata": {},
   "outputs": [
    {
     "data": {
      "text/plain": [
       "<numpy.vectorize at 0x10c167350>"
      ]
     },
     "execution_count": 414,
     "metadata": {},
     "output_type": "execute_result"
    }
   ],
   "source": [
    "vectorized_my_add = np.vectorize(my_add, otypes=['float64'])\n",
    "vectorized_my_add"
   ]
  },
  {
   "cell_type": "code",
   "execution_count": 415,
   "id": "1ae9ed96",
   "metadata": {},
   "outputs": [
    {
     "data": {
      "text/plain": [
       "array([[ 0., 10., 20.],\n",
       "       [ 6., 14., 22.]])"
      ]
     },
     "execution_count": 415,
     "metadata": {},
     "output_type": "execute_result"
    }
   ],
   "source": [
    "vectorized_my_add(x,x)"
   ]
  },
  {
   "cell_type": "markdown",
   "id": "85a8b893",
   "metadata": {},
   "source": [
    "Broadcasting works with vectorize"
   ]
  },
  {
   "cell_type": "code",
   "execution_count": 416,
   "id": "f5ca508e",
   "metadata": {},
   "outputs": [
    {
     "data": {
      "text/plain": [
       "array([[101., 102., 103.],\n",
       "       [201., 202., 203.],\n",
       "       [301., 302., 303.]])"
      ]
     },
     "execution_count": 416,
     "metadata": {},
     "output_type": "execute_result"
    }
   ],
   "source": [
    "vectorized_my_add([[1,2,3]], [[100], [200], [300]])"
   ]
  },
  {
   "cell_type": "markdown",
   "id": "4a3d4360",
   "metadata": {},
   "source": [
    "## Computation on NumPy Arrays: Universal Functions\n",
    "\n",
    "Up until now, we have been discussing some of the basic nuts and bolts of NumPy; in the next few sections, we will dive into the reasons that NumPy is so important in the Python data science world. Namely, it provides an easy and flexible interface to optimized computation with arrays of data.\n",
    "\n",
    "Computation on NumPy arrays can be very fast, or it can be very slow. The key to making it fast is to use vectorized operations, generally implemented through NumPy's *universal functions* (ufuncs). This section motivates the need for NumPy's ufuncs, which can be used to make repeated calculations on array elements much more efficient. It then introduces many of the most common and useful arithmetic ufuncs available in the NumPy package.\n",
    "\n",
    "### The Slowness of Loops\n",
    "Python's default implementation (known as CPython) does some operations very slowly. This is in part due to the dynamic, interpreted nature of the language: the fact that types are flexible, so that sequences of operations cannot be compiled down to efficient machine code as in languages like C and Fortran. Recently there have been various attempts to address this weakness: well-known examples are the PyPy project, a just-in-time compiled implementation of Python; the Cython project, which converts Python code to compilable C code; and the Numba project, which converts snippets of Python code to fast LLVM bytecode. Each of these has its strengths and weaknesses, but it is safe to say that none of the three approaches has yet surpassed the reach and popularity of the standard CPython engine.\n",
    "\n",
    "The relative sluggishness of Python generally manifests itself in situations where many small operations are being repeated – for instance looping over arrays to operate on each element. For example, imagine we have an array of values and we'd like to compute the reciprocal of each. A straightforward approach might look like this:"
   ]
  },
  {
   "cell_type": "code",
   "execution_count": 417,
   "id": "29fa731e",
   "metadata": {},
   "outputs": [
    {
     "data": {
      "text/plain": [
       "array([0.16666667, 1.        , 0.25      , 0.25      , 0.125     ])"
      ]
     },
     "execution_count": 417,
     "metadata": {},
     "output_type": "execute_result"
    }
   ],
   "source": [
    "import numpy as np\n",
    "np.random.seed(0)\n",
    "\n",
    "def compute_reciprocals(values):\n",
    "    output = np.empty(len(values))\n",
    "    for i in range(len(values)):\n",
    "        output[i] = 1.0 / values[i]\n",
    "    return output\n",
    "        \n",
    "values = np.random.randint(1, 10, size=5)\n",
    "compute_reciprocals(values)"
   ]
  },
  {
   "cell_type": "markdown",
   "id": "ad182368",
   "metadata": {},
   "source": [
    "This implementation probably feels fairly natural to someone from, say, a C or Java background. But if we measure the execution time of this code for a large input, we see that this operation is very slow, perhaps surprisingly so! We'll benchmark this with IPython's `%timeit` magic (discussed in Profiling and Timing Code):"
   ]
  },
  {
   "cell_type": "code",
   "execution_count": 418,
   "id": "3b6623a6",
   "metadata": {},
   "outputs": [
    {
     "name": "stdout",
     "output_type": "stream",
     "text": [
      "815 ms ± 11.6 ms per loop (mean ± std. dev. of 7 runs, 1 loop each)\n"
     ]
    }
   ],
   "source": [
    "big_array = np.random.randint(1, 100, size=1000000)\n",
    "%timeit compute_reciprocals(big_array)"
   ]
  },
  {
   "cell_type": "markdown",
   "id": "9176e1d0",
   "metadata": {},
   "source": [
    "It takes several seconds to compute these million operations and to store the result! When even cell phones have processing speeds measured in Giga-FLOPS (i.e., billions of numerical operations per second), this seems almost absurdly slow. It turns out that the bottleneck here is not the operations themselves, but the type-checking and function dispatches that CPython must do at each cycle of the loop. Each time the reciprocal is computed, Python first examines the object's type and does a dynamic lookup of the correct function to use for that type. If we were working in compiled code instead, this type specification would be known before the code executes and the result could be computed much more efficiently."
   ]
  },
  {
   "cell_type": "markdown",
   "id": "4915deb6",
   "metadata": {},
   "source": [
    "### Introducing UFuncs\n",
    "For many types of operations, NumPy provides a convenient interface into just this kind of statically typed, compiled routine. This is known as a vectorized operation. This can be accomplished by simply performing an operation on the array, which will then be applied to each element. This vectorized approach is designed to push the loop into the compiled layer that underlies NumPy, leading to much faster execution.\n",
    "\n",
    "Compare the results of the following two:"
   ]
  },
  {
   "cell_type": "code",
   "execution_count": 419,
   "id": "243704cd",
   "metadata": {},
   "outputs": [
    {
     "name": "stdout",
     "output_type": "stream",
     "text": [
      "[0.16666667 1.         0.25       0.25       0.125     ]\n",
      "[0.16666667 1.         0.25       0.25       0.125     ]\n"
     ]
    }
   ],
   "source": [
    "print(compute_reciprocals(values))\n",
    "print(1.0 / values)"
   ]
  },
  {
   "cell_type": "markdown",
   "id": "c14e3866",
   "metadata": {},
   "source": [
    "Looking at the execution time for our big array, we see that it completes orders of magnitude faster than the Python loop:"
   ]
  },
  {
   "cell_type": "code",
   "execution_count": 420,
   "id": "2dce42cb",
   "metadata": {},
   "outputs": [
    {
     "name": "stdout",
     "output_type": "stream",
     "text": [
      "930 µs ± 19.6 µs per loop (mean ± std. dev. of 7 runs, 1,000 loops each)\n"
     ]
    }
   ],
   "source": [
    "%timeit (1.0 / big_array)"
   ]
  },
  {
   "cell_type": "markdown",
   "id": "214e3cda",
   "metadata": {},
   "source": [
    "Vectorized operations in NumPy are implemented via *ufuncs*, whose main purpose is to quickly execute repeated operations on values in NumPy arrays. Ufuncs are extremely flexible – before we saw an operation between a scalar and an array, but we can also operate between two arrays:"
   ]
  },
  {
   "cell_type": "code",
   "execution_count": 421,
   "id": "fbe1fada",
   "metadata": {},
   "outputs": [
    {
     "data": {
      "text/plain": [
       "array([0.        , 0.5       , 0.66666667, 0.75      , 0.8       ])"
      ]
     },
     "execution_count": 421,
     "metadata": {},
     "output_type": "execute_result"
    }
   ],
   "source": [
    "np.arange(5) / np.arange(1, 6)"
   ]
  },
  {
   "cell_type": "markdown",
   "id": "4baf00c3",
   "metadata": {},
   "source": [
    "And ufunc operations are not limited to one-dimensional arrays–they can also act on multi-dimensional arrays as well:"
   ]
  },
  {
   "cell_type": "code",
   "execution_count": 422,
   "id": "fb860850",
   "metadata": {},
   "outputs": [
    {
     "data": {
      "text/plain": [
       "array([[  1,   2,   4],\n",
       "       [  8,  16,  32],\n",
       "       [ 64, 128, 256]])"
      ]
     },
     "execution_count": 422,
     "metadata": {},
     "output_type": "execute_result"
    }
   ],
   "source": [
    "x = np.arange(9).reshape((3, 3))\n",
    "2 ** x"
   ]
  },
  {
   "cell_type": "code",
   "execution_count": 423,
   "id": "0096b209",
   "metadata": {},
   "outputs": [],
   "source": [
    "c = np.asarray([[5.0], [3.2]])"
   ]
  },
  {
   "cell_type": "code",
   "execution_count": 424,
   "id": "8405f573",
   "metadata": {},
   "outputs": [
    {
     "data": {
      "text/plain": [
       "(2, 1)"
      ]
     },
     "execution_count": 424,
     "metadata": {},
     "output_type": "execute_result"
    }
   ],
   "source": [
    "np.shape(c)"
   ]
  },
  {
   "cell_type": "code",
   "execution_count": 425,
   "id": "60d07a34",
   "metadata": {},
   "outputs": [
    {
     "data": {
      "text/plain": [
       "dtype('float64')"
      ]
     },
     "execution_count": 425,
     "metadata": {},
     "output_type": "execute_result"
    }
   ],
   "source": [
    "b = np.sin([0, 1])\n",
    "b.dtype"
   ]
  },
  {
   "cell_type": "code",
   "execution_count": 426,
   "id": "68e9cf82",
   "metadata": {},
   "outputs": [
    {
     "data": {
      "text/plain": [
       "(4, 3)"
      ]
     },
     "execution_count": 426,
     "metadata": {},
     "output_type": "execute_result"
    }
   ],
   "source": [
    "n = np.add([0, 1, 2], [[3], [4], [5], [6]])\n",
    "n.shape"
   ]
  },
  {
   "cell_type": "code",
   "execution_count": 427,
   "id": "29f3b572",
   "metadata": {},
   "outputs": [
    {
     "data": {
      "text/plain": [
       "array([[1., 1., 1., 1., 1., 1.],\n",
       "       [1., 1., 1., 1., 1., 1.],\n",
       "       [1., 1., 1., 1., 1., 1.],\n",
       "       [1., 1., 1., 1., 1., 1.]])"
      ]
     },
     "execution_count": 427,
     "metadata": {},
     "output_type": "execute_result"
    }
   ],
   "source": [
    "ones = np.ones((4,6))\n",
    "ones"
   ]
  },
  {
   "cell_type": "code",
   "execution_count": 428,
   "id": "991e16c3",
   "metadata": {},
   "outputs": [
    {
     "data": {
      "text/plain": [
       "(1, 1)"
      ]
     },
     "execution_count": 428,
     "metadata": {},
     "output_type": "execute_result"
    }
   ],
   "source": [
    "ones.std(keepdims=True).shape"
   ]
  },
  {
   "cell_type": "code",
   "execution_count": 429,
   "id": "dd80dde7",
   "metadata": {},
   "outputs": [
    {
     "data": {
      "text/plain": [
       "(6,)"
      ]
     },
     "execution_count": 429,
     "metadata": {},
     "output_type": "execute_result"
    }
   ],
   "source": [
    "np.median(ones, axis=0).shape"
   ]
  },
  {
   "cell_type": "code",
   "execution_count": 9,
   "id": "bc628958",
   "metadata": {},
   "outputs": [
    {
     "data": {
      "image/png": "[encoded data removed]",
      "text/plain": [
       "<Figure size 200x200 with 1 Axes>"
      ]
     },
     "metadata": {},
     "output_type": "display_data"
    }
   ],
   "source": [
    "#p15 original\n",
    "import numpy as np\n",
    "import matplotlib.pyplot as plt\n",
    "\n",
    "plt.figure(figsize=(2,2))\n",
    "\n",
    "#1000 evenly spaced values between -5 & 5\n",
    "x15 = np.linspace(-5, 5, 1000)\n",
    "\n",
    "#fills the area between 2 horizontal curves defined by points 'x', 'y1', and 'y2'\n",
    "plt.fill_between(x15, -np.sqrt(25 - x15 * x15), np.sqrt(25 - x15 * x15))\n",
    "\n",
    "None"
   ]
  },
  {
   "cell_type": "code",
   "execution_count": 14,
   "id": "1c361a62",
   "metadata": {},
   "outputs": [],
   "source": [
    "plt.fill_between?"
   ]
  },
  {
   "cell_type": "code",
   "execution_count": null,
   "id": "9bfec709",
   "metadata": {},
   "outputs": [],
   "source": []
  }
 ],
 "metadata": {
  "kernelspec": {
   "display_name": "Python 3 (ipykernel)",
   "language": "python",
   "name": "python3"
  },
  "language_info": {
   "codemirror_mode": {
    "name": "ipython",
    "version": 3
   },
   "file_extension": ".py",
   "mimetype": "text/x-python",
   "name": "python",
   "nbconvert_exporter": "python",
   "pygments_lexer": "ipython3",
   "version": "3.11.7"
  }
 },
 "nbformat": 4,
 "nbformat_minor": 5
}
