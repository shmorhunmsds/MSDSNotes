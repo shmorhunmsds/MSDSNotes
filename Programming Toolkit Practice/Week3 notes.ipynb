{
 "cells": [
  {
   "cell_type": "markdown",
   "id": "37578e50",
   "metadata": {},
   "source": [
    "# 3.1 Lesson: What is \"None\" in Python? \n",
    "\n",
    "`None` is a special value used in Python when no specific value has been specified. This happens fwhen a function finishes running without a return statement. `None` is often used as a placeholder or missing data marker. This dictionary `get()` method will return `None` if the requwested key is not in the dictionary and no default is specified. Many librarys for reading data similarly use `None` for missing data. \n",
    "\n",
    "## Using None"
   ]
  },
  {
   "cell_type": "code",
   "execution_count": 1,
   "id": "e3612366",
   "metadata": {},
   "outputs": [],
   "source": [
    "None"
   ]
  },
  {
   "cell_type": "code",
   "execution_count": 2,
   "id": "d698e266",
   "metadata": {},
   "outputs": [],
   "source": [
    "_ = ..."
   ]
  },
  {
   "cell_type": "code",
   "execution_count": 3,
   "id": "071c83fa",
   "metadata": {},
   "outputs": [
    {
     "data": {
      "text/plain": [
       "NoneType"
      ]
     },
     "execution_count": 3,
     "metadata": {},
     "output_type": "execute_result"
    }
   ],
   "source": [
    "type(None)"
   ]
  },
  {
   "cell_type": "code",
   "execution_count": 4,
   "id": "19d7159e",
   "metadata": {},
   "outputs": [
    {
     "data": {
      "text/plain": [
       "False"
      ]
     },
     "execution_count": 4,
     "metadata": {},
     "output_type": "execute_result"
    }
   ],
   "source": [
    "x = 3\n",
    "x is None"
   ]
  },
  {
   "cell_type": "code",
   "execution_count": 5,
   "id": "be6c49c0",
   "metadata": {},
   "outputs": [
    {
     "data": {
      "text/plain": [
       "True"
      ]
     },
     "execution_count": 5,
     "metadata": {},
     "output_type": "execute_result"
    }
   ],
   "source": [
    "None is None"
   ]
  },
  {
   "cell_type": "code",
   "execution_count": 6,
   "id": "3e008955",
   "metadata": {},
   "outputs": [
    {
     "data": {
      "text/plain": [
       "4310722176"
      ]
     },
     "execution_count": 6,
     "metadata": {},
     "output_type": "execute_result"
    }
   ],
   "source": [
    "id(None)"
   ]
  },
  {
   "cell_type": "code",
   "execution_count": 7,
   "id": "0a4ac9a1",
   "metadata": {},
   "outputs": [
    {
     "data": {
      "text/plain": [
       "True"
      ]
     },
     "execution_count": 7,
     "metadata": {},
     "output_type": "execute_result"
    }
   ],
   "source": [
    "x is not None"
   ]
  },
  {
   "cell_type": "code",
   "execution_count": 8,
   "id": "c8120afe",
   "metadata": {},
   "outputs": [
    {
     "data": {
      "text/plain": [
       "False"
      ]
     },
     "execution_count": 8,
     "metadata": {},
     "output_type": "execute_result"
    }
   ],
   "source": [
    "None is not None"
   ]
  },
  {
   "cell_type": "markdown",
   "id": "dd00f965",
   "metadata": {},
   "source": [
    "### Warning\n",
    "ChatGPT can be helpful when coding, but be careful using its code without reading and testing it. Subtleties like \"`is none` vs `== None` are areas where it tends to make mistakes."
   ]
  },
  {
   "cell_type": "markdown",
   "id": "2b3a07a5",
   "metadata": {},
   "source": [
    "# 3.2 Lesson: Booleans - Truth in Python\n",
    "\n",
    "Control flow in all programming languages is based on boolean decisions. True or false? Do we do it or not? For Python specifically, if and while statements have a boolean decision whether to execute the following code or not. In typical Pythonic fashion, any expression can be used, and once you know the rules, they generally make sense.\n",
    "\n",
    "Read | A Whirlwind Tour of Python, Built-In Types: Simple Values the boolean section.\n",
    "\n",
    "https://jakevdp.github.io/WhirlwindTourOfPython/05-built-in-scalar-types.html#Boolean-Type"
   ]
  },
  {
   "cell_type": "markdown",
   "id": "9f70ce0c",
   "metadata": {},
   "source": [
    "### Boolean Type\n",
    "\n",
    "The boolean type is a simple type with two possible values: `True` and `False`, and is returned by comparison operators discussed previously:"
   ]
  },
  {
   "cell_type": "code",
   "execution_count": 9,
   "id": "c202e46c",
   "metadata": {},
   "outputs": [
    {
     "data": {
      "text/plain": [
       "True"
      ]
     },
     "execution_count": 9,
     "metadata": {},
     "output_type": "execute_result"
    }
   ],
   "source": [
    "result = (4 < 5)\n",
    "result"
   ]
  },
  {
   "cell_type": "code",
   "execution_count": 10,
   "id": "3ab4d301",
   "metadata": {},
   "outputs": [
    {
     "data": {
      "text/plain": [
       "bool"
      ]
     },
     "execution_count": 10,
     "metadata": {},
     "output_type": "execute_result"
    }
   ],
   "source": [
    "type(result)"
   ]
  },
  {
   "cell_type": "markdown",
   "id": "7a0cdbac",
   "metadata": {},
   "source": [
    "Keep in mind that the Boolean values are case sensitive: unlike some other languages, `True` and `False` must be capitalized."
   ]
  },
  {
   "cell_type": "code",
   "execution_count": 11,
   "id": "250eabc7",
   "metadata": {},
   "outputs": [
    {
     "name": "stdout",
     "output_type": "stream",
     "text": [
      "True False\n"
     ]
    }
   ],
   "source": [
    "print(True, False)"
   ]
  },
  {
   "cell_type": "markdown",
   "id": "ffe6ff68",
   "metadata": {},
   "source": [
    "Booleans can also be constructed using the `bool()` object constructor: values of any other type can be converted to Boolean via predictable rules. For example, any numeric type is False if equal to zero, and True otherwise:"
   ]
  },
  {
   "cell_type": "code",
   "execution_count": 12,
   "id": "50565efd",
   "metadata": {},
   "outputs": [
    {
     "data": {
      "text/plain": [
       "True"
      ]
     },
     "execution_count": 12,
     "metadata": {},
     "output_type": "execute_result"
    }
   ],
   "source": [
    "bool(2014)"
   ]
  },
  {
   "cell_type": "code",
   "execution_count": 13,
   "id": "77908d5e",
   "metadata": {},
   "outputs": [
    {
     "data": {
      "text/plain": [
       "False"
      ]
     },
     "execution_count": 13,
     "metadata": {},
     "output_type": "execute_result"
    }
   ],
   "source": [
    "bool(0)"
   ]
  },
  {
   "cell_type": "code",
   "execution_count": 14,
   "id": "20829a53",
   "metadata": {},
   "outputs": [
    {
     "data": {
      "text/plain": [
       "True"
      ]
     },
     "execution_count": 14,
     "metadata": {},
     "output_type": "execute_result"
    }
   ],
   "source": [
    "bool(3.1415)"
   ]
  },
  {
   "cell_type": "markdown",
   "id": "972a0e07",
   "metadata": {},
   "source": [
    "The boolean conversion of `None` is always False:"
   ]
  },
  {
   "cell_type": "code",
   "execution_count": 15,
   "id": "34df1e94",
   "metadata": {},
   "outputs": [
    {
     "data": {
      "text/plain": [
       "False"
      ]
     },
     "execution_count": 15,
     "metadata": {},
     "output_type": "execute_result"
    }
   ],
   "source": [
    "bool(None)"
   ]
  },
  {
   "cell_type": "code",
   "execution_count": 16,
   "id": "1446ecf5",
   "metadata": {},
   "outputs": [
    {
     "data": {
      "text/plain": [
       "True"
      ]
     },
     "execution_count": 16,
     "metadata": {},
     "output_type": "execute_result"
    }
   ],
   "source": [
    "bool('abc')"
   ]
  },
  {
   "cell_type": "markdown",
   "id": "0f399468",
   "metadata": {},
   "source": [
    "for strings, `bool(s)` is False for empty strings and True otherwise:"
   ]
  },
  {
   "cell_type": "code",
   "execution_count": 17,
   "id": "bf508369",
   "metadata": {},
   "outputs": [
    {
     "data": {
      "text/plain": [
       "False"
      ]
     },
     "execution_count": 17,
     "metadata": {},
     "output_type": "execute_result"
    }
   ],
   "source": [
    "bool(\"\")"
   ]
  },
  {
   "cell_type": "code",
   "execution_count": 18,
   "id": "e88f4eb6",
   "metadata": {},
   "outputs": [
    {
     "data": {
      "text/plain": [
       "True"
      ]
     },
     "execution_count": 18,
     "metadata": {},
     "output_type": "execute_result"
    }
   ],
   "source": [
    "bool(\"abc\")"
   ]
  },
  {
   "cell_type": "markdown",
   "id": "f2ecb0b6",
   "metadata": {},
   "source": [
    "For sequences, which we'll see in the next section, the Boolean representation is False for empty sequences and True for any other sequence. "
   ]
  },
  {
   "cell_type": "code",
   "execution_count": 19,
   "id": "ef2ca370",
   "metadata": {},
   "outputs": [
    {
     "data": {
      "text/plain": [
       "True"
      ]
     },
     "execution_count": 19,
     "metadata": {},
     "output_type": "execute_result"
    }
   ],
   "source": [
    "bool([1,2,3])"
   ]
  },
  {
   "cell_type": "code",
   "execution_count": 20,
   "id": "001e25d7",
   "metadata": {},
   "outputs": [
    {
     "data": {
      "text/plain": [
       "False"
      ]
     },
     "execution_count": 20,
     "metadata": {},
     "output_type": "execute_result"
    }
   ],
   "source": [
    "bool([])"
   ]
  },
  {
   "cell_type": "markdown",
   "id": "4b41a20d",
   "metadata": {},
   "source": [
    "https://docs.python.org/3/library/stdtypes.html\n",
    "\n",
    "### Built-in Types:\n",
    "\n",
    "The following sections describe the standard types that are built into the interpreter.\n",
    "\n",
    "The principal built-in types are numerics, sequences, mappings, classes, instances and exceptions.\n",
    "\n",
    "Some collection classes are mutable. The methods that add, subtract, or rearrange their members in place, and don’t return a specific item, never return the collection instance itself but None.\n",
    "\n",
    "Some operations are supported by several object types; in particular, practically all objects can be compared for equality, tested for truth value, and converted to a string (with the `repr()` function or the slightly different `str()` function). The latter function is implicitly used when an object is written by the `print()` function.\n",
    "\n",
    "### Truth Value Testing\n",
    "\n",
    "Any object can be tested for truth value, for use in an `if` or `while` condition or as operand of the Boolean operations below.\n",
    "\n",
    "By default, an object is considered true unless its class defines either a `__bool__()` method that returns False or a `__len__()` method that returns zero, when called with the object. `[1]` Here are most of the built-in objects considered false:\n",
    "\n",
    "- constants defined to be false: `None` and `False`\n",
    "- zero of any numeric type: `0, 0.0, 0j, Decimal(0), Fraction(0, 1)`\n",
    "- empty sequences and collections: `'', (), [], {}, set(), range(0)`\n",
    "\n",
    "Operations and built-in functions that have a Boolean result always return 0 or False for false and 1 or True for true, unless otherwise stated. (Important exception: the Boolean operations or and and always return one of their operands.)\n",
    "\n",
    "\n",
    "### Boolean Operations - `and`, `or`, `not`\n",
    "\n",
    "These are the Boolean Operations, ordered by ascending priority:\n",
    "\n",
    "| Operation | Result | Notes |\n",
    "| :--- | :--- | :--- |\n",
    "| `x` or `y` | if x is true, then x, else y | (1) |\n",
    "| `x` and `y` | if x is false, then x, else y \\ (2) |\n",
    "| `not x` | if x is false, then `True`, else `False` |\n",
    "\n",
    "Notes:\n",
    "1. This is a short-circuit operator, so it only evalutates the second argument if the first one is false.\n",
    "2. This is a short-circuit operator, so it only evaluates the second argument if the first one is true.\n",
    "3. `not` has a lower priority than non-boolean operatiors, so `not a == b` is interpreted as `not (a == b)`, and `a == not b` is a syntax error.\n",
    "\n",
    "### Comparisons\n",
    "\n",
    "There are eight comparison operations in Python. They all have the same priority (which is higher than that of the Boolean operations). Comparisons can be chained arbitrarily; for example, `x < y <= z` is equivalent to `x < y` and `y <= z`, dexcept that y is evaluated only once (but in both cases z is not evaluated at all when `x < y` is found to be `False`).\n",
    "\n",
    "This table summarizes the comparison operations:\n",
    "| Operation | Meaning |\n",
    "| :--- | :--- |\n",
    "| `<` | strictly less than |\n",
    "| `<=` | less than or equal |\n",
    "| `>` | strictly greater than |\n",
    "| `>=` | greater than or equal |\n",
    "| `==` | equal |\n",
    "| `!=` | not equal |\n",
    "| `is` | object identity |\n",
    "| `is not` | negated object identity |\n",
    "\n",
    "\n",
    "Objects of different types, except different numeric types, never compare equal. The `==` operator is always defined but for some object types (for example, class objects) is equivalent to is. The `<`, `<=`, `>` and `>=` operators are only defined where they make sense; for example, they raise a `TypeError` exception when one of the arguments is a complex number.\n",
    "\n",
    "Non-identical instances of a class normally compare as non-equal unless the class defines the `__eq__()` method.\n",
    "\n",
    "Instances of a class cannot be ordered with respect to other instances of the same class, or other types of object, unless the class defines enough of the methods `__lt__()`, `__le__()`, `__gt__()`, and `__ge__()` (in general, `__lt__()` and `__eq__()` are sufficient, if you want the conventional meanings of the comparison operators).\n",
    "\n",
    "The behavior of the is and is not operators cannot be customized; also they can be applied to any two objects and never raise an exception.\n",
    "\n",
    "Two more operations with the same syntactic priority, in and not in, are supported by types that are iterable or implement the `__contains__()` method.\n"
   ]
  },
  {
   "cell_type": "markdown",
   "id": "540831f5",
   "metadata": {},
   "source": [
    "## Converting to Boolean\n",
    "\n",
    "Both `if` and `while` statements will accept any expression as their condition, and will automatically convert that expression into a boolean value. So an important question is what values are converted into `True` or `False`?\n",
    "\n",
    "| Type | False values | True |\n",
    "| :--- | :--- | :--- |\n",
    "| `int`, `float`, other numeric types | 0, 0.0, anything that equals zero | All other values |\n",
    "| `list`, `tuple`, `dict`, anything that overrides `len()` | Anything with `len() = 0`(an empty sequence). | Everything else |\n",
    "| `NoneType` (default return value) | None | n/a |\n",
    "| Objects that override `bool()` | Depends on custom `__bool__.` | Depends on custom `__bool__`.|\n",
    "| Everything else | n/a | all | \n",
    "\n",
    "These rules are sometimes described as \"trivial objects are false.\" By these rules:\n",
    "- `None` is trivial.\n",
    "- `False` is trivial.\n",
    "- Numbers evaluating to zero are trivial (`False` becomes zero if converted to an integer).\n",
    "- Sequences of length zero are trival. Sequences without length support are non-trival.\n",
    "- Everything else is non-trivial. \n",
    "\n",
    "Here's an example of using a list as a while condition:"
   ]
  },
  {
   "cell_type": "code",
   "execution_count": 22,
   "id": "369913da",
   "metadata": {},
   "outputs": [
    {
     "ename": "NameError",
     "evalue": "name 'todo_list' is not defined",
     "output_type": "error",
     "traceback": [
      "\u001b[0;31m---------------------------------------------------------------------------\u001b[0m",
      "\u001b[0;31mNameError\u001b[0m                                 Traceback (most recent call last)",
      "Cell \u001b[0;32mIn[22], line 1\u001b[0m\n\u001b[0;32m----> 1\u001b[0m \u001b[38;5;28;01mwhile\u001b[39;00m todo_list:\n\u001b[1;32m      2\u001b[0m    \u001b[38;5;66;03m# remove an item from the TODO list\u001b[39;00m\n\u001b[1;32m      3\u001b[0m    todo_item \u001b[38;5;241m=\u001b[39m todo_list\u001b[38;5;241m.\u001b[39mpop()\n\u001b[1;32m      5\u001b[0m    \u001b[38;5;66;03m# process that item\u001b[39;00m\n",
      "\u001b[0;31mNameError\u001b[0m: name 'todo_list' is not defined"
     ]
    }
   ],
   "source": [
    "while todo_list:\n",
    "   # remove an item from the TODO list\n",
    "   todo_item = todo_list.pop()\n",
    " \n",
    "   # process that item\n",
    "   result = process(todo_item)\n",
    " \n",
    "   # add new items to the TODO list if any work is still left\n",
    "   todo_list.extend(followup_if_any(result))"
   ]
  },
  {
   "cell_type": "markdown",
   "id": "a5deb048",
   "metadata": {},
   "source": [
    "## And/Or Expressions:\n",
    "\n",
    "Expressions using `and` or `or` are closely related to Boolean expressions but do not return Booleans. Instead, they return the last value checked while evaluating the `and` or `or` expressions. \n",
    "\n",
    "- an `and` expression returns a value that is `True` if both of its inputs are `True`."
   ]
  },
  {
   "cell_type": "code",
   "execution_count": 23,
   "id": "d1f8d80d",
   "metadata": {},
   "outputs": [
    {
     "data": {
      "text/plain": [
       "True"
      ]
     },
     "execution_count": 23,
     "metadata": {},
     "output_type": "execute_result"
    }
   ],
   "source": [
    "True and True"
   ]
  },
  {
   "cell_type": "code",
   "execution_count": 24,
   "id": "a9aab430",
   "metadata": {},
   "outputs": [
    {
     "data": {
      "text/plain": [
       "False"
      ]
     },
     "execution_count": 24,
     "metadata": {},
     "output_type": "execute_result"
    }
   ],
   "source": [
    "True and False"
   ]
  },
  {
   "cell_type": "code",
   "execution_count": 25,
   "id": "f233a9e5",
   "metadata": {},
   "outputs": [
    {
     "data": {
      "text/plain": [
       "False"
      ]
     },
     "execution_count": 25,
     "metadata": {},
     "output_type": "execute_result"
    }
   ],
   "source": [
    "False and True"
   ]
  },
  {
   "cell_type": "code",
   "execution_count": 26,
   "id": "1f15126b",
   "metadata": {},
   "outputs": [
    {
     "data": {
      "text/plain": [
       "False"
      ]
     },
     "execution_count": 26,
     "metadata": {},
     "output_type": "execute_result"
    }
   ],
   "source": [
    "False and False"
   ]
  },
  {
   "cell_type": "markdown",
   "id": "c9995758",
   "metadata": {},
   "source": [
    "If you chain a number of `and` statements together, you'll return a value that is `True` if all of the inputs are true:"
   ]
  },
  {
   "cell_type": "code",
   "execution_count": 27,
   "id": "854729a0",
   "metadata": {},
   "outputs": [
    {
     "data": {
      "text/plain": [
       "True"
      ]
     },
     "execution_count": 27,
     "metadata": {},
     "output_type": "execute_result"
    }
   ],
   "source": [
    "True and True and True and True"
   ]
  },
  {
   "cell_type": "code",
   "execution_count": 28,
   "id": "8a9e0325",
   "metadata": {},
   "outputs": [
    {
     "data": {
      "text/plain": [
       "False"
      ]
     },
     "execution_count": 28,
     "metadata": {},
     "output_type": "execute_result"
    }
   ],
   "source": [
    "False and True and True and True"
   ]
  },
  {
   "cell_type": "markdown",
   "id": "97be5ce3",
   "metadata": {},
   "source": [
    "These expressions will still work if the input expressions are not Boolean values:"
   ]
  },
  {
   "cell_type": "code",
   "execution_count": 29,
   "id": "02dc4730",
   "metadata": {},
   "outputs": [
    {
     "data": {
      "text/plain": [
       "4"
      ]
     },
     "execution_count": 29,
     "metadata": {},
     "output_type": "execute_result"
    }
   ],
   "source": [
    "3 and 4"
   ]
  },
  {
   "cell_type": "code",
   "execution_count": 30,
   "id": "de2b96a4",
   "metadata": {},
   "outputs": [
    {
     "data": {
      "text/plain": [
       "0"
      ]
     },
     "execution_count": 30,
     "metadata": {},
     "output_type": "execute_result"
    }
   ],
   "source": [
    "0 and 2"
   ]
  },
  {
   "cell_type": "code",
   "execution_count": 31,
   "id": "2c9596bd",
   "metadata": {},
   "outputs": [
    {
     "data": {
      "text/plain": [
       "[]"
      ]
     },
     "execution_count": 31,
     "metadata": {},
     "output_type": "execute_result"
    }
   ],
   "source": [
    "[] and 2"
   ]
  },
  {
   "cell_type": "markdown",
   "id": "4375124b",
   "metadata": {},
   "source": [
    "If all of the expressions convert to `True`, the end expression will return the last `True` one. If any of the input expressions convert to `False`, then the first expression that converts to `False` will be returned. The later evaluations will be skipped, and not evaluated at all. \n",
    "\n",
    "This behavior where the later expressions are skiped is called **short circuit logic**. It lets you write expressions that involve a number of potentially expensive checks, but they will stop once the whole expression is determined, so you don't have to pay all the costs. You only get this speed up if you write them all in one expression together. If you save the parts into variables first, they have all run before you start the `and` expression. You will get the same value back from the `and` expression, but it will have evaluated all of the expressions first. \n",
    "\n",
    "This short-circuit behavior also works with `or` expressions, but they stop at the first true input and return that. This makes them the opposite of `and` expressions.\n",
    "\n",
    "Why does python return the last value here? So we can write expressions like this:"
   ]
  },
  {
   "cell_type": "code",
   "execution_count": 32,
   "id": "9e22f2ee",
   "metadata": {},
   "outputs": [],
   "source": [
    "first_choice, second_choice = 1, 2\n",
    "choice = first_choice or second_choice\n",
    "\n",
    "#if the first choice evaluates to True, go with that, otherwise fall back to the second choice. "
   ]
  },
  {
   "cell_type": "markdown",
   "id": "f79b1602",
   "metadata": {},
   "source": [
    "# 3.3 Lesson: More about Sequences:\n",
    "\n",
    "In Python, a sequence is any object that can return an iterator, and an iterator is any object that can repeatedly return the next item in the sequence. This iterator support is enough to support for loops, list comprehensions, and every other Python feature that uses sequences. Why belabor the point?\n",
    "\n",
    "Programmers who know C, C++, or Java know that it is possible to simulate a `for` loop with a `while` loop. They may have even been taught how a `for` loop works by rewriting it into a `while` loop. Here is how that works. To reproduce this `for` loop over list `my_data`,"
   ]
  },
  {
   "cell_type": "code",
   "execution_count": 33,
   "id": "29895a85",
   "metadata": {},
   "outputs": [],
   "source": [
    "my_data = []\n",
    "for x in my_data:\n",
    "    do_something(x)"
   ]
  },
  {
   "cell_type": "markdown",
   "id": "51b492d3",
   "metadata": {},
   "source": [
    "you can rewrite it to"
   ]
  },
  {
   "cell_type": "code",
   "execution_count": 34,
   "id": "f8230628",
   "metadata": {},
   "outputs": [],
   "source": [
    "i = 0;\n",
    "while i < len(my_data):\n",
    "    x = my_data[1]\n",
    "    do_something(x)\n",
    "    i = i + 1"
   ]
  },
  {
   "cell_type": "code",
   "execution_count": 35,
   "id": "eb629f25",
   "metadata": {},
   "outputs": [
    {
     "data": {
      "text/plain": [
       "[]"
      ]
     },
     "execution_count": 35,
     "metadata": {},
     "output_type": "execute_result"
    }
   ],
   "source": [
    "my_data"
   ]
  },
  {
   "cell_type": "markdown",
   "id": "02f74f9e",
   "metadata": {},
   "source": [
    "From a certain point of view, you may know exactly what is going on in minute detail. But it took more than twice as many lines, and the extra lines are spent maintaining a variable that wasn’t needed in the first example, and it doesn’t work with all sequences. The `for` loop version does."
   ]
  },
  {
   "cell_type": "markdown",
   "id": "952edb0b",
   "metadata": {},
   "source": [
    "### Loop like a Native\n",
    "\n",
    "The video and slides are from a PyCon 2013 talk. This talk starts with a similar example and covers many examples of clean `for` loop usage in Python that are more verbose or cumbersome in other languages. Again, this will be particularly valuable to programmers of other languages who already know how to achieve the same behavior but will need to write a lot more code with less clarity than using the native version. There are several examples of creating new iterators to match your desired behavior while preserving the simplicity of the `for` loop.\n",
    "\n",
    "Python has been evolving to make these common patterns easy to express briefly and concisely. The Python community, particularly the Python developers, refers to these patterns as “Pythonic programming”. One distinctive principle that guides Python development is the goal of having a clear and best way to code in Python. (This is in strict contrast to a competing language, Perl, with the motto “there’s more than one way to do it”.) For processes that repeat the same operation over a lot of data, that answer is the for loop."
   ]
  },
  {
   "cell_type": "markdown",
   "id": "aa966bbf",
   "metadata": {},
   "source": [
    "### Iteration Basics:\n",
    "\n",
    "This is an example of a loop. Let's say you have a list, and you want to iterate over the values of the list and print out all of the values. You can start a counter at 0, you can loop as long as the counter is still within the range of the list, you can get the element out of the list, you can print that value, and you can increment `i` to go onto the next element, so you can go back to the while loop and it continues around and around."
   ]
  },
  {
   "cell_type": "code",
   "execution_count": 36,
   "id": "01a2be7a",
   "metadata": {},
   "outputs": [],
   "source": [
    "my_list = [1,2,3,4]"
   ]
  },
  {
   "cell_type": "code",
   "execution_count": 37,
   "id": "82b5a628",
   "metadata": {},
   "outputs": [
    {
     "name": "stdout",
     "output_type": "stream",
     "text": [
      "1\n",
      "2\n",
      "3\n",
      "4\n"
     ]
    }
   ],
   "source": [
    "i = 0\n",
    "while i < len(my_list):\n",
    "    v = my_list[i]\n",
    "    print(v)\n",
    "    i += 1"
   ]
  },
  {
   "cell_type": "markdown",
   "id": "8f27ce73",
   "metadata": {},
   "source": [
    "Python programmers know you shouldn't do this. If you want to loop over all of the indexes of a list, you can use the `range()` function. Range of len of my list will give you an i that ranges from 0 to 1 minues the length of the list. You can get the element out of the list and you can print it.   "
   ]
  },
  {
   "cell_type": "code",
   "execution_count": 38,
   "id": "76e05411",
   "metadata": {},
   "outputs": [
    {
     "name": "stdout",
     "output_type": "stream",
     "text": [
      "1\n",
      "2\n",
      "3\n",
      "4\n"
     ]
    }
   ],
   "source": [
    "for i in range(len(my_list)):\n",
    "    v = my_list[i]\n",
    "    print(v)"
   ]
  },
  {
   "cell_type": "markdown",
   "id": "7723d896",
   "metadata": {},
   "source": [
    "*What you really should be doing* is just use a `for` loop and just loop over the elements in the list for `v` and print my list `v`."
   ]
  },
  {
   "cell_type": "code",
   "execution_count": 39,
   "id": "de57cb45",
   "metadata": {},
   "outputs": [
    {
     "name": "stdout",
     "output_type": "stream",
     "text": [
      "1\n",
      "2\n",
      "3\n",
      "4\n"
     ]
    }
   ],
   "source": [
    "for v in my_list:\n",
    "    print(v)"
   ]
  },
  {
   "cell_type": "markdown",
   "id": "d22efd8f",
   "metadata": {},
   "source": [
    "**The For Loop:**\n",
    "\n",
    "**`for` name `in` iterable**:\\\n",
    "&emsp;**statements**\n",
    "\n",
    "- Iterable produces a stream of values\n",
    "- Assign stream values to name\n",
    "- Execute statement once for each value in iterable\n",
    "- Iterable decides what values it produces\n",
    "- Lots of things are iterable\n",
    "\n",
    "\n",
    "**Strings => Characters**\\\n",
    "If you iterate a string, you get its characters:"
   ]
  },
  {
   "cell_type": "code",
   "execution_count": 40,
   "id": "f896bedf",
   "metadata": {},
   "outputs": [
    {
     "name": "stdout",
     "output_type": "stream",
     "text": [
      "H\n",
      "e\n",
      "l\n",
      "l\n",
      "o\n"
     ]
    }
   ],
   "source": [
    "for c in \"Hello\":\n",
    "    print(c)"
   ]
  },
  {
   "cell_type": "markdown",
   "id": "5f4906c8",
   "metadata": {},
   "source": [
    "If you iterate a dictionary, you get its keys:"
   ]
  },
  {
   "cell_type": "code",
   "execution_count": 41,
   "id": "ba514d5a",
   "metadata": {},
   "outputs": [
    {
     "name": "stdout",
     "output_type": "stream",
     "text": [
      "a\n",
      "b\n",
      "c\n"
     ]
    }
   ],
   "source": [
    "d = {'a' : 1, 'b': 2, 'c': 3}\n",
    "for k in d:\n",
    "    print(k)"
   ]
  },
  {
   "cell_type": "markdown",
   "id": "5a5600d4",
   "metadata": {},
   "source": [
    "**Files => lines**\\\n",
    "if you iterate over files, you give them their lines:"
   ]
  },
  {
   "cell_type": "code",
   "execution_count": 43,
   "id": "7d2a8b4e",
   "metadata": {},
   "outputs": [
    {
     "name": "stdout",
     "output_type": "stream",
     "text": [
      "'Fourscore and seven years ago our fathers brought forth on this\\n'\n",
      "'continent a new nation, conceived in liberty and dedicated to the\\n'\n",
      "'proposition that all men are created equal.\\n'\n",
      "'Now we are engaged in a great civil war, testing whether that nation\\n'\n",
      "'or any nation so conceived and so dedicated can long endure. We are\\n'\n",
      "'met on a great battle field of that war. We have come to dedicate a\\n'\n",
      "'portion of that field, as a final resting place for those who here\\n'\n",
      "'gave their lives that that nation might live. It is altogether\\n'\n",
      "'fitting and proper that we should do this.\\n'\n",
      "'But, in a larger sense, we can not dedicate - we can not consecrate\\n'\n",
      "'- we can not hallow - this ground. The brave men, living and dead,\\n'\n",
      "'who struggled here, have consecrated it, far above our poor power to\\n'\n",
      "'add or detract. The world will little note, nor long remember, what\\n'\n",
      "'we say here, but it can never forget what they did here. It is for\\n'\n",
      "'us the living, rather, to be dedicated here to the unfinished work\\n'\n",
      "'which they who fought here have thus far so nobly advanced. It is\\n'\n",
      "'rather for us to be here dedicated to the great task remaining\\n'\n",
      "'before us - that from these honored dead we take increased devotion\\n'\n",
      "'to that cause for which they gave the last full measure of devotion\\n'\n",
      "'- that we here highly resolve that these dead shall not have died in\\n'\n",
      "'vain - that this nation, under God, shall have a new birth of\\n'\n",
      "'freedom - and that government of the people, by the people, for the\\n'\n",
      "'people, shall not perish from the earth.\\n'\n"
     ]
    }
   ],
   "source": [
    "with open(\"gettysburg.txt.txt\") as f:\n",
    "    for line in f:\n",
    "        print(repr(line))"
   ]
  },
  {
   "cell_type": "markdown",
   "id": "277b37d6",
   "metadata": {},
   "source": [
    "Stdlib has interesting iterables as well:\\\n",
    "\n",
    "For examle the `re` library has \"iter\", which will give you a stream and match objects one for each place in the string where you pattern is matched. "
   ]
  },
  {
   "cell_type": "code",
   "execution_count": 46,
   "id": "c41f4070",
   "metadata": {},
   "outputs": [
    {
     "ename": "SyntaxError",
     "evalue": "incomplete input (1924450486.py, line 3)",
     "output_type": "error",
     "traceback": [
      "\u001b[0;36m  Cell \u001b[0;32mIn[46], line 3\u001b[0;36m\u001b[0m\n\u001b[0;31m    # once for each regex match:\u001b[0m\n\u001b[0m                                ^\u001b[0m\n\u001b[0;31mSyntaxError\u001b[0m\u001b[0;31m:\u001b[0m incomplete input\n"
     ]
    }
   ],
   "source": [
    "import re\n",
    "for match in re.finditer(pattern, string):\n",
    "    # once for each regex match:"
   ]
  },
  {
   "cell_type": "markdown",
   "id": "2b9c3044",
   "metadata": {},
   "source": [
    "The `os.walk` function iterates all of the subdirectories in a tree of directories, flattening the two dimensional structure from the tree into a single directory. "
   ]
  },
  {
   "cell_type": "code",
   "execution_count": 47,
   "id": "3b9c72e6",
   "metadata": {},
   "outputs": [
    {
     "ename": "SyntaxError",
     "evalue": "incomplete input (2146152790.py, line 2)",
     "output_type": "error",
     "traceback": [
      "\u001b[0;36m  Cell \u001b[0;32mIn[47], line 2\u001b[0;36m\u001b[0m\n\u001b[0;31m    #once for each sub-directory...\u001b[0m\n\u001b[0m                                    ^\u001b[0m\n\u001b[0;31mSyntaxError\u001b[0m\u001b[0;31m:\u001b[0m incomplete input\n"
     ]
    }
   ],
   "source": [
    "for root, dirs, files in os.walk('/some/dir'):\n",
    "    #once for each sub-directory... "
   ]
  },
  {
   "cell_type": "markdown",
   "id": "f1b71f73",
   "metadata": {},
   "source": [
    "Itertools is a module full of all sorts of tools for playing with iteration. The count function gives you an infinite stream of integers starting with zero and it keeps going forever. It never stops, so you'll need to close your loop somehow. Iterables can be indefinite."
   ]
  },
  {
   "cell_type": "code",
   "execution_count": 48,
   "id": "6b9d98f9",
   "metadata": {},
   "outputs": [
    {
     "ename": "SyntaxError",
     "evalue": "incomplete input (1678778350.py, line 2)",
     "output_type": "error",
     "traceback": [
      "\u001b[0;36m  Cell \u001b[0;32mIn[48], line 2\u001b[0;36m\u001b[0m\n\u001b[0;31m    # once for each integer... Infinite!\u001b[0m\n\u001b[0m                                         ^\u001b[0m\n\u001b[0;31mSyntaxError\u001b[0m\u001b[0;31m:\u001b[0m incomplete input\n"
     ]
    }
   ],
   "source": [
    "for num in intertools.count():\n",
    "    # once for each integer... Infinite! "
   ]
  },
  {
   "cell_type": "markdown",
   "id": "3cb05cc9",
   "metadata": {},
   "source": [
    "Lastly, the itertools module has all sorts of cool functions that you can use to put things together. Here we've made a chain which repeats 17 3 times, and then cycles forever in range of four:"
   ]
  },
  {
   "cell_type": "code",
   "execution_count": 50,
   "id": "f866824c",
   "metadata": {},
   "outputs": [
    {
     "ename": "SyntaxError",
     "evalue": "incomplete input (2797762832.py, line 3)",
     "output_type": "error",
     "traceback": [
      "\u001b[0;36m  Cell \u001b[0;32mIn[50], line 3\u001b[0;36m\u001b[0m\n\u001b[0;31m    for num in seq:\u001b[0m\n\u001b[0m                   ^\u001b[0m\n\u001b[0;31mSyntaxError\u001b[0m\u001b[0;31m:\u001b[0m incomplete input\n"
     ]
    }
   ],
   "source": [
    "from itertools import chain, repeat, cycle\n",
    "seq = chain(repeat(17, 3), cycle(range(4)))\n",
    "for num in seq:"
   ]
  },
  {
   "cell_type": "markdown",
   "id": "e1da8874",
   "metadata": {},
   "source": [
    "Bottom line: Python gives you a way of creating iterables, which are streams of values, and they can take all sorts of forms."
   ]
  },
  {
   "cell_type": "markdown",
   "id": "71ebfaa0",
   "metadata": {},
   "source": [
    "### Other uses for iterables\n",
    "The list function will take an iterable and pull all of the values out of it and give you a list of all of them. "
   ]
  },
  {
   "cell_type": "code",
   "execution_count": 1,
   "id": "89dc9052",
   "metadata": {},
   "outputs": [],
   "source": [
    "iterable = [1,2,3,4]\n",
    "new_list = list(iterable)"
   ]
  },
  {
   "cell_type": "markdown",
   "id": "08d2234e",
   "metadata": {},
   "source": [
    "A list comprehension can loop over an iterable, and give you, for example a list of the values f of x, for every x in your iterable."
   ]
  },
  {
   "cell_type": "code",
   "execution_count": 63,
   "id": "6b30473c",
   "metadata": {},
   "outputs": [
    {
     "name": "stdout",
     "output_type": "stream",
     "text": [
      "[2, 4, 6, 8]\n"
     ]
    }
   ],
   "source": [
    "def f(x):\n",
    "    return x * 2\n",
    "iterable = [1,2,3,4]\n",
    "results = [f(x) for x in iterable] #pass the iterable to a function.\n",
    "print(results)"
   ]
  },
  {
   "cell_type": "markdown",
   "id": "2f95bc71",
   "metadata": {},
   "source": [
    "Sum will take a list of things that can be added together and give you the total of all of them."
   ]
  },
  {
   "cell_type": "code",
   "execution_count": 65,
   "id": "ca3c4026",
   "metadata": {},
   "outputs": [
    {
     "name": "stdout",
     "output_type": "stream",
     "text": [
      "10\n"
     ]
    }
   ],
   "source": [
    "total = sum(iterable)\n",
    "print(total)"
   ]
  },
  {
   "cell_type": "markdown",
   "id": "2d2fe092",
   "metadata": {},
   "source": [
    "`min` and `max` will take your iterables of comparable values, like numbers or strings and find you the least or greatest value."
   ]
  },
  {
   "cell_type": "code",
   "execution_count": 66,
   "id": "78179391",
   "metadata": {},
   "outputs": [],
   "source": [
    "smallest = min(iterable)\n",
    "largest = max(iterable)"
   ]
  },
  {
   "cell_type": "markdown",
   "id": "22d749d6",
   "metadata": {},
   "source": [
    "Join will take an iterable of strings and join them all together. "
   ]
  },
  {
   "cell_type": "code",
   "execution_count": 69,
   "id": "ff18d98c",
   "metadata": {},
   "outputs": [
    {
     "name": "stdout",
     "output_type": "stream",
     "text": [
      "boblarry\n"
     ]
    }
   ],
   "source": [
    "iterable = [\"bob\", \"larry\"]\n",
    "combined = \"\".join(iterable)\n",
    "print(combined)"
   ]
  },
  {
   "cell_type": "markdown",
   "id": "98b221db",
   "metadata": {},
   "source": [
    "### Common Questions \n",
    "1. How do I get the index?"
   ]
  },
  {
   "cell_type": "code",
   "execution_count": 77,
   "id": "510a58f9",
   "metadata": {},
   "outputs": [
    {
     "name": "stdout",
     "output_type": "stream",
     "text": [
      "0 1\n",
      "1 2\n",
      "2 3\n",
      "3 4\n"
     ]
    }
   ],
   "source": [
    "#No:\n",
    "for i in range(len(my_list)):\n",
    "    v = my_list[i]\n",
    "    print(i, v)"
   ]
  },
  {
   "cell_type": "code",
   "execution_count": 78,
   "id": "07cd8dac",
   "metadata": {},
   "outputs": [
    {
     "name": "stdout",
     "output_type": "stream",
     "text": [
      "0 1\n",
      "1 2\n",
      "2 3\n",
      "3 4\n"
     ]
    }
   ],
   "source": [
    " #Yes:\n",
    "for i, v in enumerate(my_list):\n",
    "    print(i,v)"
   ]
  },
  {
   "cell_type": "code",
   "execution_count": 79,
   "id": "39b8bfd7",
   "metadata": {},
   "outputs": [
    {
     "data": {
      "text/plain": [
       "[(0, 'Eiffel Tower'), (1, 'Empire State'), (2, 'Sears Tower')]"
      ]
     },
     "execution_count": 79,
     "metadata": {},
     "output_type": "execute_result"
    }
   ],
   "source": [
    "#enumerate() makes useful pairs \n",
    "names = [\"Eiffel Tower\", \"Empire State\", \"Sears Tower\"]\n",
    "list(enumerate(names))"
   ]
  },
  {
   "cell_type": "markdown",
   "id": "c484f7bd",
   "metadata": {},
   "source": [
    "If I enumerate those names, and make a list of what `enumerate()` gives me, you can see that i've gotten a tuple of `[(0, 'Eiffel Tower'), (1, 'Empire State'), (2, 'Sears Tower')]`. So `enumerate()` has taken an iterable, and it pulls values off of the interable, and bundles them together with the index that's keeping track of how many its gotten, and it gives you pairs that are the index and the value.\n",
    "\n",
    "So now we can do the right thing, to number our values without "
   ]
  },
  {
   "cell_type": "code",
   "execution_count": 80,
   "id": "96176537",
   "metadata": {},
   "outputs": [
    {
     "name": "stdout",
     "output_type": "stream",
     "text": [
      "0 Eiffel Tower\n",
      "1 Empire State\n",
      "2 Sears Tower\n"
     ]
    }
   ],
   "source": [
    "for num, name in enumerate(names):\n",
    "    print(num, name)"
   ]
  },
  {
   "cell_type": "markdown",
   "id": "aa82288f",
   "metadata": {},
   "source": [
    "### Iteration vs Indexing\n",
    "This step here only works if the value you are iterating can be indexed. Lists can be iterated over, but you can also ask for the 17th element. Lots of iterables don't let you do that."
   ]
  },
  {
   "cell_type": "code",
   "execution_count": 81,
   "id": "3d621589",
   "metadata": {},
   "outputs": [
    {
     "name": "stdout",
     "output_type": "stream",
     "text": [
      "0 1\n",
      "1 2\n",
      "2 3\n",
      "3 4\n"
     ]
    }
   ],
   "source": [
    "#limited:\n",
    "for i in range(len(my_list)):\n",
    "    v = my_list[i] #indexing!\n",
    "    print(i, v)"
   ]
  },
  {
   "cell_type": "code",
   "execution_count": null,
   "id": "0825d658",
   "metadata": {},
   "outputs": [],
   "source": [
    "# more powerful\n",
    "for i, v in enumerate(iterable):\n",
    "    print(i,v)\n",
    "    \n",
    "for linenum, line in enumerate(f, start=1):\n",
    "    #... "
   ]
  },
  {
   "cell_type": "markdown",
   "id": "9f0e6f4e",
   "metadata": {},
   "source": [
    "When we use enumerate of iterable we don't have to index into the list. For example, this open file object, you can't get the hundredth line in a file by saying f sub 100, you have to read them in order. "
   ]
  },
  {
   "cell_type": "markdown",
   "id": "39333e12",
   "metadata": {},
   "source": [
    "**How do I loop over two lists?**\n",
    "\n",
    "I've got two lists, the towers and their heights, and I want to print out the coresponding data between them. So now i have to go back and forth "
   ]
  },
  {
   "cell_type": "code",
   "execution_count": 3,
   "id": "63902a1e",
   "metadata": {},
   "outputs": [
    {
     "name": "stdout",
     "output_type": "stream",
     "text": [
      "Eiffel Tower: 324 meters\n",
      "Empire State: 381 meters\n",
      "Sears Tower: 442 meters\n"
     ]
    }
   ],
   "source": [
    "names = [\"Eiffel Tower\", \"Empire State\", \"Sears Tower\"]\n",
    "heights = [324, 381, 442]\n",
    "\n",
    "#bad\n",
    "for i in range(len(names)):\n",
    "    name = names[i]\n",
    "    height = heights[i]\n",
    "    print(\"%s: %s meters\" % (name, height))"
   ]
  },
  {
   "cell_type": "markdown",
   "id": "1d29a866",
   "metadata": {},
   "source": [
    "We still don't have to do this, you can use the `zip()` function. Zip takes a pare of strings, and gives you a string of pairs. "
   ]
  },
  {
   "cell_type": "code",
   "execution_count": 5,
   "id": "9aee537d",
   "metadata": {},
   "outputs": [
    {
     "name": "stdout",
     "output_type": "stream",
     "text": [
      "Eiffel Tower: 324 meters\n",
      "Empire State: 381 meters\n",
      "Sears Tower: 442 meters\n"
     ]
    }
   ],
   "source": [
    "for name, height in zip(names, heights):\n",
    "     print(\"%s: %s meters\" % (name, height))"
   ]
  },
  {
   "cell_type": "markdown",
   "id": "08531e50",
   "metadata": {},
   "source": [
    "**`dict()` accepts a stream of pairs**\n",
    "\n",
    "The dict constructor will also take a string of pairs and give us a dictionary. "
   ]
  },
  {
   "cell_type": "code",
   "execution_count": 6,
   "id": "1ed5b132",
   "metadata": {},
   "outputs": [
    {
     "data": {
      "text/plain": [
       "{'Eiffel Tower': 324, 'Empire State': 381, 'Sears Tower': 442}"
      ]
     },
     "execution_count": 6,
     "metadata": {},
     "output_type": "execute_result"
    }
   ],
   "source": [
    "names = [\"Eiffel Tower\", \"Empire State\", \"Sears Tower\"]\n",
    "heights = [324, 381, 442]\n",
    "\n",
    "dict(zip(names, heights))"
   ]
  },
  {
   "cell_type": "code",
   "execution_count": 8,
   "id": "8cb9cd30",
   "metadata": {},
   "outputs": [
    {
     "name": "stdout",
     "output_type": "stream",
     "text": [
      "828\n"
     ]
    }
   ],
   "source": [
    "#Powerful\n",
    "tall_buildings = {\"Empire State\": 381, \"Sears Tower\": 442, \"Burj Khalifa\": 828, \"Taipei 101\": 509}\n",
    "\n",
    "print(max(tall_buildings.values()))"
   ]
  },
  {
   "cell_type": "code",
   "execution_count": 13,
   "id": "80e1cfd4",
   "metadata": {},
   "outputs": [
    {
     "name": "stdout",
     "output_type": "stream",
     "text": [
      "('Burj Khalifa', 828)\n"
     ]
    }
   ],
   "source": [
    "print(max(tall_buildings.items(), key=lambda b: b[1]))"
   ]
  },
  {
   "cell_type": "code",
   "execution_count": 14,
   "id": "f3d9e436",
   "metadata": {},
   "outputs": [
    {
     "name": "stdout",
     "output_type": "stream",
     "text": [
      "Burj Khalifa\n"
     ]
    }
   ],
   "source": [
    "print(max(tall_buildings, key=tall_buildings.get))"
   ]
  },
  {
   "cell_type": "markdown",
   "id": "d53f90dc",
   "metadata": {},
   "source": [
    "### Customizing Iteration\n",
    "\n",
    "We've seen that python gives you very powerful ways of dealing with data. We can also customize it to be more direct. \n",
    "\n",
    "**Generators**\n",
    "Functions return one value, Generators produce a stream. So whats a generator? A generator is like a function; a function when you call it runs all the statements and it returns one value. A generator when you call it produces and iterator and when you iterate the values in the iterator it runs the statements in the generator and every it hits a yield statement it produces one more value. So its kind of like a function that can keep producing values over and over again.  "
   ]
  },
  {
   "cell_type": "code",
   "execution_count": 27,
   "id": "89fd6f49",
   "metadata": {},
   "outputs": [
    {
     "name": "stdout",
     "output_type": "stream",
     "text": [
      "Hello\n",
      "World\n"
     ]
    }
   ],
   "source": [
    "def hello_world():\n",
    "    yield \"Hello\"\n",
    "    yield \"World\"\n",
    "    \n",
    "for x in hello_world():\n",
    "    print(x)"
   ]
  },
  {
   "cell_type": "code",
   "execution_count": 28,
   "id": "3a3242e7",
   "metadata": {},
   "outputs": [],
   "source": [
    "#evens generator\n",
    "def evens(stream):\n",
    "    for n in stream:\n",
    "        if n% 2 == 0:\n",
    "            yield n"
   ]
  },
  {
   "cell_type": "markdown",
   "id": "8091404b",
   "metadata": {},
   "source": [
    "Range is a generator \n",
    "\n",
    "**Abstracting your iteration**"
   ]
  },
  {
   "cell_type": "code",
   "execution_count": null,
   "id": "70de5188",
   "metadata": {},
   "outputs": [],
   "source": [
    "#more real world example\n",
    "f = open(\"my_config.ini\")\n",
    "for line in f:\n",
    "    line = line.strip()\n",
    "    if line.startswith(\"#\"):\n",
    "        # A comment line, skip it.\n",
    "        continue\n",
    "    if not line:\n",
    "        # A blank line, skip it.\n",
    "        continue\n",
    "    # An interesting line.\n",
    "    do_something(line)"
   ]
  },
  {
   "cell_type": "code",
   "execution_count": 30,
   "id": "1c7cb223",
   "metadata": {},
   "outputs": [],
   "source": [
    "# generator version\n",
    "def interesting_lines(f):\n",
    "    for line in f:\n",
    "        line = line.strip()\n",
    "        if line.startswith('#'):\n",
    "            continue\n",
    "        if not line:\n",
    "            continue\n",
    "        yield line\n",
    "        \n",
    "# this function will take any value that can produce strings, not just files. Now we can use it:"
   ]
  },
  {
   "cell_type": "code",
   "execution_count": null,
   "id": "c9049565",
   "metadata": {},
   "outputs": [],
   "source": [
    "with open(\"my_config.ini\") as f:\n",
    "    for line in interesting_lines(f):\n",
    "        do_something(line)\n",
    "        \n",
    "with open(\"my_other_dat\") as f2:\n",
    "    for line in interesting_lines(f2):\n",
    "        do_something_else(line)"
   ]
  },
  {
   "cell_type": "markdown",
   "id": "675244af",
   "metadata": {},
   "source": [
    "**Q: How do I break out of two loops?**"
   ]
  },
  {
   "cell_type": "code",
   "execution_count": 31,
   "id": "5b0a7223",
   "metadata": {
    "collapsed": true
   },
   "outputs": [
    {
     "ename": "NameError",
     "evalue": "name 'width' is not defined",
     "output_type": "error",
     "traceback": [
      "\u001b[0;31m---------------------------------------------------------------------------\u001b[0m",
      "\u001b[0;31mNameError\u001b[0m                                 Traceback (most recent call last)",
      "Cell \u001b[0;32mIn[31], line 2\u001b[0m\n\u001b[1;32m      1\u001b[0m \u001b[38;5;28;01mfor\u001b[39;00m row \u001b[38;5;129;01min\u001b[39;00m \u001b[38;5;28mrange\u001b[39m(height):\n\u001b[0;32m----> 2\u001b[0m     \u001b[38;5;28;01mfor\u001b[39;00m col \u001b[38;5;129;01min\u001b[39;00m \u001b[38;5;28mrange\u001b[39m(width):\n\u001b[1;32m      4\u001b[0m         value \u001b[38;5;241m=\u001b[39m spreadsheet\u001b[38;5;241m.\u001b[39mget_value(col,row)\n\u001b[1;32m      5\u001b[0m         do_something(value)\n",
      "\u001b[0;31mNameError\u001b[0m: name 'width' is not defined"
     ]
    }
   ],
   "source": [
    "for row in range(height):\n",
    "    for col in range(width):\n",
    "        \n",
    "        value = spreadsheet.get_value(col,row)\n",
    "        do_something(value)\n",
    "        \n",
    "        if this_is_my_value(value):\n",
    "            break # <- ???"
   ]
  },
  {
   "cell_type": "code",
   "execution_count": 34,
   "id": "5743d482",
   "metadata": {
    "collapsed": true
   },
   "outputs": [
    {
     "ename": "NameError",
     "evalue": "name 'width' is not defined",
     "output_type": "error",
     "traceback": [
      "\u001b[0;31m---------------------------------------------------------------------------\u001b[0m",
      "\u001b[0;31mNameError\u001b[0m                                 Traceback (most recent call last)",
      "Cell \u001b[0;32mIn[34], line 8\u001b[0m\n\u001b[1;32m      5\u001b[0m         \u001b[38;5;28;01mfor\u001b[39;00m x \u001b[38;5;129;01min\u001b[39;00m \u001b[38;5;28mrange\u001b[39m(width):\n\u001b[1;32m      6\u001b[0m             \u001b[38;5;28;01myield\u001b[39;00m x,y\n\u001b[0;32m----> 8\u001b[0m \u001b[38;5;28;01mfor\u001b[39;00m col, row \u001b[38;5;129;01min\u001b[39;00m range_2d(width, height):\n\u001b[1;32m      9\u001b[0m     value \u001b[38;5;241m=\u001b[39m spreadsheet\u001b[38;5;241m.\u001b[39mget_value(col, row)\n\u001b[1;32m     10\u001b[0m     do_something(value)\n",
      "\u001b[0;31mNameError\u001b[0m: name 'width' is not defined"
     ]
    }
   ],
   "source": [
    "# Make the double loop single:\n",
    "def range_2d(width, height):\n",
    "    ''' Produce a stream of two-D coordinates.'''\n",
    "    for y in range(height):\n",
    "        for x in range(width):\n",
    "            yield x,y\n",
    "#good            \n",
    "for col, row in range_2d(width, height):\n",
    "    value = spreadsheet.get_value(col, row)\n",
    "    do_something(value)\n",
    "    \n",
    "    if this_is_my_value(value):\n",
    "        break\n",
    "        \n",
    "#better\n",
    "for cell in spreadsheet.cells():\n",
    "    value = cell.get_value()\n",
    "    do_something(value)\n",
    "    \n",
    "    if this_is_my_value(value):\n",
    "        break"
   ]
  },
  {
   "cell_type": "markdown",
   "id": "c23a1262",
   "metadata": {},
   "source": [
    "### Low Level Iteration\n",
    "\n",
    "Iterable: produces an iterator\\\n",
    "Iterator: produces a stream of values"
   ]
  },
  {
   "cell_type": "code",
   "execution_count": 35,
   "id": "3e418e30",
   "metadata": {
    "collapsed": true
   },
   "outputs": [
    {
     "ename": "NameError",
     "evalue": "name 'iterable' is not defined",
     "output_type": "error",
     "traceback": [
      "\u001b[0;31m---------------------------------------------------------------------------\u001b[0m",
      "\u001b[0;31mNameError\u001b[0m                                 Traceback (most recent call last)",
      "Cell \u001b[0;32mIn[35], line 1\u001b[0m\n\u001b[0;32m----> 1\u001b[0m iterator \u001b[38;5;241m=\u001b[39m \u001b[38;5;28miter\u001b[39m(iterable) \u001b[38;5;66;03m# iterable.__iter__()\u001b[39;00m\n\u001b[1;32m      2\u001b[0m value \u001b[38;5;241m=\u001b[39m \u001b[38;5;28mnext\u001b[39m(iterator) \u001b[38;5;66;03m#iterator.next() or .__next__()\u001b[39;00m\n\u001b[1;32m      3\u001b[0m value \u001b[38;5;241m=\u001b[39m \u001b[38;5;28mnext\u001b[39m(iterator)\n",
      "\u001b[0;31mNameError\u001b[0m: name 'iterable' is not defined"
     ]
    }
   ],
   "source": [
    "iterator = iter(iterable) # iterable.__iter__()\n",
    "value = next(iterator) #iterator.next() or .__next__()\n",
    "value = next(iterator)"
   ]
  },
  {
   "cell_type": "markdown",
   "id": "cdbe41b8",
   "metadata": {},
   "source": [
    "Only operation on iterators is next().  "
   ]
  },
  {
   "cell_type": "code",
   "execution_count": 37,
   "id": "e9283d79",
   "metadata": {
    "collapsed": true
   },
   "outputs": [
    {
     "ename": "SyntaxError",
     "evalue": "incomplete input (1472646461.py, line 6)",
     "output_type": "error",
     "traceback": [
      "\u001b[0;36m  Cell \u001b[0;32mIn[37], line 6\u001b[0;36m\u001b[0m\n\u001b[0;31m    for data_line in f:\u001b[0m\n\u001b[0m                       ^\u001b[0m\n\u001b[0;31mSyntaxError\u001b[0m\u001b[0;31m:\u001b[0m incomplete input\n"
     ]
    }
   ],
   "source": [
    "with open('blah.dat') as f:\n",
    "    #read the first line\n",
    "    header_line = next(f)\n",
    "    \n",
    "    # read the rest\n",
    "    for data_line in f:"
   ]
  },
  {
   "cell_type": "markdown",
   "id": "8254c5b3",
   "metadata": {},
   "source": [
    "**Making your own objects iterable"
   ]
  },
  {
   "cell_type": "code",
   "execution_count": 39,
   "id": "7d0552db",
   "metadata": {},
   "outputs": [],
   "source": [
    "class ToDoList(object):\n",
    "    def __init__(self):\n",
    "        self.tasks = []\n",
    "        \n",
    "        def __iter__(self):\n",
    "            return iter(self.tasks)"
   ]
  },
  {
   "cell_type": "code",
   "execution_count": 40,
   "id": "0a8a8dea",
   "metadata": {
    "collapsed": true
   },
   "outputs": [
    {
     "ename": "SyntaxError",
     "evalue": "incomplete input (2976549113.py, line 3)",
     "output_type": "error",
     "traceback": [
      "\u001b[0;36m  Cell \u001b[0;32mIn[40], line 3\u001b[0;36m\u001b[0m\n\u001b[0;31m    for task in todo:\u001b[0m\n\u001b[0m                     ^\u001b[0m\n\u001b[0;31mSyntaxError\u001b[0m\u001b[0;31m:\u001b[0m incomplete input\n"
     ]
    }
   ],
   "source": [
    "todo = ToDoList()\n",
    "\n",
    "for task in todo:"
   ]
  },
  {
   "cell_type": "code",
   "execution_count": 43,
   "id": "e9e7a258",
   "metadata": {},
   "outputs": [],
   "source": [
    "# __iter__ generators\n",
    "class ToDoList(object):\n",
    "    def __init__(self):\n",
    "        self.tasks = []\n",
    "        \n",
    "    def __iter__(self):\n",
    "        for task in self.tasks:\n",
    "            if not task.done:\n",
    "                yield task\n",
    "                \n",
    "    def all(self):\n",
    "        return iter(self.tasks)\n",
    "    \n",
    "    def done(self):\n",
    "        return (t for t in self.tasks if t.done)"
   ]
  },
  {
   "cell_type": "markdown",
   "id": "f6b2f4ea",
   "metadata": {},
   "source": [
    "**Common ways to create more sequences**\n",
    "| Function/Pattern | Comment |\n",
    "| :--- | :--- |\n",
    "| Use a built-in container | Covered in Week 2. All the built-in containers act as sequences. |\n",
    "| List comprehensions | Covered in week 2. Easy way to transform sequences. |\n",
    "| `enumerate()` | Takes in a sequence, and returns a sequence of (`index`, `value`) `tuples`. Use this to keep track of how far you are in a sequence without writing the bookkeeping code. If looping over a list, you can use the index to modify the value in the list. |\n",
    "| `range()` | Returns a sequence of integers. Can specify both the start and end, and the spacing (e.g. counting by fives). |\n",
    "| `zip()` | Takes in two or more sequences and returns tuples with one value from each input sequenc. Useful for making dictionaries. |\n",
    "| Any function returning a list | This is the easiest way to make a new sequence. The main cost is keeping the whole list around at once. This wont be a big deal until we start working with big data. |\n",
    "| Generator Functions | If you write a function with the yield keyword, the function result becomes an iterator for all the values yielded by the function. You will use them soon to read files. |\n",
    "| Itertools module | This built-in Python library has many useful functions to compose sequences in different ways to easily build iterators with common behavior. |"
   ]
  },
  {
   "cell_type": "markdown",
   "id": "08b1e019",
   "metadata": {},
   "source": [
    "# 3.4 lesson: First Class Functions\n",
    "\n",
    "We have already seen functions as a way to reuse code. Python treats functions as first class citizens, a programming language expression meaning that functions can be treated like ordinary values, just with different types. It also means that we can write “higher order” functions that take other functions as input. What does this give us?\n",
    "\n",
    "**Functions As variables**\n",
    "The practice of storing function references in new variables."
   ]
  },
  {
   "cell_type": "code",
   "execution_count": 44,
   "id": "f5303d76",
   "metadata": {},
   "outputs": [],
   "source": [
    "import math\n",
    "f = math.sin"
   ]
  },
  {
   "cell_type": "code",
   "execution_count": 45,
   "id": "914f3d73",
   "metadata": {},
   "outputs": [
    {
     "data": {
      "text/plain": [
       "<function math.sin(x, /)>"
      ]
     },
     "execution_count": 45,
     "metadata": {},
     "output_type": "execute_result"
    }
   ],
   "source": [
    "f"
   ]
  },
  {
   "cell_type": "code",
   "execution_count": 46,
   "id": "bd8ba15d",
   "metadata": {},
   "outputs": [
    {
     "data": {
      "text/plain": [
       "builtin_function_or_method"
      ]
     },
     "execution_count": 46,
     "metadata": {},
     "output_type": "execute_result"
    }
   ],
   "source": [
    "type(f)"
   ]
  },
  {
   "cell_type": "markdown",
   "id": "e7860532",
   "metadata": {},
   "source": [
    "Now, its just like using the sine function from the math library, because it is using the sine function from the math library. F is just a new variable referring to that same function."
   ]
  },
  {
   "cell_type": "code",
   "execution_count": 47,
   "id": "2fa25639",
   "metadata": {},
   "outputs": [
    {
     "data": {
      "text/plain": [
       "0.19866933079506122"
      ]
     },
     "execution_count": 47,
     "metadata": {},
     "output_type": "execute_result"
    }
   ],
   "source": [
    "f(0.2)"
   ]
  },
  {
   "cell_type": "code",
   "execution_count": 50,
   "id": "0b310745",
   "metadata": {},
   "outputs": [
    {
     "data": {
      "text/plain": [
       "0.19866933079506122"
      ]
     },
     "execution_count": 50,
     "metadata": {},
     "output_type": "execute_result"
    }
   ],
   "source": [
    "math.sin(0.2)"
   ]
  },
  {
   "cell_type": "markdown",
   "id": "c4b29199",
   "metadata": {},
   "source": [
    "**Functions as Expressions (Lambda Functions) How to create new functions using lambda functions.**\n",
    "\n",
    "Let's make new functions now"
   ]
  },
  {
   "cell_type": "code",
   "execution_count": 51,
   "id": "fcb1e13d",
   "metadata": {},
   "outputs": [],
   "source": [
    "f = lambda x: x + 1"
   ]
  },
  {
   "cell_type": "markdown",
   "id": "f6c55cdc",
   "metadata": {},
   "source": [
    "This just defined a new function, which we then gave the name f. \n",
    "- The keyword `lambda` is used to make a new anonymous function. \n",
    "- Lambda is a reference to Alonso Church's lambda calculus. \n",
    "- After the keyword lambda, there are one or more variable names before colon.\n",
    "- Those variable names are the input to the new function. \n",
    "- After the colon, there is an expression that is returned from the anonymous function. You don't need to use a return. \n",
    "\n",
    "Lambda expressions are intended for brief functions that don't need to have a persistent name. One feature of lambda functions, like other functions, is that they can access the variables around them when they are defined. "
   ]
  },
  {
   "cell_type": "code",
   "execution_count": 53,
   "id": "e3ada06c",
   "metadata": {},
   "outputs": [],
   "source": [
    "def make_linear_function(m,b):\n",
    "    return lambda x: m * x + b"
   ]
  },
  {
   "cell_type": "code",
   "execution_count": 54,
   "id": "67fa03c9",
   "metadata": {},
   "outputs": [],
   "source": [
    "f = make_linear_function(3,2)"
   ]
  },
  {
   "cell_type": "code",
   "execution_count": 55,
   "id": "6fc9ed38",
   "metadata": {},
   "outputs": [
    {
     "data": {
      "text/plain": [
       "<function __main__.make_linear_function.<locals>.<lambda>(x)>"
      ]
     },
     "execution_count": 55,
     "metadata": {},
     "output_type": "execute_result"
    }
   ],
   "source": [
    "f"
   ]
  },
  {
   "cell_type": "code",
   "execution_count": 56,
   "id": "aa7728d3",
   "metadata": {},
   "outputs": [
    {
     "data": {
      "text/plain": [
       "5"
      ]
     },
     "execution_count": 56,
     "metadata": {},
     "output_type": "execute_result"
    }
   ],
   "source": [
    "f(1)"
   ]
  },
  {
   "cell_type": "markdown",
   "id": "1e62191d",
   "metadata": {},
   "source": [
    "if you call `make_linear_function` again, you'll have a different m and b, and a different function using the different m and b. "
   ]
  },
  {
   "cell_type": "code",
   "execution_count": 57,
   "id": "b9bfb553",
   "metadata": {},
   "outputs": [],
   "source": [
    "f2 = make_linear_function(4,3)"
   ]
  },
  {
   "cell_type": "code",
   "execution_count": 58,
   "id": "b7b84c3a",
   "metadata": {},
   "outputs": [
    {
     "data": {
      "text/plain": [
       "<function __main__.make_linear_function.<locals>.<lambda>(x)>"
      ]
     },
     "execution_count": 58,
     "metadata": {},
     "output_type": "execute_result"
    }
   ],
   "source": [
    "f2"
   ]
  },
  {
   "cell_type": "code",
   "execution_count": 59,
   "id": "da71528f",
   "metadata": {},
   "outputs": [
    {
     "data": {
      "text/plain": [
       "3"
      ]
     },
     "execution_count": 59,
     "metadata": {},
     "output_type": "execute_result"
    }
   ],
   "source": [
    "f2(0)"
   ]
  },
  {
   "cell_type": "markdown",
   "id": "dd7063fc",
   "metadata": {},
   "source": [
    "The most common use of higher-order functions is custom sort keys. The sort function has an optional parameter called a key. If you pass a function in this key parameter, then it will be applied to each row in the list, and the list will be sorted according to the output of the function. In data science, a function returning a particular column in the data would be used to sort by that column. Or a model’s prediction function might be used to sort by the model’s predictions. This essentially lets you select a sorting order by selecting a key function. The same key functions can be reused with the min and max functions if you want an extreme value from the data by the same criteria."
   ]
  },
  {
   "cell_type": "markdown",
   "id": "30773ffe",
   "metadata": {},
   "source": [
    "### Flexible sorting in Python\n",
    "How to use lambda functions and the reverse option to change the behavior of Python's built-in sorting. "
   ]
  },
  {
   "cell_type": "code",
   "execution_count": 2,
   "id": "d2446925",
   "metadata": {},
   "outputs": [],
   "source": [
    "# python makes it very easy to sort data by criteria\n",
    "my_data = [{\"a\" : 3}, {\"a\": 4}, {\"a\": 2}]"
   ]
  },
  {
   "cell_type": "code",
   "execution_count": 3,
   "id": "9cf8698b",
   "metadata": {},
   "outputs": [
    {
     "ename": "TypeError",
     "evalue": "'<' not supported between instances of 'dict' and 'dict'",
     "output_type": "error",
     "traceback": [
      "\u001b[0;31m---------------------------------------------------------------------------\u001b[0m",
      "\u001b[0;31mTypeError\u001b[0m                                 Traceback (most recent call last)",
      "Cell \u001b[0;32mIn[3], line 1\u001b[0m\n\u001b[0;32m----> 1\u001b[0m my_data\u001b[38;5;241m.\u001b[39msort()\n",
      "\u001b[0;31mTypeError\u001b[0m: '<' not supported between instances of 'dict' and 'dict'"
     ]
    }
   ],
   "source": [
    "my_data.sort()"
   ]
  },
  {
   "cell_type": "markdown",
   "id": "752a304d",
   "metadata": {},
   "source": [
    "Lambda functions are an easy way to define a new sort order."
   ]
  },
  {
   "cell_type": "code",
   "execution_count": 62,
   "id": "e0440914",
   "metadata": {},
   "outputs": [],
   "source": [
    "my_data.sort(key = lambda r: r[\"a\"])"
   ]
  },
  {
   "cell_type": "code",
   "execution_count": 63,
   "id": "d755f34c",
   "metadata": {},
   "outputs": [
    {
     "data": {
      "text/plain": [
       "[{'a': 2}, {'a': 3}, {'a': 4}]"
      ]
     },
     "execution_count": 63,
     "metadata": {},
     "output_type": "execute_result"
    }
   ],
   "source": [
    "my_data"
   ]
  },
  {
   "cell_type": "code",
   "execution_count": 64,
   "id": "babd30ee",
   "metadata": {},
   "outputs": [],
   "source": [
    "my_data.sort(key = lambda r: -r[\"a\"])"
   ]
  },
  {
   "cell_type": "code",
   "execution_count": 66,
   "id": "c4acb24a",
   "metadata": {},
   "outputs": [
    {
     "data": {
      "text/plain": [
       "[{'a': 4}, {'a': 3}, {'a': 2}]"
      ]
     },
     "execution_count": 66,
     "metadata": {},
     "output_type": "execute_result"
    }
   ],
   "source": [
    "my_data"
   ]
  },
  {
   "cell_type": "code",
   "execution_count": 67,
   "id": "27abbe07",
   "metadata": {},
   "outputs": [],
   "source": [
    "#easier way to reverse sort\n",
    "my_data.sort(key= lambda r: r[\"a\"], reverse=True)"
   ]
  },
  {
   "cell_type": "code",
   "execution_count": 68,
   "id": "8cccb98d",
   "metadata": {},
   "outputs": [
    {
     "data": {
      "text/plain": [
       "[{'a': 4}, {'a': 3}, {'a': 2}]"
      ]
     },
     "execution_count": 68,
     "metadata": {},
     "output_type": "execute_result"
    }
   ],
   "source": [
    "my_data"
   ]
  },
  {
   "cell_type": "code",
   "execution_count": 69,
   "id": "2f97c0c8",
   "metadata": {},
   "outputs": [],
   "source": [
    "def my_key_func(r):\n",
    "    return r[\"a\"]"
   ]
  },
  {
   "cell_type": "code",
   "execution_count": 70,
   "id": "f8fcf82c",
   "metadata": {},
   "outputs": [],
   "source": [
    "my_data.sort(key = my_key_func, reverse=True)"
   ]
  },
  {
   "cell_type": "code",
   "execution_count": 71,
   "id": "772b6378",
   "metadata": {},
   "outputs": [
    {
     "data": {
      "text/plain": [
       "[{'a': 4}, {'a': 3}, {'a': 2}]"
      ]
     },
     "execution_count": 71,
     "metadata": {},
     "output_type": "execute_result"
    }
   ],
   "source": [
    "my_data"
   ]
  },
  {
   "cell_type": "code",
   "execution_count": 72,
   "id": "013d7bd2",
   "metadata": {},
   "outputs": [
    {
     "data": {
      "text/plain": [
       "[{'a': 2}, {'a': 3}, {'a': 4}]"
      ]
     },
     "execution_count": 72,
     "metadata": {},
     "output_type": "execute_result"
    }
   ],
   "source": [
    "#lets look at a few more examples\n",
    "\n",
    "sorted(my_data, key = lambda r: r[\"a\"])"
   ]
  },
  {
   "cell_type": "markdown",
   "id": "71af1ad8",
   "metadata": {},
   "source": [
    "That returns a sorted list with the data from `my_data`, sorted by the `\"a\"` key. The difference is that `my_data.sort` reorders my data, and `sorted()` makes a new list with the same data.\n",
    "- `my_data.sort` works for lists\n",
    "- `sorted()` works for any sequence\n",
    "\n",
    "If you already have your data in a list, and don't care about the old order, use sort. If you just want the first row when sorting by that key, then:"
   ]
  },
  {
   "cell_type": "code",
   "execution_count": 73,
   "id": "3b8bc9b2",
   "metadata": {},
   "outputs": [
    {
     "data": {
      "text/plain": [
       "{'a': 2}"
      ]
     },
     "execution_count": 73,
     "metadata": {},
     "output_type": "execute_result"
    }
   ],
   "source": [
    "min(my_data, key = lambda r: r[\"a\"])"
   ]
  },
  {
   "cell_type": "code",
   "execution_count": 74,
   "id": "4801a583",
   "metadata": {},
   "outputs": [
    {
     "data": {
      "text/plain": [
       "{'a': 4}"
      ]
     },
     "execution_count": 74,
     "metadata": {},
     "output_type": "execute_result"
    }
   ],
   "source": [
    "max(my_data, key = lambda r: r[\"a\"])"
   ]
  },
  {
   "cell_type": "markdown",
   "id": "22741410",
   "metadata": {},
   "source": [
    "Another example where first-class functions are useful is selecting functionality based on outside choices. For example, Module 1: Mathematical Foundations of Data Science introduces loss functions as an important modeling component best chosen based on the specific modeling goals. As such, most modeling frameworks allow the name of the loss function to be passed in as an argument to the various functions. This argument could be implemented with a sequence of `if`/`else` statements but is much more concisely implemented with a dictionary from loss function names to loss functions. Here’s an abbreviated example."
   ]
  },
  {
   "cell_type": "code",
   "execution_count": null,
   "id": "73570c3d",
   "metadata": {},
   "outputs": [],
   "source": [
    "def calculate_l1_loss(data):\n",
    "   ...\n",
    " \n",
    "def calculate_l2_loss(data):\n",
    "   ...\n",
    " \n",
    "LOSS_FUNCTIONS = {\"L1\": calculate_l1_loss, \"L2\": calculate_l2_loss}\n",
    " \n",
    "def calculate_loss(data, loss_function_name):\n",
    "   loss_function = LOSS_FUNCTIONS[loss_function_name]\n",
    "   return loss_function(data)"
   ]
  },
  {
   "cell_type": "markdown",
   "id": "8ccb4f81",
   "metadata": {},
   "source": [
    "### Variable Scoping\n",
    "\n",
    "When we first covered functions last week, we noted that function arguments were different from variables of the same name outside the function. We also saw that lambda functions can access variables from the functions around them. Let’s go over the rules for when variables are shared or not.\n",
    "\n",
    "The basic concept controlling variable sharing is called scope. Scopes can be nested, but visibility goes in only one way. Access from the inside scopes can see outer scopes, but not vice versa. Each function call starts a new scope that is nested inside the scope where it was defined, but can access variables in the outer scopes containing the function.\n",
    "\n",
    "The tricky part about Python scoping is that if a variable is assigned inside a scope, that scope will limit the use of that variable to the one inside that scope. This happens even if that assignment is never reached and variables in the outer scopes are inaccessible. For the purposes of scoping, function arguments are considered to have been assigned in the scope."
   ]
  },
  {
   "cell_type": "code",
   "execution_count": 75,
   "id": "5a0773fc",
   "metadata": {},
   "outputs": [],
   "source": [
    "a_totally_outside_variable = 3\n",
    " \n",
    "def outside_function(x):\n",
    "   y = x + 1\n",
    " \n",
    "   def inside_function(z):\n",
    "       x = z / 2\n",
    "       return x\n",
    " \n",
    "   def another_inside_function(z):\n",
    "       return x"
   ]
  },
  {
   "cell_type": "markdown",
   "id": "aaa1d487",
   "metadata": {},
   "source": [
    "In this example, there are four scopes. There is the outermost scope accessible by all of this code. There is the scope inside `outside_function`. And there are two separate scopes for the inside functions. The following code rewrites the previous code block with the variable names changed to reflect the scoping rules."
   ]
  },
  {
   "cell_type": "code",
   "execution_count": 76,
   "id": "46a24bf0",
   "metadata": {},
   "outputs": [],
   "source": [
    "SCOPE_1_a_totally_outside_variable = 3\n",
    " \n",
    "def outside_function(SCOPE_2_x):\n",
    "   SCOPE_2_y = SCOPE_2_x + 1\n",
    " \n",
    "   def inside_function(SCOPE_3_z):\n",
    "       SCOPE_3_x = z / 2\n",
    "       return SCOPE_3_x\n",
    " \n",
    "   def another_inside_function(SCOPE_4_z):\n",
    "       return SCOPE_2_x"
   ]
  },
  {
   "cell_type": "markdown",
   "id": "4ac3bb65",
   "metadata": {},
   "source": [
    "Each functions’ arguments reflect the new scope of that function. And note that the two inside functions that ended with “return x” originally now return two different scoped variables. That is because the first inside function has an assignment to x and makes its own scoped version of x, while the second inside function does not and shares with the outer scope.\n",
    "\n",
    "This scope rewriting is sufficient for this simple example but is not enough for a case with recursion, where a function ends up calling itself. To get the scoping right in this case, the key detail is that each function call creates a new scope. So you can imagine repeated calls to a function having different scope prefixes each time. Though to be clear, Python does not really rename the variables with these scope prefixes. That was just a way to illustrate the scoping differences."
   ]
  },
  {
   "cell_type": "markdown",
   "id": "999f5b56",
   "metadata": {},
   "source": [
    "Compare and contrast:\n",
    "- C: The C language has a function qsort in the standard library, which takes in a comparator function (compares two elements) instead of a key function.\n",
    "- C++: The C++ language now has std::sort in the standard library. Std::sort will use the natural ordering (which can be overridden), or take in a comparator which is like a function. C++ also has anonymous functions; see std::functional for details.\n",
    "- Java: Java has sorting with an optional comparator function in java.utils.Array.sort. Java has had lambda expressions since Java 8."
   ]
  },
  {
   "cell_type": "code",
   "execution_count": 77,
   "id": "6471f6c4",
   "metadata": {},
   "outputs": [
    {
     "data": {
      "text/plain": [
       "False"
      ]
     },
     "execution_count": 77,
     "metadata": {},
     "output_type": "execute_result"
    }
   ],
   "source": [
    "bool(2*3-6)"
   ]
  },
  {
   "cell_type": "code",
   "execution_count": 78,
   "id": "c703ab60",
   "metadata": {},
   "outputs": [
    {
     "data": {
      "text/plain": [
       "True"
      ]
     },
     "execution_count": 78,
     "metadata": {},
     "output_type": "execute_result"
    }
   ],
   "source": [
    "bool(3 + 4)"
   ]
  },
  {
   "cell_type": "code",
   "execution_count": 79,
   "id": "a24067c5",
   "metadata": {},
   "outputs": [
    {
     "data": {
      "text/plain": [
       "True"
      ]
     },
     "execution_count": 79,
     "metadata": {},
     "output_type": "execute_result"
    }
   ],
   "source": [
    "bool(\"hello\")"
   ]
  },
  {
   "cell_type": "code",
   "execution_count": 80,
   "id": "4895a6e9",
   "metadata": {},
   "outputs": [
    {
     "data": {
      "text/plain": [
       "False"
      ]
     },
     "execution_count": 80,
     "metadata": {},
     "output_type": "execute_result"
    }
   ],
   "source": [
    "bool(None)"
   ]
  },
  {
   "cell_type": "code",
   "execution_count": 81,
   "id": "200cf1c8",
   "metadata": {},
   "outputs": [
    {
     "data": {
      "text/plain": [
       "True"
      ]
     },
     "execution_count": 81,
     "metadata": {},
     "output_type": "execute_result"
    }
   ],
   "source": [
    "bool([x for x in range(5)])"
   ]
  },
  {
   "cell_type": "code",
   "execution_count": 82,
   "id": "6f559824",
   "metadata": {},
   "outputs": [],
   "source": [
    "def my_add(x, y):\n",
    "    return x+y"
   ]
  },
  {
   "cell_type": "code",
   "execution_count": 83,
   "id": "7254b9ae",
   "metadata": {},
   "outputs": [
    {
     "name": "stdout",
     "output_type": "stream",
     "text": [
      "7\n"
     ]
    }
   ],
   "source": [
    "f = my_add\n",
    "x = f(3,4)\n",
    "print(x)"
   ]
  },
  {
   "cell_type": "code",
   "execution_count": 84,
   "id": "800d6311",
   "metadata": {},
   "outputs": [],
   "source": [
    "z = f(5,2)"
   ]
  },
  {
   "cell_type": "code",
   "execution_count": 85,
   "id": "4916d09b",
   "metadata": {},
   "outputs": [
    {
     "data": {
      "text/plain": [
       "7"
      ]
     },
     "execution_count": 85,
     "metadata": {},
     "output_type": "execute_result"
    }
   ],
   "source": [
    "x"
   ]
  },
  {
   "cell_type": "code",
   "execution_count": 86,
   "id": "beb82a74",
   "metadata": {},
   "outputs": [
    {
     "name": "stdout",
     "output_type": "stream",
     "text": [
      "4\n"
     ]
    }
   ],
   "source": [
    "def f(x):\n",
    "    x = x * 3\n",
    "    return x\n",
    "def g(y):\n",
    "    f(y)\n",
    "    return y\n",
    "\n",
    "x = 4\n",
    "f(x)\n",
    "g(x)\n",
    "print(x)"
   ]
  },
  {
   "cell_type": "code",
   "execution_count": 87,
   "id": "de10ddf1",
   "metadata": {},
   "outputs": [
    {
     "name": "stdout",
     "output_type": "stream",
     "text": [
      "10\n"
     ]
    }
   ],
   "source": [
    "def f(x):\n",
    "    def g(y):\n",
    "        def h(x):\n",
    "            return x + y\n",
    "\n",
    "        return h(x)\n",
    "\n",
    "    x = g(2)\n",
    "    return g(3)\n",
    "\n",
    "print(f(5))"
   ]
  },
  {
   "cell_type": "code",
   "execution_count": 88,
   "id": "9f182cd9",
   "metadata": {},
   "outputs": [
    {
     "name": "stdout",
     "output_type": "stream",
     "text": [
      "a b\n",
      "c 3\n",
      "d 3\n"
     ]
    }
   ],
   "source": [
    "d = {\"a\": \"b\", \"c\": 3, \"d\": 3}\n",
    "for k in d:\n",
    "    print(k, d[k])"
   ]
  },
  {
   "cell_type": "code",
   "execution_count": 4,
   "id": "3433bfad",
   "metadata": {},
   "outputs": [],
   "source": [
    "x = 7\n",
    "y = 4\n",
    "for z in range(y):\n",
    "    if z:\n",
    "        x = x * z"
   ]
  },
  {
   "cell_type": "code",
   "execution_count": 5,
   "id": "02574ab4",
   "metadata": {},
   "outputs": [
    {
     "data": {
      "text/plain": [
       "42"
      ]
     },
     "execution_count": 5,
     "metadata": {},
     "output_type": "execute_result"
    }
   ],
   "source": [
    "x"
   ]
  },
  {
   "cell_type": "code",
   "execution_count": 10,
   "id": "9ad1eee8",
   "metadata": {},
   "outputs": [
    {
     "data": {
      "text/plain": [
       "False"
      ]
     },
     "execution_count": 10,
     "metadata": {},
     "output_type": "execute_result"
    }
   ],
   "source": [
    "x = False\n",
    "x is not x"
   ]
  },
  {
   "cell_type": "code",
   "execution_count": 11,
   "id": "79c68b1d",
   "metadata": {},
   "outputs": [
    {
     "data": {
      "text/plain": [
       "False"
      ]
     },
     "execution_count": 11,
     "metadata": {},
     "output_type": "execute_result"
    }
   ],
   "source": [
    "False is not False"
   ]
  },
  {
   "cell_type": "code",
   "execution_count": null,
   "id": "bf37ce13",
   "metadata": {},
   "outputs": [],
   "source": [
    "[0, 1, 2, None, 4, \"a\", \"b\", False, True]"
   ]
  }
 ],
 "metadata": {
  "kernelspec": {
   "display_name": "Python 3 (ipykernel)",
   "language": "python",
   "name": "python3"
  },
  "language_info": {
   "codemirror_mode": {
    "name": "ipython",
    "version": 3
   },
   "file_extension": ".py",
   "mimetype": "text/x-python",
   "name": "python",
   "nbconvert_exporter": "python",
   "pygments_lexer": "ipython3",
   "version": "3.11.7"
  }
 },
 "nbformat": 4,
 "nbformat_minor": 5
}
