{
 "cells": [
  {
   "cell_type": "markdown",
   "id": "d16be6d6",
   "metadata": {},
   "source": [
    "## Built-In Types: Simple Values\n",
    "\n",
    "When discussing Python variables and objects, we mentioned the fact that all Python objects have type information attached. Here we'll briefly walk through the built-in simple types offered by Python. We say simple types to contract with several compound types, which will be discussed in the following section.\n",
    "\n",
    "*Python Scalar Types*\n",
    "\n",
    "| Type | Example | Description |\n",
    "| :--- | :--- | :--- |\n",
    "| `int` | `x = 1` | Integers (i.e., whole numbers) |\n",
    "| `float` | `x = 1.0` | floating-point numbers (i.e., real numbers) |\n",
    "| `complex` | `x = 1 + 2j` | Complex numbers (i.e., numbers with real and imaginary part) |\n",
    "| `bool` | `x = True` | Boolean\" True/False values |\n",
    "| `str` | `x = 'abc'` | String: characters or text |\n",
    "| `NoneType` | `x = None` | Special object indicating nulls |\n",
    "\n",
    "We'll take a quick look at each of these in turn.\n"
   ]
  },
  {
   "cell_type": "markdown",
   "id": "8d8f0081",
   "metadata": {},
   "source": [
    "## Integers\n",
    "\n",
    "The most basic numerical type is the integer. Any number without a decimal point is an integer:"
   ]
  },
  {
   "cell_type": "code",
   "execution_count": 1,
   "id": "25c4b42b",
   "metadata": {},
   "outputs": [
    {
     "data": {
      "text/plain": [
       "int"
      ]
     },
     "execution_count": 1,
     "metadata": {},
     "output_type": "execute_result"
    }
   ],
   "source": [
    "x = 1\n",
    "type(x)"
   ]
  },
  {
   "cell_type": "markdown",
   "id": "eb56f7f3",
   "metadata": {},
   "source": [
    "Python integers are actually quite a bit more sophisticated than integers in languages like `C`. C integers are fixed-precision, and usually overflow at some value (often near $2^{31}$ or $2^{63}$, depending on your system). \n",
    "\n",
    "Python integers are variable-precision, so you can do computations that would overflow in other languages:"
   ]
  },
  {
   "cell_type": "code",
   "execution_count": 2,
   "id": "d10095fc",
   "metadata": {},
   "outputs": [
    {
     "data": {
      "text/plain": [
       "1606938044258990275541962092341162602522202993782792835301376"
      ]
     },
     "execution_count": 2,
     "metadata": {},
     "output_type": "execute_result"
    }
   ],
   "source": [
    "2 ** 200"
   ]
  },
  {
   "cell_type": "markdown",
   "id": "fab81700",
   "metadata": {},
   "source": [
    "Another convienient feautre of Python integers is that by default, division up-casts to floating-point type:"
   ]
  },
  {
   "cell_type": "code",
   "execution_count": 3,
   "id": "27819255",
   "metadata": {},
   "outputs": [
    {
     "data": {
      "text/plain": [
       "2.5"
      ]
     },
     "execution_count": 3,
     "metadata": {},
     "output_type": "execute_result"
    }
   ],
   "source": [
    "5/2"
   ]
  },
  {
   "cell_type": "markdown",
   "id": "e6499405",
   "metadata": {},
   "source": [
    "Note that upcasting is a feature of Python3; in Python2, like in many staitcally-typed languages such as C, integer division truncates any decimal and always returns and integer.\n",
    "\n",
    "To recover this behavior in Python3, you can use the floor-division operator:"
   ]
  },
  {
   "cell_type": "code",
   "execution_count": 4,
   "id": "363f3774",
   "metadata": {},
   "outputs": [
    {
     "data": {
      "text/plain": [
       "2"
      ]
     },
     "execution_count": 4,
     "metadata": {},
     "output_type": "execute_result"
    }
   ],
   "source": [
    "5//2"
   ]
  },
  {
   "cell_type": "markdown",
   "id": "540cce75",
   "metadata": {},
   "source": [
    "Finally, note that although Python2.x had both an `int` and `long` type, Python3 combines the behavior of these two into a single `int` type."
   ]
  },
  {
   "cell_type": "markdown",
   "id": "3def2dcb",
   "metadata": {},
   "source": [
    "## Floating Point Numbers\n",
    "\n",
    "The floating-point type can store fractional numbers. They can be defined either in standard decimal notation, or inexponential notation:"
   ]
  },
  {
   "cell_type": "code",
   "execution_count": 5,
   "id": "4bd33b9c",
   "metadata": {},
   "outputs": [
    {
     "name": "stdout",
     "output_type": "stream",
     "text": [
      "True\n"
     ]
    }
   ],
   "source": [
    "x = 0.000005\n",
    "y = 5e-6\n",
    "print(x == y)"
   ]
  },
  {
   "cell_type": "code",
   "execution_count": 6,
   "id": "e67e4fe5",
   "metadata": {},
   "outputs": [
    {
     "name": "stdout",
     "output_type": "stream",
     "text": [
      "True\n"
     ]
    }
   ],
   "source": [
    "x = 1400000.00\n",
    "y = 1.4e6\n",
    "print(x == y)"
   ]
  },
  {
   "cell_type": "markdown",
   "id": "2f4b32c8",
   "metadata": {},
   "source": [
    "In the exponential notation, the `e` or `E` can be ready \"...times ten to the...\", soo that `1.4e6` is interpreted as $1.4$ X $10^6$.\n",
    "\n",
    "An integer can be explicitly ocnverted to aflaot with the `float` constructor."
   ]
  },
  {
   "cell_type": "code",
   "execution_count": 7,
   "id": "c41761a5",
   "metadata": {},
   "outputs": [
    {
     "data": {
      "text/plain": [
       "1.0"
      ]
     },
     "execution_count": 7,
     "metadata": {},
     "output_type": "execute_result"
    }
   ],
   "source": [
    "float(1)"
   ]
  },
  {
   "cell_type": "markdown",
   "id": "ead114b4",
   "metadata": {},
   "source": [
    "## Aside: Floating-Point Precision\n",
    "\n",
    "One thing to be aware of with floating point arithmetic is that its precision is limtied, which can cause equality tests to be unstable, for example: "
   ]
  },
  {
   "cell_type": "code",
   "execution_count": 8,
   "id": "39122306",
   "metadata": {},
   "outputs": [
    {
     "data": {
      "text/plain": [
       "False"
      ]
     },
     "execution_count": 8,
     "metadata": {},
     "output_type": "execute_result"
    }
   ],
   "source": [
    "0.1 + 0.2 == 0.3"
   ]
  },
  {
   "cell_type": "markdown",
   "id": "265d764e",
   "metadata": {},
   "source": [
    "Why is this the case? It turns out that it is not a behavior unique in Python, but is due to the fixed-precision format of the binary floating-point storage system used  by most, if not all, scientific computing platforms. All programming languages using floating-point bnubmers store them in a fixed number of bits, and this leads some numbers to be represented only approximately. We can see this by printing the three vaules to high precision:"
   ]
  },
  {
   "cell_type": "code",
   "execution_count": 10,
   "id": "b89295b9",
   "metadata": {},
   "outputs": [
    {
     "name": "stdout",
     "output_type": "stream",
     "text": [
      "0.1 = 0.10000000000000001\n",
      "0.2 = 0.20000000000000001\n",
      "0.3 = 0.29999999999999999\n"
     ]
    }
   ],
   "source": [
    "print (\"0.1 = {0:.17f}\".format(0.1))\n",
    "print(\"0.2 = {0:.17f}\".format(0.2))\n",
    "print(\"0.3 = {0:.17f}\".format(0.3))"
   ]
  },
  {
   "cell_type": "markdown",
   "id": "195b4c57",
   "metadata": {},
   "source": [
    "We're accustomed to thinkng of numbers in decimal (base-10) notation, so that each fraciton must be expressed as a sum of powers of 10:\n",
    "\n",
    "<br>\n",
    "\n",
    "<center><b> $ 1/8 = 1 * 10^{-1} + 2 * 10^{-2} + 5 * 10^{-3}$\n",
    "    </b></center> \n",
    "    \n",
    "<br>\n",
    "\n",
    "In the familiar base-10 representation, we represent this in the familiar decimal expression: $0.125$.\n",
    "\n",
    "Computers usually store values in binary notation, so that each number is expressed as a sum of powers of 2:\n",
    "\n",
    "<br>\n",
    "\n",
    "<center><b> $ 1/8 = 0 * 2^{-1} + 0 * 2^{-2} + 1 * 2^{-3}$\n",
    "    </b></center> \n",
    "    \n",
    "<br>\n",
    "\n",
    "In a base-2 representation, we can write this $0.001_{2}$, where the subscript 2 indicates binary notation. The value $0.125 = 0.001_{2}$ happens to be one number which both binary and decimal notation can represent in a finite number of digits. \n",
    "\n",
    "In the familiar base-10 representation of numbers, you are probably familiar with numbers that can't be expressed in a finite number of digits. For example, dividing $1$ by $3$ gives, in standard decimal notation:\n",
    "<br>\n",
    "\n",
    "<center><b> $ 1/3 = 0.3333333333...$\n",
    "    </b></center> \n",
    "    \n",
    "<br>\n",
    "\n",
    "The 3s go on forever: that is, to truly represent this quotient, the number of required digits is infinite! \n",
    "\n",
    "Similarly, there are nubmers for which binary representations require an infinite number of digits. For example:\n",
    "<br>\n",
    "<br>\n",
    "\n",
    "<center><b> $ 1/10 = 0.00011001100110011..._{2}$\n",
    "    </b></center> \n",
    "    \n",
    "<br>\n",
    "Just as decimal notation requires an infinite number of digits to perfectly represent 1/3, binary notation requires an infinite number of digits to represent 1/10. Python internally truncates these representations at 52 bits beyond the first nonzero bit on most systems.\n",
    "\n",
    "This rounding error for floating-point values is a necessary evil of working with floating-point numbers. The best way to deal with it is to always keep in mind that floating-point arithmetic is approximate, and never rely on exact equality tests with floating-point values."
   ]
  },
  {
   "cell_type": "markdown",
   "id": "1ab4fcf2",
   "metadata": {},
   "source": [
    "# Complex Numbers\n",
    "\n",
    "Complex numbers are numbers with real and imaginary (floating-point) parts. We've seen integers and real numbers before; we can use these to construct a complex number:"
   ]
  },
  {
   "cell_type": "code",
   "execution_count": 11,
   "id": "e578258b",
   "metadata": {},
   "outputs": [
    {
     "data": {
      "text/plain": [
       "(1+2j)"
      ]
     },
     "execution_count": 11,
     "metadata": {},
     "output_type": "execute_result"
    }
   ],
   "source": [
    "complex(1, 2)"
   ]
  },
  {
   "cell_type": "markdown",
   "id": "432c3994",
   "metadata": {},
   "source": [
    "Alternatively, we can use the \"`j`\" suffix in expressions to indicate the imaginary part:"
   ]
  },
  {
   "cell_type": "code",
   "execution_count": 12,
   "id": "ddf9ff14",
   "metadata": {},
   "outputs": [
    {
     "data": {
      "text/plain": [
       "(1+2j)"
      ]
     },
     "execution_count": 12,
     "metadata": {},
     "output_type": "execute_result"
    }
   ],
   "source": [
    "1 + 2j"
   ]
  },
  {
   "cell_type": "markdown",
   "id": "c134c530",
   "metadata": {},
   "source": [
    "Complex numbers have a variety of interesting attributes and methods, which we'll briefly demonstrate here:"
   ]
  },
  {
   "cell_type": "code",
   "execution_count": 13,
   "id": "eb614a8f",
   "metadata": {},
   "outputs": [],
   "source": [
    "c = 3 + 4j"
   ]
  },
  {
   "cell_type": "code",
   "execution_count": 18,
   "id": "d74f9118",
   "metadata": {},
   "outputs": [
    {
     "data": {
      "text/plain": [
       "3.0"
      ]
     },
     "execution_count": 18,
     "metadata": {},
     "output_type": "execute_result"
    }
   ],
   "source": [
    "c.real #real part"
   ]
  },
  {
   "cell_type": "code",
   "execution_count": 19,
   "id": "d3c23251",
   "metadata": {},
   "outputs": [
    {
     "data": {
      "text/plain": [
       "4.0"
      ]
     },
     "execution_count": 19,
     "metadata": {},
     "output_type": "execute_result"
    }
   ],
   "source": [
    "c.imag #imaginary part"
   ]
  },
  {
   "cell_type": "code",
   "execution_count": 20,
   "id": "e8a74871",
   "metadata": {},
   "outputs": [
    {
     "data": {
      "text/plain": [
       "(3-4j)"
      ]
     },
     "execution_count": 20,
     "metadata": {},
     "output_type": "execute_result"
    }
   ],
   "source": [
    "c.conjugate() # complex conjugate"
   ]
  },
  {
   "cell_type": "code",
   "execution_count": 21,
   "id": "9b9c8802",
   "metadata": {},
   "outputs": [
    {
     "data": {
      "text/plain": [
       "5.0"
      ]
     },
     "execution_count": 21,
     "metadata": {},
     "output_type": "execute_result"
    }
   ],
   "source": [
    "abs(c) # magnitude, i.e. sqrt(c.real ** 2 + c.imag ** 2)"
   ]
  },
  {
   "cell_type": "markdown",
   "id": "4f4cc124",
   "metadata": {},
   "source": [
    "# String Type\n",
    "\n",
    "Strings in python are created with single or double quotes:"
   ]
  },
  {
   "cell_type": "code",
   "execution_count": 22,
   "id": "680fa999",
   "metadata": {},
   "outputs": [],
   "source": [
    "message = \"what do you like?\"\n",
    "response = 'spam'"
   ]
  },
  {
   "cell_type": "markdown",
   "id": "ae296dd2",
   "metadata": {},
   "source": [
    "Python has many extremely useful string functions and methods; here are a few of them:"
   ]
  },
  {
   "cell_type": "code",
   "execution_count": 23,
   "id": "e8144ee9",
   "metadata": {},
   "outputs": [
    {
     "data": {
      "text/plain": [
       "4"
      ]
     },
     "execution_count": 23,
     "metadata": {},
     "output_type": "execute_result"
    }
   ],
   "source": [
    "# length of string\n",
    "len(response)"
   ]
  },
  {
   "cell_type": "code",
   "execution_count": 24,
   "id": "8ec1caaf",
   "metadata": {},
   "outputs": [
    {
     "data": {
      "text/plain": [
       "'SPAM'"
      ]
     },
     "execution_count": 24,
     "metadata": {},
     "output_type": "execute_result"
    }
   ],
   "source": [
    "# Make upper-case. See also str.lower()\n",
    "response.upper()"
   ]
  },
  {
   "cell_type": "code",
   "execution_count": 25,
   "id": "f6c5409c",
   "metadata": {},
   "outputs": [
    {
     "data": {
      "text/plain": [
       "'What do you like?'"
      ]
     },
     "execution_count": 25,
     "metadata": {},
     "output_type": "execute_result"
    }
   ],
   "source": [
    "# Capitalize. See also str.title()\n",
    "message.capitalize()"
   ]
  },
  {
   "cell_type": "code",
   "execution_count": 26,
   "id": "e1a04142",
   "metadata": {},
   "outputs": [
    {
     "data": {
      "text/plain": [
       "'what do you like?spam'"
      ]
     },
     "execution_count": 26,
     "metadata": {},
     "output_type": "execute_result"
    }
   ],
   "source": [
    "# concatenation with +\n",
    "message + response"
   ]
  },
  {
   "cell_type": "code",
   "execution_count": 27,
   "id": "904e31d4",
   "metadata": {},
   "outputs": [
    {
     "data": {
      "text/plain": [
       "'spamspamspamspamspam'"
      ]
     },
     "execution_count": 27,
     "metadata": {},
     "output_type": "execute_result"
    }
   ],
   "source": [
    "# multiplication is multiple concatenation\n",
    "5 * response"
   ]
  },
  {
   "cell_type": "code",
   "execution_count": 28,
   "id": "19a9fc0f",
   "metadata": {},
   "outputs": [
    {
     "data": {
      "text/plain": [
       "'w'"
      ]
     },
     "execution_count": 28,
     "metadata": {},
     "output_type": "execute_result"
    }
   ],
   "source": [
    "# Access individual characters (zero-based indexing)\n",
    "message[0]"
   ]
  },
  {
   "cell_type": "markdown",
   "id": "d52f00b2",
   "metadata": {},
   "source": [
    "# None Type\n",
    "\n",
    "Python includes a special type, the `NoneType`, which has only a single possible value: `None`. For example:"
   ]
  },
  {
   "cell_type": "code",
   "execution_count": 29,
   "id": "057b8076",
   "metadata": {},
   "outputs": [
    {
     "data": {
      "text/plain": [
       "NoneType"
      ]
     },
     "execution_count": 29,
     "metadata": {},
     "output_type": "execute_result"
    }
   ],
   "source": [
    "type(None)"
   ]
  },
  {
   "cell_type": "markdown",
   "id": "f75d4196",
   "metadata": {},
   "source": [
    "You'll see `None` used in many places, but perhaps most commonly it is used as the default return value of a function. For example, the `print()` function in Python 3 does not return anything, but we can still catch its value:"
   ]
  },
  {
   "cell_type": "code",
   "execution_count": 30,
   "id": "6c7bfc00",
   "metadata": {},
   "outputs": [
    {
     "name": "stdout",
     "output_type": "stream",
     "text": [
      "abc\n"
     ]
    }
   ],
   "source": [
    "return_value = print('abc')"
   ]
  },
  {
   "cell_type": "code",
   "execution_count": 32,
   "id": "50af1268",
   "metadata": {},
   "outputs": [
    {
     "name": "stdout",
     "output_type": "stream",
     "text": [
      "None\n"
     ]
    }
   ],
   "source": [
    "print(return_value)"
   ]
  },
  {
   "cell_type": "markdown",
   "id": "8c297b8b",
   "metadata": {},
   "source": [
    "Likewise, any function in python with no return value is, in reality, returning `None`."
   ]
  },
  {
   "cell_type": "code",
   "execution_count": 2,
   "id": "eca91562",
   "metadata": {},
   "outputs": [
    {
     "data": {
      "text/plain": [
       "246510546910"
      ]
     },
     "execution_count": 2,
     "metadata": {},
     "output_type": "execute_result"
    }
   ],
   "source": [
    "12387123478 + 234123423432"
   ]
  },
  {
   "cell_type": "code",
   "execution_count": 3,
   "id": "02044dd2",
   "metadata": {},
   "outputs": [
    {
     "data": {
      "text/plain": [
       "246510546910"
      ]
     },
     "execution_count": 3,
     "metadata": {},
     "output_type": "execute_result"
    }
   ],
   "source": [
    "12387123478 + 234123423432"
   ]
  },
  {
   "cell_type": "code",
   "execution_count": 4,
   "id": "9ad7b397",
   "metadata": {},
   "outputs": [
    {
     "data": {
      "text/plain": [
       "75523322376"
      ]
     },
     "execution_count": 4,
     "metadata": {},
     "output_type": "execute_result"
    }
   ],
   "source": [
    "6134123 * 12312"
   ]
  },
  {
   "cell_type": "code",
   "execution_count": 5,
   "id": "1c57f0a9",
   "metadata": {},
   "outputs": [
    {
     "data": {
      "text/plain": [
       "282475249"
      ]
     },
     "execution_count": 5,
     "metadata": {},
     "output_type": "execute_result"
    }
   ],
   "source": [
    "7 ** 10"
   ]
  },
  {
   "cell_type": "code",
   "execution_count": null,
   "id": "fb840058",
   "metadata": {},
   "outputs": [],
   "source": []
  }
 ],
 "metadata": {
  "kernelspec": {
   "display_name": "Python 3 (ipykernel)",
   "language": "python",
   "name": "python3"
  },
  "language_info": {
   "codemirror_mode": {
    "name": "ipython",
    "version": 3
   },
   "file_extension": ".py",
   "mimetype": "text/x-python",
   "name": "python",
   "nbconvert_exporter": "python",
   "pygments_lexer": "ipython3",
   "version": "3.11.7"
  }
 },
 "nbformat": 4,
 "nbformat_minor": 5
}
